{
 "cells": [
  {
   "cell_type": "code",
   "execution_count": 1,
   "metadata": {
    "collapsed": true
   },
   "outputs": [],
   "source": [
    "import pandas as pd\n",
    "import numpy as np\n",
    "import math\n",
    "from sklearn import datasets, linear_model, metrics, feature_extraction, model_selection, tree, ensemble\n",
    "from matplotlib import pyplot as plt\n",
    "import seaborn as sns\n",
    "import math\n",
    "plt.style.use(\"ggplot\")\n",
    "%matplotlib inline\n",
    "import gc\n",
    "import json\n",
    "from win10toast import ToastNotifier"
   ]
  },
  {
   "cell_type": "code",
   "execution_count": null,
   "metadata": {
    "collapsed": true
   },
   "outputs": [],
   "source": [
    "notif = ToastNotifier()"
   ]
  },
  {
   "cell_type": "code",
   "execution_count": 43,
   "metadata": {
    "collapsed": true
   },
   "outputs": [],
   "source": [
    "def daysInMonth(x):\n",
    "    return 28 + ((x + math.floor(x / 8)) % 2 + (2 % x) + (2 * math.floor(1/x)))\n",
    "\n",
    "\n",
    "daysFromYearStart = [0]\n",
    "def getDaysFromYearStart(month, day):\n",
    "    while len(daysFromYearStart) <= month:\n",
    "        l = len(daysFromYearStart)\n",
    "        daysFromYearStart.append(daysFromYearStart[l - 1] + daysInMonth(l))\n",
    "    return daysFromYearStart[month] - (daysInMonth(month) - day)\n",
    "\n",
    "\n",
    "def dropRare(frame, clsName, minCount):\n",
    "    counts = frame[clsName].value_counts()\n",
    "    frame.drop(frame[frame[clsName].isin(counts[counts < minCount].index)].index, inplace=True)\n",
    "\n",
    "def logit(x):\n",
    "    return math.log(np.abs(x / (1 - x)))\n",
    "\n",
    "def logit_vec(v):\n",
    "    return logit(v.mean() + 1e-5)\n",
    "\n",
    "def reclassMeanOpt(frame, targetSrc, clsName, meanName, drop=False):\n",
    "    if meanName in frame.columns:\n",
    "        if drop:\n",
    "            print(\"%s found in dataframe, drop=True, dropping\" % meanName)\n",
    "            frame = frame.drop(meanName, axis=1)\n",
    "        else:\n",
    "            print(\"%s found in dataframe, drop=False, skipping\" % meanName)\n",
    "            return frame\n",
    "    mean_frame = targetSrc[[clsName, 'target']].groupby(clsName).agg(logit_vec).reset_index()\n",
    "    mean_frame.rename(columns={'target':meanName}, inplace = True)\n",
    "    return pd.merge(frame, mean_frame, on=clsName, how='left')\n",
    "    \n",
    "    \n",
    "def reclassMean(frame, targetSrc, clsName, meanName, targetExtractor = lambda f, c: f[[c, 'target']].groupby(c).mean(), excluders=[]):\n",
    "    def getMean(c): \n",
    "        if c not in meanInfo or c in excluders:\n",
    "            meanInfo[c] = meanInfo.mean()\n",
    "        return meanInfo[c]\n",
    "    meanInfo = targetExtractor(targetSrc, clsName)\n",
    "    frame[meanName] = frame[clsName].map(lambda c: getMean(c))\n",
    "        \n",
    "    \n",
    "def split_time(time):\n",
    "    time = str(int(time))\n",
    "    time = ('0' * (4 - len(time))) + time\n",
    "    hours = int(time[0:2])\n",
    "    minutes = int(time[2:4])\n",
    "    return {\"H\": hours, \"M\": minutes}\n",
    "\n",
    "\n",
    "def reclass_time(frame, orig, hours, minutes): \n",
    "    t = frame[orig].map(split_time)\n",
    "    frame[hours] = t.map(lambda t: t[\"H\"])\n",
    "    frame[minutes] = t.map(lambda t: t[\"M\"])\n",
    "    \n",
    "def roc_curve(label, pred):\n",
    "    fpr, tpr, _ = metrics.roc_curve(label, pred[:,1])\n",
    "    plt.plot(fpr, tpr, label = 'linear model')\n",
    "    plt.fill(fpr, tpr, alpha=0.5)\n",
    "    plt.plot([0, 1], [0, 1], '--', color = 'grey', label = 'random')\n",
    "    plt.xlim([-0.05, 1.05])\n",
    "    plt.ylim([-0.05, 1.05])\n",
    "    plt.xlabel('False Positive Rate')\n",
    "    plt.ylabel('True Positive Rate')\n",
    "    plt.title('ROC curve')\n",
    "    plt.legend(loc = \"lower right\");\n",
    "    plt.show()"
   ]
  },
  {
   "cell_type": "code",
   "execution_count": 44,
   "metadata": {
    "collapsed": true
   },
   "outputs": [],
   "source": [
    "train_df = pd.read_csv(\"train_dataset.csv\").dropna()\n",
    "train_df.drop(train_df[train_df['AirTime'] == 0].index, inplace=True)\n",
    "dropRare(train_df, \"FlightNum\", 20)\n",
    "dropRare(train_df, \"Dest\", 5)\n",
    "dropRare(train_df, \"Origin\", 5)\n",
    "\n",
    "test_df = pd.read_csv(\"test_dataset.csv\").fillna(0)"
   ]
  },
  {
   "cell_type": "code",
   "execution_count": 45,
   "metadata": {
    "collapsed": true
   },
   "outputs": [],
   "source": [
    "df = pd.concat((train_df, test_df)).reset_index().drop('index', axis=1)"
   ]
  },
  {
   "cell_type": "code",
   "execution_count": 46,
   "metadata": {
    "collapsed": true
   },
   "outputs": [],
   "source": [
    "df['DayOfYear'] = df[['Month', 'DayofMonth']].apply(lambda x: getDaysFromYearStart(x[\"Month\"], x[\"DayofMonth\"]), axis=1)"
   ]
  },
  {
   "cell_type": "code",
   "execution_count": 47,
   "metadata": {
    "collapsed": true
   },
   "outputs": [],
   "source": [
    "df[\"AirTimeFrame\"] = df[\"AirTime\"].map(lambda x: math.log((x // 30) + 1, 10))"
   ]
  },
  {
   "cell_type": "code",
   "execution_count": 48,
   "metadata": {
    "collapsed": true
   },
   "outputs": [],
   "source": [
    "reclass_time(df, \"DepTime\", \"DepHour\", \"DepMinute\")\n",
    "df[\"DepTotalMinutes\"] = df[\"DepHour\"] * 60 + df[\"DepMinute\"]\n",
    "df[\"DepTimeFrame\"] = df[\"DepTotalMinutes\"] // 15\n",
    "df[\"DepHourOfYear\"] = df[\"DayOfYear\"] * 24 - (24 - df[\"DepHour\"])"
   ]
  },
  {
   "cell_type": "code",
   "execution_count": 49,
   "metadata": {
    "collapsed": true
   },
   "outputs": [],
   "source": [
    "reclass_time(df, \"ArrTime\", \"ArrHour\", \"ArrMinute\")\n",
    "df[\"ArrTotalMinutes\"] = df[\"ArrHour\"] * 60 + df[\"ArrMinute\"]\n",
    "df[\"ArrTimeFrame\"] = df[\"ArrTotalMinutes\"] // 15\n",
    "df[\"ArrHourOfYear\"] = df[\"DayOfYear\"] * 24 - (24 - df[\"ArrHour\"])"
   ]
  },
  {
   "cell_type": "code",
   "execution_count": 50,
   "metadata": {
    "collapsed": true
   },
   "outputs": [],
   "source": [
    "df[\"DistanceFrame\"] = df[\"Distance\"].map(lambda x: math.log((x // 30) + 1, 2))"
   ]
  },
  {
   "cell_type": "code",
   "execution_count": 51,
   "metadata": {
    "collapsed": true
   },
   "outputs": [],
   "source": [
    "gc.collect()\n",
    "df[\"DepHourOfYearFrame\"] = df[\"DepHourOfYear\"] // 8\n",
    "dhoy_origin_mean = df.groupby([\"DepHourOfYearFrame\", \"Origin\"])[\"target\"].agg(logit_vec).reset_index()\n",
    "dhoy_origin_mean.rename(columns={'target': 'DHOY_OriginChance'}, inplace=True)\n",
    "df = pd.merge(df, dhoy_origin_mean, on=['DepHourOfYearFrame', 'Origin'], how='left')"
   ]
  },
  {
   "cell_type": "code",
   "execution_count": 52,
   "metadata": {
    "collapsed": true
   },
   "outputs": [],
   "source": [
    "gc.collect()\n",
    "df[\"ArrHourOfYearFrame\"] = df[\"ArrHourOfYear\"] // 8\n",
    "ahoy_dest_mean = df.groupby([\"ArrHourOfYearFrame\", \"Dest\"])[\"target\"].agg(logit_vec).reset_index()\n",
    "ahoy_dest_mean.rename(columns={'target': 'AHOY_DestChance'}, inplace=True)\n",
    "df = pd.merge(df, ahoy_dest_mean, on=['ArrHourOfYearFrame', 'Dest'], how='left')"
   ]
  },
  {
   "cell_type": "code",
   "execution_count": 53,
   "metadata": {
    "collapsed": true
   },
   "outputs": [],
   "source": [
    "with open('airport_info.json', 'r') as data_file:\n",
    "    airport_data = json.load(fp = data_file)\n",
    "    df[\"OTimeZone\"] = df[\"Origin\"].map(lambda x: airport_data[x]['Time Zone'])\n",
    "    df[\"OLatitude\"] = df[\"Origin\"].map(lambda x: airport_data[x]['Latitude'])\n",
    "    df[\"OLongitude\"] = df[\"Origin\"].map(lambda x: airport_data[x]['Longitude'])\n",
    "    \n",
    "    df[\"DTimeZone\"] = df[\"Dest\"].map(lambda x: airport_data[x]['Time Zone'])\n",
    "    df[\"DLatitude\"] = df[\"Dest\"].map(lambda x: airport_data[x]['Latitude'])\n",
    "    df[\"DLongitude\"] = df[\"Dest\"].map(lambda x: airport_data[x]['Longitude'])"
   ]
  },
  {
   "cell_type": "code",
   "execution_count": 54,
   "metadata": {
    "collapsed": true
   },
   "outputs": [],
   "source": [
    "df[\"OTimeZone\"] = df[\"OTimeZone\"].map(lambda x: int(x.split(':')[0]))\n",
    "df[\"DTimeZone\"] = df[\"DTimeZone\"].map(lambda x: int(x.split(':')[0]))"
   ]
  },
  {
   "cell_type": "code",
   "execution_count": 169,
   "metadata": {},
   "outputs": [
    {
     "data": {
      "text/plain": [
       "<matplotlib.axes._subplots.AxesSubplot at 0x24f95ad8c50>"
      ]
     },
     "execution_count": 169,
     "metadata": {},
     "output_type": "execute_result"
    },
    {
     "data": {
      "image/png": "[encoded data removed]",
      "text/plain": [
       "<matplotlib.figure.Figure at 0x24f95918c18>"
      ]
     },
     "metadata": {},
     "output_type": "display_data"
    }
   ],
   "source": [
    "df[\"OTimeZone\"].hist()"
   ]
  },
  {
   "cell_type": "code",
   "execution_count": 129,
   "metadata": {
    "collapsed": true
   },
   "outputs": [],
   "source": [
    "df[\"TimeZoneDiff\"] = df[\"OTimeZone\"] - df[\"DTimeZone\"]"
   ]
  },
  {
   "cell_type": "code",
   "execution_count": 55,
   "metadata": {
    "collapsed": true
   },
   "outputs": [],
   "source": [
    "df[\"OLtFrame\"] = df[\"OLatitude\"].astype('float').agg('floor')\n",
    "df[\"DLtFrame\"] = df[\"DLatitude\"].astype('float').agg('floor')\n",
    "\n",
    "df[\"OLgFrame\"] = df[\"OLongitude\"].astype('float').agg('floor')\n",
    "df[\"DLgFrame\"] = df[\"DLongitude\"].astype('float').agg('floor')"
   ]
  },
  {
   "cell_type": "code",
   "execution_count": 56,
   "metadata": {},
   "outputs": [
    {
     "data": {
      "text/plain": [
       "Index(['AirTime', 'ArrTime', 'DayOfWeek', 'DayofMonth', 'DepTime', 'Dest',\n",
       "       'Distance', 'FlightNum', 'Id', 'Month', 'Origin', 'TailNum', 'TaxiIn',\n",
       "       'TaxiOut', 'UniqueCarrier', 'target', 'DayOfYear', 'AirTimeFrame',\n",
       "       'DepHour', 'DepMinute', 'DepTotalMinutes', 'DepTimeFrame',\n",
       "       'DepHourOfYear', 'ArrHour', 'ArrMinute', 'ArrTotalMinutes',\n",
       "       'ArrTimeFrame', 'ArrHourOfYear', 'DistanceFrame', 'DepHourOfYearFrame',\n",
       "       'DHOY_OriginChance', 'ArrHourOfYearFrame', 'AHOY_DestChance',\n",
       "       'OTimeZone', 'OLatitude', 'OLongitude', 'DTimeZone', 'DLatitude',\n",
       "       'DLongitude', 'OLtFrame', 'DLtFrame', 'OLgFrame', 'DLgFrame'],\n",
       "      dtype='object')"
      ]
     },
     "execution_count": 56,
     "metadata": {},
     "output_type": "execute_result"
    }
   ],
   "source": [
    "df.columns"
   ]
  },
  {
   "cell_type": "code",
   "execution_count": 134,
   "metadata": {
    "collapsed": true
   },
   "outputs": [],
   "source": [
    "train_df_upd = df[:len(train_df)].drop('Id', axis=1)"
   ]
  },
  {
   "cell_type": "code",
   "execution_count": 135,
   "metadata": {
    "collapsed": true
   },
   "outputs": [],
   "source": [
    "mean_names = {\n",
    "    \"UniqueCarrier\": \"CarrierChance\",\n",
    "    \"Origin\": \"OriginChance\",\n",
    "    \"Dest\": \"DestChance\",\n",
    "    \"FlightNum\": \"FlightChance\",\n",
    "    \"DepHourOfYear\": \"DHOYChance\",\n",
    "    \"ArrHourOfYear\": \"AHOYChance\",\n",
    "    \"TailNum\": \"PlaneChance\",\n",
    "    \"AirTimeFrame\": \"AirFrameChance\",\n",
    "    \"DepTimeFrame\": \"DepFrameChance\",\n",
    "    \"ArrTimeFrame\": \"ArrFrameChance\",\n",
    "    \"OTimeZone\": \"OTZChance\",\n",
    "    \"DTimeZone\": \"DTZChance\",\n",
    "    \"OLtFrame\": \"OLtChance\",\n",
    "    \"DLtFrame\": \"DLtChance\",\n",
    "    \"OLgFrame\": \"OLgChance\",\n",
    "    \"DLgFrame\": \"DLgChance\",\n",
    "    \"TimeZoneDiff\": \"TZDChance\"\n",
    "}"
   ]
  },
  {
   "cell_type": "code",
   "execution_count": 136,
   "metadata": {},
   "outputs": [
    {
     "name": "stdout",
     "output_type": "stream",
     "text": [
      "CarrierChance found in dataframe, drop=False, skipping\n",
      "UniqueCarrier:CarrierChance\n",
      "OriginChance found in dataframe, drop=False, skipping\n",
      "Origin:OriginChance\n",
      "DestChance found in dataframe, drop=False, skipping\n",
      "Dest:DestChance\n",
      "FlightChance found in dataframe, drop=False, skipping\n",
      "FlightNum:FlightChance\n",
      "DHOYChance found in dataframe, drop=False, skipping\n",
      "DepHourOfYear:DHOYChance\n",
      "AHOYChance found in dataframe, drop=False, skipping\n",
      "ArrHourOfYear:AHOYChance\n",
      "PlaneChance found in dataframe, drop=False, skipping\n",
      "TailNum:PlaneChance\n",
      "AirFrameChance found in dataframe, drop=False, skipping\n",
      "AirTimeFrame:AirFrameChance\n",
      "DepFrameChance found in dataframe, drop=False, skipping\n",
      "DepTimeFrame:DepFrameChance\n",
      "ArrFrameChance found in dataframe, drop=False, skipping\n",
      "ArrTimeFrame:ArrFrameChance\n",
      "OTZChance found in dataframe, drop=False, skipping\n",
      "OTimeZone:OTZChance\n",
      "DTZChance found in dataframe, drop=False, skipping\n",
      "DTimeZone:DTZChance\n",
      "OLtChance found in dataframe, drop=False, skipping\n",
      "OLtFrame:OLtChance\n",
      "DLtChance found in dataframe, drop=False, skipping\n",
      "DLtFrame:DLtChance\n",
      "OLgChance found in dataframe, drop=False, skipping\n",
      "OLgFrame:OLgChance\n",
      "DLgChance found in dataframe, drop=False, skipping\n",
      "DLgFrame:DLgChance\n",
      "TimeZoneDiff:TZDChance\n"
     ]
    }
   ],
   "source": [
    "for orig, mean in mean_names.items():\n",
    "    df = reclassMeanOpt(df, train_df_upd, orig, mean)\n",
    "    gc.collect()\n",
    "    print(\"%s:%s\" % (orig, mean))"
   ]
  },
  {
   "cell_type": "code",
   "execution_count": 104,
   "metadata": {
    "collapsed": true
   },
   "outputs": [],
   "source": [
    "df[\"Dest_label\"] = df[\"Dest\"].astype('category').cat.codes\n",
    "df[\"Origin_label\"] = df[\"Origin\"].astype('category').cat.codes\n",
    "df[\"Plane_label\"] = df[\"TailNum\"].astype('category').cat.codes\n",
    "df[\"Carrier_label\"] = df[\"UniqueCarrier\"].astype('category').cat.codes"
   ]
  },
  {
   "cell_type": "code",
   "execution_count": 137,
   "metadata": {},
   "outputs": [
    {
     "data": {
      "text/plain": [
       "Index(['AirTime', 'ArrTime', 'DayOfWeek', 'DayofMonth', 'DepTime', 'Dest',\n",
       "       'Distance', 'FlightNum', 'Id', 'Month', 'Origin', 'TailNum', 'TaxiIn',\n",
       "       'TaxiOut', 'UniqueCarrier', 'target', 'DayOfYear', 'AirTimeFrame',\n",
       "       'DepHour', 'DepMinute', 'DepTotalMinutes', 'DepTimeFrame',\n",
       "       'DepHourOfYear', 'ArrHour', 'ArrMinute', 'ArrTotalMinutes',\n",
       "       'ArrTimeFrame', 'ArrHourOfYear', 'DistanceFrame', 'DepHourOfYearFrame',\n",
       "       'DHOY_OriginChance', 'ArrHourOfYearFrame', 'AHOY_DestChance',\n",
       "       'OTimeZone', 'OLatitude', 'OLongitude', 'DTimeZone', 'DLatitude',\n",
       "       'DLongitude', 'OLtFrame', 'DLtFrame', 'OLgFrame', 'DLgFrame',\n",
       "       'CarrierChance', 'OriginChance', 'DestChance', 'FlightChance',\n",
       "       'DHOYChance', 'AHOYChance', 'PlaneChance', 'AirFrameChance',\n",
       "       'DepFrameChance', 'ArrFrameChance', 'OTZChance', 'DTZChance',\n",
       "       'OLtChance', 'DLtChance', 'OLgChance', 'DLgChance', 'Dest_label',\n",
       "       'Origin_label', 'Carrier_label', 'Plane_label', 'TimeZoneDiff',\n",
       "       'TZDChance'],\n",
       "      dtype='object')"
      ]
     },
     "execution_count": 137,
     "metadata": {},
     "output_type": "execute_result"
    }
   ],
   "source": [
    "df.columns"
   ]
  },
  {
   "cell_type": "code",
   "execution_count": 162,
   "metadata": {},
   "outputs": [],
   "source": [
    "reg_used_cols = [\"AirFrameChance\",\n",
    "             \"DepFrameChance\",\n",
    "             \"ArrFrameChance\",\n",
    "             \"FlightChance\",\n",
    "             \"DHOYChance\",\n",
    "             \"AHOYChance\",\n",
    "             \"OriginChance\",\n",
    "             \"DestChance\",\n",
    "             \"CarrierChance\",\n",
    "             \"TaxiIn\",\n",
    "             \"TaxiOut\",\n",
    "             \"DHOY_OriginChance\",\n",
    "             \"AHOY_DestChance\",\n",
    "             \"TZDChance\"\n",
    "            ]\n",
    "'''num_cols_dec = ['AirTime', 'Distance', 'TaxiIn', 'TaxiOut',\n",
    "                'DepTotalMinutes', 'ArrTotalMinutes',\n",
    "                'Origin_label', 'Dest_label', 'DHOY_OriginChance', 'AHOY_DestChance']\n",
    "cat_cols_dec = ['Month', 'DayofMonth', 'DayOfWeek', 'UniqueCarrier', 'TimeZoneDiff']'''\n",
    "num_cols_dec = ['AirTime', 'ArrTime', 'DepTime', 'Distance', 'TaxiIn', 'TaxiOut',\n",
    "                'FlightChance', 'PlaneChance']\n",
    "cat_cols_dec = ['Month', 'DayofMonth', 'DayOfWeek', 'UniqueCarrier']\n",
    "dec_used_cols = num_cols_dec + cat_cols_dec\n",
    "cols_drop_dec = [x for x in reg_used_cols if x not in dec_used_cols]\n",
    "merged_df = pd.get_dummies(df[list(set(dec_used_cols + reg_used_cols)) + ['target']], columns=cat_cols_dec)"
   ]
  },
  {
   "cell_type": "code",
   "execution_count": 163,
   "metadata": {
    "collapsed": true
   },
   "outputs": [],
   "source": [
    "train_df_upd = merged_df[:len(train_df)]\n",
    "test_df_upd = merged_df[len(train_df):].drop('target', axis=1).reset_index().drop('index', axis=1)"
   ]
  },
  {
   "cell_type": "code",
   "execution_count": null,
   "metadata": {
    "collapsed": true
   },
   "outputs": [],
   "source": []
  },
  {
   "cell_type": "code",
   "execution_count": 164,
   "metadata": {},
   "outputs": [
    {
     "data": {
      "text/plain": [
       "11733"
      ]
     },
     "execution_count": 164,
     "metadata": {},
     "output_type": "execute_result"
    }
   ],
   "source": [
    "labels = train_df_upd[\"target\"]\n",
    "data_train, data_test, label_train, label_test = model_selection.train_test_split(\n",
    "    train_df_upd.drop(\"target\", axis=1),\n",
    "    labels,\n",
    "    test_size = 0.3)\n",
    "gc.collect()"
   ]
  },
  {
   "cell_type": "code",
   "execution_count": 165,
   "metadata": {
    "collapsed": true
   },
   "outputs": [],
   "source": [
    "dec = ensemble.RandomForestClassifier(n_estimators=100, n_jobs=3)"
   ]
  },
  {
   "cell_type": "code",
   "execution_count": 166,
   "metadata": {},
   "outputs": [],
   "source": [
    "dec.fit(data_train.drop(cols_drop_dec, axis=1), label_train)\n",
    "try:\n",
    "    notif.show_toast(\"Random forest complete!\", \"Come HERE!!!!\", duration=1)\n",
    "except:\n",
    "    pass"
   ]
  },
  {
   "cell_type": "code",
   "execution_count": 167,
   "metadata": {},
   "outputs": [
    {
     "data": {
      "image/png": "[encoded data removed]",
      "text/plain": [
       "<matplotlib.figure.Figure at 0x24e2f7a4c88>"
      ]
     },
     "metadata": {},
     "output_type": "display_data"
    },
    {
     "name": "stdout",
     "output_type": "stream",
     "text": [
      "0.794839681618\n"
     ]
    }
   ],
   "source": [
    "dec_pred = dec.predict_proba(data_test.drop(cols_drop_dec, axis=1))\n",
    "roc_curve(label_test, dec_pred)\n",
    "print(metrics.roc_auc_score(label_test, dec_pred[:,1]))"
   ]
  },
  {
   "cell_type": "markdown",
   "metadata": {},
   "source": [
    "0.850897524434"
   ]
  },
  {
   "cell_type": "code",
   "execution_count": 145,
   "metadata": {
    "collapsed": true
   },
   "outputs": [],
   "source": [
    "clf = linear_model.LogisticRegression()\n",
    "param_grid = {'C': [0.01, 0.1, 1, 5]}\n",
    "opt = model_selection.GridSearchCV(clf, param_grid, cv=3, n_jobs=2, return_train_score=True, scoring='roc_auc')"
   ]
  },
  {
   "cell_type": "code",
   "execution_count": 146,
   "metadata": {},
   "outputs": [
    {
     "name": "stdout",
     "output_type": "stream",
     "text": [
      "AirFrameChance: 0.167706\n",
      "DepFrameChance: 0.361875\n",
      "ArrFrameChance: 0.042718\n",
      "FlightChance: 0.414509\n",
      "DHOYChance: -0.175544\n",
      "AHOYChance: -0.037369\n",
      "OriginChance: -0.192212\n",
      "DestChance: -0.093314\n",
      "CarrierChance: 0.637753\n",
      "TaxiIn: -0.011953\n",
      "TaxiOut: 0.002649\n",
      "DHOY_OriginChance: 0.714795\n",
      "AHOY_DestChance: 0.612871\n",
      "TZDChance: 0.253833\n"
     ]
    }
   ],
   "source": [
    "opt.fit(data_train[reg_used_cols], label_train)\n",
    "gc.collect()\n",
    "for i, c in enumerate(opt.best_estimator_.coef_[0]):\n",
    "    print(\"%s: %f\" % (data_train[reg_used_cols].columns[i], c))"
   ]
  },
  {
   "cell_type": "code",
   "execution_count": 147,
   "metadata": {},
   "outputs": [
    {
     "data": {
      "image/png": "[encoded data removed]",
      "text/plain": [
       "<matplotlib.figure.Figure at 0x24f95c2bac8>"
      ]
     },
     "metadata": {},
     "output_type": "display_data"
    },
    {
     "name": "stdout",
     "output_type": "stream",
     "text": [
      "0.823231515475\n"
     ]
    }
   ],
   "source": [
    "reg_pred = opt.predict_proba(data_test[reg_used_cols])\n",
    "roc_curve(label_test, reg_pred)\n",
    "print(metrics.roc_auc_score(label_test, reg_pred[:,1]))"
   ]
  },
  {
   "cell_type": "markdown",
   "metadata": {},
   "source": [
    "0.823378147562"
   ]
  },
  {
   "cell_type": "code",
   "execution_count": 148,
   "metadata": {},
   "outputs": [
    {
     "data": {
      "image/png": "[encoded data removed]",
      "text/plain": [
       "<matplotlib.figure.Figure at 0x24f95acc1d0>"
      ]
     },
     "metadata": {},
     "output_type": "display_data"
    },
    {
     "name": "stdout",
     "output_type": "stream",
     "text": [
      "0.844178427181\n"
     ]
    }
   ],
   "source": [
    "mean_pred = (reg_pred + dec_pred) / 2\n",
    "roc_curve(label_test, mean_pred)\n",
    "print(metrics.roc_auc_score(label_test, mean_pred[:,1]))"
   ]
  },
  {
   "cell_type": "markdown",
   "metadata": {},
   "source": [
    "0.844178427181"
   ]
  },
  {
   "cell_type": "code",
   "execution_count": 126,
   "metadata": {
    "collapsed": true
   },
   "outputs": [],
   "source": [
    "from os import system\n",
    "def save_df(pred):\n",
    "    df_to_save = pd.DataFrame(pred[:, 1], columns=[\"Prediction1\"])\n",
    "    df_to_save.index.name = \"Id\"\n",
    "    df_to_save.to_csv(\"pred.csv\")\n",
    "    system(\"gzip pred.csv\")\n",
    "    df_to_save = None\n",
    "    gc.collect()"
   ]
  },
  {
   "cell_type": "code",
   "execution_count": 119,
   "metadata": {
    "collapsed": true
   },
   "outputs": [],
   "source": [
    "test_df_upd.fillna(0, inplace=True)"
   ]
  },
  {
   "cell_type": "code",
   "execution_count": 120,
   "metadata": {},
   "outputs": [],
   "source": [
    "dec_pred_test = dec.predict_proba(test_df_upd.drop(cols_drop_dec, axis=1))\n",
    "reg_pred_test = opt.predict_proba(test_df_upd[reg_used_cols])\n",
    "mean_pred_test = (dec_pred_test + reg_pred_test) / 2"
   ]
  },
  {
   "cell_type": "code",
   "execution_count": 127,
   "metadata": {},
   "outputs": [],
   "source": [
    "save_df(dec_pred_test)"
   ]
  }
 ],
 "metadata": {
  "kernelspec": {
   "display_name": "Python 3",
   "language": "python",
   "name": "python3"
  },
  "language_info": {
   "codemirror_mode": {
    "name": "ipython",
    "version": 3
   },
   "file_extension": ".py",
   "mimetype": "text/x-python",
   "name": "python",
   "nbconvert_exporter": "python",
   "pygments_lexer": "ipython3",
   "version": "3.6.2"
  }
 },
 "nbformat": 4,
 "nbformat_minor": 2
}

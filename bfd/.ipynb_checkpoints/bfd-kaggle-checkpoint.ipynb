{
 "cells": [
  {
   "cell_type": "code",
   "execution_count": null,
   "metadata": {
    "collapsed": true
   },
   "outputs": [],
   "source": [
    "import pandas as pd\n",
    "import numpy as np\n",
    "import math\n",
    "from sklearn import datasets, linear_model, metrics, feature_extraction, model_selection, tree, ensemble\n",
    "from matplotlib import pyplot as plt\n",
    "import seaborn as sns\n",
    "import math\n",
    "plt.style.use(\"ggplot\")\n",
    "%matplotlib inline\n",
    "import gc\n",
    "import json\n",
    "from win10toast import ToastNotifier"
   ]
  },
  {
   "cell_type": "code",
   "execution_count": null,
   "metadata": {
    "collapsed": true
   },
   "outputs": [],
   "source": [
    "notif = ToastNotifier()"
   ]
  },
  {
   "cell_type": "code",
   "execution_count": 2,
   "metadata": {
    "collapsed": true
   },
   "outputs": [],
   "source": [
    "def daysInMonth(x):\n",
    "    return 28 + ((x + math.floor(x / 8)) % 2 + (2 % x) + (2 * math.floor(1/x)))\n",
    "\n",
    "\n",
    "daysFromYearStart = [0]\n",
    "def getDaysFromYearStart(month, day):\n",
    "    while len(daysFromYearStart) <= month:\n",
    "        l = len(daysFromYearStart)\n",
    "        daysFromYearStart.append(daysFromYearStart[l - 1] + daysInMonth(l))\n",
    "    return daysFromYearStart[month] - (daysInMonth(month) - day)\n",
    "\n",
    "\n",
    "def dropRare(frame, clsName, minCount):\n",
    "    counts = frame[clsName].value_counts()\n",
    "    return frame.drop(df[df[clsName].isin(counts[counts < minCount].index)].index)\n",
    "\n",
    "def logit(x):\n",
    "    return math.log(np.abs(x / (1 - x)))\n",
    "\n",
    "def logit_vec(v):\n",
    "    return logit(v.mean() + 1e-5)\n",
    "\n",
    "def reclassMeanOpt(frame, targetSrc, clsName, meanName, drop=False):\n",
    "    if meanName in frame.columns:\n",
    "        if drop:\n",
    "            print(\"%s found in dataframe, drop=True, dropping\" % meanName)\n",
    "            frame = frame.drop(meanName, axis=1)\n",
    "        else:\n",
    "            print(\"%s found in dataframe, drop=False, skipping\" % meanName)\n",
    "            return frame\n",
    "    mean_frame = targetSrc[[clsName, 'target']].groupby(clsName).agg(logit_vec).reset_index()\n",
    "    mean_frame.rename(columns={'target':meanName}, inplace = True)\n",
    "    return pd.merge(frame, mean_frame, on=clsName, how='left')\n",
    "    \n",
    "    \n",
    "def reclassMean(frame, targetSrc, clsName, meanName, targetExtractor = lambda f, c: f[[c, 'target']].groupby(c).mean(), excluders=[]):\n",
    "    def getMean(c): \n",
    "        if c not in meanInfo or c in excluders:\n",
    "            meanInfo[c] = meanInfo.mean()\n",
    "        return meanInfo[c]\n",
    "    meanInfo = targetExtractor(targetSrc, clsName)\n",
    "    frame[meanName] = frame[clsName].map(lambda c: getMean(c))\n",
    "        \n",
    "    \n",
    "def split_time(time):\n",
    "    time = str(int(time))\n",
    "    time = ('0' * (4 - len(time))) + time\n",
    "    hours = int(time[0:2])\n",
    "    minutes = int(time[2:4])\n",
    "    return {\"H\": hours, \"M\": minutes}\n",
    "\n",
    "\n",
    "def reclass_time(frame, orig, hours, minutes): \n",
    "    t = frame[orig].map(split_time)\n",
    "    frame[hours] = t.map(lambda t: t[\"H\"])\n",
    "    frame[minutes] = t.map(lambda t: t[\"M\"])"
   ]
  },
  {
   "cell_type": "code",
   "execution_count": 3,
   "metadata": {},
   "outputs": [
    {
     "data": {
      "text/html": [
       "<div>\n",
       "<style scoped>\n",
       "    .dataframe tbody tr th:only-of-type {\n",
       "        vertical-align: middle;\n",
       "    }\n",
       "\n",
       "    .dataframe tbody tr th {\n",
       "        vertical-align: top;\n",
       "    }\n",
       "\n",
       "    .dataframe thead th {\n",
       "        text-align: right;\n",
       "    }\n",
       "</style>\n",
       "<table border=\"1\" class=\"dataframe\">\n",
       "  <thead>\n",
       "    <tr style=\"text-align: right;\">\n",
       "      <th></th>\n",
       "      <th>Month</th>\n",
       "      <th>DayofMonth</th>\n",
       "      <th>DayOfWeek</th>\n",
       "      <th>DepTime</th>\n",
       "      <th>ArrTime</th>\n",
       "      <th>UniqueCarrier</th>\n",
       "      <th>FlightNum</th>\n",
       "      <th>TailNum</th>\n",
       "      <th>AirTime</th>\n",
       "      <th>Origin</th>\n",
       "      <th>Dest</th>\n",
       "      <th>Distance</th>\n",
       "      <th>TaxiIn</th>\n",
       "      <th>TaxiOut</th>\n",
       "      <th>target</th>\n",
       "    </tr>\n",
       "  </thead>\n",
       "  <tbody>\n",
       "    <tr>\n",
       "      <th>0</th>\n",
       "      <td>1</td>\n",
       "      <td>1</td>\n",
       "      <td>2</td>\n",
       "      <td>1007.0</td>\n",
       "      <td>1109.0</td>\n",
       "      <td>AA</td>\n",
       "      <td>511</td>\n",
       "      <td>N404AA</td>\n",
       "      <td>34.0</td>\n",
       "      <td>AUS</td>\n",
       "      <td>DFW</td>\n",
       "      <td>190</td>\n",
       "      <td>15.0</td>\n",
       "      <td>13.0</td>\n",
       "      <td>1</td>\n",
       "    </tr>\n",
       "    <tr>\n",
       "      <th>1</th>\n",
       "      <td>1</td>\n",
       "      <td>1</td>\n",
       "      <td>2</td>\n",
       "      <td>1411.0</td>\n",
       "      <td>1521.0</td>\n",
       "      <td>NW</td>\n",
       "      <td>1631</td>\n",
       "      <td>N363NB</td>\n",
       "      <td>37.0</td>\n",
       "      <td>TVC</td>\n",
       "      <td>DTW</td>\n",
       "      <td>207</td>\n",
       "      <td>9.0</td>\n",
       "      <td>24.0</td>\n",
       "      <td>1</td>\n",
       "    </tr>\n",
       "    <tr>\n",
       "      <th>2</th>\n",
       "      <td>1</td>\n",
       "      <td>1</td>\n",
       "      <td>2</td>\n",
       "      <td>859.0</td>\n",
       "      <td>1112.0</td>\n",
       "      <td>MQ</td>\n",
       "      <td>4645</td>\n",
       "      <td>N700LE</td>\n",
       "      <td>103.0</td>\n",
       "      <td>BDL</td>\n",
       "      <td>RDU</td>\n",
       "      <td>532</td>\n",
       "      <td>3.0</td>\n",
       "      <td>27.0</td>\n",
       "      <td>0</td>\n",
       "    </tr>\n",
       "    <tr>\n",
       "      <th>3</th>\n",
       "      <td>1</td>\n",
       "      <td>1</td>\n",
       "      <td>2</td>\n",
       "      <td>1835.0</td>\n",
       "      <td>2159.0</td>\n",
       "      <td>MQ</td>\n",
       "      <td>4838</td>\n",
       "      <td>N704PG</td>\n",
       "      <td>130.0</td>\n",
       "      <td>XNA</td>\n",
       "      <td>LGA</td>\n",
       "      <td>1147</td>\n",
       "      <td>6.0</td>\n",
       "      <td>8.0</td>\n",
       "      <td>1</td>\n",
       "    </tr>\n",
       "    <tr>\n",
       "      <th>4</th>\n",
       "      <td>1</td>\n",
       "      <td>1</td>\n",
       "      <td>2</td>\n",
       "      <td>1305.0</td>\n",
       "      <td>1924.0</td>\n",
       "      <td>US</td>\n",
       "      <td>185</td>\n",
       "      <td>N655AW</td>\n",
       "      <td>229.0</td>\n",
       "      <td>PHX</td>\n",
       "      <td>FLL</td>\n",
       "      <td>1972</td>\n",
       "      <td>9.0</td>\n",
       "      <td>21.0</td>\n",
       "      <td>1</td>\n",
       "    </tr>\n",
       "  </tbody>\n",
       "</table>\n",
       "</div>"
      ],
      "text/plain": [
       "   Month  DayofMonth  DayOfWeek  DepTime  ArrTime UniqueCarrier  FlightNum  \\\n",
       "0      1           1          2   1007.0   1109.0            AA        511   \n",
       "1      1           1          2   1411.0   1521.0            NW       1631   \n",
       "2      1           1          2    859.0   1112.0            MQ       4645   \n",
       "3      1           1          2   1835.0   2159.0            MQ       4838   \n",
       "4      1           1          2   1305.0   1924.0            US        185   \n",
       "\n",
       "  TailNum  AirTime Origin Dest  Distance  TaxiIn  TaxiOut  target  \n",
       "0  N404AA     34.0    AUS  DFW       190    15.0     13.0       1  \n",
       "1  N363NB     37.0    TVC  DTW       207     9.0     24.0       1  \n",
       "2  N700LE    103.0    BDL  RDU       532     3.0     27.0       0  \n",
       "3  N704PG    130.0    XNA  LGA      1147     6.0      8.0       1  \n",
       "4  N655AW    229.0    PHX  FLL      1972     9.0     21.0       1  "
      ]
     },
     "execution_count": 3,
     "metadata": {},
     "output_type": "execute_result"
    }
   ],
   "source": [
    "df = pd.read_csv(\"train_dataset.csv\")\n",
    "df.head()"
   ]
  },
  {
   "cell_type": "code",
   "execution_count": 4,
   "metadata": {
    "collapsed": true
   },
   "outputs": [],
   "source": [
    "df = df.dropna()\n",
    "df = df.drop(df[df[\"AirTime\"] == 0].index)"
   ]
  },
  {
   "cell_type": "code",
   "execution_count": 5,
   "metadata": {
    "collapsed": true
   },
   "outputs": [],
   "source": [
    "df = dropRare(df, \"FlightNum\", 20)\n",
    "df = dropRare(df, \"Dest\", 5)\n",
    "df = dropRare(df, \"Origin\", 5)"
   ]
  },
  {
   "cell_type": "code",
   "execution_count": 6,
   "metadata": {
    "collapsed": true
   },
   "outputs": [],
   "source": [
    "df[\"DayOfYear\"] = df.apply(lambda x: getDaysFromYearStart(x[\"Month\"], x[\"DayofMonth\"]), axis=1)"
   ]
  },
  {
   "cell_type": "code",
   "execution_count": 7,
   "metadata": {
    "collapsed": true
   },
   "outputs": [],
   "source": [
    "df[\"AirTimeFrame\"] = df[\"AirTime\"].map(lambda x: math.log((x // 30) + 1, 10))"
   ]
  },
  {
   "cell_type": "code",
   "execution_count": 8,
   "metadata": {
    "collapsed": true
   },
   "outputs": [],
   "source": [
    "reclass_time(df, \"DepTime\", \"DepHour\", \"DepMinute\")\n",
    "df[\"DepTotalMinutes\"] = df[\"DepHour\"] * 60 + df[\"DepMinute\"]\n",
    "df[\"DepTimeFrame\"] = df[\"DepTotalMinutes\"] // 15\n",
    "df[\"DepHourOfYear\"] = df[\"DayOfYear\"] * 24 - (24 - df[\"DepHour\"])"
   ]
  },
  {
   "cell_type": "code",
   "execution_count": 9,
   "metadata": {
    "collapsed": true
   },
   "outputs": [],
   "source": [
    "reclass_time(df, \"ArrTime\", \"ArrHour\", \"ArrMinute\")\n",
    "df[\"ArrTotalMinutes\"] = df[\"ArrHour\"] * 60 + df[\"ArrMinute\"]\n",
    "df[\"ArrTimeFrame\"] = df[\"ArrTotalMinutes\"] // 15\n",
    "df[\"ArrHourOfYear\"] = df[\"DayOfYear\"] * 24 - (24 - df[\"ArrHour\"])"
   ]
  },
  {
   "cell_type": "code",
   "execution_count": 10,
   "metadata": {
    "collapsed": true
   },
   "outputs": [],
   "source": [
    "df[\"DistanceFrame\"] = df[\"Distance\"].map(lambda x: math.log((x // 30) + 1, 2))"
   ]
  },
  {
   "cell_type": "code",
   "execution_count": 11,
   "metadata": {
    "collapsed": true
   },
   "outputs": [],
   "source": [
    "gc.collect()\n",
    "df[\"DepHourOfYearFrame\"] = df[\"DepHourOfYear\"] // 8\n",
    "dhoy_origin_mean = df.groupby([\"DepHourOfYearFrame\", \"Origin\"])[\"target\"].agg(logit_vec).reset_index()\n",
    "dhoy_origin_mean.rename(columns={'target': 'DHOY_OriginChance'}, inplace=True)\n",
    "df = pd.merge(df, dhoy_origin_mean, on=['DepHourOfYearFrame', 'Origin'], how='left')"
   ]
  },
  {
   "cell_type": "code",
   "execution_count": 12,
   "metadata": {
    "collapsed": true
   },
   "outputs": [],
   "source": [
    "gc.collect()\n",
    "df[\"ArrHourOfYearFrame\"] = df[\"ArrHourOfYear\"] // 8\n",
    "ahoy_dest_mean = df.groupby([\"ArrHourOfYearFrame\", \"Dest\"])[\"target\"].agg(logit_vec).reset_index()\n",
    "ahoy_dest_mean.rename(columns={'target': 'AHOY_DestChance'}, inplace=True)\n",
    "df = pd.merge(df, ahoy_dest_mean, on=['ArrHourOfYearFrame', 'Dest'], how='left')"
   ]
  },
  {
   "cell_type": "code",
   "execution_count": 13,
   "metadata": {},
   "outputs": [
    {
     "data": {
      "text/plain": [
       "49"
      ]
     },
     "execution_count": 13,
     "metadata": {},
     "output_type": "execute_result"
    }
   ],
   "source": [
    "gc.collect()"
   ]
  },
  {
   "cell_type": "code",
   "execution_count": 15,
   "metadata": {},
   "outputs": [],
   "source": [
    "with open('airport_info.json', 'r') as data_file:\n",
    "    airport_data = json.load(fp = data_file)\n",
    "    df[\"OTimeZone\"] = df[\"Origin\"].map(lambda x: airport_data[x]['Time Zone'])\n",
    "    df[\"OLatitude\"] = df[\"Origin\"].map(lambda x: airport_data[x]['Latitude'])\n",
    "    df[\"OLongitude\"] = df[\"Origin\"].map(lambda x: airport_data[x]['Longitude'])\n",
    "    \n",
    "    df[\"DTimeZone\"] = df[\"Dest\"].map(lambda x: airport_data[x]['Time Zone'])\n",
    "    df[\"DLatitude\"] = df[\"Dest\"].map(lambda x: airport_data[x]['Latitude'])\n",
    "    df[\"DLongitude\"] = df[\"Dest\"].map(lambda x: airport_data[x]['Longitude'])"
   ]
  },
  {
   "cell_type": "code",
   "execution_count": 16,
   "metadata": {
    "collapsed": true
   },
   "outputs": [],
   "source": [
    "df[\"OTimeZone\"] = df[\"OTimeZone\"].map(lambda x: int(x.split(':')[0]))\n",
    "df[\"DTimeZone\"] = df[\"DTimeZone\"].map(lambda x: int(x.split(':')[0]))"
   ]
  },
  {
   "cell_type": "code",
   "execution_count": 17,
   "metadata": {
    "collapsed": true
   },
   "outputs": [],
   "source": [
    "df[\"OLtFrame\"] = df[\"OLatitude\"].astype('float').agg('floor')\n",
    "df[\"DLtFrame\"] = df[\"DLatitude\"].astype('float').agg('floor')\n",
    "\n",
    "df[\"OLgFrame\"] = df[\"OLongitude\"].astype('float').agg('floor')\n",
    "df[\"DLgFrame\"] = df[\"DLongitude\"].astype('float').agg('floor')"
   ]
  },
  {
   "cell_type": "code",
   "execution_count": 18,
   "metadata": {},
   "outputs": [
    {
     "data": {
      "text/plain": [
       "Index(['Month', 'DayofMonth', 'DayOfWeek', 'DepTime', 'ArrTime',\n",
       "       'UniqueCarrier', 'FlightNum', 'TailNum', 'AirTime', 'Origin', 'Dest',\n",
       "       'Distance', 'TaxiIn', 'TaxiOut', 'target', 'DayOfYear', 'AirTimeFrame',\n",
       "       'DepHour', 'DepMinute', 'DepTotalMinutes', 'DepTimeFrame',\n",
       "       'DepHourOfYear', 'ArrHour', 'ArrMinute', 'ArrTotalMinutes',\n",
       "       'ArrTimeFrame', 'ArrHourOfYear', 'DistanceFrame', 'DepHourOfYearFrame',\n",
       "       'DHOY_OriginChance', 'ArrHourOfYearFrame', 'AHOY_DestChance',\n",
       "       'OTimeZone', 'OLatitude', 'OLongitude', 'DTimeZone', 'DLatitude',\n",
       "       'DLongitude', 'OLtFrame', 'DLtFrame', 'OLgFrame', 'DLgFrame'],\n",
       "      dtype='object')"
      ]
     },
     "execution_count": 18,
     "metadata": {},
     "output_type": "execute_result"
    }
   ],
   "source": [
    "df.columns"
   ]
  },
  {
   "cell_type": "code",
   "execution_count": 19,
   "metadata": {},
   "outputs": [
    {
     "data": {
      "text/html": [
       "<div>\n",
       "<style scoped>\n",
       "    .dataframe tbody tr th:only-of-type {\n",
       "        vertical-align: middle;\n",
       "    }\n",
       "\n",
       "    .dataframe tbody tr th {\n",
       "        vertical-align: top;\n",
       "    }\n",
       "\n",
       "    .dataframe thead th {\n",
       "        text-align: right;\n",
       "    }\n",
       "</style>\n",
       "<table border=\"1\" class=\"dataframe\">\n",
       "  <thead>\n",
       "    <tr style=\"text-align: right;\">\n",
       "      <th></th>\n",
       "      <th>Month</th>\n",
       "      <th>DayofMonth</th>\n",
       "      <th>DayOfWeek</th>\n",
       "      <th>DepTime</th>\n",
       "      <th>ArrTime</th>\n",
       "      <th>UniqueCarrier</th>\n",
       "      <th>FlightNum</th>\n",
       "      <th>TailNum</th>\n",
       "      <th>AirTime</th>\n",
       "      <th>Origin</th>\n",
       "      <th>...</th>\n",
       "      <th>OTimeZone</th>\n",
       "      <th>OLatitude</th>\n",
       "      <th>OLongitude</th>\n",
       "      <th>DTimeZone</th>\n",
       "      <th>DLatitude</th>\n",
       "      <th>DLongitude</th>\n",
       "      <th>OLtFrame</th>\n",
       "      <th>DLtFrame</th>\n",
       "      <th>OLgFrame</th>\n",
       "      <th>DLgFrame</th>\n",
       "    </tr>\n",
       "  </thead>\n",
       "  <tbody>\n",
       "    <tr>\n",
       "      <th>0</th>\n",
       "      <td>1</td>\n",
       "      <td>1</td>\n",
       "      <td>2</td>\n",
       "      <td>1007.0</td>\n",
       "      <td>1109.0</td>\n",
       "      <td>AA</td>\n",
       "      <td>511</td>\n",
       "      <td>N404AA</td>\n",
       "      <td>34.0</td>\n",
       "      <td>AUS</td>\n",
       "      <td>...</td>\n",
       "      <td>-6</td>\n",
       "      <td>30.1945</td>\n",
       "      <td>-97.669899</td>\n",
       "      <td>-6</td>\n",
       "      <td>32.896801</td>\n",
       "      <td>-97.038002</td>\n",
       "      <td>30.0</td>\n",
       "      <td>32.0</td>\n",
       "      <td>-98.0</td>\n",
       "      <td>-98.0</td>\n",
       "    </tr>\n",
       "    <tr>\n",
       "      <th>1</th>\n",
       "      <td>1</td>\n",
       "      <td>1</td>\n",
       "      <td>2</td>\n",
       "      <td>1411.0</td>\n",
       "      <td>1521.0</td>\n",
       "      <td>NW</td>\n",
       "      <td>1631</td>\n",
       "      <td>N363NB</td>\n",
       "      <td>37.0</td>\n",
       "      <td>TVC</td>\n",
       "      <td>...</td>\n",
       "      <td>-5</td>\n",
       "      <td>44.7414017</td>\n",
       "      <td>-85.5821991</td>\n",
       "      <td>-5</td>\n",
       "      <td>42.2123985</td>\n",
       "      <td>-83.3534012</td>\n",
       "      <td>44.0</td>\n",
       "      <td>42.0</td>\n",
       "      <td>-86.0</td>\n",
       "      <td>-84.0</td>\n",
       "    </tr>\n",
       "    <tr>\n",
       "      <th>2</th>\n",
       "      <td>1</td>\n",
       "      <td>1</td>\n",
       "      <td>2</td>\n",
       "      <td>859.0</td>\n",
       "      <td>1112.0</td>\n",
       "      <td>MQ</td>\n",
       "      <td>4645</td>\n",
       "      <td>N700LE</td>\n",
       "      <td>103.0</td>\n",
       "      <td>BDL</td>\n",
       "      <td>...</td>\n",
       "      <td>-5</td>\n",
       "      <td>41.9389</td>\n",
       "      <td>-72.683197</td>\n",
       "      <td>-5</td>\n",
       "      <td>35.8776016</td>\n",
       "      <td>-78.7874985</td>\n",
       "      <td>41.0</td>\n",
       "      <td>35.0</td>\n",
       "      <td>-73.0</td>\n",
       "      <td>-79.0</td>\n",
       "    </tr>\n",
       "    <tr>\n",
       "      <th>3</th>\n",
       "      <td>1</td>\n",
       "      <td>1</td>\n",
       "      <td>2</td>\n",
       "      <td>1835.0</td>\n",
       "      <td>2159.0</td>\n",
       "      <td>MQ</td>\n",
       "      <td>4838</td>\n",
       "      <td>N704PG</td>\n",
       "      <td>130.0</td>\n",
       "      <td>XNA</td>\n",
       "      <td>...</td>\n",
       "      <td>-6</td>\n",
       "      <td>36.2818985</td>\n",
       "      <td>-94.3068008</td>\n",
       "      <td>-5</td>\n",
       "      <td>40.7771988</td>\n",
       "      <td>-73.8725967</td>\n",
       "      <td>36.0</td>\n",
       "      <td>40.0</td>\n",
       "      <td>-95.0</td>\n",
       "      <td>-74.0</td>\n",
       "    </tr>\n",
       "    <tr>\n",
       "      <th>4</th>\n",
       "      <td>1</td>\n",
       "      <td>1</td>\n",
       "      <td>2</td>\n",
       "      <td>1305.0</td>\n",
       "      <td>1924.0</td>\n",
       "      <td>US</td>\n",
       "      <td>185</td>\n",
       "      <td>N655AW</td>\n",
       "      <td>229.0</td>\n",
       "      <td>PHX</td>\n",
       "      <td>...</td>\n",
       "      <td>-7</td>\n",
       "      <td>33.4342995</td>\n",
       "      <td>-112.012001</td>\n",
       "      <td>-5</td>\n",
       "      <td>26.0725994</td>\n",
       "      <td>-80.1527023</td>\n",
       "      <td>33.0</td>\n",
       "      <td>26.0</td>\n",
       "      <td>-113.0</td>\n",
       "      <td>-81.0</td>\n",
       "    </tr>\n",
       "  </tbody>\n",
       "</table>\n",
       "<p>5 rows × 42 columns</p>\n",
       "</div>"
      ],
      "text/plain": [
       "   Month  DayofMonth  DayOfWeek  DepTime  ArrTime UniqueCarrier  FlightNum  \\\n",
       "0      1           1          2   1007.0   1109.0            AA        511   \n",
       "1      1           1          2   1411.0   1521.0            NW       1631   \n",
       "2      1           1          2    859.0   1112.0            MQ       4645   \n",
       "3      1           1          2   1835.0   2159.0            MQ       4838   \n",
       "4      1           1          2   1305.0   1924.0            US        185   \n",
       "\n",
       "  TailNum  AirTime Origin    ...    OTimeZone   OLatitude   OLongitude  \\\n",
       "0  N404AA     34.0    AUS    ...           -6     30.1945   -97.669899   \n",
       "1  N363NB     37.0    TVC    ...           -5  44.7414017  -85.5821991   \n",
       "2  N700LE    103.0    BDL    ...           -5     41.9389   -72.683197   \n",
       "3  N704PG    130.0    XNA    ...           -6  36.2818985  -94.3068008   \n",
       "4  N655AW    229.0    PHX    ...           -7  33.4342995  -112.012001   \n",
       "\n",
       "   DTimeZone   DLatitude   DLongitude  OLtFrame  DLtFrame  OLgFrame  DLgFrame  \n",
       "0         -6   32.896801   -97.038002      30.0      32.0     -98.0     -98.0  \n",
       "1         -5  42.2123985  -83.3534012      44.0      42.0     -86.0     -84.0  \n",
       "2         -5  35.8776016  -78.7874985      41.0      35.0     -73.0     -79.0  \n",
       "3         -5  40.7771988  -73.8725967      36.0      40.0     -95.0     -74.0  \n",
       "4         -5  26.0725994  -80.1527023      33.0      26.0    -113.0     -81.0  \n",
       "\n",
       "[5 rows x 42 columns]"
      ]
     },
     "execution_count": 19,
     "metadata": {},
     "output_type": "execute_result"
    }
   ],
   "source": [
    "df.head()"
   ]
  },
  {
   "cell_type": "code",
   "execution_count": 20,
   "metadata": {},
   "outputs": [
    {
     "data": {
      "text/plain": [
       "160"
      ]
     },
     "execution_count": 20,
     "metadata": {},
     "output_type": "execute_result"
    }
   ],
   "source": [
    "gc.collect()"
   ]
  },
  {
   "cell_type": "code",
   "execution_count": 21,
   "metadata": {
    "collapsed": true
   },
   "outputs": [],
   "source": [
    "mean_names = {\n",
    "    \"UniqueCarrier\": \"CarrierChance\",\n",
    "    \"Origin\": \"OriginChance\",\n",
    "    \"Dest\": \"DestChance\",\n",
    "    \"FlightNum\": \"FlightChance\",\n",
    "    \"DepHourOfYear\": \"DHOYChance\",\n",
    "    \"ArrHourOfYear\": \"AHOYChance\",\n",
    "    \"TailNum\": \"PlaneChance\",\n",
    "    \"AirTimeFrame\": \"AirFrameChance\",\n",
    "    \"DepTimeFrame\": \"DepFrameChance\",\n",
    "    \"ArrTimeFrame\": \"ArrFrameChance\",\n",
    "    \"OTimeZone\": \"OTZChance\",\n",
    "    \"DTimeZone\": \"DTZChance\",\n",
    "    \"OLtFrame\": \"OLtChance\",\n",
    "    \"DLtFrame\": \"DLtChance\",\n",
    "    \"OLgFrame\": \"OLgChance\",\n",
    "    \"DLgFrame\": \"DLgChance\"\n",
    "}"
   ]
  },
  {
   "cell_type": "code",
   "execution_count": 24,
   "metadata": {},
   "outputs": [
    {
     "name": "stdout",
     "output_type": "stream",
     "text": [
      "UniqueCarrier:CarrierChance\n",
      "Origin:OriginChance\n",
      "Dest:DestChance\n",
      "FlightNum:FlightChance\n",
      "DepHourOfYear:DHOYChance\n",
      "ArrHourOfYear:AHOYChance\n",
      "TailNum:PlaneChance\n",
      "AirTimeFrame:AirFrameChance\n",
      "DepTimeFrame:DepFrameChance\n",
      "ArrTimeFrame:ArrFrameChance\n",
      "OTimeZone:OTZChance\n",
      "DTimeZone:DTZChance\n",
      "OLtFrame:OLtChance\n",
      "DLtFrame:DLtChance\n",
      "OLgFrame:OLgChance\n",
      "DLgFrame:DLgChance\n"
     ]
    }
   ],
   "source": [
    "for orig, mean in mean_names.items():\n",
    "    df = reclassMeanOpt(df, df, orig, mean)\n",
    "    gc.collect()\n",
    "    print(\"%s:%s\" % (orig, mean))"
   ]
  },
  {
   "cell_type": "code",
   "execution_count": 25,
   "metadata": {},
   "outputs": [
    {
     "data": {
      "text/html": [
       "<div>\n",
       "<style scoped>\n",
       "    .dataframe tbody tr th:only-of-type {\n",
       "        vertical-align: middle;\n",
       "    }\n",
       "\n",
       "    .dataframe tbody tr th {\n",
       "        vertical-align: top;\n",
       "    }\n",
       "\n",
       "    .dataframe thead th {\n",
       "        text-align: right;\n",
       "    }\n",
       "</style>\n",
       "<table border=\"1\" class=\"dataframe\">\n",
       "  <thead>\n",
       "    <tr style=\"text-align: right;\">\n",
       "      <th></th>\n",
       "      <th>Month</th>\n",
       "      <th>DayofMonth</th>\n",
       "      <th>DayOfWeek</th>\n",
       "      <th>DepTime</th>\n",
       "      <th>ArrTime</th>\n",
       "      <th>UniqueCarrier</th>\n",
       "      <th>FlightNum</th>\n",
       "      <th>TailNum</th>\n",
       "      <th>AirTime</th>\n",
       "      <th>Origin</th>\n",
       "      <th>...</th>\n",
       "      <th>PlaneChance</th>\n",
       "      <th>AirFrameChance</th>\n",
       "      <th>DepFrameChance</th>\n",
       "      <th>ArrFrameChance</th>\n",
       "      <th>OTZChance</th>\n",
       "      <th>DTZChance</th>\n",
       "      <th>OLtChance</th>\n",
       "      <th>DLtChance</th>\n",
       "      <th>OLgChance</th>\n",
       "      <th>DLgChance</th>\n",
       "    </tr>\n",
       "  </thead>\n",
       "  <tbody>\n",
       "    <tr>\n",
       "      <th>0</th>\n",
       "      <td>1</td>\n",
       "      <td>1</td>\n",
       "      <td>2</td>\n",
       "      <td>1007.0</td>\n",
       "      <td>1109.0</td>\n",
       "      <td>AA</td>\n",
       "      <td>511</td>\n",
       "      <td>N404AA</td>\n",
       "      <td>34.0</td>\n",
       "      <td>AUS</td>\n",
       "      <td>...</td>\n",
       "      <td>-0.779533</td>\n",
       "      <td>-0.962395</td>\n",
       "      <td>-1.143192</td>\n",
       "      <td>-1.410573</td>\n",
       "      <td>-0.767693</td>\n",
       "      <td>-0.840467</td>\n",
       "      <td>-1.108028</td>\n",
       "      <td>-0.908476</td>\n",
       "      <td>-0.692124</td>\n",
       "      <td>-0.893241</td>\n",
       "    </tr>\n",
       "    <tr>\n",
       "      <th>1</th>\n",
       "      <td>1</td>\n",
       "      <td>1</td>\n",
       "      <td>2</td>\n",
       "      <td>1411.0</td>\n",
       "      <td>1521.0</td>\n",
       "      <td>NW</td>\n",
       "      <td>1631</td>\n",
       "      <td>N363NB</td>\n",
       "      <td>37.0</td>\n",
       "      <td>TVC</td>\n",
       "      <td>...</td>\n",
       "      <td>-1.388042</td>\n",
       "      <td>-0.962395</td>\n",
       "      <td>-0.490045</td>\n",
       "      <td>-0.852247</td>\n",
       "      <td>-0.859482</td>\n",
       "      <td>-0.833031</td>\n",
       "      <td>-1.068220</td>\n",
       "      <td>-0.987379</td>\n",
       "      <td>-1.108292</td>\n",
       "      <td>-1.151791</td>\n",
       "    </tr>\n",
       "    <tr>\n",
       "      <th>2</th>\n",
       "      <td>1</td>\n",
       "      <td>1</td>\n",
       "      <td>2</td>\n",
       "      <td>859.0</td>\n",
       "      <td>1112.0</td>\n",
       "      <td>MQ</td>\n",
       "      <td>4645</td>\n",
       "      <td>N700LE</td>\n",
       "      <td>103.0</td>\n",
       "      <td>BDL</td>\n",
       "      <td>...</td>\n",
       "      <td>-0.726567</td>\n",
       "      <td>-0.807715</td>\n",
       "      <td>-1.547762</td>\n",
       "      <td>-1.410573</td>\n",
       "      <td>-0.859482</td>\n",
       "      <td>-0.833031</td>\n",
       "      <td>-0.643343</td>\n",
       "      <td>-1.026106</td>\n",
       "      <td>-1.155126</td>\n",
       "      <td>-0.773360</td>\n",
       "    </tr>\n",
       "    <tr>\n",
       "      <th>3</th>\n",
       "      <td>1</td>\n",
       "      <td>1</td>\n",
       "      <td>2</td>\n",
       "      <td>1835.0</td>\n",
       "      <td>2159.0</td>\n",
       "      <td>MQ</td>\n",
       "      <td>4838</td>\n",
       "      <td>N704PG</td>\n",
       "      <td>130.0</td>\n",
       "      <td>XNA</td>\n",
       "      <td>...</td>\n",
       "      <td>-0.858705</td>\n",
       "      <td>-0.788335</td>\n",
       "      <td>-0.478694</td>\n",
       "      <td>-0.316832</td>\n",
       "      <td>-0.767693</td>\n",
       "      <td>-0.833031</td>\n",
       "      <td>-0.830870</td>\n",
       "      <td>-0.711998</td>\n",
       "      <td>-0.946120</td>\n",
       "      <td>-0.686408</td>\n",
       "    </tr>\n",
       "    <tr>\n",
       "      <th>4</th>\n",
       "      <td>1</td>\n",
       "      <td>1</td>\n",
       "      <td>2</td>\n",
       "      <td>1305.0</td>\n",
       "      <td>1924.0</td>\n",
       "      <td>US</td>\n",
       "      <td>185</td>\n",
       "      <td>N655AW</td>\n",
       "      <td>229.0</td>\n",
       "      <td>PHX</td>\n",
       "      <td>...</td>\n",
       "      <td>-1.123099</td>\n",
       "      <td>-0.702679</td>\n",
       "      <td>-0.827094</td>\n",
       "      <td>-0.486438</td>\n",
       "      <td>-0.958997</td>\n",
       "      <td>-0.833031</td>\n",
       "      <td>-0.799550</td>\n",
       "      <td>-0.765674</td>\n",
       "      <td>-0.870296</td>\n",
       "      <td>-0.894521</td>\n",
       "    </tr>\n",
       "  </tbody>\n",
       "</table>\n",
       "<p>5 rows × 58 columns</p>\n",
       "</div>"
      ],
      "text/plain": [
       "   Month  DayofMonth  DayOfWeek  DepTime  ArrTime UniqueCarrier  FlightNum  \\\n",
       "0      1           1          2   1007.0   1109.0            AA        511   \n",
       "1      1           1          2   1411.0   1521.0            NW       1631   \n",
       "2      1           1          2    859.0   1112.0            MQ       4645   \n",
       "3      1           1          2   1835.0   2159.0            MQ       4838   \n",
       "4      1           1          2   1305.0   1924.0            US        185   \n",
       "\n",
       "  TailNum  AirTime Origin    ...     PlaneChance  AirFrameChance  \\\n",
       "0  N404AA     34.0    AUS    ...       -0.779533       -0.962395   \n",
       "1  N363NB     37.0    TVC    ...       -1.388042       -0.962395   \n",
       "2  N700LE    103.0    BDL    ...       -0.726567       -0.807715   \n",
       "3  N704PG    130.0    XNA    ...       -0.858705       -0.788335   \n",
       "4  N655AW    229.0    PHX    ...       -1.123099       -0.702679   \n",
       "\n",
       "   DepFrameChance  ArrFrameChance  OTZChance  DTZChance  OLtChance  DLtChance  \\\n",
       "0       -1.143192       -1.410573  -0.767693  -0.840467  -1.108028  -0.908476   \n",
       "1       -0.490045       -0.852247  -0.859482  -0.833031  -1.068220  -0.987379   \n",
       "2       -1.547762       -1.410573  -0.859482  -0.833031  -0.643343  -1.026106   \n",
       "3       -0.478694       -0.316832  -0.767693  -0.833031  -0.830870  -0.711998   \n",
       "4       -0.827094       -0.486438  -0.958997  -0.833031  -0.799550  -0.765674   \n",
       "\n",
       "   OLgChance  DLgChance  \n",
       "0  -0.692124  -0.893241  \n",
       "1  -1.108292  -1.151791  \n",
       "2  -1.155126  -0.773360  \n",
       "3  -0.946120  -0.686408  \n",
       "4  -0.870296  -0.894521  \n",
       "\n",
       "[5 rows x 58 columns]"
      ]
     },
     "execution_count": 25,
     "metadata": {},
     "output_type": "execute_result"
    }
   ],
   "source": [
    "df.head()"
   ]
  },
  {
   "cell_type": "code",
   "execution_count": 26,
   "metadata": {},
   "outputs": [
    {
     "data": {
      "text/plain": [
       "66"
      ]
     },
     "execution_count": 26,
     "metadata": {},
     "output_type": "execute_result"
    }
   ],
   "source": [
    "gc.collect()"
   ]
  },
  {
   "cell_type": "code",
   "execution_count": 27,
   "metadata": {
    "collapsed": true
   },
   "outputs": [],
   "source": [
    "df[\"Dest_label\"] = df[\"Dest\"].astype('category').cat.codes\n",
    "df[\"Origin_label\"] = df[\"Origin\"].astype('category').cat.codes\n",
    "df[\"Carrier_label\"] = df[\"UniqueCarrier\"].astype('category').cat.codes"
   ]
  },
  {
   "cell_type": "code",
   "execution_count": 112,
   "metadata": {},
   "outputs": [
    {
     "data": {
      "text/plain": [
       "Index(['Month', 'DayofMonth', 'DayOfWeek', 'DepTime', 'ArrTime',\n",
       "       'UniqueCarrier', 'FlightNum', 'TailNum', 'AirTime', 'Origin', 'Dest',\n",
       "       'Distance', 'TaxiIn', 'TaxiOut', 'target', 'DayOfYear', 'AirTimeFrame',\n",
       "       'DepHour', 'DepMinute', 'DepTotalMinutes', 'DepTimeFrame',\n",
       "       'DepHourOfYear', 'ArrHour', 'ArrMinute', 'ArrTotalMinutes',\n",
       "       'ArrTimeFrame', 'ArrHourOfYear', 'DistanceFrame', 'DepHourOfYearFrame',\n",
       "       'DHOY_OriginChance', 'ArrHourOfYearFrame', 'AHOY_DestChance',\n",
       "       'OTimeZone', 'OLatitude', 'OLongitude', 'DTimeZone', 'DLatitude',\n",
       "       'DLongitude', 'OLtFrame', 'DLtFrame', 'OLgFrame', 'DLgFrame',\n",
       "       'CarrierChance', 'OriginChance', 'DestChance', 'FlightChance',\n",
       "       'DHOYChance', 'AHOYChance', 'PlaneChance', 'AirFrameChance',\n",
       "       'DepFrameChance', 'ArrFrameChance', 'OTZChance', 'DTZChance',\n",
       "       'OLtChance', 'DLtChance', 'OLgChance', 'DLgChance', 'Dest_label',\n",
       "       'Origin_label', 'Carrier_label'],\n",
       "      dtype='object')"
      ]
     },
     "execution_count": 112,
     "metadata": {},
     "output_type": "execute_result"
    }
   ],
   "source": [
    "df.columns"
   ]
  },
  {
   "cell_type": "code",
   "execution_count": 115,
   "metadata": {},
   "outputs": [],
   "source": [
    "reg_used_cols = [\"AirFrameChance\",\n",
    "             \"DepFrameChance\",\n",
    "             \"ArrFrameChance\",\n",
    "             \"FlightChance\",\n",
    "             \"DHOYChance\",\n",
    "             \"AHOYChance\",\n",
    "             \"OriginChance\",\n",
    "             \"DestChance\",\n",
    "             \"CarrierChance\",\n",
    "             \"TaxiIn\",\n",
    "             \"TaxiOut\",\n",
    "             \"DHOY_OriginChance\",\n",
    "             \"AHOY_DestChance\",\n",
    "             #\"OTZChance\",\n",
    "             #\"DTZChance\",\n",
    "             #\"OLtChance\",\n",
    "             #\"DLtChance\",\n",
    "             #\"OLgChance\",\n",
    "             #\"DLgChance\"\n",
    "            ]\n",
    "num_cols_dec = [\"Distance\", \"TaxiIn\", \"TaxiOut\", \"DepHourOfYearFrame\", \"ArrHourOfYearFrame\", \"AirTimeFrame\", \"PlaneChance\"]#, \"OLatitude\", \"OLongitude\", \"DLatitude\", \"DLongitude\"]\n",
    "cat_cols_dec = [\"Month\", \"DayofMonth\", \"DayOfWeek\", \"UniqueCarrier\"]\n",
    "used_cols_dec = num_cols_dec + cat_cols_dec\n",
    "clf_df = df[reg_used_cols + [\"target\"]]"
   ]
  },
  {
   "cell_type": "code",
   "execution_count": 116,
   "metadata": {},
   "outputs": [],
   "source": [
    "dec_df = pd.get_dummies(df[used_cols_dec + ['target']], columns=cat_cols_dec)"
   ]
  },
  {
   "cell_type": "code",
   "execution_count": 117,
   "metadata": {},
   "outputs": [
    {
     "data": {
      "text/plain": [
       "(3425471, 78)"
      ]
     },
     "execution_count": 117,
     "metadata": {},
     "output_type": "execute_result"
    }
   ],
   "source": [
    "dec_df.shape"
   ]
  },
  {
   "cell_type": "code",
   "execution_count": 33,
   "metadata": {},
   "outputs": [
    {
     "data": {
      "text/plain": [
       "(3425471, 14)"
      ]
     },
     "execution_count": 33,
     "metadata": {},
     "output_type": "execute_result"
    }
   ],
   "source": [
    "clf_df.shape"
   ]
  },
  {
   "cell_type": "code",
   "execution_count": 34,
   "metadata": {},
   "outputs": [
    {
     "data": {
      "text/html": [
       "<div>\n",
       "<style scoped>\n",
       "    .dataframe tbody tr th:only-of-type {\n",
       "        vertical-align: middle;\n",
       "    }\n",
       "\n",
       "    .dataframe tbody tr th {\n",
       "        vertical-align: top;\n",
       "    }\n",
       "\n",
       "    .dataframe thead th {\n",
       "        text-align: right;\n",
       "    }\n",
       "</style>\n",
       "<table border=\"1\" class=\"dataframe\">\n",
       "  <thead>\n",
       "    <tr style=\"text-align: right;\">\n",
       "      <th></th>\n",
       "      <th>AirFrameChance</th>\n",
       "      <th>DepFrameChance</th>\n",
       "      <th>ArrFrameChance</th>\n",
       "      <th>FlightChance</th>\n",
       "      <th>DHOYChance</th>\n",
       "      <th>AHOYChance</th>\n",
       "      <th>OriginChance</th>\n",
       "      <th>DestChance</th>\n",
       "      <th>CarrierChance</th>\n",
       "      <th>TaxiIn</th>\n",
       "      <th>TaxiOut</th>\n",
       "      <th>DHOY_OriginChance</th>\n",
       "      <th>AHOY_DestChance</th>\n",
       "      <th>target</th>\n",
       "    </tr>\n",
       "  </thead>\n",
       "  <tbody>\n",
       "    <tr>\n",
       "      <th>0</th>\n",
       "      <td>-0.962395</td>\n",
       "      <td>-1.143192</td>\n",
       "      <td>-1.410573</td>\n",
       "      <td>-0.922062</td>\n",
       "      <td>-0.674896</td>\n",
       "      <td>-1.020730</td>\n",
       "      <td>-1.083748</td>\n",
       "      <td>-0.985542</td>\n",
       "      <td>-0.662837</td>\n",
       "      <td>15.0</td>\n",
       "      <td>13.0</td>\n",
       "      <td>-0.798461</td>\n",
       "      <td>-0.594663</td>\n",
       "      <td>1</td>\n",
       "    </tr>\n",
       "    <tr>\n",
       "      <th>1</th>\n",
       "      <td>-0.962395</td>\n",
       "      <td>-0.490045</td>\n",
       "      <td>-0.852247</td>\n",
       "      <td>-1.380346</td>\n",
       "      <td>0.013155</td>\n",
       "      <td>-0.180414</td>\n",
       "      <td>-1.133766</td>\n",
       "      <td>-1.211719</td>\n",
       "      <td>-1.149636</td>\n",
       "      <td>9.0</td>\n",
       "      <td>24.0</td>\n",
       "      <td>11.512935</td>\n",
       "      <td>0.044492</td>\n",
       "      <td>1</td>\n",
       "    </tr>\n",
       "    <tr>\n",
       "      <th>2</th>\n",
       "      <td>-0.807715</td>\n",
       "      <td>-1.547762</td>\n",
       "      <td>-1.410573</td>\n",
       "      <td>-1.605656</td>\n",
       "      <td>-1.192654</td>\n",
       "      <td>-1.020730</td>\n",
       "      <td>-1.155126</td>\n",
       "      <td>-0.791278</td>\n",
       "      <td>-0.784018</td>\n",
       "      <td>3.0</td>\n",
       "      <td>27.0</td>\n",
       "      <td>-1.203916</td>\n",
       "      <td>-0.251274</td>\n",
       "      <td>0</td>\n",
       "    </tr>\n",
       "    <tr>\n",
       "      <th>3</th>\n",
       "      <td>-0.788335</td>\n",
       "      <td>-0.478694</td>\n",
       "      <td>-0.316832</td>\n",
       "      <td>-1.528401</td>\n",
       "      <td>0.271974</td>\n",
       "      <td>0.537776</td>\n",
       "      <td>-0.981517</td>\n",
       "      <td>-0.626491</td>\n",
       "      <td>-0.784018</td>\n",
       "      <td>6.0</td>\n",
       "      <td>8.0</td>\n",
       "      <td>11.512935</td>\n",
       "      <td>0.200711</td>\n",
       "      <td>1</td>\n",
       "    </tr>\n",
       "    <tr>\n",
       "      <th>4</th>\n",
       "      <td>-0.702679</td>\n",
       "      <td>-0.827094</td>\n",
       "      <td>-0.486438</td>\n",
       "      <td>-0.760838</td>\n",
       "      <td>0.071499</td>\n",
       "      <td>0.294755</td>\n",
       "      <td>-0.849287</td>\n",
       "      <td>-0.738721</td>\n",
       "      <td>-1.182826</td>\n",
       "      <td>9.0</td>\n",
       "      <td>21.0</td>\n",
       "      <td>-0.606092</td>\n",
       "      <td>0.044492</td>\n",
       "      <td>1</td>\n",
       "    </tr>\n",
       "  </tbody>\n",
       "</table>\n",
       "</div>"
      ],
      "text/plain": [
       "   AirFrameChance  DepFrameChance  ArrFrameChance  FlightChance  DHOYChance  \\\n",
       "0       -0.962395       -1.143192       -1.410573     -0.922062   -0.674896   \n",
       "1       -0.962395       -0.490045       -0.852247     -1.380346    0.013155   \n",
       "2       -0.807715       -1.547762       -1.410573     -1.605656   -1.192654   \n",
       "3       -0.788335       -0.478694       -0.316832     -1.528401    0.271974   \n",
       "4       -0.702679       -0.827094       -0.486438     -0.760838    0.071499   \n",
       "\n",
       "   AHOYChance  OriginChance  DestChance  CarrierChance  TaxiIn  TaxiOut  \\\n",
       "0   -1.020730     -1.083748   -0.985542      -0.662837    15.0     13.0   \n",
       "1   -0.180414     -1.133766   -1.211719      -1.149636     9.0     24.0   \n",
       "2   -1.020730     -1.155126   -0.791278      -0.784018     3.0     27.0   \n",
       "3    0.537776     -0.981517   -0.626491      -0.784018     6.0      8.0   \n",
       "4    0.294755     -0.849287   -0.738721      -1.182826     9.0     21.0   \n",
       "\n",
       "   DHOY_OriginChance  AHOY_DestChance  target  \n",
       "0          -0.798461        -0.594663       1  \n",
       "1          11.512935         0.044492       1  \n",
       "2          -1.203916        -0.251274       0  \n",
       "3          11.512935         0.200711       1  \n",
       "4          -0.606092         0.044492       1  "
      ]
     },
     "execution_count": 34,
     "metadata": {},
     "output_type": "execute_result"
    }
   ],
   "source": [
    "clf_df.head()"
   ]
  },
  {
   "cell_type": "code",
   "execution_count": 35,
   "metadata": {
    "collapsed": true
   },
   "outputs": [],
   "source": [
    "from sklearn.utils import shuffle\n",
    "shuffled_df = shuffle(clf_df)"
   ]
  },
  {
   "cell_type": "code",
   "execution_count": 36,
   "metadata": {
    "collapsed": true
   },
   "outputs": [],
   "source": [
    "labels = shuffled_df[\"target\"]\n",
    "clf_train, clf_test, label_train, label_test = model_selection.train_test_split(shuffled_df.drop(\"target\", axis=1), labels, test_size = 0.3)"
   ]
  },
  {
   "cell_type": "code",
   "execution_count": 131,
   "metadata": {},
   "outputs": [
    {
     "data": {
      "text/plain": [
       "61"
      ]
     },
     "execution_count": 131,
     "metadata": {},
     "output_type": "execute_result"
    }
   ],
   "source": [
    "gc.collect()"
   ]
  },
  {
   "cell_type": "code",
   "execution_count": 132,
   "metadata": {
    "collapsed": true
   },
   "outputs": [],
   "source": [
    "clf = linear_model.LogisticRegression()\n",
    "param_grid = {'C': [0.01, 0.1, 1, 5]}\n",
    "#clf = tree.DecisionTreeClassifier()\n",
    "#param_grid = {'max_depth': [3, 5, 7]}\n",
    "opt = model_selection.GridSearchCV(clf, param_grid, cv=3, n_jobs=2, return_train_score=True, scoring='roc_auc')"
   ]
  },
  {
   "cell_type": "code",
   "execution_count": 133,
   "metadata": {},
   "outputs": [
    {
     "name": "stdout",
     "output_type": "stream",
     "text": [
      "LogisticRegression(C=5, class_weight=None, dual=False, fit_intercept=True,\n",
      "          intercept_scaling=1, max_iter=100, multi_class='ovr', n_jobs=1,\n",
      "          penalty='l2', random_state=None, solver='liblinear', tol=0.0001,\n",
      "          verbose=0, warm_start=False)\n"
     ]
    }
   ],
   "source": [
    "opt.fit(clf_train, label_train)\n",
    "#for i, c in enumerate(opt.best_estimator_.coef_[0]):\n",
    "#    print(\"%s: %f\" % (clf_df.columns[i], c))\n",
    "print(opt.best_estimator_)"
   ]
  },
  {
   "cell_type": "code",
   "execution_count": 93,
   "metadata": {},
   "outputs": [
    {
     "name": "stdout",
     "output_type": "stream",
     "text": [
      "AirFrameChance: 0.281628\n",
      "DepFrameChance: 0.368150\n",
      "ArrFrameChance: 0.035650\n",
      "FlightChance: 0.411094\n",
      "DHOYChance: -0.178626\n",
      "AHOYChance: -0.038396\n",
      "OriginChance: -0.184910\n",
      "DestChance: -0.130914\n",
      "CarrierChance: 0.657827\n",
      "TaxiIn: -0.011807\n",
      "TaxiOut: 0.002662\n",
      "DHOY_OriginChance: 0.717115\n",
      "AHOY_DestChance: 0.614268\n",
      "OTZChance: -0.029467\n",
      "DTZChance: -0.431791\n",
      "OLtChance: -0.127126\n",
      "DLtChance: 0.014659\n",
      "OLgChance: 0.119994\n",
      "DLgChance: 0.113409\n"
     ]
    }
   ],
   "source": [
    "for i, c in enumerate(opt.best_estimator_.coef_[0]):\n",
    "    print(\"%s: %f\" % (clf_df.columns[i], c))"
   ]
  },
  {
   "cell_type": "code",
   "execution_count": 118,
   "metadata": {},
   "outputs": [
    {
     "data": {
      "text/plain": [
       "9745"
      ]
     },
     "execution_count": 118,
     "metadata": {},
     "output_type": "execute_result"
    }
   ],
   "source": [
    "gc.collect()"
   ]
  },
  {
   "cell_type": "code",
   "execution_count": 119,
   "metadata": {
    "collapsed": true
   },
   "outputs": [],
   "source": [
    "dec_train, dec_test, dec_lbl_train, dec_lbl_test = model_selection.train_test_split(\n",
    "    dec_df.drop('target', axis=1),\n",
    "    dec_df['target'], \n",
    "    test_size = 0.3\n",
    ")"
   ]
  },
  {
   "cell_type": "code",
   "execution_count": 120,
   "metadata": {
    "collapsed": true
   },
   "outputs": [],
   "source": [
    "dec = ensemble.RandomForestClassifier(n_estimators=100, n_jobs=4)"
   ]
  },
  {
   "cell_type": "code",
   "execution_count": 121,
   "metadata": {},
   "outputs": [
    {
     "ename": "JoblibMemoryError",
     "evalue": "JoblibMemoryError\n___________________________________________________________________________\nMultiprocessing exception:\n...........................................................................\nD:\\Anaconda3\\lib\\runpy.py in _run_module_as_main(mod_name='ipykernel_launcher', alter_argv=1)\n    188         sys.exit(msg)\n    189     main_globals = sys.modules[\"__main__\"].__dict__\n    190     if alter_argv:\n    191         sys.argv[0] = mod_spec.origin\n    192     return _run_code(code, main_globals, None,\n--> 193                      \"__main__\", mod_spec)\n        mod_spec = ModuleSpec(name='ipykernel_launcher', loader=<_f...nda3\\\\lib\\\\site-packages\\\\ipykernel_launcher.py')\n    194 \n    195 def run_module(mod_name, init_globals=None,\n    196                run_name=None, alter_sys=False):\n    197     \"\"\"Execute a module's code without importing it\n\n...........................................................................\nD:\\Anaconda3\\lib\\runpy.py in _run_code(code=<code object <module> at 0x0000021EAE43A8A0, fil...lib\\site-packages\\ipykernel_launcher.py\", line 5>, run_globals={'__annotations__': {}, '__builtins__': <module 'builtins' (built-in)>, '__cached__': r'D:\\Anaconda3\\lib\\site-packages\\__pycache__\\ipykernel_launcher.cpython-36.pyc', '__doc__': 'Entry point for launching an IPython kernel.\\n\\nTh...orts until\\nafter removing the cwd from sys.path.\\n', '__file__': r'D:\\Anaconda3\\lib\\site-packages\\ipykernel_launcher.py', '__loader__': <_frozen_importlib_external.SourceFileLoader object>, '__name__': '__main__', '__package__': '', '__spec__': ModuleSpec(name='ipykernel_launcher', loader=<_f...nda3\\\\lib\\\\site-packages\\\\ipykernel_launcher.py'), 'app': <module 'ipykernel.kernelapp' from 'D:\\\\Anaconda3\\\\lib\\\\site-packages\\\\ipykernel\\\\kernelapp.py'>, ...}, init_globals=None, mod_name='__main__', mod_spec=ModuleSpec(name='ipykernel_launcher', loader=<_f...nda3\\\\lib\\\\site-packages\\\\ipykernel_launcher.py'), pkg_name='', script_name=None)\n     80                        __cached__ = cached,\n     81                        __doc__ = None,\n     82                        __loader__ = loader,\n     83                        __package__ = pkg_name,\n     84                        __spec__ = mod_spec)\n---> 85     exec(code, run_globals)\n        code = <code object <module> at 0x0000021EAE43A8A0, fil...lib\\site-packages\\ipykernel_launcher.py\", line 5>\n        run_globals = {'__annotations__': {}, '__builtins__': <module 'builtins' (built-in)>, '__cached__': r'D:\\Anaconda3\\lib\\site-packages\\__pycache__\\ipykernel_launcher.cpython-36.pyc', '__doc__': 'Entry point for launching an IPython kernel.\\n\\nTh...orts until\\nafter removing the cwd from sys.path.\\n', '__file__': r'D:\\Anaconda3\\lib\\site-packages\\ipykernel_launcher.py', '__loader__': <_frozen_importlib_external.SourceFileLoader object>, '__name__': '__main__', '__package__': '', '__spec__': ModuleSpec(name='ipykernel_launcher', loader=<_f...nda3\\\\lib\\\\site-packages\\\\ipykernel_launcher.py'), 'app': <module 'ipykernel.kernelapp' from 'D:\\\\Anaconda3\\\\lib\\\\site-packages\\\\ipykernel\\\\kernelapp.py'>, ...}\n     86     return run_globals\n     87 \n     88 def _run_module_code(code, init_globals=None,\n     89                     mod_name=None, mod_spec=None,\n\n...........................................................................\nD:\\Anaconda3\\lib\\site-packages\\ipykernel_launcher.py in <module>()\n     11     # This is added back by InteractiveShellApp.init_path()\n     12     if sys.path[0] == '':\n     13         del sys.path[0]\n     14 \n     15     from ipykernel import kernelapp as app\n---> 16     app.launch_new_instance()\n\n...........................................................................\nD:\\Anaconda3\\lib\\site-packages\\traitlets\\config\\application.py in launch_instance(cls=<class 'ipykernel.kernelapp.IPKernelApp'>, argv=None, **kwargs={})\n    653 \n    654         If a global instance already exists, this reinitializes and starts it\n    655         \"\"\"\n    656         app = cls.instance(**kwargs)\n    657         app.initialize(argv)\n--> 658         app.start()\n        app.start = <bound method IPKernelApp.start of <ipykernel.kernelapp.IPKernelApp object>>\n    659 \n    660 #-----------------------------------------------------------------------------\n    661 # utility functions, for convenience\n    662 #-----------------------------------------------------------------------------\n\n...........................................................................\nD:\\Anaconda3\\lib\\site-packages\\ipykernel\\kernelapp.py in start(self=<ipykernel.kernelapp.IPKernelApp object>)\n    472             return self.subapp.start()\n    473         if self.poller is not None:\n    474             self.poller.start()\n    475         self.kernel.start()\n    476         try:\n--> 477             ioloop.IOLoop.instance().start()\n    478         except KeyboardInterrupt:\n    479             pass\n    480 \n    481 launch_new_instance = IPKernelApp.launch_instance\n\n...........................................................................\nD:\\Anaconda3\\lib\\site-packages\\zmq\\eventloop\\ioloop.py in start(self=<zmq.eventloop.ioloop.ZMQIOLoop object>)\n    172             )\n    173         return loop\n    174     \n    175     def start(self):\n    176         try:\n--> 177             super(ZMQIOLoop, self).start()\n        self.start = <bound method ZMQIOLoop.start of <zmq.eventloop.ioloop.ZMQIOLoop object>>\n    178         except ZMQError as e:\n    179             if e.errno == ETERM:\n    180                 # quietly return on ETERM\n    181                 pass\n\n...........................................................................\nD:\\Anaconda3\\lib\\site-packages\\tornado\\ioloop.py in start(self=<zmq.eventloop.ioloop.ZMQIOLoop object>)\n    883                 self._events.update(event_pairs)\n    884                 while self._events:\n    885                     fd, events = self._events.popitem()\n    886                     try:\n    887                         fd_obj, handler_func = self._handlers[fd]\n--> 888                         handler_func(fd_obj, events)\n        handler_func = <function wrap.<locals>.null_wrapper>\n        fd_obj = <zmq.sugar.socket.Socket object>\n        events = 1\n    889                     except (OSError, IOError) as e:\n    890                         if errno_from_exception(e) == errno.EPIPE:\n    891                             # Happens when the client closes the connection\n    892                             pass\n\n...........................................................................\nD:\\Anaconda3\\lib\\site-packages\\tornado\\stack_context.py in null_wrapper(*args=(<zmq.sugar.socket.Socket object>, 1), **kwargs={})\n    272         # Fast path when there are no active contexts.\n    273         def null_wrapper(*args, **kwargs):\n    274             try:\n    275                 current_state = _state.contexts\n    276                 _state.contexts = cap_contexts[0]\n--> 277                 return fn(*args, **kwargs)\n        args = (<zmq.sugar.socket.Socket object>, 1)\n        kwargs = {}\n    278             finally:\n    279                 _state.contexts = current_state\n    280         null_wrapper._wrapped = True\n    281         return null_wrapper\n\n...........................................................................\nD:\\Anaconda3\\lib\\site-packages\\zmq\\eventloop\\zmqstream.py in _handle_events(self=<zmq.eventloop.zmqstream.ZMQStream object>, fd=<zmq.sugar.socket.Socket object>, events=1)\n    435             # dispatch events:\n    436             if events & IOLoop.ERROR:\n    437                 gen_log.error(\"got POLLERR event on ZMQStream, which doesn't make sense\")\n    438                 return\n    439             if events & IOLoop.READ:\n--> 440                 self._handle_recv()\n        self._handle_recv = <bound method ZMQStream._handle_recv of <zmq.eventloop.zmqstream.ZMQStream object>>\n    441                 if not self.socket:\n    442                     return\n    443             if events & IOLoop.WRITE:\n    444                 self._handle_send()\n\n...........................................................................\nD:\\Anaconda3\\lib\\site-packages\\zmq\\eventloop\\zmqstream.py in _handle_recv(self=<zmq.eventloop.zmqstream.ZMQStream object>)\n    467                 gen_log.error(\"RECV Error: %s\"%zmq.strerror(e.errno))\n    468         else:\n    469             if self._recv_callback:\n    470                 callback = self._recv_callback\n    471                 # self._recv_callback = None\n--> 472                 self._run_callback(callback, msg)\n        self._run_callback = <bound method ZMQStream._run_callback of <zmq.eventloop.zmqstream.ZMQStream object>>\n        callback = <function wrap.<locals>.null_wrapper>\n        msg = [<zmq.sugar.frame.Frame object>, <zmq.sugar.frame.Frame object>, <zmq.sugar.frame.Frame object>, <zmq.sugar.frame.Frame object>, <zmq.sugar.frame.Frame object>, <zmq.sugar.frame.Frame object>, <zmq.sugar.frame.Frame object>]\n    473                 \n    474         # self.update_state()\n    475         \n    476 \n\n...........................................................................\nD:\\Anaconda3\\lib\\site-packages\\zmq\\eventloop\\zmqstream.py in _run_callback(self=<zmq.eventloop.zmqstream.ZMQStream object>, callback=<function wrap.<locals>.null_wrapper>, *args=([<zmq.sugar.frame.Frame object>, <zmq.sugar.frame.Frame object>, <zmq.sugar.frame.Frame object>, <zmq.sugar.frame.Frame object>, <zmq.sugar.frame.Frame object>, <zmq.sugar.frame.Frame object>, <zmq.sugar.frame.Frame object>],), **kwargs={})\n    409         close our socket.\"\"\"\n    410         try:\n    411             # Use a NullContext to ensure that all StackContexts are run\n    412             # inside our blanket exception handler rather than outside.\n    413             with stack_context.NullContext():\n--> 414                 callback(*args, **kwargs)\n        callback = <function wrap.<locals>.null_wrapper>\n        args = ([<zmq.sugar.frame.Frame object>, <zmq.sugar.frame.Frame object>, <zmq.sugar.frame.Frame object>, <zmq.sugar.frame.Frame object>, <zmq.sugar.frame.Frame object>, <zmq.sugar.frame.Frame object>, <zmq.sugar.frame.Frame object>],)\n        kwargs = {}\n    415         except:\n    416             gen_log.error(\"Uncaught exception, closing connection.\",\n    417                           exc_info=True)\n    418             # Close the socket on an uncaught exception from a user callback\n\n...........................................................................\nD:\\Anaconda3\\lib\\site-packages\\tornado\\stack_context.py in null_wrapper(*args=([<zmq.sugar.frame.Frame object>, <zmq.sugar.frame.Frame object>, <zmq.sugar.frame.Frame object>, <zmq.sugar.frame.Frame object>, <zmq.sugar.frame.Frame object>, <zmq.sugar.frame.Frame object>, <zmq.sugar.frame.Frame object>],), **kwargs={})\n    272         # Fast path when there are no active contexts.\n    273         def null_wrapper(*args, **kwargs):\n    274             try:\n    275                 current_state = _state.contexts\n    276                 _state.contexts = cap_contexts[0]\n--> 277                 return fn(*args, **kwargs)\n        args = ([<zmq.sugar.frame.Frame object>, <zmq.sugar.frame.Frame object>, <zmq.sugar.frame.Frame object>, <zmq.sugar.frame.Frame object>, <zmq.sugar.frame.Frame object>, <zmq.sugar.frame.Frame object>, <zmq.sugar.frame.Frame object>],)\n        kwargs = {}\n    278             finally:\n    279                 _state.contexts = current_state\n    280         null_wrapper._wrapped = True\n    281         return null_wrapper\n\n...........................................................................\nD:\\Anaconda3\\lib\\site-packages\\ipykernel\\kernelbase.py in dispatcher(msg=[<zmq.sugar.frame.Frame object>, <zmq.sugar.frame.Frame object>, <zmq.sugar.frame.Frame object>, <zmq.sugar.frame.Frame object>, <zmq.sugar.frame.Frame object>, <zmq.sugar.frame.Frame object>, <zmq.sugar.frame.Frame object>])\n    278         if self.control_stream:\n    279             self.control_stream.on_recv(self.dispatch_control, copy=False)\n    280 \n    281         def make_dispatcher(stream):\n    282             def dispatcher(msg):\n--> 283                 return self.dispatch_shell(stream, msg)\n        msg = [<zmq.sugar.frame.Frame object>, <zmq.sugar.frame.Frame object>, <zmq.sugar.frame.Frame object>, <zmq.sugar.frame.Frame object>, <zmq.sugar.frame.Frame object>, <zmq.sugar.frame.Frame object>, <zmq.sugar.frame.Frame object>]\n    284             return dispatcher\n    285 \n    286         for s in self.shell_streams:\n    287             s.on_recv(make_dispatcher(s), copy=False)\n\n...........................................................................\nD:\\Anaconda3\\lib\\site-packages\\ipykernel\\kernelbase.py in dispatch_shell(self=<ipykernel.ipkernel.IPythonKernel object>, stream=<zmq.eventloop.zmqstream.ZMQStream object>, msg={'buffers': [], 'content': {'allow_stdin': True, 'code': 'dec.fit(dec_train, dec_lbl_train)', 'silent': False, 'stop_on_error': True, 'store_history': True, 'user_expressions': {}}, 'header': {'date': datetime.datetime(2018, 2, 25, 16, 7, 14, 40753, tzinfo=tzutc()), 'msg_id': '8EB26D924277408A809B3D13604B038A', 'msg_type': 'execute_request', 'session': 'DF085DBAFCCD4BF788D697A533FCAF3B', 'username': 'username', 'version': '5.0'}, 'metadata': {}, 'msg_id': '8EB26D924277408A809B3D13604B038A', 'msg_type': 'execute_request', 'parent_header': {}})\n    230             self.log.warn(\"Unknown message type: %r\", msg_type)\n    231         else:\n    232             self.log.debug(\"%s: %s\", msg_type, msg)\n    233             self.pre_handler_hook()\n    234             try:\n--> 235                 handler(stream, idents, msg)\n        handler = <bound method Kernel.execute_request of <ipykernel.ipkernel.IPythonKernel object>>\n        stream = <zmq.eventloop.zmqstream.ZMQStream object>\n        idents = [b'DF085DBAFCCD4BF788D697A533FCAF3B']\n        msg = {'buffers': [], 'content': {'allow_stdin': True, 'code': 'dec.fit(dec_train, dec_lbl_train)', 'silent': False, 'stop_on_error': True, 'store_history': True, 'user_expressions': {}}, 'header': {'date': datetime.datetime(2018, 2, 25, 16, 7, 14, 40753, tzinfo=tzutc()), 'msg_id': '8EB26D924277408A809B3D13604B038A', 'msg_type': 'execute_request', 'session': 'DF085DBAFCCD4BF788D697A533FCAF3B', 'username': 'username', 'version': '5.0'}, 'metadata': {}, 'msg_id': '8EB26D924277408A809B3D13604B038A', 'msg_type': 'execute_request', 'parent_header': {}}\n    236             except Exception:\n    237                 self.log.error(\"Exception in message handler:\", exc_info=True)\n    238             finally:\n    239                 self.post_handler_hook()\n\n...........................................................................\nD:\\Anaconda3\\lib\\site-packages\\ipykernel\\kernelbase.py in execute_request(self=<ipykernel.ipkernel.IPythonKernel object>, stream=<zmq.eventloop.zmqstream.ZMQStream object>, ident=[b'DF085DBAFCCD4BF788D697A533FCAF3B'], parent={'buffers': [], 'content': {'allow_stdin': True, 'code': 'dec.fit(dec_train, dec_lbl_train)', 'silent': False, 'stop_on_error': True, 'store_history': True, 'user_expressions': {}}, 'header': {'date': datetime.datetime(2018, 2, 25, 16, 7, 14, 40753, tzinfo=tzutc()), 'msg_id': '8EB26D924277408A809B3D13604B038A', 'msg_type': 'execute_request', 'session': 'DF085DBAFCCD4BF788D697A533FCAF3B', 'username': 'username', 'version': '5.0'}, 'metadata': {}, 'msg_id': '8EB26D924277408A809B3D13604B038A', 'msg_type': 'execute_request', 'parent_header': {}})\n    394         if not silent:\n    395             self.execution_count += 1\n    396             self._publish_execute_input(code, parent, self.execution_count)\n    397 \n    398         reply_content = self.do_execute(code, silent, store_history,\n--> 399                                         user_expressions, allow_stdin)\n        user_expressions = {}\n        allow_stdin = True\n    400 \n    401         # Flush output before sending the reply.\n    402         sys.stdout.flush()\n    403         sys.stderr.flush()\n\n...........................................................................\nD:\\Anaconda3\\lib\\site-packages\\ipykernel\\ipkernel.py in do_execute(self=<ipykernel.ipkernel.IPythonKernel object>, code='dec.fit(dec_train, dec_lbl_train)', silent=False, store_history=True, user_expressions={}, allow_stdin=True)\n    191 \n    192         self._forward_input(allow_stdin)\n    193 \n    194         reply_content = {}\n    195         try:\n--> 196             res = shell.run_cell(code, store_history=store_history, silent=silent)\n        res = undefined\n        shell.run_cell = <bound method ZMQInteractiveShell.run_cell of <ipykernel.zmqshell.ZMQInteractiveShell object>>\n        code = 'dec.fit(dec_train, dec_lbl_train)'\n        store_history = True\n        silent = False\n    197         finally:\n    198             self._restore_input()\n    199 \n    200         if res.error_before_exec is not None:\n\n...........................................................................\nD:\\Anaconda3\\lib\\site-packages\\ipykernel\\zmqshell.py in run_cell(self=<ipykernel.zmqshell.ZMQInteractiveShell object>, *args=('dec.fit(dec_train, dec_lbl_train)',), **kwargs={'silent': False, 'store_history': True})\n    528             )\n    529         self.payload_manager.write_payload(payload)\n    530 \n    531     def run_cell(self, *args, **kwargs):\n    532         self._last_traceback = None\n--> 533         return super(ZMQInteractiveShell, self).run_cell(*args, **kwargs)\n        self.run_cell = <bound method ZMQInteractiveShell.run_cell of <ipykernel.zmqshell.ZMQInteractiveShell object>>\n        args = ('dec.fit(dec_train, dec_lbl_train)',)\n        kwargs = {'silent': False, 'store_history': True}\n    534 \n    535     def _showtraceback(self, etype, evalue, stb):\n    536         # try to preserve ordering of tracebacks and print statements\n    537         sys.stdout.flush()\n\n...........................................................................\nD:\\Anaconda3\\lib\\site-packages\\IPython\\core\\interactiveshell.py in run_cell(self=<ipykernel.zmqshell.ZMQInteractiveShell object>, raw_cell='dec.fit(dec_train, dec_lbl_train)', store_history=True, silent=False, shell_futures=True)\n   2693                 self.displayhook.exec_result = result\n   2694 \n   2695                 # Execute the user code\n   2696                 interactivity = \"none\" if silent else self.ast_node_interactivity\n   2697                 has_raised = self.run_ast_nodes(code_ast.body, cell_name,\n-> 2698                    interactivity=interactivity, compiler=compiler, result=result)\n        interactivity = 'last_expr'\n        compiler = <IPython.core.compilerop.CachingCompiler object>\n   2699                 \n   2700                 self.last_execution_succeeded = not has_raised\n   2701 \n   2702                 # Reset this so later displayed values do not modify the\n\n...........................................................................\nD:\\Anaconda3\\lib\\site-packages\\IPython\\core\\interactiveshell.py in run_ast_nodes(self=<ipykernel.zmqshell.ZMQInteractiveShell object>, nodelist=[<_ast.Expr object>], cell_name='<ipython-input-121-1a22d227b011>', interactivity='last', compiler=<IPython.core.compilerop.CachingCompiler object>, result=<ExecutionResult object at 21e87d70358, executio..._before_exec=None error_in_exec=None result=None>)\n   2803                     return True\n   2804 \n   2805             for i, node in enumerate(to_run_interactive):\n   2806                 mod = ast.Interactive([node])\n   2807                 code = compiler(mod, cell_name, \"single\")\n-> 2808                 if self.run_code(code, result):\n        self.run_code = <bound method InteractiveShell.run_code of <ipykernel.zmqshell.ZMQInteractiveShell object>>\n        code = <code object <module> at 0x0000021E873B15D0, file \"<ipython-input-121-1a22d227b011>\", line 1>\n        result = <ExecutionResult object at 21e87d70358, executio..._before_exec=None error_in_exec=None result=None>\n   2809                     return True\n   2810 \n   2811             # Flush softspace\n   2812             if softspace(sys.stdout, 0):\n\n...........................................................................\nD:\\Anaconda3\\lib\\site-packages\\IPython\\core\\interactiveshell.py in run_code(self=<ipykernel.zmqshell.ZMQInteractiveShell object>, code_obj=<code object <module> at 0x0000021E873B15D0, file \"<ipython-input-121-1a22d227b011>\", line 1>, result=<ExecutionResult object at 21e87d70358, executio..._before_exec=None error_in_exec=None result=None>)\n   2857         outflag = True  # happens in more places, so it's easier as default\n   2858         try:\n   2859             try:\n   2860                 self.hooks.pre_run_code_hook()\n   2861                 #rprint('Running code', repr(code_obj)) # dbg\n-> 2862                 exec(code_obj, self.user_global_ns, self.user_ns)\n        code_obj = <code object <module> at 0x0000021E873B15D0, file \"<ipython-input-121-1a22d227b011>\", line 1>\n        self.user_global_ns = {'In': ['', \"import pandas as pd\\nimport numpy as np\\nimport ma....magic('matplotlib inline')\\nimport gc\\nimport json\", 'def daysInMonth(x):\\n    return 28 + ((x + math.f...H\"])\\n    frame[minutes] = t.map(lambda t: t[\"M\"])', 'df = pd.read_csv(\"train_dataset.csv\")\\ndf.head()', 'df = df.dropna()\\ndf = df.drop(df[df[\"AirTime\"] == 0].index)', 'df = dropRare(df, \"FlightNum\", 20)\\ndf = dropRare(df, \"Dest\", 5)\\ndf = dropRare(df, \"Origin\", 5)', 'df[\"DayOfYear\"] = df.apply(lambda x: getDaysFromYearStart(x[\"Month\"], x[\"DayofMonth\"]), axis=1)', 'df[\"AirTimeFrame\"] = df[\"AirTime\"].map(lambda x: math.log((x // 30) + 1, 10))', 'reclass_time(df, \"DepTime\", \"DepHour\", \"DepMinut...r\"] = df[\"DayOfYear\"] * 24 - (24 - df[\"DepHour\"])', 'reclass_time(df, \"ArrTime\", \"ArrHour\", \"ArrMinut...r\"] = df[\"DayOfYear\"] * 24 - (24 - df[\"ArrHour\"])', 'df[\"DistanceFrame\"] = df[\"Distance\"].map(lambda x: math.log((x // 30) + 1, 2))', 'gc.collect()\\ndf[\"DepHourOfYearFrame\"] = df[\"DepH... on=[\\'DepHourOfYearFrame\\', \\'Origin\\'], how=\\'left\\')', 'gc.collect()\\ndf[\"ArrHourOfYearFrame\"] = df[\"ArrH...n, on=[\\'ArrHourOfYearFrame\\', \\'Dest\\'], how=\\'left\\')', 'gc.collect()', 'with open(\\'../airport_info.json\\', \\'r\\') as data_f...est\"].map(lambda x: airport_data[x][\\'Longitude\\'])', 'with open(\\'airport_info.json\\', \\'r\\') as data_file...est\"].map(lambda x: airport_data[x][\\'Longitude\\'])', 'df[\"OTimeZone\"] = df[\"OTimeZone\"].map(lambda x: ...[\"DTimeZone\"].map(lambda x: int(x.split(\\':\\')[0]))', 'df[\"OLtFrame\"] = df[\"OLatitude\"].astype(\\'float\\')...] = df[\"DLongitude\"].astype(\\'float\\').agg(\\'floor\\')', 'df.columns', 'df.head()', ...], 'Out': {3:    Month  DayofMonth  DayOfWeek  DepTime  ArrTim...    PHX  FLL      1972     9.0     21.0       1  , 13: 49, 18: Index(['Month', 'DayofMonth', 'DayOfWeek', 'DepT...', 'OLgFrame', 'DLgFrame'],\n      dtype='object'), 19:    Month  DayofMonth  DayOfWeek  DepTime  ArrTim...26.0    -113.0     -81.0  \n\n[5 rows x 42 columns], 20: 160, 25:    Month  DayofMonth  DayOfWeek  DepTime  ArrTim...\n4  -0.870296  -0.894521  \n\n[5 rows x 58 columns], 26: 66, 30: (3425471, 78), 33: (3425471, 14), 34:    AirFrameChance  DepFrameChance  ArrFrameChanc... \n4          -0.606092         0.044492       1  , ...}, '_': array([  2.00000000e+00,   1.00000000e+00,   9.9...0000000e-03,   1.42857143e-03,   0.00000000e+00]), '_100':          Distance  TaxiIn  TaxiOut   OLatitude  ...1014                   0  \n\n[5 rows x 77 columns], '_101': 3253692    1\n982601     0\n240487     0\n138436     0\n3034898    0\nName: target, dtype: int64, '_104':          Distance  TaxiIn  TaxiOut   OLatitude  ...632817                 0  \n\n[5 rows x 77 columns], '_105': 1, '_106': 1246854    1\n942626     0\n3076396    0\n1434247    1\n2632817    0\nName: target, dtype: int64, '_108': RandomForestClassifier(bootstrap=True, class_wei...te=None, verbose=0,\n            warm_start=False), '_110': (1027642, 2), ...}\n        self.user_ns = {'In': ['', \"import pandas as pd\\nimport numpy as np\\nimport ma....magic('matplotlib inline')\\nimport gc\\nimport json\", 'def daysInMonth(x):\\n    return 28 + ((x + math.f...H\"])\\n    frame[minutes] = t.map(lambda t: t[\"M\"])', 'df = pd.read_csv(\"train_dataset.csv\")\\ndf.head()', 'df = df.dropna()\\ndf = df.drop(df[df[\"AirTime\"] == 0].index)', 'df = dropRare(df, \"FlightNum\", 20)\\ndf = dropRare(df, \"Dest\", 5)\\ndf = dropRare(df, \"Origin\", 5)', 'df[\"DayOfYear\"] = df.apply(lambda x: getDaysFromYearStart(x[\"Month\"], x[\"DayofMonth\"]), axis=1)', 'df[\"AirTimeFrame\"] = df[\"AirTime\"].map(lambda x: math.log((x // 30) + 1, 10))', 'reclass_time(df, \"DepTime\", \"DepHour\", \"DepMinut...r\"] = df[\"DayOfYear\"] * 24 - (24 - df[\"DepHour\"])', 'reclass_time(df, \"ArrTime\", \"ArrHour\", \"ArrMinut...r\"] = df[\"DayOfYear\"] * 24 - (24 - df[\"ArrHour\"])', 'df[\"DistanceFrame\"] = df[\"Distance\"].map(lambda x: math.log((x // 30) + 1, 2))', 'gc.collect()\\ndf[\"DepHourOfYearFrame\"] = df[\"DepH... on=[\\'DepHourOfYearFrame\\', \\'Origin\\'], how=\\'left\\')', 'gc.collect()\\ndf[\"ArrHourOfYearFrame\"] = df[\"ArrH...n, on=[\\'ArrHourOfYearFrame\\', \\'Dest\\'], how=\\'left\\')', 'gc.collect()', 'with open(\\'../airport_info.json\\', \\'r\\') as data_f...est\"].map(lambda x: airport_data[x][\\'Longitude\\'])', 'with open(\\'airport_info.json\\', \\'r\\') as data_file...est\"].map(lambda x: airport_data[x][\\'Longitude\\'])', 'df[\"OTimeZone\"] = df[\"OTimeZone\"].map(lambda x: ...[\"DTimeZone\"].map(lambda x: int(x.split(\\':\\')[0]))', 'df[\"OLtFrame\"] = df[\"OLatitude\"].astype(\\'float\\')...] = df[\"DLongitude\"].astype(\\'float\\').agg(\\'floor\\')', 'df.columns', 'df.head()', ...], 'Out': {3:    Month  DayofMonth  DayOfWeek  DepTime  ArrTim...    PHX  FLL      1972     9.0     21.0       1  , 13: 49, 18: Index(['Month', 'DayofMonth', 'DayOfWeek', 'DepT...', 'OLgFrame', 'DLgFrame'],\n      dtype='object'), 19:    Month  DayofMonth  DayOfWeek  DepTime  ArrTim...26.0    -113.0     -81.0  \n\n[5 rows x 42 columns], 20: 160, 25:    Month  DayofMonth  DayOfWeek  DepTime  ArrTim...\n4  -0.870296  -0.894521  \n\n[5 rows x 58 columns], 26: 66, 30: (3425471, 78), 33: (3425471, 14), 34:    AirFrameChance  DepFrameChance  ArrFrameChanc... \n4          -0.606092         0.044492       1  , ...}, '_': array([  2.00000000e+00,   1.00000000e+00,   9.9...0000000e-03,   1.42857143e-03,   0.00000000e+00]), '_100':          Distance  TaxiIn  TaxiOut   OLatitude  ...1014                   0  \n\n[5 rows x 77 columns], '_101': 3253692    1\n982601     0\n240487     0\n138436     0\n3034898    0\nName: target, dtype: int64, '_104':          Distance  TaxiIn  TaxiOut   OLatitude  ...632817                 0  \n\n[5 rows x 77 columns], '_105': 1, '_106': 1246854    1\n942626     0\n3076396    0\n1434247    1\n2632817    0\nName: target, dtype: int64, '_108': RandomForestClassifier(bootstrap=True, class_wei...te=None, verbose=0,\n            warm_start=False), '_110': (1027642, 2), ...}\n   2863             finally:\n   2864                 # Reset our crash handler in place\n   2865                 sys.excepthook = old_excepthook\n   2866         except SystemExit as e:\n\n...........................................................................\nC:\\Users\\Игорь\\banana-ml\\bfd\\<ipython-input-121-1a22d227b011> in <module>()\n----> 1 dec.fit(dec_train, dec_lbl_train)\n\n...........................................................................\nD:\\Anaconda3\\lib\\site-packages\\sklearn\\ensemble\\forest.py in fit(self=RandomForestClassifier(bootstrap=True, class_wei...te=None, verbose=0,\n            warm_start=False), X=array([[  1.10000000e+02,   6.00000000e+00,   1.....00000000e+00,   0.00000000e+00]], dtype=float32), y=array([[ 0.],\n       [ 0.],\n       [ 0.],\n       ..., \n       [ 0.],\n       [ 0.],\n       [ 0.]]), sample_weight=None)\n    322             trees = Parallel(n_jobs=self.n_jobs, verbose=self.verbose,\n    323                              backend=\"threading\")(\n    324                 delayed(_parallel_build_trees)(\n    325                     t, self, X, y, sample_weight, i, len(trees),\n    326                     verbose=self.verbose, class_weight=self.class_weight)\n--> 327                 for i, t in enumerate(trees))\n        i = 99\n    328 \n    329             # Collect newly grown trees\n    330             self.estimators_.extend(trees)\n    331 \n\n...........................................................................\nD:\\Anaconda3\\lib\\site-packages\\sklearn\\externals\\joblib\\parallel.py in __call__(self=Parallel(n_jobs=4), iterable=<generator object BaseForest.fit.<locals>.<genexpr>>)\n    784             if pre_dispatch == \"all\" or n_jobs == 1:\n    785                 # The iterable was consumed all at once by the above for loop.\n    786                 # No need to wait for async callbacks to trigger to\n    787                 # consumption.\n    788                 self._iterating = False\n--> 789             self.retrieve()\n        self.retrieve = <bound method Parallel.retrieve of Parallel(n_jobs=4)>\n    790             # Make sure that we get a last message telling us we are done\n    791             elapsed_time = time.time() - self._start_time\n    792             self._print('Done %3i out of %3i | elapsed: %s finished',\n    793                         (len(self._output), len(self._output),\n\n---------------------------------------------------------------------------\nSub-process traceback:\n---------------------------------------------------------------------------\nMemoryError                                        Sun Feb 25 19:13:14 2018\nPID: 9436                             Python 3.6.2: D:\\Anaconda3\\python.exe\n...........................................................................\nD:\\Anaconda3\\lib\\site-packages\\sklearn\\externals\\joblib\\parallel.py in __call__(self=<sklearn.externals.joblib.parallel.BatchedCalls object>)\n    126     def __init__(self, iterator_slice):\n    127         self.items = list(iterator_slice)\n    128         self._size = len(self.items)\n    129 \n    130     def __call__(self):\n--> 131         return [func(*args, **kwargs) for func, args, kwargs in self.items]\n        self.items = [(<function _parallel_build_trees>, (DecisionTreeClassifier(class_weight=None, criter...         random_state=702015876, splitter='best'), RandomForestClassifier(bootstrap=True, class_wei...te=None, verbose=0,\n            warm_start=False), array([[  1.10000000e+02,   6.00000000e+00,   1.....00000000e+00,   0.00000000e+00]], dtype=float32), array([[ 0.],\n       [ 0.],\n       [ 0.],\n       ..., \n       [ 0.],\n       [ 0.],\n       [ 0.]]), None, 68, 100), {'class_weight': None, 'verbose': 0})]\n    132 \n    133     def __len__(self):\n    134         return self._size\n    135 \n\n...........................................................................\nD:\\Anaconda3\\lib\\site-packages\\sklearn\\externals\\joblib\\parallel.py in <listcomp>(.0=<list_iterator object>)\n    126     def __init__(self, iterator_slice):\n    127         self.items = list(iterator_slice)\n    128         self._size = len(self.items)\n    129 \n    130     def __call__(self):\n--> 131         return [func(*args, **kwargs) for func, args, kwargs in self.items]\n        func = <function _parallel_build_trees>\n        args = (DecisionTreeClassifier(class_weight=None, criter...         random_state=702015876, splitter='best'), RandomForestClassifier(bootstrap=True, class_wei...te=None, verbose=0,\n            warm_start=False), array([[  1.10000000e+02,   6.00000000e+00,   1.....00000000e+00,   0.00000000e+00]], dtype=float32), array([[ 0.],\n       [ 0.],\n       [ 0.],\n       ..., \n       [ 0.],\n       [ 0.],\n       [ 0.]]), None, 68, 100)\n        kwargs = {'class_weight': None, 'verbose': 0}\n    132 \n    133     def __len__(self):\n    134         return self._size\n    135 \n\n...........................................................................\nD:\\Anaconda3\\lib\\site-packages\\sklearn\\ensemble\\forest.py in _parallel_build_trees(tree=DecisionTreeClassifier(class_weight=None, criter...         random_state=702015876, splitter='best'), forest=RandomForestClassifier(bootstrap=True, class_wei...te=None, verbose=0,\n            warm_start=False), X=array([[  1.10000000e+02,   6.00000000e+00,   1.....00000000e+00,   0.00000000e+00]], dtype=float32), y=array([[ 0.],\n       [ 0.],\n       [ 0.],\n       ..., \n       [ 0.],\n       [ 0.],\n       [ 0.]]), sample_weight=None, tree_idx=68, n_trees=100, verbose=0, class_weight=None)\n    115                 warnings.simplefilter('ignore', DeprecationWarning)\n    116                 curr_sample_weight *= compute_sample_weight('auto', y, indices)\n    117         elif class_weight == 'balanced_subsample':\n    118             curr_sample_weight *= compute_sample_weight('balanced', y, indices)\n    119 \n--> 120         tree.fit(X, y, sample_weight=curr_sample_weight, check_input=False)\n        tree.fit = <bound method DecisionTreeClassifier.fit of Deci...        random_state=702015876, splitter='best')>\n        X = array([[  1.10000000e+02,   6.00000000e+00,   1.....00000000e+00,   0.00000000e+00]], dtype=float32)\n        y = array([[ 0.],\n       [ 0.],\n       [ 0.],\n       ..., \n       [ 0.],\n       [ 0.],\n       [ 0.]])\n        sample_weight = None\n        curr_sample_weight = array([ 0.,  1.,  0., ...,  1.,  1.,  0.])\n    121     else:\n    122         tree.fit(X, y, sample_weight=sample_weight, check_input=False)\n    123 \n    124     return tree\n\n...........................................................................\nD:\\Anaconda3\\lib\\site-packages\\sklearn\\tree\\tree.py in fit(self=DecisionTreeClassifier(class_weight=None, criter...         random_state=702015876, splitter='best'), X=array([[  1.10000000e+02,   6.00000000e+00,   1.....00000000e+00,   0.00000000e+00]], dtype=float32), y=array([[ 0.],\n       [ 0.],\n       [ 0.],\n       ..., \n       [ 0.],\n       [ 0.],\n       [ 0.]]), sample_weight=array([ 0.,  1.,  0., ...,  1.,  1.,  0.]), check_input=False, X_idx_sorted=None)\n    785 \n    786         super(DecisionTreeClassifier, self).fit(\n    787             X, y,\n    788             sample_weight=sample_weight,\n    789             check_input=check_input,\n--> 790             X_idx_sorted=X_idx_sorted)\n        X_idx_sorted = None\n    791         return self\n    792 \n    793     def predict_proba(self, X, check_input=True):\n    794         \"\"\"Predict class probabilities of the input samples X.\n\n...........................................................................\nD:\\Anaconda3\\lib\\site-packages\\sklearn\\tree\\tree.py in fit(self=DecisionTreeClassifier(class_weight=None, criter...         random_state=702015876, splitter='best'), X=array([[  1.10000000e+02,   6.00000000e+00,   1.....00000000e+00,   0.00000000e+00]], dtype=float32), y=array([[ 0.],\n       [ 0.],\n       [ 0.],\n       ..., \n       [ 0.],\n       [ 0.],\n       [ 0.]]), sample_weight=array([ 0.,  1.,  0., ...,  1.,  1.,  0.]), check_input=False, X_idx_sorted=None)\n    357                                            max_depth,\n    358                                            max_leaf_nodes,\n    359                                            self.min_impurity_decrease,\n    360                                            min_impurity_split)\n    361 \n--> 362         builder.build(self.tree_, X, y, sample_weight, X_idx_sorted)\n        builder.build = <built-in method build of sklearn.tree._tree.DepthFirstTreeBuilder object>\n        self.tree_ = <sklearn.tree._tree.Tree object>\n        X = array([[  1.10000000e+02,   6.00000000e+00,   1.....00000000e+00,   0.00000000e+00]], dtype=float32)\n        y = array([[ 0.],\n       [ 0.],\n       [ 0.],\n       ..., \n       [ 0.],\n       [ 0.],\n       [ 0.]])\n        sample_weight = array([ 0.,  1.,  0., ...,  1.,  1.,  0.])\n        X_idx_sorted = None\n    363 \n    364         if self.n_outputs_ == 1:\n    365             self.n_classes_ = self.n_classes_[0]\n    366             self.classes_ = self.classes_[0]\n\n...........................................................................\nD:\\Anaconda3\\lib\\site-packages\\sklearn\\tree\\_tree.cp36-win_amd64.pyd in sklearn.tree._tree.DepthFirstTreeBuilder.build()\n\n...........................................................................\nD:\\Anaconda3\\lib\\site-packages\\sklearn\\tree\\_tree.cp36-win_amd64.pyd in sklearn.tree._tree.DepthFirstTreeBuilder.build()\n\n...........................................................................\nD:\\Anaconda3\\lib\\site-packages\\sklearn\\tree\\_tree.cp36-win_amd64.pyd in sklearn.tree._tree.Tree._add_node()\n\n...........................................................................\nD:\\Anaconda3\\lib\\site-packages\\sklearn\\tree\\_tree.cp36-win_amd64.pyd in sklearn.tree._tree.Tree._resize_c()\n\n...........................................................................\nD:\\Anaconda3\\lib\\site-packages\\sklearn\\tree\\_utils.cp36-win_amd64.pyd in sklearn.tree._utils.safe_realloc()\n\nMemoryError: could not allocate 117440512 bytes\n___________________________________________________________________________",
     "output_type": "error",
     "traceback": [
      "\u001b[1;31m---------------------------------------------------------------------------\u001b[0m",
      "\u001b[1;31mMemoryError\u001b[0m                               Traceback (most recent call last)",
      "\u001b[1;32mD:\\Anaconda3\\lib\\site-packages\\sklearn\\externals\\joblib\\_parallel_backends.py\u001b[0m in \u001b[0;36m__call__\u001b[1;34m(self, *args, **kwargs)\u001b[0m\n\u001b[0;32m    349\u001b[0m         \u001b[1;32mtry\u001b[0m\u001b[1;33m:\u001b[0m\u001b[1;33m\u001b[0m\u001b[0m\n\u001b[1;32m--> 350\u001b[1;33m             \u001b[1;32mreturn\u001b[0m \u001b[0mself\u001b[0m\u001b[1;33m.\u001b[0m\u001b[0mfunc\u001b[0m\u001b[1;33m(\u001b[0m\u001b[1;33m*\u001b[0m\u001b[0margs\u001b[0m\u001b[1;33m,\u001b[0m \u001b[1;33m**\u001b[0m\u001b[0mkwargs\u001b[0m\u001b[1;33m)\u001b[0m\u001b[1;33m\u001b[0m\u001b[0m\n\u001b[0m\u001b[0;32m    351\u001b[0m         \u001b[1;32mexcept\u001b[0m \u001b[0mKeyboardInterrupt\u001b[0m\u001b[1;33m:\u001b[0m\u001b[1;33m\u001b[0m\u001b[0m\n",
      "\u001b[1;32mD:\\Anaconda3\\lib\\site-packages\\sklearn\\externals\\joblib\\parallel.py\u001b[0m in \u001b[0;36m__call__\u001b[1;34m(self)\u001b[0m\n\u001b[0;32m    130\u001b[0m     \u001b[1;32mdef\u001b[0m \u001b[0m__call__\u001b[0m\u001b[1;33m(\u001b[0m\u001b[0mself\u001b[0m\u001b[1;33m)\u001b[0m\u001b[1;33m:\u001b[0m\u001b[1;33m\u001b[0m\u001b[0m\n\u001b[1;32m--> 131\u001b[1;33m         \u001b[1;32mreturn\u001b[0m \u001b[1;33m[\u001b[0m\u001b[0mfunc\u001b[0m\u001b[1;33m(\u001b[0m\u001b[1;33m*\u001b[0m\u001b[0margs\u001b[0m\u001b[1;33m,\u001b[0m \u001b[1;33m**\u001b[0m\u001b[0mkwargs\u001b[0m\u001b[1;33m)\u001b[0m \u001b[1;32mfor\u001b[0m \u001b[0mfunc\u001b[0m\u001b[1;33m,\u001b[0m \u001b[0margs\u001b[0m\u001b[1;33m,\u001b[0m \u001b[0mkwargs\u001b[0m \u001b[1;32min\u001b[0m \u001b[0mself\u001b[0m\u001b[1;33m.\u001b[0m\u001b[0mitems\u001b[0m\u001b[1;33m]\u001b[0m\u001b[1;33m\u001b[0m\u001b[0m\n\u001b[0m\u001b[0;32m    132\u001b[0m \u001b[1;33m\u001b[0m\u001b[0m\n",
      "\u001b[1;32mD:\\Anaconda3\\lib\\site-packages\\sklearn\\externals\\joblib\\parallel.py\u001b[0m in \u001b[0;36m<listcomp>\u001b[1;34m(.0)\u001b[0m\n\u001b[0;32m    130\u001b[0m     \u001b[1;32mdef\u001b[0m \u001b[0m__call__\u001b[0m\u001b[1;33m(\u001b[0m\u001b[0mself\u001b[0m\u001b[1;33m)\u001b[0m\u001b[1;33m:\u001b[0m\u001b[1;33m\u001b[0m\u001b[0m\n\u001b[1;32m--> 131\u001b[1;33m         \u001b[1;32mreturn\u001b[0m \u001b[1;33m[\u001b[0m\u001b[0mfunc\u001b[0m\u001b[1;33m(\u001b[0m\u001b[1;33m*\u001b[0m\u001b[0margs\u001b[0m\u001b[1;33m,\u001b[0m \u001b[1;33m**\u001b[0m\u001b[0mkwargs\u001b[0m\u001b[1;33m)\u001b[0m \u001b[1;32mfor\u001b[0m \u001b[0mfunc\u001b[0m\u001b[1;33m,\u001b[0m \u001b[0margs\u001b[0m\u001b[1;33m,\u001b[0m \u001b[0mkwargs\u001b[0m \u001b[1;32min\u001b[0m \u001b[0mself\u001b[0m\u001b[1;33m.\u001b[0m\u001b[0mitems\u001b[0m\u001b[1;33m]\u001b[0m\u001b[1;33m\u001b[0m\u001b[0m\n\u001b[0m\u001b[0;32m    132\u001b[0m \u001b[1;33m\u001b[0m\u001b[0m\n",
      "\u001b[1;32mD:\\Anaconda3\\lib\\site-packages\\sklearn\\ensemble\\forest.py\u001b[0m in \u001b[0;36m_parallel_build_trees\u001b[1;34m(tree, forest, X, y, sample_weight, tree_idx, n_trees, verbose, class_weight)\u001b[0m\n\u001b[0;32m    119\u001b[0m \u001b[1;33m\u001b[0m\u001b[0m\n\u001b[1;32m--> 120\u001b[1;33m         \u001b[0mtree\u001b[0m\u001b[1;33m.\u001b[0m\u001b[0mfit\u001b[0m\u001b[1;33m(\u001b[0m\u001b[0mX\u001b[0m\u001b[1;33m,\u001b[0m \u001b[0my\u001b[0m\u001b[1;33m,\u001b[0m \u001b[0msample_weight\u001b[0m\u001b[1;33m=\u001b[0m\u001b[0mcurr_sample_weight\u001b[0m\u001b[1;33m,\u001b[0m \u001b[0mcheck_input\u001b[0m\u001b[1;33m=\u001b[0m\u001b[1;32mFalse\u001b[0m\u001b[1;33m)\u001b[0m\u001b[1;33m\u001b[0m\u001b[0m\n\u001b[0m\u001b[0;32m    121\u001b[0m     \u001b[1;32melse\u001b[0m\u001b[1;33m:\u001b[0m\u001b[1;33m\u001b[0m\u001b[0m\n",
      "\u001b[1;32mD:\\Anaconda3\\lib\\site-packages\\sklearn\\tree\\tree.py\u001b[0m in \u001b[0;36mfit\u001b[1;34m(self, X, y, sample_weight, check_input, X_idx_sorted)\u001b[0m\n\u001b[0;32m    789\u001b[0m             \u001b[0mcheck_input\u001b[0m\u001b[1;33m=\u001b[0m\u001b[0mcheck_input\u001b[0m\u001b[1;33m,\u001b[0m\u001b[1;33m\u001b[0m\u001b[0m\n\u001b[1;32m--> 790\u001b[1;33m             X_idx_sorted=X_idx_sorted)\n\u001b[0m\u001b[0;32m    791\u001b[0m         \u001b[1;32mreturn\u001b[0m \u001b[0mself\u001b[0m\u001b[1;33m\u001b[0m\u001b[0m\n",
      "\u001b[1;32mD:\\Anaconda3\\lib\\site-packages\\sklearn\\tree\\tree.py\u001b[0m in \u001b[0;36mfit\u001b[1;34m(self, X, y, sample_weight, check_input, X_idx_sorted)\u001b[0m\n\u001b[0;32m    361\u001b[0m \u001b[1;33m\u001b[0m\u001b[0m\n\u001b[1;32m--> 362\u001b[1;33m         \u001b[0mbuilder\u001b[0m\u001b[1;33m.\u001b[0m\u001b[0mbuild\u001b[0m\u001b[1;33m(\u001b[0m\u001b[0mself\u001b[0m\u001b[1;33m.\u001b[0m\u001b[0mtree_\u001b[0m\u001b[1;33m,\u001b[0m \u001b[0mX\u001b[0m\u001b[1;33m,\u001b[0m \u001b[0my\u001b[0m\u001b[1;33m,\u001b[0m \u001b[0msample_weight\u001b[0m\u001b[1;33m,\u001b[0m \u001b[0mX_idx_sorted\u001b[0m\u001b[1;33m)\u001b[0m\u001b[1;33m\u001b[0m\u001b[0m\n\u001b[0m\u001b[0;32m    363\u001b[0m \u001b[1;33m\u001b[0m\u001b[0m\n",
      "\u001b[1;32msklearn\\tree\\_tree.pyx\u001b[0m in \u001b[0;36msklearn.tree._tree.DepthFirstTreeBuilder.build\u001b[1;34m()\u001b[0m\n",
      "\u001b[1;32msklearn\\tree\\_tree.pyx\u001b[0m in \u001b[0;36msklearn.tree._tree.DepthFirstTreeBuilder.build\u001b[1;34m()\u001b[0m\n",
      "\u001b[1;32msklearn\\tree\\_tree.pyx\u001b[0m in \u001b[0;36msklearn.tree._tree.Tree._add_node\u001b[1;34m()\u001b[0m\n",
      "\u001b[1;32msklearn\\tree\\_tree.pyx\u001b[0m in \u001b[0;36msklearn.tree._tree.Tree._resize_c\u001b[1;34m()\u001b[0m\n",
      "\u001b[1;32msklearn\\tree\\_utils.pyx\u001b[0m in \u001b[0;36msklearn.tree._utils.safe_realloc\u001b[1;34m()\u001b[0m\n",
      "\u001b[1;31mMemoryError\u001b[0m: could not allocate 117440512 bytes",
      "\nDuring handling of the above exception, another exception occurred:\n",
      "\u001b[1;31mTransportableException\u001b[0m                    Traceback (most recent call last)",
      "\u001b[1;32mD:\\Anaconda3\\lib\\site-packages\\sklearn\\externals\\joblib\\parallel.py\u001b[0m in \u001b[0;36mretrieve\u001b[1;34m(self)\u001b[0m\n\u001b[0;32m    698\u001b[0m                 \u001b[1;32mif\u001b[0m \u001b[0mgetattr\u001b[0m\u001b[1;33m(\u001b[0m\u001b[0mself\u001b[0m\u001b[1;33m.\u001b[0m\u001b[0m_backend\u001b[0m\u001b[1;33m,\u001b[0m \u001b[1;34m'supports_timeout'\u001b[0m\u001b[1;33m,\u001b[0m \u001b[1;32mFalse\u001b[0m\u001b[1;33m)\u001b[0m\u001b[1;33m:\u001b[0m\u001b[1;33m\u001b[0m\u001b[0m\n\u001b[1;32m--> 699\u001b[1;33m                     \u001b[0mself\u001b[0m\u001b[1;33m.\u001b[0m\u001b[0m_output\u001b[0m\u001b[1;33m.\u001b[0m\u001b[0mextend\u001b[0m\u001b[1;33m(\u001b[0m\u001b[0mjob\u001b[0m\u001b[1;33m.\u001b[0m\u001b[0mget\u001b[0m\u001b[1;33m(\u001b[0m\u001b[0mtimeout\u001b[0m\u001b[1;33m=\u001b[0m\u001b[0mself\u001b[0m\u001b[1;33m.\u001b[0m\u001b[0mtimeout\u001b[0m\u001b[1;33m)\u001b[0m\u001b[1;33m)\u001b[0m\u001b[1;33m\u001b[0m\u001b[0m\n\u001b[0m\u001b[0;32m    700\u001b[0m                 \u001b[1;32melse\u001b[0m\u001b[1;33m:\u001b[0m\u001b[1;33m\u001b[0m\u001b[0m\n",
      "\u001b[1;32mD:\\Anaconda3\\lib\\multiprocessing\\pool.py\u001b[0m in \u001b[0;36mget\u001b[1;34m(self, timeout)\u001b[0m\n\u001b[0;32m    643\u001b[0m         \u001b[1;32melse\u001b[0m\u001b[1;33m:\u001b[0m\u001b[1;33m\u001b[0m\u001b[0m\n\u001b[1;32m--> 644\u001b[1;33m             \u001b[1;32mraise\u001b[0m \u001b[0mself\u001b[0m\u001b[1;33m.\u001b[0m\u001b[0m_value\u001b[0m\u001b[1;33m\u001b[0m\u001b[0m\n\u001b[0m\u001b[0;32m    645\u001b[0m \u001b[1;33m\u001b[0m\u001b[0m\n",
      "\u001b[1;32mD:\\Anaconda3\\lib\\multiprocessing\\pool.py\u001b[0m in \u001b[0;36mworker\u001b[1;34m(inqueue, outqueue, initializer, initargs, maxtasks, wrap_exception)\u001b[0m\n\u001b[0;32m    118\u001b[0m         \u001b[1;32mtry\u001b[0m\u001b[1;33m:\u001b[0m\u001b[1;33m\u001b[0m\u001b[0m\n\u001b[1;32m--> 119\u001b[1;33m             \u001b[0mresult\u001b[0m \u001b[1;33m=\u001b[0m \u001b[1;33m(\u001b[0m\u001b[1;32mTrue\u001b[0m\u001b[1;33m,\u001b[0m \u001b[0mfunc\u001b[0m\u001b[1;33m(\u001b[0m\u001b[1;33m*\u001b[0m\u001b[0margs\u001b[0m\u001b[1;33m,\u001b[0m \u001b[1;33m**\u001b[0m\u001b[0mkwds\u001b[0m\u001b[1;33m)\u001b[0m\u001b[1;33m)\u001b[0m\u001b[1;33m\u001b[0m\u001b[0m\n\u001b[0m\u001b[0;32m    120\u001b[0m         \u001b[1;32mexcept\u001b[0m \u001b[0mException\u001b[0m \u001b[1;32mas\u001b[0m \u001b[0me\u001b[0m\u001b[1;33m:\u001b[0m\u001b[1;33m\u001b[0m\u001b[0m\n",
      "\u001b[1;32mD:\\Anaconda3\\lib\\site-packages\\sklearn\\externals\\joblib\\_parallel_backends.py\u001b[0m in \u001b[0;36m__call__\u001b[1;34m(self, *args, **kwargs)\u001b[0m\n\u001b[0;32m    358\u001b[0m             \u001b[0mtext\u001b[0m \u001b[1;33m=\u001b[0m \u001b[0mformat_exc\u001b[0m\u001b[1;33m(\u001b[0m\u001b[0me_type\u001b[0m\u001b[1;33m,\u001b[0m \u001b[0me_value\u001b[0m\u001b[1;33m,\u001b[0m \u001b[0me_tb\u001b[0m\u001b[1;33m,\u001b[0m \u001b[0mcontext\u001b[0m\u001b[1;33m=\u001b[0m\u001b[1;36m10\u001b[0m\u001b[1;33m,\u001b[0m \u001b[0mtb_offset\u001b[0m\u001b[1;33m=\u001b[0m\u001b[1;36m1\u001b[0m\u001b[1;33m)\u001b[0m\u001b[1;33m\u001b[0m\u001b[0m\n\u001b[1;32m--> 359\u001b[1;33m             \u001b[1;32mraise\u001b[0m \u001b[0mTransportableException\u001b[0m\u001b[1;33m(\u001b[0m\u001b[0mtext\u001b[0m\u001b[1;33m,\u001b[0m \u001b[0me_type\u001b[0m\u001b[1;33m)\u001b[0m\u001b[1;33m\u001b[0m\u001b[0m\n\u001b[0m\u001b[0;32m    360\u001b[0m \u001b[1;33m\u001b[0m\u001b[0m\n",
      "\u001b[1;31mTransportableException\u001b[0m: TransportableException\n___________________________________________________________________________\nMemoryError                                        Sun Feb 25 19:13:14 2018\nPID: 9436                             Python 3.6.2: D:\\Anaconda3\\python.exe\n...........................................................................\nD:\\Anaconda3\\lib\\site-packages\\sklearn\\externals\\joblib\\parallel.py in __call__(self=<sklearn.externals.joblib.parallel.BatchedCalls object>)\n    126     def __init__(self, iterator_slice):\n    127         self.items = list(iterator_slice)\n    128         self._size = len(self.items)\n    129 \n    130     def __call__(self):\n--> 131         return [func(*args, **kwargs) for func, args, kwargs in self.items]\n        self.items = [(<function _parallel_build_trees>, (DecisionTreeClassifier(class_weight=None, criter...         random_state=702015876, splitter='best'), RandomForestClassifier(bootstrap=True, class_wei...te=None, verbose=0,\n            warm_start=False), array([[  1.10000000e+02,   6.00000000e+00,   1.....00000000e+00,   0.00000000e+00]], dtype=float32), array([[ 0.],\n       [ 0.],\n       [ 0.],\n       ..., \n       [ 0.],\n       [ 0.],\n       [ 0.]]), None, 68, 100), {'class_weight': None, 'verbose': 0})]\n    132 \n    133     def __len__(self):\n    134         return self._size\n    135 \n\n...........................................................................\nD:\\Anaconda3\\lib\\site-packages\\sklearn\\externals\\joblib\\parallel.py in <listcomp>(.0=<list_iterator object>)\n    126     def __init__(self, iterator_slice):\n    127         self.items = list(iterator_slice)\n    128         self._size = len(self.items)\n    129 \n    130     def __call__(self):\n--> 131         return [func(*args, **kwargs) for func, args, kwargs in self.items]\n        func = <function _parallel_build_trees>\n        args = (DecisionTreeClassifier(class_weight=None, criter...         random_state=702015876, splitter='best'), RandomForestClassifier(bootstrap=True, class_wei...te=None, verbose=0,\n            warm_start=False), array([[  1.10000000e+02,   6.00000000e+00,   1.....00000000e+00,   0.00000000e+00]], dtype=float32), array([[ 0.],\n       [ 0.],\n       [ 0.],\n       ..., \n       [ 0.],\n       [ 0.],\n       [ 0.]]), None, 68, 100)\n        kwargs = {'class_weight': None, 'verbose': 0}\n    132 \n    133     def __len__(self):\n    134         return self._size\n    135 \n\n...........................................................................\nD:\\Anaconda3\\lib\\site-packages\\sklearn\\ensemble\\forest.py in _parallel_build_trees(tree=DecisionTreeClassifier(class_weight=None, criter...         random_state=702015876, splitter='best'), forest=RandomForestClassifier(bootstrap=True, class_wei...te=None, verbose=0,\n            warm_start=False), X=array([[  1.10000000e+02,   6.00000000e+00,   1.....00000000e+00,   0.00000000e+00]], dtype=float32), y=array([[ 0.],\n       [ 0.],\n       [ 0.],\n       ..., \n       [ 0.],\n       [ 0.],\n       [ 0.]]), sample_weight=None, tree_idx=68, n_trees=100, verbose=0, class_weight=None)\n    115                 warnings.simplefilter('ignore', DeprecationWarning)\n    116                 curr_sample_weight *= compute_sample_weight('auto', y, indices)\n    117         elif class_weight == 'balanced_subsample':\n    118             curr_sample_weight *= compute_sample_weight('balanced', y, indices)\n    119 \n--> 120         tree.fit(X, y, sample_weight=curr_sample_weight, check_input=False)\n        tree.fit = <bound method DecisionTreeClassifier.fit of Deci...        random_state=702015876, splitter='best')>\n        X = array([[  1.10000000e+02,   6.00000000e+00,   1.....00000000e+00,   0.00000000e+00]], dtype=float32)\n        y = array([[ 0.],\n       [ 0.],\n       [ 0.],\n       ..., \n       [ 0.],\n       [ 0.],\n       [ 0.]])\n        sample_weight = None\n        curr_sample_weight = array([ 0.,  1.,  0., ...,  1.,  1.,  0.])\n    121     else:\n    122         tree.fit(X, y, sample_weight=sample_weight, check_input=False)\n    123 \n    124     return tree\n\n...........................................................................\nD:\\Anaconda3\\lib\\site-packages\\sklearn\\tree\\tree.py in fit(self=DecisionTreeClassifier(class_weight=None, criter...         random_state=702015876, splitter='best'), X=array([[  1.10000000e+02,   6.00000000e+00,   1.....00000000e+00,   0.00000000e+00]], dtype=float32), y=array([[ 0.],\n       [ 0.],\n       [ 0.],\n       ..., \n       [ 0.],\n       [ 0.],\n       [ 0.]]), sample_weight=array([ 0.,  1.,  0., ...,  1.,  1.,  0.]), check_input=False, X_idx_sorted=None)\n    785 \n    786         super(DecisionTreeClassifier, self).fit(\n    787             X, y,\n    788             sample_weight=sample_weight,\n    789             check_input=check_input,\n--> 790             X_idx_sorted=X_idx_sorted)\n        X_idx_sorted = None\n    791         return self\n    792 \n    793     def predict_proba(self, X, check_input=True):\n    794         \"\"\"Predict class probabilities of the input samples X.\n\n...........................................................................\nD:\\Anaconda3\\lib\\site-packages\\sklearn\\tree\\tree.py in fit(self=DecisionTreeClassifier(class_weight=None, criter...         random_state=702015876, splitter='best'), X=array([[  1.10000000e+02,   6.00000000e+00,   1.....00000000e+00,   0.00000000e+00]], dtype=float32), y=array([[ 0.],\n       [ 0.],\n       [ 0.],\n       ..., \n       [ 0.],\n       [ 0.],\n       [ 0.]]), sample_weight=array([ 0.,  1.,  0., ...,  1.,  1.,  0.]), check_input=False, X_idx_sorted=None)\n    357                                            max_depth,\n    358                                            max_leaf_nodes,\n    359                                            self.min_impurity_decrease,\n    360                                            min_impurity_split)\n    361 \n--> 362         builder.build(self.tree_, X, y, sample_weight, X_idx_sorted)\n        builder.build = <built-in method build of sklearn.tree._tree.DepthFirstTreeBuilder object>\n        self.tree_ = <sklearn.tree._tree.Tree object>\n        X = array([[  1.10000000e+02,   6.00000000e+00,   1.....00000000e+00,   0.00000000e+00]], dtype=float32)\n        y = array([[ 0.],\n       [ 0.],\n       [ 0.],\n       ..., \n       [ 0.],\n       [ 0.],\n       [ 0.]])\n        sample_weight = array([ 0.,  1.,  0., ...,  1.,  1.,  0.])\n        X_idx_sorted = None\n    363 \n    364         if self.n_outputs_ == 1:\n    365             self.n_classes_ = self.n_classes_[0]\n    366             self.classes_ = self.classes_[0]\n\n...........................................................................\nD:\\Anaconda3\\lib\\site-packages\\sklearn\\tree\\_tree.cp36-win_amd64.pyd in sklearn.tree._tree.DepthFirstTreeBuilder.build()\n\n...........................................................................\nD:\\Anaconda3\\lib\\site-packages\\sklearn\\tree\\_tree.cp36-win_amd64.pyd in sklearn.tree._tree.DepthFirstTreeBuilder.build()\n\n...........................................................................\nD:\\Anaconda3\\lib\\site-packages\\sklearn\\tree\\_tree.cp36-win_amd64.pyd in sklearn.tree._tree.Tree._add_node()\n\n...........................................................................\nD:\\Anaconda3\\lib\\site-packages\\sklearn\\tree\\_tree.cp36-win_amd64.pyd in sklearn.tree._tree.Tree._resize_c()\n\n...........................................................................\nD:\\Anaconda3\\lib\\site-packages\\sklearn\\tree\\_utils.cp36-win_amd64.pyd in sklearn.tree._utils.safe_realloc()\n\nMemoryError: could not allocate 117440512 bytes\n___________________________________________________________________________",
      "\nDuring handling of the above exception, another exception occurred:\n",
      "\u001b[1;31mJoblibMemoryError\u001b[0m                         Traceback (most recent call last)",
      "\u001b[1;32m<ipython-input-121-1a22d227b011>\u001b[0m in \u001b[0;36m<module>\u001b[1;34m()\u001b[0m\n\u001b[1;32m----> 1\u001b[1;33m \u001b[0mdec\u001b[0m\u001b[1;33m.\u001b[0m\u001b[0mfit\u001b[0m\u001b[1;33m(\u001b[0m\u001b[0mdec_train\u001b[0m\u001b[1;33m,\u001b[0m \u001b[0mdec_lbl_train\u001b[0m\u001b[1;33m)\u001b[0m\u001b[1;33m\u001b[0m\u001b[0m\n\u001b[0m",
      "\u001b[1;32mD:\\Anaconda3\\lib\\site-packages\\sklearn\\ensemble\\forest.py\u001b[0m in \u001b[0;36mfit\u001b[1;34m(self, X, y, sample_weight)\u001b[0m\n\u001b[0;32m    325\u001b[0m                     \u001b[0mt\u001b[0m\u001b[1;33m,\u001b[0m \u001b[0mself\u001b[0m\u001b[1;33m,\u001b[0m \u001b[0mX\u001b[0m\u001b[1;33m,\u001b[0m \u001b[0my\u001b[0m\u001b[1;33m,\u001b[0m \u001b[0msample_weight\u001b[0m\u001b[1;33m,\u001b[0m \u001b[0mi\u001b[0m\u001b[1;33m,\u001b[0m \u001b[0mlen\u001b[0m\u001b[1;33m(\u001b[0m\u001b[0mtrees\u001b[0m\u001b[1;33m)\u001b[0m\u001b[1;33m,\u001b[0m\u001b[1;33m\u001b[0m\u001b[0m\n\u001b[0;32m    326\u001b[0m                     verbose=self.verbose, class_weight=self.class_weight)\n\u001b[1;32m--> 327\u001b[1;33m                 for i, t in enumerate(trees))\n\u001b[0m\u001b[0;32m    328\u001b[0m \u001b[1;33m\u001b[0m\u001b[0m\n\u001b[0;32m    329\u001b[0m             \u001b[1;31m# Collect newly grown trees\u001b[0m\u001b[1;33m\u001b[0m\u001b[1;33m\u001b[0m\u001b[0m\n",
      "\u001b[1;32mD:\\Anaconda3\\lib\\site-packages\\sklearn\\externals\\joblib\\parallel.py\u001b[0m in \u001b[0;36m__call__\u001b[1;34m(self, iterable)\u001b[0m\n\u001b[0;32m    787\u001b[0m                 \u001b[1;31m# consumption.\u001b[0m\u001b[1;33m\u001b[0m\u001b[1;33m\u001b[0m\u001b[0m\n\u001b[0;32m    788\u001b[0m                 \u001b[0mself\u001b[0m\u001b[1;33m.\u001b[0m\u001b[0m_iterating\u001b[0m \u001b[1;33m=\u001b[0m \u001b[1;32mFalse\u001b[0m\u001b[1;33m\u001b[0m\u001b[0m\n\u001b[1;32m--> 789\u001b[1;33m             \u001b[0mself\u001b[0m\u001b[1;33m.\u001b[0m\u001b[0mretrieve\u001b[0m\u001b[1;33m(\u001b[0m\u001b[1;33m)\u001b[0m\u001b[1;33m\u001b[0m\u001b[0m\n\u001b[0m\u001b[0;32m    790\u001b[0m             \u001b[1;31m# Make sure that we get a last message telling us we are done\u001b[0m\u001b[1;33m\u001b[0m\u001b[1;33m\u001b[0m\u001b[0m\n\u001b[0;32m    791\u001b[0m             \u001b[0melapsed_time\u001b[0m \u001b[1;33m=\u001b[0m \u001b[0mtime\u001b[0m\u001b[1;33m.\u001b[0m\u001b[0mtime\u001b[0m\u001b[1;33m(\u001b[0m\u001b[1;33m)\u001b[0m \u001b[1;33m-\u001b[0m \u001b[0mself\u001b[0m\u001b[1;33m.\u001b[0m\u001b[0m_start_time\u001b[0m\u001b[1;33m\u001b[0m\u001b[0m\n",
      "\u001b[1;32mD:\\Anaconda3\\lib\\site-packages\\sklearn\\externals\\joblib\\parallel.py\u001b[0m in \u001b[0;36mretrieve\u001b[1;34m(self)\u001b[0m\n\u001b[0;32m    738\u001b[0m                     \u001b[0mexception\u001b[0m \u001b[1;33m=\u001b[0m \u001b[0mexception_type\u001b[0m\u001b[1;33m(\u001b[0m\u001b[0mreport\u001b[0m\u001b[1;33m)\u001b[0m\u001b[1;33m\u001b[0m\u001b[0m\n\u001b[0;32m    739\u001b[0m \u001b[1;33m\u001b[0m\u001b[0m\n\u001b[1;32m--> 740\u001b[1;33m                     \u001b[1;32mraise\u001b[0m \u001b[0mexception\u001b[0m\u001b[1;33m\u001b[0m\u001b[0m\n\u001b[0m\u001b[0;32m    741\u001b[0m \u001b[1;33m\u001b[0m\u001b[0m\n\u001b[0;32m    742\u001b[0m     \u001b[1;32mdef\u001b[0m \u001b[0m__call__\u001b[0m\u001b[1;33m(\u001b[0m\u001b[0mself\u001b[0m\u001b[1;33m,\u001b[0m \u001b[0miterable\u001b[0m\u001b[1;33m)\u001b[0m\u001b[1;33m:\u001b[0m\u001b[1;33m\u001b[0m\u001b[0m\n",
      "\u001b[1;31mJoblibMemoryError\u001b[0m: JoblibMemoryError\n___________________________________________________________________________\nMultiprocessing exception:\n...........................................................................\nD:\\Anaconda3\\lib\\runpy.py in _run_module_as_main(mod_name='ipykernel_launcher', alter_argv=1)\n    188         sys.exit(msg)\n    189     main_globals = sys.modules[\"__main__\"].__dict__\n    190     if alter_argv:\n    191         sys.argv[0] = mod_spec.origin\n    192     return _run_code(code, main_globals, None,\n--> 193                      \"__main__\", mod_spec)\n        mod_spec = ModuleSpec(name='ipykernel_launcher', loader=<_f...nda3\\\\lib\\\\site-packages\\\\ipykernel_launcher.py')\n    194 \n    195 def run_module(mod_name, init_globals=None,\n    196                run_name=None, alter_sys=False):\n    197     \"\"\"Execute a module's code without importing it\n\n...........................................................................\nD:\\Anaconda3\\lib\\runpy.py in _run_code(code=<code object <module> at 0x0000021EAE43A8A0, fil...lib\\site-packages\\ipykernel_launcher.py\", line 5>, run_globals={'__annotations__': {}, '__builtins__': <module 'builtins' (built-in)>, '__cached__': r'D:\\Anaconda3\\lib\\site-packages\\__pycache__\\ipykernel_launcher.cpython-36.pyc', '__doc__': 'Entry point for launching an IPython kernel.\\n\\nTh...orts until\\nafter removing the cwd from sys.path.\\n', '__file__': r'D:\\Anaconda3\\lib\\site-packages\\ipykernel_launcher.py', '__loader__': <_frozen_importlib_external.SourceFileLoader object>, '__name__': '__main__', '__package__': '', '__spec__': ModuleSpec(name='ipykernel_launcher', loader=<_f...nda3\\\\lib\\\\site-packages\\\\ipykernel_launcher.py'), 'app': <module 'ipykernel.kernelapp' from 'D:\\\\Anaconda3\\\\lib\\\\site-packages\\\\ipykernel\\\\kernelapp.py'>, ...}, init_globals=None, mod_name='__main__', mod_spec=ModuleSpec(name='ipykernel_launcher', loader=<_f...nda3\\\\lib\\\\site-packages\\\\ipykernel_launcher.py'), pkg_name='', script_name=None)\n     80                        __cached__ = cached,\n     81                        __doc__ = None,\n     82                        __loader__ = loader,\n     83                        __package__ = pkg_name,\n     84                        __spec__ = mod_spec)\n---> 85     exec(code, run_globals)\n        code = <code object <module> at 0x0000021EAE43A8A0, fil...lib\\site-packages\\ipykernel_launcher.py\", line 5>\n        run_globals = {'__annotations__': {}, '__builtins__': <module 'builtins' (built-in)>, '__cached__': r'D:\\Anaconda3\\lib\\site-packages\\__pycache__\\ipykernel_launcher.cpython-36.pyc', '__doc__': 'Entry point for launching an IPython kernel.\\n\\nTh...orts until\\nafter removing the cwd from sys.path.\\n', '__file__': r'D:\\Anaconda3\\lib\\site-packages\\ipykernel_launcher.py', '__loader__': <_frozen_importlib_external.SourceFileLoader object>, '__name__': '__main__', '__package__': '', '__spec__': ModuleSpec(name='ipykernel_launcher', loader=<_f...nda3\\\\lib\\\\site-packages\\\\ipykernel_launcher.py'), 'app': <module 'ipykernel.kernelapp' from 'D:\\\\Anaconda3\\\\lib\\\\site-packages\\\\ipykernel\\\\kernelapp.py'>, ...}\n     86     return run_globals\n     87 \n     88 def _run_module_code(code, init_globals=None,\n     89                     mod_name=None, mod_spec=None,\n\n...........................................................................\nD:\\Anaconda3\\lib\\site-packages\\ipykernel_launcher.py in <module>()\n     11     # This is added back by InteractiveShellApp.init_path()\n     12     if sys.path[0] == '':\n     13         del sys.path[0]\n     14 \n     15     from ipykernel import kernelapp as app\n---> 16     app.launch_new_instance()\n\n...........................................................................\nD:\\Anaconda3\\lib\\site-packages\\traitlets\\config\\application.py in launch_instance(cls=<class 'ipykernel.kernelapp.IPKernelApp'>, argv=None, **kwargs={})\n    653 \n    654         If a global instance already exists, this reinitializes and starts it\n    655         \"\"\"\n    656         app = cls.instance(**kwargs)\n    657         app.initialize(argv)\n--> 658         app.start()\n        app.start = <bound method IPKernelApp.start of <ipykernel.kernelapp.IPKernelApp object>>\n    659 \n    660 #-----------------------------------------------------------------------------\n    661 # utility functions, for convenience\n    662 #-----------------------------------------------------------------------------\n\n...........................................................................\nD:\\Anaconda3\\lib\\site-packages\\ipykernel\\kernelapp.py in start(self=<ipykernel.kernelapp.IPKernelApp object>)\n    472             return self.subapp.start()\n    473         if self.poller is not None:\n    474             self.poller.start()\n    475         self.kernel.start()\n    476         try:\n--> 477             ioloop.IOLoop.instance().start()\n    478         except KeyboardInterrupt:\n    479             pass\n    480 \n    481 launch_new_instance = IPKernelApp.launch_instance\n\n...........................................................................\nD:\\Anaconda3\\lib\\site-packages\\zmq\\eventloop\\ioloop.py in start(self=<zmq.eventloop.ioloop.ZMQIOLoop object>)\n    172             )\n    173         return loop\n    174     \n    175     def start(self):\n    176         try:\n--> 177             super(ZMQIOLoop, self).start()\n        self.start = <bound method ZMQIOLoop.start of <zmq.eventloop.ioloop.ZMQIOLoop object>>\n    178         except ZMQError as e:\n    179             if e.errno == ETERM:\n    180                 # quietly return on ETERM\n    181                 pass\n\n...........................................................................\nD:\\Anaconda3\\lib\\site-packages\\tornado\\ioloop.py in start(self=<zmq.eventloop.ioloop.ZMQIOLoop object>)\n    883                 self._events.update(event_pairs)\n    884                 while self._events:\n    885                     fd, events = self._events.popitem()\n    886                     try:\n    887                         fd_obj, handler_func = self._handlers[fd]\n--> 888                         handler_func(fd_obj, events)\n        handler_func = <function wrap.<locals>.null_wrapper>\n        fd_obj = <zmq.sugar.socket.Socket object>\n        events = 1\n    889                     except (OSError, IOError) as e:\n    890                         if errno_from_exception(e) == errno.EPIPE:\n    891                             # Happens when the client closes the connection\n    892                             pass\n\n...........................................................................\nD:\\Anaconda3\\lib\\site-packages\\tornado\\stack_context.py in null_wrapper(*args=(<zmq.sugar.socket.Socket object>, 1), **kwargs={})\n    272         # Fast path when there are no active contexts.\n    273         def null_wrapper(*args, **kwargs):\n    274             try:\n    275                 current_state = _state.contexts\n    276                 _state.contexts = cap_contexts[0]\n--> 277                 return fn(*args, **kwargs)\n        args = (<zmq.sugar.socket.Socket object>, 1)\n        kwargs = {}\n    278             finally:\n    279                 _state.contexts = current_state\n    280         null_wrapper._wrapped = True\n    281         return null_wrapper\n\n...........................................................................\nD:\\Anaconda3\\lib\\site-packages\\zmq\\eventloop\\zmqstream.py in _handle_events(self=<zmq.eventloop.zmqstream.ZMQStream object>, fd=<zmq.sugar.socket.Socket object>, events=1)\n    435             # dispatch events:\n    436             if events & IOLoop.ERROR:\n    437                 gen_log.error(\"got POLLERR event on ZMQStream, which doesn't make sense\")\n    438                 return\n    439             if events & IOLoop.READ:\n--> 440                 self._handle_recv()\n        self._handle_recv = <bound method ZMQStream._handle_recv of <zmq.eventloop.zmqstream.ZMQStream object>>\n    441                 if not self.socket:\n    442                     return\n    443             if events & IOLoop.WRITE:\n    444                 self._handle_send()\n\n...........................................................................\nD:\\Anaconda3\\lib\\site-packages\\zmq\\eventloop\\zmqstream.py in _handle_recv(self=<zmq.eventloop.zmqstream.ZMQStream object>)\n    467                 gen_log.error(\"RECV Error: %s\"%zmq.strerror(e.errno))\n    468         else:\n    469             if self._recv_callback:\n    470                 callback = self._recv_callback\n    471                 # self._recv_callback = None\n--> 472                 self._run_callback(callback, msg)\n        self._run_callback = <bound method ZMQStream._run_callback of <zmq.eventloop.zmqstream.ZMQStream object>>\n        callback = <function wrap.<locals>.null_wrapper>\n        msg = [<zmq.sugar.frame.Frame object>, <zmq.sugar.frame.Frame object>, <zmq.sugar.frame.Frame object>, <zmq.sugar.frame.Frame object>, <zmq.sugar.frame.Frame object>, <zmq.sugar.frame.Frame object>, <zmq.sugar.frame.Frame object>]\n    473                 \n    474         # self.update_state()\n    475         \n    476 \n\n...........................................................................\nD:\\Anaconda3\\lib\\site-packages\\zmq\\eventloop\\zmqstream.py in _run_callback(self=<zmq.eventloop.zmqstream.ZMQStream object>, callback=<function wrap.<locals>.null_wrapper>, *args=([<zmq.sugar.frame.Frame object>, <zmq.sugar.frame.Frame object>, <zmq.sugar.frame.Frame object>, <zmq.sugar.frame.Frame object>, <zmq.sugar.frame.Frame object>, <zmq.sugar.frame.Frame object>, <zmq.sugar.frame.Frame object>],), **kwargs={})\n    409         close our socket.\"\"\"\n    410         try:\n    411             # Use a NullContext to ensure that all StackContexts are run\n    412             # inside our blanket exception handler rather than outside.\n    413             with stack_context.NullContext():\n--> 414                 callback(*args, **kwargs)\n        callback = <function wrap.<locals>.null_wrapper>\n        args = ([<zmq.sugar.frame.Frame object>, <zmq.sugar.frame.Frame object>, <zmq.sugar.frame.Frame object>, <zmq.sugar.frame.Frame object>, <zmq.sugar.frame.Frame object>, <zmq.sugar.frame.Frame object>, <zmq.sugar.frame.Frame object>],)\n        kwargs = {}\n    415         except:\n    416             gen_log.error(\"Uncaught exception, closing connection.\",\n    417                           exc_info=True)\n    418             # Close the socket on an uncaught exception from a user callback\n\n...........................................................................\nD:\\Anaconda3\\lib\\site-packages\\tornado\\stack_context.py in null_wrapper(*args=([<zmq.sugar.frame.Frame object>, <zmq.sugar.frame.Frame object>, <zmq.sugar.frame.Frame object>, <zmq.sugar.frame.Frame object>, <zmq.sugar.frame.Frame object>, <zmq.sugar.frame.Frame object>, <zmq.sugar.frame.Frame object>],), **kwargs={})\n    272         # Fast path when there are no active contexts.\n    273         def null_wrapper(*args, **kwargs):\n    274             try:\n    275                 current_state = _state.contexts\n    276                 _state.contexts = cap_contexts[0]\n--> 277                 return fn(*args, **kwargs)\n        args = ([<zmq.sugar.frame.Frame object>, <zmq.sugar.frame.Frame object>, <zmq.sugar.frame.Frame object>, <zmq.sugar.frame.Frame object>, <zmq.sugar.frame.Frame object>, <zmq.sugar.frame.Frame object>, <zmq.sugar.frame.Frame object>],)\n        kwargs = {}\n    278             finally:\n    279                 _state.contexts = current_state\n    280         null_wrapper._wrapped = True\n    281         return null_wrapper\n\n...........................................................................\nD:\\Anaconda3\\lib\\site-packages\\ipykernel\\kernelbase.py in dispatcher(msg=[<zmq.sugar.frame.Frame object>, <zmq.sugar.frame.Frame object>, <zmq.sugar.frame.Frame object>, <zmq.sugar.frame.Frame object>, <zmq.sugar.frame.Frame object>, <zmq.sugar.frame.Frame object>, <zmq.sugar.frame.Frame object>])\n    278         if self.control_stream:\n    279             self.control_stream.on_recv(self.dispatch_control, copy=False)\n    280 \n    281         def make_dispatcher(stream):\n    282             def dispatcher(msg):\n--> 283                 return self.dispatch_shell(stream, msg)\n        msg = [<zmq.sugar.frame.Frame object>, <zmq.sugar.frame.Frame object>, <zmq.sugar.frame.Frame object>, <zmq.sugar.frame.Frame object>, <zmq.sugar.frame.Frame object>, <zmq.sugar.frame.Frame object>, <zmq.sugar.frame.Frame object>]\n    284             return dispatcher\n    285 \n    286         for s in self.shell_streams:\n    287             s.on_recv(make_dispatcher(s), copy=False)\n\n...........................................................................\nD:\\Anaconda3\\lib\\site-packages\\ipykernel\\kernelbase.py in dispatch_shell(self=<ipykernel.ipkernel.IPythonKernel object>, stream=<zmq.eventloop.zmqstream.ZMQStream object>, msg={'buffers': [], 'content': {'allow_stdin': True, 'code': 'dec.fit(dec_train, dec_lbl_train)', 'silent': False, 'stop_on_error': True, 'store_history': True, 'user_expressions': {}}, 'header': {'date': datetime.datetime(2018, 2, 25, 16, 7, 14, 40753, tzinfo=tzutc()), 'msg_id': '8EB26D924277408A809B3D13604B038A', 'msg_type': 'execute_request', 'session': 'DF085DBAFCCD4BF788D697A533FCAF3B', 'username': 'username', 'version': '5.0'}, 'metadata': {}, 'msg_id': '8EB26D924277408A809B3D13604B038A', 'msg_type': 'execute_request', 'parent_header': {}})\n    230             self.log.warn(\"Unknown message type: %r\", msg_type)\n    231         else:\n    232             self.log.debug(\"%s: %s\", msg_type, msg)\n    233             self.pre_handler_hook()\n    234             try:\n--> 235                 handler(stream, idents, msg)\n        handler = <bound method Kernel.execute_request of <ipykernel.ipkernel.IPythonKernel object>>\n        stream = <zmq.eventloop.zmqstream.ZMQStream object>\n        idents = [b'DF085DBAFCCD4BF788D697A533FCAF3B']\n        msg = {'buffers': [], 'content': {'allow_stdin': True, 'code': 'dec.fit(dec_train, dec_lbl_train)', 'silent': False, 'stop_on_error': True, 'store_history': True, 'user_expressions': {}}, 'header': {'date': datetime.datetime(2018, 2, 25, 16, 7, 14, 40753, tzinfo=tzutc()), 'msg_id': '8EB26D924277408A809B3D13604B038A', 'msg_type': 'execute_request', 'session': 'DF085DBAFCCD4BF788D697A533FCAF3B', 'username': 'username', 'version': '5.0'}, 'metadata': {}, 'msg_id': '8EB26D924277408A809B3D13604B038A', 'msg_type': 'execute_request', 'parent_header': {}}\n    236             except Exception:\n    237                 self.log.error(\"Exception in message handler:\", exc_info=True)\n    238             finally:\n    239                 self.post_handler_hook()\n\n...........................................................................\nD:\\Anaconda3\\lib\\site-packages\\ipykernel\\kernelbase.py in execute_request(self=<ipykernel.ipkernel.IPythonKernel object>, stream=<zmq.eventloop.zmqstream.ZMQStream object>, ident=[b'DF085DBAFCCD4BF788D697A533FCAF3B'], parent={'buffers': [], 'content': {'allow_stdin': True, 'code': 'dec.fit(dec_train, dec_lbl_train)', 'silent': False, 'stop_on_error': True, 'store_history': True, 'user_expressions': {}}, 'header': {'date': datetime.datetime(2018, 2, 25, 16, 7, 14, 40753, tzinfo=tzutc()), 'msg_id': '8EB26D924277408A809B3D13604B038A', 'msg_type': 'execute_request', 'session': 'DF085DBAFCCD4BF788D697A533FCAF3B', 'username': 'username', 'version': '5.0'}, 'metadata': {}, 'msg_id': '8EB26D924277408A809B3D13604B038A', 'msg_type': 'execute_request', 'parent_header': {}})\n    394         if not silent:\n    395             self.execution_count += 1\n    396             self._publish_execute_input(code, parent, self.execution_count)\n    397 \n    398         reply_content = self.do_execute(code, silent, store_history,\n--> 399                                         user_expressions, allow_stdin)\n        user_expressions = {}\n        allow_stdin = True\n    400 \n    401         # Flush output before sending the reply.\n    402         sys.stdout.flush()\n    403         sys.stderr.flush()\n\n...........................................................................\nD:\\Anaconda3\\lib\\site-packages\\ipykernel\\ipkernel.py in do_execute(self=<ipykernel.ipkernel.IPythonKernel object>, code='dec.fit(dec_train, dec_lbl_train)', silent=False, store_history=True, user_expressions={}, allow_stdin=True)\n    191 \n    192         self._forward_input(allow_stdin)\n    193 \n    194         reply_content = {}\n    195         try:\n--> 196             res = shell.run_cell(code, store_history=store_history, silent=silent)\n        res = undefined\n        shell.run_cell = <bound method ZMQInteractiveShell.run_cell of <ipykernel.zmqshell.ZMQInteractiveShell object>>\n        code = 'dec.fit(dec_train, dec_lbl_train)'\n        store_history = True\n        silent = False\n    197         finally:\n    198             self._restore_input()\n    199 \n    200         if res.error_before_exec is not None:\n\n...........................................................................\nD:\\Anaconda3\\lib\\site-packages\\ipykernel\\zmqshell.py in run_cell(self=<ipykernel.zmqshell.ZMQInteractiveShell object>, *args=('dec.fit(dec_train, dec_lbl_train)',), **kwargs={'silent': False, 'store_history': True})\n    528             )\n    529         self.payload_manager.write_payload(payload)\n    530 \n    531     def run_cell(self, *args, **kwargs):\n    532         self._last_traceback = None\n--> 533         return super(ZMQInteractiveShell, self).run_cell(*args, **kwargs)\n        self.run_cell = <bound method ZMQInteractiveShell.run_cell of <ipykernel.zmqshell.ZMQInteractiveShell object>>\n        args = ('dec.fit(dec_train, dec_lbl_train)',)\n        kwargs = {'silent': False, 'store_history': True}\n    534 \n    535     def _showtraceback(self, etype, evalue, stb):\n    536         # try to preserve ordering of tracebacks and print statements\n    537         sys.stdout.flush()\n\n...........................................................................\nD:\\Anaconda3\\lib\\site-packages\\IPython\\core\\interactiveshell.py in run_cell(self=<ipykernel.zmqshell.ZMQInteractiveShell object>, raw_cell='dec.fit(dec_train, dec_lbl_train)', store_history=True, silent=False, shell_futures=True)\n   2693                 self.displayhook.exec_result = result\n   2694 \n   2695                 # Execute the user code\n   2696                 interactivity = \"none\" if silent else self.ast_node_interactivity\n   2697                 has_raised = self.run_ast_nodes(code_ast.body, cell_name,\n-> 2698                    interactivity=interactivity, compiler=compiler, result=result)\n        interactivity = 'last_expr'\n        compiler = <IPython.core.compilerop.CachingCompiler object>\n   2699                 \n   2700                 self.last_execution_succeeded = not has_raised\n   2701 \n   2702                 # Reset this so later displayed values do not modify the\n\n...........................................................................\nD:\\Anaconda3\\lib\\site-packages\\IPython\\core\\interactiveshell.py in run_ast_nodes(self=<ipykernel.zmqshell.ZMQInteractiveShell object>, nodelist=[<_ast.Expr object>], cell_name='<ipython-input-121-1a22d227b011>', interactivity='last', compiler=<IPython.core.compilerop.CachingCompiler object>, result=<ExecutionResult object at 21e87d70358, executio..._before_exec=None error_in_exec=None result=None>)\n   2803                     return True\n   2804 \n   2805             for i, node in enumerate(to_run_interactive):\n   2806                 mod = ast.Interactive([node])\n   2807                 code = compiler(mod, cell_name, \"single\")\n-> 2808                 if self.run_code(code, result):\n        self.run_code = <bound method InteractiveShell.run_code of <ipykernel.zmqshell.ZMQInteractiveShell object>>\n        code = <code object <module> at 0x0000021E873B15D0, file \"<ipython-input-121-1a22d227b011>\", line 1>\n        result = <ExecutionResult object at 21e87d70358, executio..._before_exec=None error_in_exec=None result=None>\n   2809                     return True\n   2810 \n   2811             # Flush softspace\n   2812             if softspace(sys.stdout, 0):\n\n...........................................................................\nD:\\Anaconda3\\lib\\site-packages\\IPython\\core\\interactiveshell.py in run_code(self=<ipykernel.zmqshell.ZMQInteractiveShell object>, code_obj=<code object <module> at 0x0000021E873B15D0, file \"<ipython-input-121-1a22d227b011>\", line 1>, result=<ExecutionResult object at 21e87d70358, executio..._before_exec=None error_in_exec=None result=None>)\n   2857         outflag = True  # happens in more places, so it's easier as default\n   2858         try:\n   2859             try:\n   2860                 self.hooks.pre_run_code_hook()\n   2861                 #rprint('Running code', repr(code_obj)) # dbg\n-> 2862                 exec(code_obj, self.user_global_ns, self.user_ns)\n        code_obj = <code object <module> at 0x0000021E873B15D0, file \"<ipython-input-121-1a22d227b011>\", line 1>\n        self.user_global_ns = {'In': ['', \"import pandas as pd\\nimport numpy as np\\nimport ma....magic('matplotlib inline')\\nimport gc\\nimport json\", 'def daysInMonth(x):\\n    return 28 + ((x + math.f...H\"])\\n    frame[minutes] = t.map(lambda t: t[\"M\"])', 'df = pd.read_csv(\"train_dataset.csv\")\\ndf.head()', 'df = df.dropna()\\ndf = df.drop(df[df[\"AirTime\"] == 0].index)', 'df = dropRare(df, \"FlightNum\", 20)\\ndf = dropRare(df, \"Dest\", 5)\\ndf = dropRare(df, \"Origin\", 5)', 'df[\"DayOfYear\"] = df.apply(lambda x: getDaysFromYearStart(x[\"Month\"], x[\"DayofMonth\"]), axis=1)', 'df[\"AirTimeFrame\"] = df[\"AirTime\"].map(lambda x: math.log((x // 30) + 1, 10))', 'reclass_time(df, \"DepTime\", \"DepHour\", \"DepMinut...r\"] = df[\"DayOfYear\"] * 24 - (24 - df[\"DepHour\"])', 'reclass_time(df, \"ArrTime\", \"ArrHour\", \"ArrMinut...r\"] = df[\"DayOfYear\"] * 24 - (24 - df[\"ArrHour\"])', 'df[\"DistanceFrame\"] = df[\"Distance\"].map(lambda x: math.log((x // 30) + 1, 2))', 'gc.collect()\\ndf[\"DepHourOfYearFrame\"] = df[\"DepH... on=[\\'DepHourOfYearFrame\\', \\'Origin\\'], how=\\'left\\')', 'gc.collect()\\ndf[\"ArrHourOfYearFrame\"] = df[\"ArrH...n, on=[\\'ArrHourOfYearFrame\\', \\'Dest\\'], how=\\'left\\')', 'gc.collect()', 'with open(\\'../airport_info.json\\', \\'r\\') as data_f...est\"].map(lambda x: airport_data[x][\\'Longitude\\'])', 'with open(\\'airport_info.json\\', \\'r\\') as data_file...est\"].map(lambda x: airport_data[x][\\'Longitude\\'])', 'df[\"OTimeZone\"] = df[\"OTimeZone\"].map(lambda x: ...[\"DTimeZone\"].map(lambda x: int(x.split(\\':\\')[0]))', 'df[\"OLtFrame\"] = df[\"OLatitude\"].astype(\\'float\\')...] = df[\"DLongitude\"].astype(\\'float\\').agg(\\'floor\\')', 'df.columns', 'df.head()', ...], 'Out': {3:    Month  DayofMonth  DayOfWeek  DepTime  ArrTim...    PHX  FLL      1972     9.0     21.0       1  , 13: 49, 18: Index(['Month', 'DayofMonth', 'DayOfWeek', 'DepT...', 'OLgFrame', 'DLgFrame'],\n      dtype='object'), 19:    Month  DayofMonth  DayOfWeek  DepTime  ArrTim...26.0    -113.0     -81.0  \n\n[5 rows x 42 columns], 20: 160, 25:    Month  DayofMonth  DayOfWeek  DepTime  ArrTim...\n4  -0.870296  -0.894521  \n\n[5 rows x 58 columns], 26: 66, 30: (3425471, 78), 33: (3425471, 14), 34:    AirFrameChance  DepFrameChance  ArrFrameChanc... \n4          -0.606092         0.044492       1  , ...}, '_': array([  2.00000000e+00,   1.00000000e+00,   9.9...0000000e-03,   1.42857143e-03,   0.00000000e+00]), '_100':          Distance  TaxiIn  TaxiOut   OLatitude  ...1014                   0  \n\n[5 rows x 77 columns], '_101': 3253692    1\n982601     0\n240487     0\n138436     0\n3034898    0\nName: target, dtype: int64, '_104':          Distance  TaxiIn  TaxiOut   OLatitude  ...632817                 0  \n\n[5 rows x 77 columns], '_105': 1, '_106': 1246854    1\n942626     0\n3076396    0\n1434247    1\n2632817    0\nName: target, dtype: int64, '_108': RandomForestClassifier(bootstrap=True, class_wei...te=None, verbose=0,\n            warm_start=False), '_110': (1027642, 2), ...}\n        self.user_ns = {'In': ['', \"import pandas as pd\\nimport numpy as np\\nimport ma....magic('matplotlib inline')\\nimport gc\\nimport json\", 'def daysInMonth(x):\\n    return 28 + ((x + math.f...H\"])\\n    frame[minutes] = t.map(lambda t: t[\"M\"])', 'df = pd.read_csv(\"train_dataset.csv\")\\ndf.head()', 'df = df.dropna()\\ndf = df.drop(df[df[\"AirTime\"] == 0].index)', 'df = dropRare(df, \"FlightNum\", 20)\\ndf = dropRare(df, \"Dest\", 5)\\ndf = dropRare(df, \"Origin\", 5)', 'df[\"DayOfYear\"] = df.apply(lambda x: getDaysFromYearStart(x[\"Month\"], x[\"DayofMonth\"]), axis=1)', 'df[\"AirTimeFrame\"] = df[\"AirTime\"].map(lambda x: math.log((x // 30) + 1, 10))', 'reclass_time(df, \"DepTime\", \"DepHour\", \"DepMinut...r\"] = df[\"DayOfYear\"] * 24 - (24 - df[\"DepHour\"])', 'reclass_time(df, \"ArrTime\", \"ArrHour\", \"ArrMinut...r\"] = df[\"DayOfYear\"] * 24 - (24 - df[\"ArrHour\"])', 'df[\"DistanceFrame\"] = df[\"Distance\"].map(lambda x: math.log((x // 30) + 1, 2))', 'gc.collect()\\ndf[\"DepHourOfYearFrame\"] = df[\"DepH... on=[\\'DepHourOfYearFrame\\', \\'Origin\\'], how=\\'left\\')', 'gc.collect()\\ndf[\"ArrHourOfYearFrame\"] = df[\"ArrH...n, on=[\\'ArrHourOfYearFrame\\', \\'Dest\\'], how=\\'left\\')', 'gc.collect()', 'with open(\\'../airport_info.json\\', \\'r\\') as data_f...est\"].map(lambda x: airport_data[x][\\'Longitude\\'])', 'with open(\\'airport_info.json\\', \\'r\\') as data_file...est\"].map(lambda x: airport_data[x][\\'Longitude\\'])', 'df[\"OTimeZone\"] = df[\"OTimeZone\"].map(lambda x: ...[\"DTimeZone\"].map(lambda x: int(x.split(\\':\\')[0]))', 'df[\"OLtFrame\"] = df[\"OLatitude\"].astype(\\'float\\')...] = df[\"DLongitude\"].astype(\\'float\\').agg(\\'floor\\')', 'df.columns', 'df.head()', ...], 'Out': {3:    Month  DayofMonth  DayOfWeek  DepTime  ArrTim...    PHX  FLL      1972     9.0     21.0       1  , 13: 49, 18: Index(['Month', 'DayofMonth', 'DayOfWeek', 'DepT...', 'OLgFrame', 'DLgFrame'],\n      dtype='object'), 19:    Month  DayofMonth  DayOfWeek  DepTime  ArrTim...26.0    -113.0     -81.0  \n\n[5 rows x 42 columns], 20: 160, 25:    Month  DayofMonth  DayOfWeek  DepTime  ArrTim...\n4  -0.870296  -0.894521  \n\n[5 rows x 58 columns], 26: 66, 30: (3425471, 78), 33: (3425471, 14), 34:    AirFrameChance  DepFrameChance  ArrFrameChanc... \n4          -0.606092         0.044492       1  , ...}, '_': array([  2.00000000e+00,   1.00000000e+00,   9.9...0000000e-03,   1.42857143e-03,   0.00000000e+00]), '_100':          Distance  TaxiIn  TaxiOut   OLatitude  ...1014                   0  \n\n[5 rows x 77 columns], '_101': 3253692    1\n982601     0\n240487     0\n138436     0\n3034898    0\nName: target, dtype: int64, '_104':          Distance  TaxiIn  TaxiOut   OLatitude  ...632817                 0  \n\n[5 rows x 77 columns], '_105': 1, '_106': 1246854    1\n942626     0\n3076396    0\n1434247    1\n2632817    0\nName: target, dtype: int64, '_108': RandomForestClassifier(bootstrap=True, class_wei...te=None, verbose=0,\n            warm_start=False), '_110': (1027642, 2), ...}\n   2863             finally:\n   2864                 # Reset our crash handler in place\n   2865                 sys.excepthook = old_excepthook\n   2866         except SystemExit as e:\n\n...........................................................................\nC:\\Users\\Игорь\\banana-ml\\bfd\\<ipython-input-121-1a22d227b011> in <module>()\n----> 1 dec.fit(dec_train, dec_lbl_train)\n\n...........................................................................\nD:\\Anaconda3\\lib\\site-packages\\sklearn\\ensemble\\forest.py in fit(self=RandomForestClassifier(bootstrap=True, class_wei...te=None, verbose=0,\n            warm_start=False), X=array([[  1.10000000e+02,   6.00000000e+00,   1.....00000000e+00,   0.00000000e+00]], dtype=float32), y=array([[ 0.],\n       [ 0.],\n       [ 0.],\n       ..., \n       [ 0.],\n       [ 0.],\n       [ 0.]]), sample_weight=None)\n    322             trees = Parallel(n_jobs=self.n_jobs, verbose=self.verbose,\n    323                              backend=\"threading\")(\n    324                 delayed(_parallel_build_trees)(\n    325                     t, self, X, y, sample_weight, i, len(trees),\n    326                     verbose=self.verbose, class_weight=self.class_weight)\n--> 327                 for i, t in enumerate(trees))\n        i = 99\n    328 \n    329             # Collect newly grown trees\n    330             self.estimators_.extend(trees)\n    331 \n\n...........................................................................\nD:\\Anaconda3\\lib\\site-packages\\sklearn\\externals\\joblib\\parallel.py in __call__(self=Parallel(n_jobs=4), iterable=<generator object BaseForest.fit.<locals>.<genexpr>>)\n    784             if pre_dispatch == \"all\" or n_jobs == 1:\n    785                 # The iterable was consumed all at once by the above for loop.\n    786                 # No need to wait for async callbacks to trigger to\n    787                 # consumption.\n    788                 self._iterating = False\n--> 789             self.retrieve()\n        self.retrieve = <bound method Parallel.retrieve of Parallel(n_jobs=4)>\n    790             # Make sure that we get a last message telling us we are done\n    791             elapsed_time = time.time() - self._start_time\n    792             self._print('Done %3i out of %3i | elapsed: %s finished',\n    793                         (len(self._output), len(self._output),\n\n---------------------------------------------------------------------------\nSub-process traceback:\n---------------------------------------------------------------------------\nMemoryError                                        Sun Feb 25 19:13:14 2018\nPID: 9436                             Python 3.6.2: D:\\Anaconda3\\python.exe\n...........................................................................\nD:\\Anaconda3\\lib\\site-packages\\sklearn\\externals\\joblib\\parallel.py in __call__(self=<sklearn.externals.joblib.parallel.BatchedCalls object>)\n    126     def __init__(self, iterator_slice):\n    127         self.items = list(iterator_slice)\n    128         self._size = len(self.items)\n    129 \n    130     def __call__(self):\n--> 131         return [func(*args, **kwargs) for func, args, kwargs in self.items]\n        self.items = [(<function _parallel_build_trees>, (DecisionTreeClassifier(class_weight=None, criter...         random_state=702015876, splitter='best'), RandomForestClassifier(bootstrap=True, class_wei...te=None, verbose=0,\n            warm_start=False), array([[  1.10000000e+02,   6.00000000e+00,   1.....00000000e+00,   0.00000000e+00]], dtype=float32), array([[ 0.],\n       [ 0.],\n       [ 0.],\n       ..., \n       [ 0.],\n       [ 0.],\n       [ 0.]]), None, 68, 100), {'class_weight': None, 'verbose': 0})]\n    132 \n    133     def __len__(self):\n    134         return self._size\n    135 \n\n...........................................................................\nD:\\Anaconda3\\lib\\site-packages\\sklearn\\externals\\joblib\\parallel.py in <listcomp>(.0=<list_iterator object>)\n    126     def __init__(self, iterator_slice):\n    127         self.items = list(iterator_slice)\n    128         self._size = len(self.items)\n    129 \n    130     def __call__(self):\n--> 131         return [func(*args, **kwargs) for func, args, kwargs in self.items]\n        func = <function _parallel_build_trees>\n        args = (DecisionTreeClassifier(class_weight=None, criter...         random_state=702015876, splitter='best'), RandomForestClassifier(bootstrap=True, class_wei...te=None, verbose=0,\n            warm_start=False), array([[  1.10000000e+02,   6.00000000e+00,   1.....00000000e+00,   0.00000000e+00]], dtype=float32), array([[ 0.],\n       [ 0.],\n       [ 0.],\n       ..., \n       [ 0.],\n       [ 0.],\n       [ 0.]]), None, 68, 100)\n        kwargs = {'class_weight': None, 'verbose': 0}\n    132 \n    133     def __len__(self):\n    134         return self._size\n    135 \n\n...........................................................................\nD:\\Anaconda3\\lib\\site-packages\\sklearn\\ensemble\\forest.py in _parallel_build_trees(tree=DecisionTreeClassifier(class_weight=None, criter...         random_state=702015876, splitter='best'), forest=RandomForestClassifier(bootstrap=True, class_wei...te=None, verbose=0,\n            warm_start=False), X=array([[  1.10000000e+02,   6.00000000e+00,   1.....00000000e+00,   0.00000000e+00]], dtype=float32), y=array([[ 0.],\n       [ 0.],\n       [ 0.],\n       ..., \n       [ 0.],\n       [ 0.],\n       [ 0.]]), sample_weight=None, tree_idx=68, n_trees=100, verbose=0, class_weight=None)\n    115                 warnings.simplefilter('ignore', DeprecationWarning)\n    116                 curr_sample_weight *= compute_sample_weight('auto', y, indices)\n    117         elif class_weight == 'balanced_subsample':\n    118             curr_sample_weight *= compute_sample_weight('balanced', y, indices)\n    119 \n--> 120         tree.fit(X, y, sample_weight=curr_sample_weight, check_input=False)\n        tree.fit = <bound method DecisionTreeClassifier.fit of Deci...        random_state=702015876, splitter='best')>\n        X = array([[  1.10000000e+02,   6.00000000e+00,   1.....00000000e+00,   0.00000000e+00]], dtype=float32)\n        y = array([[ 0.],\n       [ 0.],\n       [ 0.],\n       ..., \n       [ 0.],\n       [ 0.],\n       [ 0.]])\n        sample_weight = None\n        curr_sample_weight = array([ 0.,  1.,  0., ...,  1.,  1.,  0.])\n    121     else:\n    122         tree.fit(X, y, sample_weight=sample_weight, check_input=False)\n    123 \n    124     return tree\n\n...........................................................................\nD:\\Anaconda3\\lib\\site-packages\\sklearn\\tree\\tree.py in fit(self=DecisionTreeClassifier(class_weight=None, criter...         random_state=702015876, splitter='best'), X=array([[  1.10000000e+02,   6.00000000e+00,   1.....00000000e+00,   0.00000000e+00]], dtype=float32), y=array([[ 0.],\n       [ 0.],\n       [ 0.],\n       ..., \n       [ 0.],\n       [ 0.],\n       [ 0.]]), sample_weight=array([ 0.,  1.,  0., ...,  1.,  1.,  0.]), check_input=False, X_idx_sorted=None)\n    785 \n    786         super(DecisionTreeClassifier, self).fit(\n    787             X, y,\n    788             sample_weight=sample_weight,\n    789             check_input=check_input,\n--> 790             X_idx_sorted=X_idx_sorted)\n        X_idx_sorted = None\n    791         return self\n    792 \n    793     def predict_proba(self, X, check_input=True):\n    794         \"\"\"Predict class probabilities of the input samples X.\n\n...........................................................................\nD:\\Anaconda3\\lib\\site-packages\\sklearn\\tree\\tree.py in fit(self=DecisionTreeClassifier(class_weight=None, criter...         random_state=702015876, splitter='best'), X=array([[  1.10000000e+02,   6.00000000e+00,   1.....00000000e+00,   0.00000000e+00]], dtype=float32), y=array([[ 0.],\n       [ 0.],\n       [ 0.],\n       ..., \n       [ 0.],\n       [ 0.],\n       [ 0.]]), sample_weight=array([ 0.,  1.,  0., ...,  1.,  1.,  0.]), check_input=False, X_idx_sorted=None)\n    357                                            max_depth,\n    358                                            max_leaf_nodes,\n    359                                            self.min_impurity_decrease,\n    360                                            min_impurity_split)\n    361 \n--> 362         builder.build(self.tree_, X, y, sample_weight, X_idx_sorted)\n        builder.build = <built-in method build of sklearn.tree._tree.DepthFirstTreeBuilder object>\n        self.tree_ = <sklearn.tree._tree.Tree object>\n        X = array([[  1.10000000e+02,   6.00000000e+00,   1.....00000000e+00,   0.00000000e+00]], dtype=float32)\n        y = array([[ 0.],\n       [ 0.],\n       [ 0.],\n       ..., \n       [ 0.],\n       [ 0.],\n       [ 0.]])\n        sample_weight = array([ 0.,  1.,  0., ...,  1.,  1.,  0.])\n        X_idx_sorted = None\n    363 \n    364         if self.n_outputs_ == 1:\n    365             self.n_classes_ = self.n_classes_[0]\n    366             self.classes_ = self.classes_[0]\n\n...........................................................................\nD:\\Anaconda3\\lib\\site-packages\\sklearn\\tree\\_tree.cp36-win_amd64.pyd in sklearn.tree._tree.DepthFirstTreeBuilder.build()\n\n...........................................................................\nD:\\Anaconda3\\lib\\site-packages\\sklearn\\tree\\_tree.cp36-win_amd64.pyd in sklearn.tree._tree.DepthFirstTreeBuilder.build()\n\n...........................................................................\nD:\\Anaconda3\\lib\\site-packages\\sklearn\\tree\\_tree.cp36-win_amd64.pyd in sklearn.tree._tree.Tree._add_node()\n\n...........................................................................\nD:\\Anaconda3\\lib\\site-packages\\sklearn\\tree\\_tree.cp36-win_amd64.pyd in sklearn.tree._tree.Tree._resize_c()\n\n...........................................................................\nD:\\Anaconda3\\lib\\site-packages\\sklearn\\tree\\_utils.cp36-win_amd64.pyd in sklearn.tree._utils.safe_realloc()\n\nMemoryError: could not allocate 117440512 bytes\n___________________________________________________________________________"
     ]
    }
   ],
   "source": [
    "dec.fit(dec_train, dec_lbl_train)\n",
    "notif.show_toast(\"Random forest complete!\", \"Come HERE!!!!\", 10)"
   ]
  },
  {
   "cell_type": "code",
   "execution_count": 109,
   "metadata": {},
   "outputs": [],
   "source": [
    "dec_pred = dec.predict_proba(dec_test)"
   ]
  },
  {
   "cell_type": "code",
   "execution_count": 110,
   "metadata": {},
   "outputs": [
    {
     "data": {
      "text/plain": [
       "(1027642, 2)"
      ]
     },
     "execution_count": 110,
     "metadata": {},
     "output_type": "execute_result"
    }
   ],
   "source": [
    "dec_pred.shape"
   ]
  },
  {
   "cell_type": "code",
   "execution_count": 111,
   "metadata": {},
   "outputs": [
    {
     "data": {
      "image/png": "[encoded data removed]",
      "text/plain": [
       "<matplotlib.figure.Figure at 0x21f24d2beb8>"
      ]
     },
     "metadata": {},
     "output_type": "display_data"
    },
    {
     "name": "stdout",
     "output_type": "stream",
     "text": [
      "0.681132124463\n"
     ]
    }
   ],
   "source": [
    "fpr, tpr, _ = metrics.roc_curve(dec_lbl_test, dec_pred[:,1])\n",
    "plt.plot(fpr, tpr, label = 'linear model')\n",
    "plt.fill(fpr, tpr, alpha=0.5)\n",
    "plt.plot([0, 1], [0, 1], '--', color = 'grey', label = 'random')\n",
    "plt.xlim([-0.05, 1.05])\n",
    "plt.ylim([-0.05, 1.05])\n",
    "plt.xlabel('False Positive Rate')\n",
    "plt.ylabel('True Positive Rate')\n",
    "plt.title('ROC curve')\n",
    "plt.legend(loc = \"lower right\");\n",
    "plt.show()\n",
    "print(metrics.roc_auc_score(dec_lbl_test, dec_pred[:,1]))"
   ]
  },
  {
   "cell_type": "code",
   "execution_count": 45,
   "metadata": {},
   "outputs": [
    {
     "data": {
      "text/plain": [
       "0"
      ]
     },
     "execution_count": 45,
     "metadata": {},
     "output_type": "execute_result"
    }
   ],
   "source": [
    "from os import system\n",
    "dotfile = open('dectree.dot', 'w')\n",
    "tree.export_graphviz(opt.best_estimator_, out_file=dotfile, feature_names=clf_train.columns)\n",
    "dotfile.close()\n",
    "system(\"dot -Tpng dectree.dot -o dectree.png\")"
   ]
  },
  {
   "cell_type": "code",
   "execution_count": 95,
   "metadata": {
    "collapsed": true
   },
   "outputs": [],
   "source": [
    "predpr = opt.predict_proba(clf_test)"
   ]
  },
  {
   "cell_type": "code",
   "execution_count": 96,
   "metadata": {
    "scrolled": true
   },
   "outputs": [
    {
     "data": {
      "image/png": "[encoded data removed]",
      "text/plain": [
       "<matplotlib.figure.Figure at 0x7fcb5c4606d8>"
      ]
     },
     "metadata": {},
     "output_type": "display_data"
    },
    {
     "name": "stdout",
     "output_type": "stream",
     "text": [
      "0.823269464283\n"
     ]
    }
   ],
   "source": [
    "fpr, tpr, _ = metrics.roc_curve(label_test, predpr[:,1])\n",
    "plt.plot(fpr, tpr, label = 'linear model')\n",
    "plt.fill(fpr, tpr, alpha=0.5)\n",
    "plt.plot([0, 1], [0, 1], '--', color = 'grey', label = 'random')\n",
    "plt.xlim([-0.05, 1.05])\n",
    "plt.ylim([-0.05, 1.05])\n",
    "plt.xlabel('False Positive Rate')\n",
    "plt.ylabel('True Positive Rate')\n",
    "plt.title('ROC curve')\n",
    "plt.legend(loc = \"lower right\");\n",
    "plt.show()\n",
    "print(metrics.roc_auc_score(label_test, predpr[:,1]))"
   ]
  },
  {
   "cell_type": "markdown",
   "metadata": {},
   "source": [
    "# 0.822936987323"
   ]
  },
  {
   "cell_type": "code",
   "execution_count": 60,
   "metadata": {
    "collapsed": true
   },
   "outputs": [],
   "source": [
    "test_df = pd.read_csv(\"test_dataset.csv\")"
   ]
  },
  {
   "cell_type": "code",
   "execution_count": 61,
   "metadata": {},
   "outputs": [
    {
     "data": {
      "text/plain": [
       "(3504864, 15)"
      ]
     },
     "execution_count": 61,
     "metadata": {},
     "output_type": "execute_result"
    }
   ],
   "source": [
    "test_df.shape"
   ]
  },
  {
   "cell_type": "code",
   "execution_count": 62,
   "metadata": {},
   "outputs": [
    {
     "data": {
      "text/html": [
       "<div>\n",
       "<style scoped>\n",
       "    .dataframe tbody tr th:only-of-type {\n",
       "        vertical-align: middle;\n",
       "    }\n",
       "\n",
       "    .dataframe tbody tr th {\n",
       "        vertical-align: top;\n",
       "    }\n",
       "\n",
       "    .dataframe thead th {\n",
       "        text-align: right;\n",
       "    }\n",
       "</style>\n",
       "<table border=\"1\" class=\"dataframe\">\n",
       "  <thead>\n",
       "    <tr style=\"text-align: right;\">\n",
       "      <th></th>\n",
       "      <th>Month</th>\n",
       "      <th>DayofMonth</th>\n",
       "      <th>DayOfWeek</th>\n",
       "      <th>DepTime</th>\n",
       "      <th>ArrTime</th>\n",
       "      <th>UniqueCarrier</th>\n",
       "      <th>FlightNum</th>\n",
       "      <th>TailNum</th>\n",
       "      <th>AirTime</th>\n",
       "      <th>Origin</th>\n",
       "      <th>Dest</th>\n",
       "      <th>Distance</th>\n",
       "      <th>TaxiIn</th>\n",
       "      <th>TaxiOut</th>\n",
       "      <th>Id</th>\n",
       "    </tr>\n",
       "  </thead>\n",
       "  <tbody>\n",
       "    <tr>\n",
       "      <th>0</th>\n",
       "      <td>1</td>\n",
       "      <td>1</td>\n",
       "      <td>2</td>\n",
       "      <td>1851.0</td>\n",
       "      <td>2029.0</td>\n",
       "      <td>UA</td>\n",
       "      <td>735</td>\n",
       "      <td>N386UA</td>\n",
       "      <td>113.0</td>\n",
       "      <td>ALB</td>\n",
       "      <td>ORD</td>\n",
       "      <td>723</td>\n",
       "      <td>7.0</td>\n",
       "      <td>38.0</td>\n",
       "      <td>0</td>\n",
       "    </tr>\n",
       "    <tr>\n",
       "      <th>1</th>\n",
       "      <td>1</td>\n",
       "      <td>1</td>\n",
       "      <td>2</td>\n",
       "      <td>1847.0</td>\n",
       "      <td>2029.0</td>\n",
       "      <td>CO</td>\n",
       "      <td>809</td>\n",
       "      <td>N15710</td>\n",
       "      <td>191.0</td>\n",
       "      <td>IAH</td>\n",
       "      <td>SNA</td>\n",
       "      <td>1347</td>\n",
       "      <td>7.0</td>\n",
       "      <td>24.0</td>\n",
       "      <td>1</td>\n",
       "    </tr>\n",
       "    <tr>\n",
       "      <th>2</th>\n",
       "      <td>1</td>\n",
       "      <td>1</td>\n",
       "      <td>2</td>\n",
       "      <td>1522.0</td>\n",
       "      <td>1622.0</td>\n",
       "      <td>MQ</td>\n",
       "      <td>4298</td>\n",
       "      <td>N676AE</td>\n",
       "      <td>28.0</td>\n",
       "      <td>ORD</td>\n",
       "      <td>PIA</td>\n",
       "      <td>130</td>\n",
       "      <td>3.0</td>\n",
       "      <td>29.0</td>\n",
       "      <td>2</td>\n",
       "    </tr>\n",
       "    <tr>\n",
       "      <th>3</th>\n",
       "      <td>1</td>\n",
       "      <td>1</td>\n",
       "      <td>2</td>\n",
       "      <td>2013.0</td>\n",
       "      <td>2303.0</td>\n",
       "      <td>NW</td>\n",
       "      <td>876</td>\n",
       "      <td>N780NC</td>\n",
       "      <td>90.0</td>\n",
       "      <td>MSP</td>\n",
       "      <td>SDF</td>\n",
       "      <td>603</td>\n",
       "      <td>6.0</td>\n",
       "      <td>14.0</td>\n",
       "      <td>3</td>\n",
       "    </tr>\n",
       "    <tr>\n",
       "      <th>4</th>\n",
       "      <td>1</td>\n",
       "      <td>1</td>\n",
       "      <td>2</td>\n",
       "      <td>1649.0</td>\n",
       "      <td>1727.0</td>\n",
       "      <td>FL</td>\n",
       "      <td>547</td>\n",
       "      <td>N920AT</td>\n",
       "      <td>83.0</td>\n",
       "      <td>ATL</td>\n",
       "      <td>BMI</td>\n",
       "      <td>533</td>\n",
       "      <td>5.0</td>\n",
       "      <td>10.0</td>\n",
       "      <td>4</td>\n",
       "    </tr>\n",
       "  </tbody>\n",
       "</table>\n",
       "</div>"
      ],
      "text/plain": [
       "   Month  DayofMonth  DayOfWeek  DepTime  ArrTime UniqueCarrier  FlightNum  \\\n",
       "0      1           1          2   1851.0   2029.0            UA        735   \n",
       "1      1           1          2   1847.0   2029.0            CO        809   \n",
       "2      1           1          2   1522.0   1622.0            MQ       4298   \n",
       "3      1           1          2   2013.0   2303.0            NW        876   \n",
       "4      1           1          2   1649.0   1727.0            FL        547   \n",
       "\n",
       "  TailNum  AirTime Origin Dest  Distance  TaxiIn  TaxiOut  Id  \n",
       "0  N386UA    113.0    ALB  ORD       723     7.0     38.0   0  \n",
       "1  N15710    191.0    IAH  SNA      1347     7.0     24.0   1  \n",
       "2  N676AE     28.0    ORD  PIA       130     3.0     29.0   2  \n",
       "3  N780NC     90.0    MSP  SDF       603     6.0     14.0   3  \n",
       "4  N920AT     83.0    ATL  BMI       533     5.0     10.0   4  "
      ]
     },
     "execution_count": 62,
     "metadata": {},
     "output_type": "execute_result"
    }
   ],
   "source": [
    "test_df.head()"
   ]
  },
  {
   "cell_type": "code",
   "execution_count": 63,
   "metadata": {
    "collapsed": true
   },
   "outputs": [],
   "source": [
    "test_df = test_df.fillna(0)"
   ]
  },
  {
   "cell_type": "code",
   "execution_count": 64,
   "metadata": {
    "collapsed": true
   },
   "outputs": [],
   "source": [
    "test_df[\"DayOfYear\"] = test_df.apply(lambda x: getDaysFromYearStart(x[\"Month\"], x[\"DayofMonth\"]), axis=1)"
   ]
  },
  {
   "cell_type": "code",
   "execution_count": 65,
   "metadata": {
    "collapsed": true
   },
   "outputs": [],
   "source": [
    "test_df[\"AirTimeFrame\"] = test_df[\"AirTime\"].map(lambda x: math.log10(x // 30 + 1))"
   ]
  },
  {
   "cell_type": "code",
   "execution_count": 66,
   "metadata": {
    "collapsed": true
   },
   "outputs": [],
   "source": [
    "reclass_time(test_df, \"DepTime\", \"DepHour\", \"DepMinute\")\n",
    "test_df[\"DepTotalMinutes\"] = test_df[\"DepHour\"] * 60 + test_df[\"DepMinute\"]\n",
    "test_df[\"DepTimeFrame\"] = test_df[\"DepTotalMinutes\"] // 15\n",
    "test_df[\"DepHourOfYear\"] = test_df[\"DayOfYear\"] * 24 - (24 - test_df[\"DepHour\"])"
   ]
  },
  {
   "cell_type": "code",
   "execution_count": 67,
   "metadata": {
    "collapsed": true
   },
   "outputs": [],
   "source": [
    "reclass_time(test_df, \"ArrTime\", \"ArrHour\", \"ArrMinute\")\n",
    "test_df[\"ArrTotalMinutes\"] = test_df[\"ArrHour\"] * 60 + test_df[\"ArrMinute\"]\n",
    "test_df[\"ArrTimeFrame\"] = test_df[\"ArrTotalMinutes\"] // 15\n",
    "test_df[\"ArrHourOfYear\"] = test_df[\"DayOfYear\"] * 24 - (24 - test_df[\"ArrHour\"])"
   ]
  },
  {
   "cell_type": "code",
   "execution_count": 68,
   "metadata": {
    "collapsed": true
   },
   "outputs": [],
   "source": [
    "test_df[\"DepHourOfYearFrame\"] = test_df[\"DepHourOfYear\"] // 8\n",
    "test_df[\"ArrHourOfYearFrame\"] = test_df[\"ArrHourOfYear\"] // 8"
   ]
  },
  {
   "cell_type": "code",
   "execution_count": 69,
   "metadata": {},
   "outputs": [
    {
     "data": {
      "text/html": [
       "<div>\n",
       "<style scoped>\n",
       "    .dataframe tbody tr th:only-of-type {\n",
       "        vertical-align: middle;\n",
       "    }\n",
       "\n",
       "    .dataframe tbody tr th {\n",
       "        vertical-align: top;\n",
       "    }\n",
       "\n",
       "    .dataframe thead th {\n",
       "        text-align: right;\n",
       "    }\n",
       "</style>\n",
       "<table border=\"1\" class=\"dataframe\">\n",
       "  <thead>\n",
       "    <tr style=\"text-align: right;\">\n",
       "      <th></th>\n",
       "      <th>Month</th>\n",
       "      <th>DayofMonth</th>\n",
       "      <th>DayOfWeek</th>\n",
       "      <th>DepTime</th>\n",
       "      <th>ArrTime</th>\n",
       "      <th>UniqueCarrier</th>\n",
       "      <th>FlightNum</th>\n",
       "      <th>TailNum</th>\n",
       "      <th>AirTime</th>\n",
       "      <th>Origin</th>\n",
       "      <th>...</th>\n",
       "      <th>DepTotalMinutes</th>\n",
       "      <th>DepTimeFrame</th>\n",
       "      <th>DepHourOfYear</th>\n",
       "      <th>ArrHour</th>\n",
       "      <th>ArrMinute</th>\n",
       "      <th>ArrTotalMinutes</th>\n",
       "      <th>ArrTimeFrame</th>\n",
       "      <th>ArrHourOfYear</th>\n",
       "      <th>DepHourOfYearFrame</th>\n",
       "      <th>ArrHourOfYearFrame</th>\n",
       "    </tr>\n",
       "  </thead>\n",
       "  <tbody>\n",
       "    <tr>\n",
       "      <th>0</th>\n",
       "      <td>1</td>\n",
       "      <td>1</td>\n",
       "      <td>2</td>\n",
       "      <td>1851.0</td>\n",
       "      <td>2029.0</td>\n",
       "      <td>UA</td>\n",
       "      <td>735</td>\n",
       "      <td>N386UA</td>\n",
       "      <td>113.0</td>\n",
       "      <td>ALB</td>\n",
       "      <td>...</td>\n",
       "      <td>1131</td>\n",
       "      <td>75</td>\n",
       "      <td>18</td>\n",
       "      <td>20</td>\n",
       "      <td>29</td>\n",
       "      <td>1229</td>\n",
       "      <td>81</td>\n",
       "      <td>20</td>\n",
       "      <td>2</td>\n",
       "      <td>2</td>\n",
       "    </tr>\n",
       "    <tr>\n",
       "      <th>1</th>\n",
       "      <td>1</td>\n",
       "      <td>1</td>\n",
       "      <td>2</td>\n",
       "      <td>1847.0</td>\n",
       "      <td>2029.0</td>\n",
       "      <td>CO</td>\n",
       "      <td>809</td>\n",
       "      <td>N15710</td>\n",
       "      <td>191.0</td>\n",
       "      <td>IAH</td>\n",
       "      <td>...</td>\n",
       "      <td>1127</td>\n",
       "      <td>75</td>\n",
       "      <td>18</td>\n",
       "      <td>20</td>\n",
       "      <td>29</td>\n",
       "      <td>1229</td>\n",
       "      <td>81</td>\n",
       "      <td>20</td>\n",
       "      <td>2</td>\n",
       "      <td>2</td>\n",
       "    </tr>\n",
       "    <tr>\n",
       "      <th>2</th>\n",
       "      <td>1</td>\n",
       "      <td>1</td>\n",
       "      <td>2</td>\n",
       "      <td>1522.0</td>\n",
       "      <td>1622.0</td>\n",
       "      <td>MQ</td>\n",
       "      <td>4298</td>\n",
       "      <td>N676AE</td>\n",
       "      <td>28.0</td>\n",
       "      <td>ORD</td>\n",
       "      <td>...</td>\n",
       "      <td>922</td>\n",
       "      <td>61</td>\n",
       "      <td>15</td>\n",
       "      <td>16</td>\n",
       "      <td>22</td>\n",
       "      <td>982</td>\n",
       "      <td>65</td>\n",
       "      <td>16</td>\n",
       "      <td>1</td>\n",
       "      <td>2</td>\n",
       "    </tr>\n",
       "    <tr>\n",
       "      <th>3</th>\n",
       "      <td>1</td>\n",
       "      <td>1</td>\n",
       "      <td>2</td>\n",
       "      <td>2013.0</td>\n",
       "      <td>2303.0</td>\n",
       "      <td>NW</td>\n",
       "      <td>876</td>\n",
       "      <td>N780NC</td>\n",
       "      <td>90.0</td>\n",
       "      <td>MSP</td>\n",
       "      <td>...</td>\n",
       "      <td>1213</td>\n",
       "      <td>80</td>\n",
       "      <td>20</td>\n",
       "      <td>23</td>\n",
       "      <td>3</td>\n",
       "      <td>1383</td>\n",
       "      <td>92</td>\n",
       "      <td>23</td>\n",
       "      <td>2</td>\n",
       "      <td>2</td>\n",
       "    </tr>\n",
       "    <tr>\n",
       "      <th>4</th>\n",
       "      <td>1</td>\n",
       "      <td>1</td>\n",
       "      <td>2</td>\n",
       "      <td>1649.0</td>\n",
       "      <td>1727.0</td>\n",
       "      <td>FL</td>\n",
       "      <td>547</td>\n",
       "      <td>N920AT</td>\n",
       "      <td>83.0</td>\n",
       "      <td>ATL</td>\n",
       "      <td>...</td>\n",
       "      <td>1009</td>\n",
       "      <td>67</td>\n",
       "      <td>16</td>\n",
       "      <td>17</td>\n",
       "      <td>27</td>\n",
       "      <td>1047</td>\n",
       "      <td>69</td>\n",
       "      <td>17</td>\n",
       "      <td>2</td>\n",
       "      <td>2</td>\n",
       "    </tr>\n",
       "  </tbody>\n",
       "</table>\n",
       "<p>5 rows × 29 columns</p>\n",
       "</div>"
      ],
      "text/plain": [
       "   Month  DayofMonth  DayOfWeek  DepTime  ArrTime UniqueCarrier  FlightNum  \\\n",
       "0      1           1          2   1851.0   2029.0            UA        735   \n",
       "1      1           1          2   1847.0   2029.0            CO        809   \n",
       "2      1           1          2   1522.0   1622.0            MQ       4298   \n",
       "3      1           1          2   2013.0   2303.0            NW        876   \n",
       "4      1           1          2   1649.0   1727.0            FL        547   \n",
       "\n",
       "  TailNum  AirTime Origin         ...         DepTotalMinutes  DepTimeFrame  \\\n",
       "0  N386UA    113.0    ALB         ...                    1131            75   \n",
       "1  N15710    191.0    IAH         ...                    1127            75   \n",
       "2  N676AE     28.0    ORD         ...                     922            61   \n",
       "3  N780NC     90.0    MSP         ...                    1213            80   \n",
       "4  N920AT     83.0    ATL         ...                    1009            67   \n",
       "\n",
       "   DepHourOfYear  ArrHour  ArrMinute  ArrTotalMinutes  ArrTimeFrame  \\\n",
       "0             18       20         29             1229            81   \n",
       "1             18       20         29             1229            81   \n",
       "2             15       16         22              982            65   \n",
       "3             20       23          3             1383            92   \n",
       "4             16       17         27             1047            69   \n",
       "\n",
       "   ArrHourOfYear  DepHourOfYearFrame  ArrHourOfYearFrame  \n",
       "0             20                   2                   2  \n",
       "1             20                   2                   2  \n",
       "2             16                   1                   2  \n",
       "3             23                   2                   2  \n",
       "4             17                   2                   2  \n",
       "\n",
       "[5 rows x 29 columns]"
      ]
     },
     "execution_count": 69,
     "metadata": {},
     "output_type": "execute_result"
    }
   ],
   "source": [
    "test_df.head()"
   ]
  },
  {
   "cell_type": "code",
   "execution_count": 70,
   "metadata": {
    "collapsed": true
   },
   "outputs": [],
   "source": [
    "test_df = pd.merge(test_df, dhoy_origin_mean, on=['DepHourOfYearFrame', 'Origin'], how='left')\n",
    "test_df = pd.merge(test_df, ahoy_dest_mean, on=['ArrHourOfYearFrame', 'Dest'], how='left')"
   ]
  },
  {
   "cell_type": "code",
   "execution_count": 72,
   "metadata": {},
   "outputs": [],
   "source": [
    "with open('airport_info.json', 'r') as data_file:\n",
    "    airport_data = json.load(fp = data_file)\n",
    "    test_df[\"OTimeZone\"] = test_df[\"Origin\"].map(lambda x: airport_data[x]['Time Zone'])\n",
    "    test_df[\"OLatitude\"] = test_df[\"Origin\"].map(lambda x: airport_data[x]['Latitude'])\n",
    "    test_df[\"OLongitude\"] = test_df[\"Origin\"].map(lambda x: airport_data[x]['Longitude'])\n",
    "    \n",
    "    test_df[\"DTimeZone\"] = test_df[\"Dest\"].map(lambda x: airport_data[x]['Time Zone'])\n",
    "    test_df[\"DLatitude\"] = test_df[\"Dest\"].map(lambda x: airport_data[x]['Latitude'])\n",
    "    test_df[\"DLongitude\"] = test_df[\"Dest\"].map(lambda x: airport_data[x]['Longitude'])"
   ]
  },
  {
   "cell_type": "code",
   "execution_count": 73,
   "metadata": {
    "collapsed": true
   },
   "outputs": [],
   "source": [
    "test_df[\"OTimeZone\"] = test_df[\"OTimeZone\"].map(lambda x: int(x.split(':')[0]))\n",
    "test_df[\"DTimeZone\"] = test_df[\"DTimeZone\"].map(lambda x: int(x.split(':')[0]))"
   ]
  },
  {
   "cell_type": "code",
   "execution_count": 74,
   "metadata": {
    "collapsed": true
   },
   "outputs": [],
   "source": [
    "test_df[\"OLtFrame\"] = test_df[\"OLatitude\"].astype('float').agg('floor')\n",
    "test_df[\"DLtFrame\"] = test_df[\"DLatitude\"].astype('float').agg('floor')\n",
    "\n",
    "test_df[\"OLgFrame\"] = test_df[\"OLongitude\"].astype('float').agg('floor')\n",
    "test_df[\"DLgFrame\"] = test_df[\"DLongitude\"].astype('float').agg('floor')"
   ]
  },
  {
   "cell_type": "code",
   "execution_count": 75,
   "metadata": {},
   "outputs": [
    {
     "data": {
      "text/html": [
       "<div>\n",
       "<style scoped>\n",
       "    .dataframe tbody tr th:only-of-type {\n",
       "        vertical-align: middle;\n",
       "    }\n",
       "\n",
       "    .dataframe tbody tr th {\n",
       "        vertical-align: top;\n",
       "    }\n",
       "\n",
       "    .dataframe thead th {\n",
       "        text-align: right;\n",
       "    }\n",
       "</style>\n",
       "<table border=\"1\" class=\"dataframe\">\n",
       "  <thead>\n",
       "    <tr style=\"text-align: right;\">\n",
       "      <th></th>\n",
       "      <th>Month</th>\n",
       "      <th>DayofMonth</th>\n",
       "      <th>DayOfWeek</th>\n",
       "      <th>DepTime</th>\n",
       "      <th>ArrTime</th>\n",
       "      <th>UniqueCarrier</th>\n",
       "      <th>FlightNum</th>\n",
       "      <th>TailNum</th>\n",
       "      <th>AirTime</th>\n",
       "      <th>Origin</th>\n",
       "      <th>...</th>\n",
       "      <th>OTimeZone</th>\n",
       "      <th>OLatitude</th>\n",
       "      <th>OLongitude</th>\n",
       "      <th>DTimeZone</th>\n",
       "      <th>DLatitude</th>\n",
       "      <th>DLongitude</th>\n",
       "      <th>OLtFrame</th>\n",
       "      <th>DLtFrame</th>\n",
       "      <th>OLgFrame</th>\n",
       "      <th>DLgFrame</th>\n",
       "    </tr>\n",
       "  </thead>\n",
       "  <tbody>\n",
       "    <tr>\n",
       "      <th>0</th>\n",
       "      <td>1</td>\n",
       "      <td>1</td>\n",
       "      <td>2</td>\n",
       "      <td>1851.0</td>\n",
       "      <td>2029.0</td>\n",
       "      <td>UA</td>\n",
       "      <td>735</td>\n",
       "      <td>N386UA</td>\n",
       "      <td>113.0</td>\n",
       "      <td>ALB</td>\n",
       "      <td>...</td>\n",
       "      <td>-5</td>\n",
       "      <td>42.7482986</td>\n",
       "      <td>-73.8016968</td>\n",
       "      <td>-6</td>\n",
       "      <td>41.9785996</td>\n",
       "      <td>-87.9048004</td>\n",
       "      <td>42.0</td>\n",
       "      <td>41.0</td>\n",
       "      <td>-74.0</td>\n",
       "      <td>-88.0</td>\n",
       "    </tr>\n",
       "    <tr>\n",
       "      <th>1</th>\n",
       "      <td>1</td>\n",
       "      <td>1</td>\n",
       "      <td>2</td>\n",
       "      <td>1847.0</td>\n",
       "      <td>2029.0</td>\n",
       "      <td>CO</td>\n",
       "      <td>809</td>\n",
       "      <td>N15710</td>\n",
       "      <td>191.0</td>\n",
       "      <td>IAH</td>\n",
       "      <td>...</td>\n",
       "      <td>-6</td>\n",
       "      <td>29.9843998</td>\n",
       "      <td>-95.3414001</td>\n",
       "      <td>-8</td>\n",
       "      <td>33.6757011</td>\n",
       "      <td>-117.8679962</td>\n",
       "      <td>29.0</td>\n",
       "      <td>33.0</td>\n",
       "      <td>-96.0</td>\n",
       "      <td>-118.0</td>\n",
       "    </tr>\n",
       "    <tr>\n",
       "      <th>2</th>\n",
       "      <td>1</td>\n",
       "      <td>1</td>\n",
       "      <td>2</td>\n",
       "      <td>1522.0</td>\n",
       "      <td>1622.0</td>\n",
       "      <td>MQ</td>\n",
       "      <td>4298</td>\n",
       "      <td>N676AE</td>\n",
       "      <td>28.0</td>\n",
       "      <td>ORD</td>\n",
       "      <td>...</td>\n",
       "      <td>-6</td>\n",
       "      <td>41.9785996</td>\n",
       "      <td>-87.9048004</td>\n",
       "      <td>-6</td>\n",
       "      <td>40.6641998</td>\n",
       "      <td>-89.6932983</td>\n",
       "      <td>41.0</td>\n",
       "      <td>40.0</td>\n",
       "      <td>-88.0</td>\n",
       "      <td>-90.0</td>\n",
       "    </tr>\n",
       "    <tr>\n",
       "      <th>3</th>\n",
       "      <td>1</td>\n",
       "      <td>1</td>\n",
       "      <td>2</td>\n",
       "      <td>2013.0</td>\n",
       "      <td>2303.0</td>\n",
       "      <td>NW</td>\n",
       "      <td>876</td>\n",
       "      <td>N780NC</td>\n",
       "      <td>90.0</td>\n",
       "      <td>MSP</td>\n",
       "      <td>...</td>\n",
       "      <td>-6</td>\n",
       "      <td>44.882</td>\n",
       "      <td>-93.2218018</td>\n",
       "      <td>-5</td>\n",
       "      <td>38.1744003</td>\n",
       "      <td>-85.7360001</td>\n",
       "      <td>44.0</td>\n",
       "      <td>38.0</td>\n",
       "      <td>-94.0</td>\n",
       "      <td>-86.0</td>\n",
       "    </tr>\n",
       "    <tr>\n",
       "      <th>4</th>\n",
       "      <td>1</td>\n",
       "      <td>1</td>\n",
       "      <td>2</td>\n",
       "      <td>1649.0</td>\n",
       "      <td>1727.0</td>\n",
       "      <td>FL</td>\n",
       "      <td>547</td>\n",
       "      <td>N920AT</td>\n",
       "      <td>83.0</td>\n",
       "      <td>ATL</td>\n",
       "      <td>...</td>\n",
       "      <td>-5</td>\n",
       "      <td>33.6366997</td>\n",
       "      <td>-84.4281006</td>\n",
       "      <td>-6</td>\n",
       "      <td>40.4771004</td>\n",
       "      <td>-88.9159012</td>\n",
       "      <td>33.0</td>\n",
       "      <td>40.0</td>\n",
       "      <td>-85.0</td>\n",
       "      <td>-89.0</td>\n",
       "    </tr>\n",
       "  </tbody>\n",
       "</table>\n",
       "<p>5 rows × 41 columns</p>\n",
       "</div>"
      ],
      "text/plain": [
       "   Month  DayofMonth  DayOfWeek  DepTime  ArrTime UniqueCarrier  FlightNum  \\\n",
       "0      1           1          2   1851.0   2029.0            UA        735   \n",
       "1      1           1          2   1847.0   2029.0            CO        809   \n",
       "2      1           1          2   1522.0   1622.0            MQ       4298   \n",
       "3      1           1          2   2013.0   2303.0            NW        876   \n",
       "4      1           1          2   1649.0   1727.0            FL        547   \n",
       "\n",
       "  TailNum  AirTime Origin    ...    OTimeZone   OLatitude   OLongitude  \\\n",
       "0  N386UA    113.0    ALB    ...           -5  42.7482986  -73.8016968   \n",
       "1  N15710    191.0    IAH    ...           -6  29.9843998  -95.3414001   \n",
       "2  N676AE     28.0    ORD    ...           -6  41.9785996  -87.9048004   \n",
       "3  N780NC     90.0    MSP    ...           -6      44.882  -93.2218018   \n",
       "4  N920AT     83.0    ATL    ...           -5  33.6366997  -84.4281006   \n",
       "\n",
       "   DTimeZone   DLatitude    DLongitude  OLtFrame  DLtFrame  OLgFrame  DLgFrame  \n",
       "0         -6  41.9785996   -87.9048004      42.0      41.0     -74.0     -88.0  \n",
       "1         -8  33.6757011  -117.8679962      29.0      33.0     -96.0    -118.0  \n",
       "2         -6  40.6641998   -89.6932983      41.0      40.0     -88.0     -90.0  \n",
       "3         -5  38.1744003   -85.7360001      44.0      38.0     -94.0     -86.0  \n",
       "4         -6  40.4771004   -88.9159012      33.0      40.0     -85.0     -89.0  \n",
       "\n",
       "[5 rows x 41 columns]"
      ]
     },
     "execution_count": 75,
     "metadata": {},
     "output_type": "execute_result"
    }
   ],
   "source": [
    "test_df.head()"
   ]
  },
  {
   "cell_type": "code",
   "execution_count": 113,
   "metadata": {},
   "outputs": [
    {
     "data": {
      "text/html": [
       "<div>\n",
       "<style scoped>\n",
       "    .dataframe tbody tr th:only-of-type {\n",
       "        vertical-align: middle;\n",
       "    }\n",
       "\n",
       "    .dataframe tbody tr th {\n",
       "        vertical-align: top;\n",
       "    }\n",
       "\n",
       "    .dataframe thead th {\n",
       "        text-align: right;\n",
       "    }\n",
       "</style>\n",
       "<table border=\"1\" class=\"dataframe\">\n",
       "  <thead>\n",
       "    <tr style=\"text-align: right;\">\n",
       "      <th></th>\n",
       "      <th>Month</th>\n",
       "      <th>DayofMonth</th>\n",
       "      <th>DayOfWeek</th>\n",
       "      <th>DepTime</th>\n",
       "      <th>ArrTime</th>\n",
       "      <th>UniqueCarrier</th>\n",
       "      <th>FlightNum</th>\n",
       "      <th>TailNum</th>\n",
       "      <th>AirTime</th>\n",
       "      <th>Origin</th>\n",
       "      <th>...</th>\n",
       "      <th>DHOYChance</th>\n",
       "      <th>CarrierChance</th>\n",
       "      <th>DepFrameChance</th>\n",
       "      <th>OLtChance</th>\n",
       "      <th>OriginChance</th>\n",
       "      <th>DTZChance</th>\n",
       "      <th>ArrFrameChance</th>\n",
       "      <th>PlaneChance</th>\n",
       "      <th>AirFrameChance</th>\n",
       "      <th>FlightChance</th>\n",
       "    </tr>\n",
       "  </thead>\n",
       "  <tbody>\n",
       "    <tr>\n",
       "      <th>0</th>\n",
       "      <td>1</td>\n",
       "      <td>1</td>\n",
       "      <td>2</td>\n",
       "      <td>1851.0</td>\n",
       "      <td>2029.0</td>\n",
       "      <td>UA</td>\n",
       "      <td>735</td>\n",
       "      <td>N386UA</td>\n",
       "      <td>113.0</td>\n",
       "      <td>ALB</td>\n",
       "      <td>...</td>\n",
       "      <td>0.271974</td>\n",
       "      <td>-0.678807</td>\n",
       "      <td>-0.673394</td>\n",
       "      <td>-0.990507</td>\n",
       "      <td>-1.115451</td>\n",
       "      <td>-0.840467</td>\n",
       "      <td>-0.515531</td>\n",
       "      <td>-0.739112</td>\n",
       "      <td>NaN</td>\n",
       "      <td>-0.899933</td>\n",
       "    </tr>\n",
       "    <tr>\n",
       "      <th>1</th>\n",
       "      <td>1</td>\n",
       "      <td>1</td>\n",
       "      <td>2</td>\n",
       "      <td>1847.0</td>\n",
       "      <td>2029.0</td>\n",
       "      <td>CO</td>\n",
       "      <td>809</td>\n",
       "      <td>N15710</td>\n",
       "      <td>191.0</td>\n",
       "      <td>IAH</td>\n",
       "      <td>...</td>\n",
       "      <td>0.271974</td>\n",
       "      <td>-0.563821</td>\n",
       "      <td>-0.673394</td>\n",
       "      <td>-0.722501</td>\n",
       "      <td>-0.676679</td>\n",
       "      <td>-0.828512</td>\n",
       "      <td>-0.515531</td>\n",
       "      <td>-0.696971</td>\n",
       "      <td>NaN</td>\n",
       "      <td>-1.078534</td>\n",
       "    </tr>\n",
       "    <tr>\n",
       "      <th>2</th>\n",
       "      <td>1</td>\n",
       "      <td>1</td>\n",
       "      <td>2</td>\n",
       "      <td>1522.0</td>\n",
       "      <td>1622.0</td>\n",
       "      <td>MQ</td>\n",
       "      <td>4298</td>\n",
       "      <td>N676AE</td>\n",
       "      <td>28.0</td>\n",
       "      <td>ORD</td>\n",
       "      <td>...</td>\n",
       "      <td>0.207184</td>\n",
       "      <td>-0.784018</td>\n",
       "      <td>-0.603187</td>\n",
       "      <td>-0.643343</td>\n",
       "      <td>-0.442889</td>\n",
       "      <td>-0.840467</td>\n",
       "      <td>-0.757207</td>\n",
       "      <td>-0.545388</td>\n",
       "      <td>-1.199295</td>\n",
       "      <td>-0.656061</td>\n",
       "    </tr>\n",
       "    <tr>\n",
       "      <th>3</th>\n",
       "      <td>1</td>\n",
       "      <td>1</td>\n",
       "      <td>2</td>\n",
       "      <td>2013.0</td>\n",
       "      <td>2303.0</td>\n",
       "      <td>NW</td>\n",
       "      <td>876</td>\n",
       "      <td>N780NC</td>\n",
       "      <td>90.0</td>\n",
       "      <td>MSP</td>\n",
       "      <td>...</td>\n",
       "      <td>0.750160</td>\n",
       "      <td>-1.149636</td>\n",
       "      <td>-0.108377</td>\n",
       "      <td>-1.068220</td>\n",
       "      <td>-1.026623</td>\n",
       "      <td>-0.833031</td>\n",
       "      <td>-0.022839</td>\n",
       "      <td>-1.239633</td>\n",
       "      <td>NaN</td>\n",
       "      <td>-1.201588</td>\n",
       "    </tr>\n",
       "    <tr>\n",
       "      <th>4</th>\n",
       "      <td>1</td>\n",
       "      <td>1</td>\n",
       "      <td>2</td>\n",
       "      <td>1649.0</td>\n",
       "      <td>1727.0</td>\n",
       "      <td>FL</td>\n",
       "      <td>547</td>\n",
       "      <td>N920AT</td>\n",
       "      <td>83.0</td>\n",
       "      <td>ATL</td>\n",
       "      <td>...</td>\n",
       "      <td>0.171149</td>\n",
       "      <td>-0.900070</td>\n",
       "      <td>-0.699574</td>\n",
       "      <td>-0.799550</td>\n",
       "      <td>-0.664952</td>\n",
       "      <td>-0.840467</td>\n",
       "      <td>-0.607884</td>\n",
       "      <td>-0.923573</td>\n",
       "      <td>-0.895467</td>\n",
       "      <td>-0.446774</td>\n",
       "    </tr>\n",
       "  </tbody>\n",
       "</table>\n",
       "<p>5 rows × 57 columns</p>\n",
       "</div>"
      ],
      "text/plain": [
       "   Month  DayofMonth  DayOfWeek  DepTime  ArrTime UniqueCarrier  FlightNum  \\\n",
       "0      1           1          2   1851.0   2029.0            UA        735   \n",
       "1      1           1          2   1847.0   2029.0            CO        809   \n",
       "2      1           1          2   1522.0   1622.0            MQ       4298   \n",
       "3      1           1          2   2013.0   2303.0            NW        876   \n",
       "4      1           1          2   1649.0   1727.0            FL        547   \n",
       "\n",
       "  TailNum  AirTime Origin      ...      DHOYChance  CarrierChance  \\\n",
       "0  N386UA    113.0    ALB      ...        0.271974      -0.678807   \n",
       "1  N15710    191.0    IAH      ...        0.271974      -0.563821   \n",
       "2  N676AE     28.0    ORD      ...        0.207184      -0.784018   \n",
       "3  N780NC     90.0    MSP      ...        0.750160      -1.149636   \n",
       "4  N920AT     83.0    ATL      ...        0.171149      -0.900070   \n",
       "\n",
       "   DepFrameChance  OLtChance  OriginChance  DTZChance  ArrFrameChance  \\\n",
       "0       -0.673394  -0.990507     -1.115451  -0.840467       -0.515531   \n",
       "1       -0.673394  -0.722501     -0.676679  -0.828512       -0.515531   \n",
       "2       -0.603187  -0.643343     -0.442889  -0.840467       -0.757207   \n",
       "3       -0.108377  -1.068220     -1.026623  -0.833031       -0.022839   \n",
       "4       -0.699574  -0.799550     -0.664952  -0.840467       -0.607884   \n",
       "\n",
       "   PlaneChance  AirFrameChance  FlightChance  \n",
       "0    -0.739112             NaN     -0.899933  \n",
       "1    -0.696971             NaN     -1.078534  \n",
       "2    -0.545388       -1.199295     -0.656061  \n",
       "3    -1.239633             NaN     -1.201588  \n",
       "4    -0.923573       -0.895467     -0.446774  \n",
       "\n",
       "[5 rows x 57 columns]"
      ]
     },
     "execution_count": 113,
     "metadata": {},
     "output_type": "execute_result"
    }
   ],
   "source": [
    "for orig, mean in mean_names.items():\n",
    "    test_df = reclassMeanOpt(test_df, df, orig, mean)\n",
    "    gc.collect()\n",
    "test_df.head()"
   ]
  },
  {
   "cell_type": "code",
   "execution_count": 76,
   "metadata": {},
   "outputs": [
    {
     "data": {
      "text/plain": [
       "24367"
      ]
     },
     "execution_count": 76,
     "metadata": {},
     "output_type": "execute_result"
    }
   ],
   "source": [
    "gc.collect()"
   ]
  },
  {
   "cell_type": "code",
   "execution_count": 84,
   "metadata": {
    "collapsed": true
   },
   "outputs": [],
   "source": [
    "test_df.fillna(0, inplace=True)"
   ]
  },
  {
   "cell_type": "code",
   "execution_count": 85,
   "metadata": {},
   "outputs": [
    {
     "data": {
      "text/html": [
       "<div>\n",
       "<style scoped>\n",
       "    .dataframe tbody tr th:only-of-type {\n",
       "        vertical-align: middle;\n",
       "    }\n",
       "\n",
       "    .dataframe tbody tr th {\n",
       "        vertical-align: top;\n",
       "    }\n",
       "\n",
       "    .dataframe thead th {\n",
       "        text-align: right;\n",
       "    }\n",
       "</style>\n",
       "<table border=\"1\" class=\"dataframe\">\n",
       "  <thead>\n",
       "    <tr style=\"text-align: right;\">\n",
       "      <th></th>\n",
       "      <th>Month</th>\n",
       "      <th>DayofMonth</th>\n",
       "      <th>DayOfWeek</th>\n",
       "      <th>DepTime</th>\n",
       "      <th>ArrTime</th>\n",
       "      <th>UniqueCarrier</th>\n",
       "      <th>FlightNum</th>\n",
       "      <th>TailNum</th>\n",
       "      <th>AirTime</th>\n",
       "      <th>Origin</th>\n",
       "      <th>...</th>\n",
       "      <th>OTimeZone</th>\n",
       "      <th>OLatitude</th>\n",
       "      <th>OLongitude</th>\n",
       "      <th>DTimeZone</th>\n",
       "      <th>DLatitude</th>\n",
       "      <th>DLongitude</th>\n",
       "      <th>OLtFrame</th>\n",
       "      <th>DLtFrame</th>\n",
       "      <th>OLgFrame</th>\n",
       "      <th>DLgFrame</th>\n",
       "    </tr>\n",
       "  </thead>\n",
       "  <tbody>\n",
       "    <tr>\n",
       "      <th>0</th>\n",
       "      <td>1</td>\n",
       "      <td>1</td>\n",
       "      <td>2</td>\n",
       "      <td>1851.0</td>\n",
       "      <td>2029.0</td>\n",
       "      <td>UA</td>\n",
       "      <td>735</td>\n",
       "      <td>N386UA</td>\n",
       "      <td>113.0</td>\n",
       "      <td>ALB</td>\n",
       "      <td>...</td>\n",
       "      <td>-5</td>\n",
       "      <td>42.7482986</td>\n",
       "      <td>-73.8016968</td>\n",
       "      <td>-6</td>\n",
       "      <td>41.9785996</td>\n",
       "      <td>-87.9048004</td>\n",
       "      <td>42.0</td>\n",
       "      <td>41.0</td>\n",
       "      <td>-74.0</td>\n",
       "      <td>-88.0</td>\n",
       "    </tr>\n",
       "    <tr>\n",
       "      <th>1</th>\n",
       "      <td>1</td>\n",
       "      <td>1</td>\n",
       "      <td>2</td>\n",
       "      <td>1847.0</td>\n",
       "      <td>2029.0</td>\n",
       "      <td>CO</td>\n",
       "      <td>809</td>\n",
       "      <td>N15710</td>\n",
       "      <td>191.0</td>\n",
       "      <td>IAH</td>\n",
       "      <td>...</td>\n",
       "      <td>-6</td>\n",
       "      <td>29.9843998</td>\n",
       "      <td>-95.3414001</td>\n",
       "      <td>-8</td>\n",
       "      <td>33.6757011</td>\n",
       "      <td>-117.8679962</td>\n",
       "      <td>29.0</td>\n",
       "      <td>33.0</td>\n",
       "      <td>-96.0</td>\n",
       "      <td>-118.0</td>\n",
       "    </tr>\n",
       "    <tr>\n",
       "      <th>2</th>\n",
       "      <td>1</td>\n",
       "      <td>1</td>\n",
       "      <td>2</td>\n",
       "      <td>1522.0</td>\n",
       "      <td>1622.0</td>\n",
       "      <td>MQ</td>\n",
       "      <td>4298</td>\n",
       "      <td>N676AE</td>\n",
       "      <td>28.0</td>\n",
       "      <td>ORD</td>\n",
       "      <td>...</td>\n",
       "      <td>-6</td>\n",
       "      <td>41.9785996</td>\n",
       "      <td>-87.9048004</td>\n",
       "      <td>-6</td>\n",
       "      <td>40.6641998</td>\n",
       "      <td>-89.6932983</td>\n",
       "      <td>41.0</td>\n",
       "      <td>40.0</td>\n",
       "      <td>-88.0</td>\n",
       "      <td>-90.0</td>\n",
       "    </tr>\n",
       "    <tr>\n",
       "      <th>3</th>\n",
       "      <td>1</td>\n",
       "      <td>1</td>\n",
       "      <td>2</td>\n",
       "      <td>2013.0</td>\n",
       "      <td>2303.0</td>\n",
       "      <td>NW</td>\n",
       "      <td>876</td>\n",
       "      <td>N780NC</td>\n",
       "      <td>90.0</td>\n",
       "      <td>MSP</td>\n",
       "      <td>...</td>\n",
       "      <td>-6</td>\n",
       "      <td>44.882</td>\n",
       "      <td>-93.2218018</td>\n",
       "      <td>-5</td>\n",
       "      <td>38.1744003</td>\n",
       "      <td>-85.7360001</td>\n",
       "      <td>44.0</td>\n",
       "      <td>38.0</td>\n",
       "      <td>-94.0</td>\n",
       "      <td>-86.0</td>\n",
       "    </tr>\n",
       "    <tr>\n",
       "      <th>4</th>\n",
       "      <td>1</td>\n",
       "      <td>1</td>\n",
       "      <td>2</td>\n",
       "      <td>1649.0</td>\n",
       "      <td>1727.0</td>\n",
       "      <td>FL</td>\n",
       "      <td>547</td>\n",
       "      <td>N920AT</td>\n",
       "      <td>83.0</td>\n",
       "      <td>ATL</td>\n",
       "      <td>...</td>\n",
       "      <td>-5</td>\n",
       "      <td>33.6366997</td>\n",
       "      <td>-84.4281006</td>\n",
       "      <td>-6</td>\n",
       "      <td>40.4771004</td>\n",
       "      <td>-88.9159012</td>\n",
       "      <td>33.0</td>\n",
       "      <td>40.0</td>\n",
       "      <td>-85.0</td>\n",
       "      <td>-89.0</td>\n",
       "    </tr>\n",
       "  </tbody>\n",
       "</table>\n",
       "<p>5 rows × 41 columns</p>\n",
       "</div>"
      ],
      "text/plain": [
       "   Month  DayofMonth  DayOfWeek  DepTime  ArrTime UniqueCarrier  FlightNum  \\\n",
       "0      1           1          2   1851.0   2029.0            UA        735   \n",
       "1      1           1          2   1847.0   2029.0            CO        809   \n",
       "2      1           1          2   1522.0   1622.0            MQ       4298   \n",
       "3      1           1          2   2013.0   2303.0            NW        876   \n",
       "4      1           1          2   1649.0   1727.0            FL        547   \n",
       "\n",
       "  TailNum  AirTime Origin    ...    OTimeZone   OLatitude   OLongitude  \\\n",
       "0  N386UA    113.0    ALB    ...           -5  42.7482986  -73.8016968   \n",
       "1  N15710    191.0    IAH    ...           -6  29.9843998  -95.3414001   \n",
       "2  N676AE     28.0    ORD    ...           -6  41.9785996  -87.9048004   \n",
       "3  N780NC     90.0    MSP    ...           -6      44.882  -93.2218018   \n",
       "4  N920AT     83.0    ATL    ...           -5  33.6366997  -84.4281006   \n",
       "\n",
       "   DTimeZone   DLatitude    DLongitude  OLtFrame  DLtFrame  OLgFrame  DLgFrame  \n",
       "0         -6  41.9785996   -87.9048004      42.0      41.0     -74.0     -88.0  \n",
       "1         -8  33.6757011  -117.8679962      29.0      33.0     -96.0    -118.0  \n",
       "2         -6  40.6641998   -89.6932983      41.0      40.0     -88.0     -90.0  \n",
       "3         -5  38.1744003   -85.7360001      44.0      38.0     -94.0     -86.0  \n",
       "4         -6  40.4771004   -88.9159012      33.0      40.0     -85.0     -89.0  \n",
       "\n",
       "[5 rows x 41 columns]"
      ]
     },
     "execution_count": 85,
     "metadata": {},
     "output_type": "execute_result"
    }
   ],
   "source": [
    "test_df.head()"
   ]
  },
  {
   "cell_type": "code",
   "execution_count": 87,
   "metadata": {},
   "outputs": [],
   "source": [
    "test_clf_df = pd.get_dummies(test_df[used_cols_dec], columns=cat_cols_dec)"
   ]
  },
  {
   "cell_type": "code",
   "execution_count": 88,
   "metadata": {},
   "outputs": [
    {
     "data": {
      "text/plain": [
       "(3504864, 77)"
      ]
     },
     "execution_count": 88,
     "metadata": {},
     "output_type": "execute_result"
    }
   ],
   "source": [
    "test_clf_df.shape"
   ]
  },
  {
   "cell_type": "code",
   "execution_count": 89,
   "metadata": {
    "scrolled": false
   },
   "outputs": [
    {
     "data": {
      "text/html": [
       "<div>\n",
       "<style scoped>\n",
       "    .dataframe tbody tr th:only-of-type {\n",
       "        vertical-align: middle;\n",
       "    }\n",
       "\n",
       "    .dataframe tbody tr th {\n",
       "        vertical-align: top;\n",
       "    }\n",
       "\n",
       "    .dataframe thead th {\n",
       "        text-align: right;\n",
       "    }\n",
       "</style>\n",
       "<table border=\"1\" class=\"dataframe\">\n",
       "  <thead>\n",
       "    <tr style=\"text-align: right;\">\n",
       "      <th></th>\n",
       "      <th>Distance</th>\n",
       "      <th>TaxiIn</th>\n",
       "      <th>TaxiOut</th>\n",
       "      <th>OLatitude</th>\n",
       "      <th>OLongitude</th>\n",
       "      <th>DLatitude</th>\n",
       "      <th>DLongitude</th>\n",
       "      <th>Month_1</th>\n",
       "      <th>Month_2</th>\n",
       "      <th>Month_3</th>\n",
       "      <th>...</th>\n",
       "      <th>UniqueCarrier_HA</th>\n",
       "      <th>UniqueCarrier_MQ</th>\n",
       "      <th>UniqueCarrier_NW</th>\n",
       "      <th>UniqueCarrier_OH</th>\n",
       "      <th>UniqueCarrier_OO</th>\n",
       "      <th>UniqueCarrier_UA</th>\n",
       "      <th>UniqueCarrier_US</th>\n",
       "      <th>UniqueCarrier_WN</th>\n",
       "      <th>UniqueCarrier_XE</th>\n",
       "      <th>UniqueCarrier_YV</th>\n",
       "    </tr>\n",
       "  </thead>\n",
       "  <tbody>\n",
       "    <tr>\n",
       "      <th>0</th>\n",
       "      <td>723</td>\n",
       "      <td>7.0</td>\n",
       "      <td>38.0</td>\n",
       "      <td>42.7482986</td>\n",
       "      <td>-73.8016968</td>\n",
       "      <td>41.9785996</td>\n",
       "      <td>-87.9048004</td>\n",
       "      <td>1</td>\n",
       "      <td>0</td>\n",
       "      <td>0</td>\n",
       "      <td>...</td>\n",
       "      <td>0</td>\n",
       "      <td>0</td>\n",
       "      <td>0</td>\n",
       "      <td>0</td>\n",
       "      <td>0</td>\n",
       "      <td>1</td>\n",
       "      <td>0</td>\n",
       "      <td>0</td>\n",
       "      <td>0</td>\n",
       "      <td>0</td>\n",
       "    </tr>\n",
       "    <tr>\n",
       "      <th>1</th>\n",
       "      <td>1347</td>\n",
       "      <td>7.0</td>\n",
       "      <td>24.0</td>\n",
       "      <td>29.9843998</td>\n",
       "      <td>-95.3414001</td>\n",
       "      <td>33.6757011</td>\n",
       "      <td>-117.8679962</td>\n",
       "      <td>1</td>\n",
       "      <td>0</td>\n",
       "      <td>0</td>\n",
       "      <td>...</td>\n",
       "      <td>0</td>\n",
       "      <td>0</td>\n",
       "      <td>0</td>\n",
       "      <td>0</td>\n",
       "      <td>0</td>\n",
       "      <td>0</td>\n",
       "      <td>0</td>\n",
       "      <td>0</td>\n",
       "      <td>0</td>\n",
       "      <td>0</td>\n",
       "    </tr>\n",
       "    <tr>\n",
       "      <th>2</th>\n",
       "      <td>130</td>\n",
       "      <td>3.0</td>\n",
       "      <td>29.0</td>\n",
       "      <td>41.9785996</td>\n",
       "      <td>-87.9048004</td>\n",
       "      <td>40.6641998</td>\n",
       "      <td>-89.6932983</td>\n",
       "      <td>1</td>\n",
       "      <td>0</td>\n",
       "      <td>0</td>\n",
       "      <td>...</td>\n",
       "      <td>0</td>\n",
       "      <td>1</td>\n",
       "      <td>0</td>\n",
       "      <td>0</td>\n",
       "      <td>0</td>\n",
       "      <td>0</td>\n",
       "      <td>0</td>\n",
       "      <td>0</td>\n",
       "      <td>0</td>\n",
       "      <td>0</td>\n",
       "    </tr>\n",
       "    <tr>\n",
       "      <th>3</th>\n",
       "      <td>603</td>\n",
       "      <td>6.0</td>\n",
       "      <td>14.0</td>\n",
       "      <td>44.882</td>\n",
       "      <td>-93.2218018</td>\n",
       "      <td>38.1744003</td>\n",
       "      <td>-85.7360001</td>\n",
       "      <td>1</td>\n",
       "      <td>0</td>\n",
       "      <td>0</td>\n",
       "      <td>...</td>\n",
       "      <td>0</td>\n",
       "      <td>0</td>\n",
       "      <td>1</td>\n",
       "      <td>0</td>\n",
       "      <td>0</td>\n",
       "      <td>0</td>\n",
       "      <td>0</td>\n",
       "      <td>0</td>\n",
       "      <td>0</td>\n",
       "      <td>0</td>\n",
       "    </tr>\n",
       "    <tr>\n",
       "      <th>4</th>\n",
       "      <td>533</td>\n",
       "      <td>5.0</td>\n",
       "      <td>10.0</td>\n",
       "      <td>33.6366997</td>\n",
       "      <td>-84.4281006</td>\n",
       "      <td>40.4771004</td>\n",
       "      <td>-88.9159012</td>\n",
       "      <td>1</td>\n",
       "      <td>0</td>\n",
       "      <td>0</td>\n",
       "      <td>...</td>\n",
       "      <td>0</td>\n",
       "      <td>0</td>\n",
       "      <td>0</td>\n",
       "      <td>0</td>\n",
       "      <td>0</td>\n",
       "      <td>0</td>\n",
       "      <td>0</td>\n",
       "      <td>0</td>\n",
       "      <td>0</td>\n",
       "      <td>0</td>\n",
       "    </tr>\n",
       "  </tbody>\n",
       "</table>\n",
       "<p>5 rows × 77 columns</p>\n",
       "</div>"
      ],
      "text/plain": [
       "   Distance  TaxiIn  TaxiOut   OLatitude   OLongitude   DLatitude  \\\n",
       "0       723     7.0     38.0  42.7482986  -73.8016968  41.9785996   \n",
       "1      1347     7.0     24.0  29.9843998  -95.3414001  33.6757011   \n",
       "2       130     3.0     29.0  41.9785996  -87.9048004  40.6641998   \n",
       "3       603     6.0     14.0      44.882  -93.2218018  38.1744003   \n",
       "4       533     5.0     10.0  33.6366997  -84.4281006  40.4771004   \n",
       "\n",
       "     DLongitude  Month_1  Month_2  Month_3        ...         \\\n",
       "0   -87.9048004        1        0        0        ...          \n",
       "1  -117.8679962        1        0        0        ...          \n",
       "2   -89.6932983        1        0        0        ...          \n",
       "3   -85.7360001        1        0        0        ...          \n",
       "4   -88.9159012        1        0        0        ...          \n",
       "\n",
       "   UniqueCarrier_HA  UniqueCarrier_MQ  UniqueCarrier_NW  UniqueCarrier_OH  \\\n",
       "0                 0                 0                 0                 0   \n",
       "1                 0                 0                 0                 0   \n",
       "2                 0                 1                 0                 0   \n",
       "3                 0                 0                 1                 0   \n",
       "4                 0                 0                 0                 0   \n",
       "\n",
       "   UniqueCarrier_OO  UniqueCarrier_UA  UniqueCarrier_US  UniqueCarrier_WN  \\\n",
       "0                 0                 1                 0                 0   \n",
       "1                 0                 0                 0                 0   \n",
       "2                 0                 0                 0                 0   \n",
       "3                 0                 0                 0                 0   \n",
       "4                 0                 0                 0                 0   \n",
       "\n",
       "   UniqueCarrier_XE  UniqueCarrier_YV  \n",
       "0                 0                 0  \n",
       "1                 0                 0  \n",
       "2                 0                 0  \n",
       "3                 0                 0  \n",
       "4                 0                 0  \n",
       "\n",
       "[5 rows x 77 columns]"
      ]
     },
     "execution_count": 89,
     "metadata": {},
     "output_type": "execute_result"
    }
   ],
   "source": [
    "test_clf_df.head()"
   ]
  },
  {
   "cell_type": "code",
   "execution_count": 90,
   "metadata": {},
   "outputs": [],
   "source": [
    "test_pred = dec.predict_proba(test_clf_df)"
   ]
  },
  {
   "cell_type": "code",
   "execution_count": 91,
   "metadata": {},
   "outputs": [
    {
     "data": {
      "text/plain": [
       "array([ 0.44,  0.54,  0.88, ...,  0.58,  0.3 ,  0.49])"
      ]
     },
     "execution_count": 91,
     "metadata": {},
     "output_type": "execute_result"
    }
   ],
   "source": [
    "test_pred[:, 1]"
   ]
  },
  {
   "cell_type": "code",
   "execution_count": 92,
   "metadata": {
    "collapsed": true
   },
   "outputs": [],
   "source": [
    "test_pred_df = pd.DataFrame(test_pred[:, 1], columns=[\"Prediction1\"])"
   ]
  },
  {
   "cell_type": "code",
   "execution_count": 93,
   "metadata": {
    "collapsed": true
   },
   "outputs": [],
   "source": [
    "test_pred_df.index.name = \"Id\""
   ]
  },
  {
   "cell_type": "code",
   "execution_count": 94,
   "metadata": {},
   "outputs": [
    {
     "data": {
      "text/html": [
       "<div>\n",
       "<style scoped>\n",
       "    .dataframe tbody tr th:only-of-type {\n",
       "        vertical-align: middle;\n",
       "    }\n",
       "\n",
       "    .dataframe tbody tr th {\n",
       "        vertical-align: top;\n",
       "    }\n",
       "\n",
       "    .dataframe thead th {\n",
       "        text-align: right;\n",
       "    }\n",
       "</style>\n",
       "<table border=\"1\" class=\"dataframe\">\n",
       "  <thead>\n",
       "    <tr style=\"text-align: right;\">\n",
       "      <th></th>\n",
       "      <th>Prediction1</th>\n",
       "    </tr>\n",
       "    <tr>\n",
       "      <th>Id</th>\n",
       "      <th></th>\n",
       "    </tr>\n",
       "  </thead>\n",
       "  <tbody>\n",
       "    <tr>\n",
       "      <th>0</th>\n",
       "      <td>0.440000</td>\n",
       "    </tr>\n",
       "    <tr>\n",
       "      <th>1</th>\n",
       "      <td>0.540000</td>\n",
       "    </tr>\n",
       "    <tr>\n",
       "      <th>2</th>\n",
       "      <td>0.880000</td>\n",
       "    </tr>\n",
       "    <tr>\n",
       "      <th>3</th>\n",
       "      <td>0.620000</td>\n",
       "    </tr>\n",
       "    <tr>\n",
       "      <th>4</th>\n",
       "      <td>0.536667</td>\n",
       "    </tr>\n",
       "  </tbody>\n",
       "</table>\n",
       "</div>"
      ],
      "text/plain": [
       "    Prediction1\n",
       "Id             \n",
       "0      0.440000\n",
       "1      0.540000\n",
       "2      0.880000\n",
       "3      0.620000\n",
       "4      0.536667"
      ]
     },
     "execution_count": 94,
     "metadata": {},
     "output_type": "execute_result"
    }
   ],
   "source": [
    "test_pred_df.head()"
   ]
  },
  {
   "cell_type": "code",
   "execution_count": 95,
   "metadata": {
    "collapsed": true
   },
   "outputs": [],
   "source": [
    "test_pred_df.to_csv(\"sample_1.csv\")"
   ]
  },
  {
   "cell_type": "code",
   "execution_count": 125,
   "metadata": {},
   "outputs": [
    {
     "data": {
      "text/plain": [
       "48"
      ]
     },
     "execution_count": 125,
     "metadata": {},
     "output_type": "execute_result"
    }
   ],
   "source": [
    "#Free ALOT of memory\n",
    "test_df = test_pred_df = None\n",
    "gc.collect()"
   ]
  },
  {
   "cell_type": "code",
   "execution_count": null,
   "metadata": {
    "collapsed": true
   },
   "outputs": [],
   "source": []
  }
 ],
 "metadata": {
  "kernelspec": {
   "display_name": "Python 3",
   "language": "python",
   "name": "python3"
  },
  "language_info": {
   "codemirror_mode": {
    "name": "ipython",
    "version": 3
   },
   "file_extension": ".py",
   "mimetype": "text/x-python",
   "name": "python",
   "nbconvert_exporter": "python",
   "pygments_lexer": "ipython3",
   "version": "3.6.2"
  }
 },
 "nbformat": 4,
 "nbformat_minor": 2
}

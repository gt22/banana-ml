{
 "cells": [
  {
   "cell_type": "code",
   "execution_count": 1,
   "metadata": {
    "collapsed": true
   },
   "outputs": [],
   "source": [
    "import pandas as pd\n",
    "import numpy as np\n",
    "import math\n",
    "from sklearn import datasets, linear_model, metrics, feature_extraction, model_selection\n",
    "from matplotlib import pyplot as plt\n",
    "import seaborn as sns\n",
    "import math\n",
    "plt.style.use(\"ggplot\")\n",
    "%matplotlib inline\n",
    "from pylab import rcParams\n",
    "rcParams['figure.figsize'] = 15, 15"
   ]
  },
  {
   "cell_type": "code",
   "execution_count": 2,
   "metadata": {},
   "outputs": [
    {
     "data": {
      "text/html": [
       "<script>requirejs.config({paths: { 'plotly': ['https://cdn.plot.ly/plotly-latest.min']},});if(!window.Plotly) {{require(['plotly'],function(plotly) {window.Plotly=plotly;});}}</script>"
      ],
      "text/vnd.plotly.v1+html": [
       "<script>requirejs.config({paths: { 'plotly': ['https://cdn.plot.ly/plotly-latest.min']},});if(!window.Plotly) {{require(['plotly'],function(plotly) {window.Plotly=plotly;});}}</script>"
      ]
     },
     "metadata": {},
     "output_type": "display_data"
    }
   ],
   "source": [
    "from plotly.offline import download_plotlyjs, init_notebook_mode, plot, iplot\n",
    "import plotly\n",
    "import plotly.graph_objs as go\n",
    "\n",
    "init_notebook_mode(connected=True)"
   ]
  },
  {
   "cell_type": "code",
   "execution_count": 3,
   "metadata": {
    "collapsed": true
   },
   "outputs": [],
   "source": [
    "def daysInMonth(x):\n",
    "    return 28 + ((x + math.floor(x / 8)) % 2 + (2 % x) + (2 * math.floor(1/x)))\n",
    "\n",
    "\n",
    "daysFromYearStart = [0]\n",
    "def getDaysFromYearStart(month, day):\n",
    "    while len(daysFromYearStart) <= month:\n",
    "        l = len(daysFromYearStart)\n",
    "        daysFromYearStart.append(daysFromYearStart[l - 1] + daysInMonth(l))\n",
    "    return daysFromYearStart[month] - (daysInMonth(month) - day)\n",
    "\n",
    "\n",
    "def dropRare(frame, clsName, minCount):\n",
    "    counts = frame[clsName].value_counts()\n",
    "    return frame.drop(df[df[clsName].isin(counts[counts < minCount].index)].index)\n",
    "\n",
    "\n",
    "def reclassMeanOpt(frame, targetSrc, clsName, meanName, drop=False):\n",
    "    if meanName in frame.columns:\n",
    "        if drop:\n",
    "            print(\"%s found in dataframe, drop=True, dropping\" % meanName)\n",
    "            frame = frame.drop(meanName, axis=1)\n",
    "        else:\n",
    "            print(\"%s found in dataframe, drop=False, skipping\" % meanName)\n",
    "            return frame\n",
    "    mean_frame = targetSrc[[clsName, 'target']].groupby(clsName).agg('mean').reset_index()\n",
    "    mean_frame.rename(columns={'target':meanName}, inplace = True)\n",
    "    return pd.merge(frame, mean_frame, on=clsName)\n",
    "    \n",
    "    \n",
    "def reclassMean(frame, targetSrc, clsName, meanName, targetExtractor = lambda f, c: f[[c, 'target']].groupby(c).mean(), excluders=[]):\n",
    "    def getMean(c): \n",
    "        if c not in meanInfo or c in excluders:\n",
    "            meanInfo[c] = meanInfo.mean()\n",
    "        return meanInfo[c]\n",
    "    meanInfo = targetExtractor(targetSrc, clsName)\n",
    "    frame[meanName] = frame[clsName].map(lambda c: getMean(c))\n",
    "        \n",
    "    \n",
    "def split_time(time):\n",
    "    time = str(int(time))\n",
    "    time = ('0' * (4 - len(time))) + time\n",
    "    hours = int(time[0:2])\n",
    "    minutes = int(time[2:4])\n",
    "    return {\"H\": hours, \"M\": minutes}\n",
    "\n",
    "\n",
    "def reclass_time(frame, orig, hours, minutes): \n",
    "    t = frame[orig].map(split_time)\n",
    "    frame[hours] = t.map(lambda t: t[\"H\"])\n",
    "    frame[minutes] = t.map(lambda t: t[\"M\"])"
   ]
  },
  {
   "cell_type": "code",
   "execution_count": 4,
   "metadata": {},
   "outputs": [
    {
     "data": {
      "text/html": [
       "<div>\n",
       "<style scoped>\n",
       "    .dataframe tbody tr th:only-of-type {\n",
       "        vertical-align: middle;\n",
       "    }\n",
       "\n",
       "    .dataframe tbody tr th {\n",
       "        vertical-align: top;\n",
       "    }\n",
       "\n",
       "    .dataframe thead th {\n",
       "        text-align: right;\n",
       "    }\n",
       "</style>\n",
       "<table border=\"1\" class=\"dataframe\">\n",
       "  <thead>\n",
       "    <tr style=\"text-align: right;\">\n",
       "      <th></th>\n",
       "      <th>Month</th>\n",
       "      <th>DayofMonth</th>\n",
       "      <th>DayOfWeek</th>\n",
       "      <th>DepTime</th>\n",
       "      <th>ArrTime</th>\n",
       "      <th>UniqueCarrier</th>\n",
       "      <th>FlightNum</th>\n",
       "      <th>TailNum</th>\n",
       "      <th>AirTime</th>\n",
       "      <th>Origin</th>\n",
       "      <th>Dest</th>\n",
       "      <th>Distance</th>\n",
       "      <th>TaxiIn</th>\n",
       "      <th>TaxiOut</th>\n",
       "      <th>target</th>\n",
       "    </tr>\n",
       "  </thead>\n",
       "  <tbody>\n",
       "    <tr>\n",
       "      <th>0</th>\n",
       "      <td>1</td>\n",
       "      <td>1</td>\n",
       "      <td>2</td>\n",
       "      <td>1007.0</td>\n",
       "      <td>1109.0</td>\n",
       "      <td>AA</td>\n",
       "      <td>511</td>\n",
       "      <td>N404AA</td>\n",
       "      <td>34.0</td>\n",
       "      <td>AUS</td>\n",
       "      <td>DFW</td>\n",
       "      <td>190</td>\n",
       "      <td>15.0</td>\n",
       "      <td>13.0</td>\n",
       "      <td>1</td>\n",
       "    </tr>\n",
       "    <tr>\n",
       "      <th>1</th>\n",
       "      <td>1</td>\n",
       "      <td>1</td>\n",
       "      <td>2</td>\n",
       "      <td>1411.0</td>\n",
       "      <td>1521.0</td>\n",
       "      <td>NW</td>\n",
       "      <td>1631</td>\n",
       "      <td>N363NB</td>\n",
       "      <td>37.0</td>\n",
       "      <td>TVC</td>\n",
       "      <td>DTW</td>\n",
       "      <td>207</td>\n",
       "      <td>9.0</td>\n",
       "      <td>24.0</td>\n",
       "      <td>1</td>\n",
       "    </tr>\n",
       "    <tr>\n",
       "      <th>2</th>\n",
       "      <td>1</td>\n",
       "      <td>1</td>\n",
       "      <td>2</td>\n",
       "      <td>859.0</td>\n",
       "      <td>1112.0</td>\n",
       "      <td>MQ</td>\n",
       "      <td>4645</td>\n",
       "      <td>N700LE</td>\n",
       "      <td>103.0</td>\n",
       "      <td>BDL</td>\n",
       "      <td>RDU</td>\n",
       "      <td>532</td>\n",
       "      <td>3.0</td>\n",
       "      <td>27.0</td>\n",
       "      <td>0</td>\n",
       "    </tr>\n",
       "    <tr>\n",
       "      <th>3</th>\n",
       "      <td>1</td>\n",
       "      <td>1</td>\n",
       "      <td>2</td>\n",
       "      <td>1835.0</td>\n",
       "      <td>2159.0</td>\n",
       "      <td>MQ</td>\n",
       "      <td>4838</td>\n",
       "      <td>N704PG</td>\n",
       "      <td>130.0</td>\n",
       "      <td>XNA</td>\n",
       "      <td>LGA</td>\n",
       "      <td>1147</td>\n",
       "      <td>6.0</td>\n",
       "      <td>8.0</td>\n",
       "      <td>1</td>\n",
       "    </tr>\n",
       "    <tr>\n",
       "      <th>4</th>\n",
       "      <td>1</td>\n",
       "      <td>1</td>\n",
       "      <td>2</td>\n",
       "      <td>1305.0</td>\n",
       "      <td>1924.0</td>\n",
       "      <td>US</td>\n",
       "      <td>185</td>\n",
       "      <td>N655AW</td>\n",
       "      <td>229.0</td>\n",
       "      <td>PHX</td>\n",
       "      <td>FLL</td>\n",
       "      <td>1972</td>\n",
       "      <td>9.0</td>\n",
       "      <td>21.0</td>\n",
       "      <td>1</td>\n",
       "    </tr>\n",
       "  </tbody>\n",
       "</table>\n",
       "</div>"
      ],
      "text/plain": [
       "   Month  DayofMonth  DayOfWeek  DepTime  ArrTime UniqueCarrier  FlightNum  \\\n",
       "0      1           1          2   1007.0   1109.0            AA        511   \n",
       "1      1           1          2   1411.0   1521.0            NW       1631   \n",
       "2      1           1          2    859.0   1112.0            MQ       4645   \n",
       "3      1           1          2   1835.0   2159.0            MQ       4838   \n",
       "4      1           1          2   1305.0   1924.0            US        185   \n",
       "\n",
       "  TailNum  AirTime Origin Dest  Distance  TaxiIn  TaxiOut  target  \n",
       "0  N404AA     34.0    AUS  DFW       190    15.0     13.0       1  \n",
       "1  N363NB     37.0    TVC  DTW       207     9.0     24.0       1  \n",
       "2  N700LE    103.0    BDL  RDU       532     3.0     27.0       0  \n",
       "3  N704PG    130.0    XNA  LGA      1147     6.0      8.0       1  \n",
       "4  N655AW    229.0    PHX  FLL      1972     9.0     21.0       1  "
      ]
     },
     "execution_count": 4,
     "metadata": {},
     "output_type": "execute_result"
    }
   ],
   "source": [
    "df = pd.read_csv(\"train_dataset.csv\")\n",
    "df.head()"
   ]
  },
  {
   "cell_type": "code",
   "execution_count": 5,
   "metadata": {
    "collapsed": true
   },
   "outputs": [],
   "source": [
    "df = df.dropna()\n",
    "df = df.drop(df[df[\"AirTime\"] == 0].index)"
   ]
  },
  {
   "cell_type": "code",
   "execution_count": 6,
   "metadata": {
    "collapsed": true
   },
   "outputs": [],
   "source": [
    "df = dropRare(df, \"FlightNum\", 20)\n",
    "df = dropRare(df, \"Dest\", 5)\n",
    "df = dropRare(df, \"Origin\", 5)"
   ]
  },
  {
   "cell_type": "code",
   "execution_count": 7,
   "metadata": {
    "collapsed": true
   },
   "outputs": [],
   "source": [
    "df[\"DayOfYear\"] = df.apply(lambda x: getDaysFromYearStart(x[\"Month\"], x[\"DayofMonth\"]), axis=1)"
   ]
  },
  {
   "cell_type": "code",
   "execution_count": 8,
   "metadata": {},
   "outputs": [],
   "source": [
    "df[\"AirTimeFrame\"] = df[\"AirTime\"].map(lambda x: math.log((x // 30) + 1, 10))"
   ]
  },
  {
   "cell_type": "code",
   "execution_count": 9,
   "metadata": {
    "collapsed": true
   },
   "outputs": [],
   "source": [
    "reclass_time(df, \"DepTime\", \"DepHour\", \"DepMinute\")\n",
    "df[\"DepTotalMinutes\"] = df[\"DepHour\"] * 60 + df[\"DepMinute\"]\n",
    "df[\"DepTimeFrame\"] = df[\"DepTotalMinutes\"] // 15"
   ]
  },
  {
   "cell_type": "code",
   "execution_count": 10,
   "metadata": {
    "collapsed": true
   },
   "outputs": [],
   "source": [
    "df[\"HourOfYear\"] = df[\"DayOfYear\"] * 24 - (24 - df[\"DepHour\"])"
   ]
  },
  {
   "cell_type": "code",
   "execution_count": 11,
   "metadata": {},
   "outputs": [
    {
     "data": {
      "text/plain": [
       "Index(['Month', 'DayofMonth', 'DayOfWeek', 'DepTime', 'ArrTime',\n",
       "       'UniqueCarrier', 'FlightNum', 'TailNum', 'AirTime', 'Origin', 'Dest',\n",
       "       'Distance', 'TaxiIn', 'TaxiOut', 'target', 'DayOfYear', 'AirTimeFrame',\n",
       "       'DepHour', 'DepMinute', 'DepTotalMinutes', 'DepTimeFrame',\n",
       "       'HourOfYear'],\n",
       "      dtype='object')"
      ]
     },
     "execution_count": 11,
     "metadata": {},
     "output_type": "execute_result"
    }
   ],
   "source": [
    "df.columns"
   ]
  },
  {
   "cell_type": "code",
   "execution_count": 12,
   "metadata": {},
   "outputs": [
    {
     "data": {
      "text/plain": [
       "<matplotlib.axes._subplots.AxesSubplot at 0x1e4808c52e8>"
      ]
     },
     "execution_count": 12,
     "metadata": {},
     "output_type": "execute_result"
    },
    {
     "data": {
      "image/png": "[encoded data removed]",
      "text/plain": [
       "<matplotlib.figure.Figure at 0x1e4dbc46470>"
      ]
     },
     "metadata": {},
     "output_type": "display_data"
    }
   ],
   "source": [
    "sns.regplot(df[\"HourOfYear\"], df[\"target\"], fit_reg=False)"
   ]
  },
  {
   "cell_type": "code",
   "execution_count": 12,
   "metadata": {},
   "outputs": [
    {
     "data": {
      "text/html": [
       "<div>\n",
       "<style scoped>\n",
       "    .dataframe tbody tr th:only-of-type {\n",
       "        vertical-align: middle;\n",
       "    }\n",
       "\n",
       "    .dataframe tbody tr th {\n",
       "        vertical-align: top;\n",
       "    }\n",
       "\n",
       "    .dataframe thead th {\n",
       "        text-align: right;\n",
       "    }\n",
       "</style>\n",
       "<table border=\"1\" class=\"dataframe\">\n",
       "  <thead>\n",
       "    <tr style=\"text-align: right;\">\n",
       "      <th></th>\n",
       "      <th>Month</th>\n",
       "      <th>DayofMonth</th>\n",
       "      <th>DayOfWeek</th>\n",
       "      <th>DepTime</th>\n",
       "      <th>ArrTime</th>\n",
       "      <th>UniqueCarrier</th>\n",
       "      <th>FlightNum</th>\n",
       "      <th>TailNum</th>\n",
       "      <th>AirTime</th>\n",
       "      <th>Origin</th>\n",
       "      <th>...</th>\n",
       "      <th>DepTimeFrame</th>\n",
       "      <th>HourOfYear</th>\n",
       "      <th>CarrierChance</th>\n",
       "      <th>DestChance</th>\n",
       "      <th>OriginChance</th>\n",
       "      <th>HOYChance</th>\n",
       "      <th>FlightChance</th>\n",
       "      <th>PlaneChance</th>\n",
       "      <th>AirFrameChance</th>\n",
       "      <th>DepFrameChance</th>\n",
       "    </tr>\n",
       "  </thead>\n",
       "  <tbody>\n",
       "    <tr>\n",
       "      <th>0</th>\n",
       "      <td>1</td>\n",
       "      <td>1</td>\n",
       "      <td>2</td>\n",
       "      <td>1007.0</td>\n",
       "      <td>1109.0</td>\n",
       "      <td>AA</td>\n",
       "      <td>511</td>\n",
       "      <td>N404AA</td>\n",
       "      <td>34.0</td>\n",
       "      <td>AUS</td>\n",
       "      <td>...</td>\n",
       "      <td>40</td>\n",
       "      <td>10</td>\n",
       "      <td>0.340092</td>\n",
       "      <td>0.271783</td>\n",
       "      <td>0.252787</td>\n",
       "      <td>0.337391</td>\n",
       "      <td>0.284528</td>\n",
       "      <td>0.314410</td>\n",
       "      <td>0.276389</td>\n",
       "      <td>0.241725</td>\n",
       "    </tr>\n",
       "    <tr>\n",
       "      <th>1</th>\n",
       "      <td>5</td>\n",
       "      <td>19</td>\n",
       "      <td>1</td>\n",
       "      <td>1003.0</td>\n",
       "      <td>1107.0</td>\n",
       "      <td>AA</td>\n",
       "      <td>1599</td>\n",
       "      <td>N404AA</td>\n",
       "      <td>46.0</td>\n",
       "      <td>DFW</td>\n",
       "      <td>...</td>\n",
       "      <td>40</td>\n",
       "      <td>3322</td>\n",
       "      <td>0.340092</td>\n",
       "      <td>0.256705</td>\n",
       "      <td>0.364943</td>\n",
       "      <td>0.236422</td>\n",
       "      <td>0.336493</td>\n",
       "      <td>0.314410</td>\n",
       "      <td>0.276389</td>\n",
       "      <td>0.241725</td>\n",
       "    </tr>\n",
       "    <tr>\n",
       "      <th>2</th>\n",
       "      <td>7</td>\n",
       "      <td>18</td>\n",
       "      <td>5</td>\n",
       "      <td>1010.0</td>\n",
       "      <td>1117.0</td>\n",
       "      <td>AA</td>\n",
       "      <td>1352</td>\n",
       "      <td>N404AA</td>\n",
       "      <td>36.0</td>\n",
       "      <td>DFW</td>\n",
       "      <td>...</td>\n",
       "      <td>40</td>\n",
       "      <td>4762</td>\n",
       "      <td>0.340092</td>\n",
       "      <td>0.351399</td>\n",
       "      <td>0.364943</td>\n",
       "      <td>0.201201</td>\n",
       "      <td>0.260949</td>\n",
       "      <td>0.314410</td>\n",
       "      <td>0.276389</td>\n",
       "      <td>0.241725</td>\n",
       "    </tr>\n",
       "    <tr>\n",
       "      <th>3</th>\n",
       "      <td>2</td>\n",
       "      <td>6</td>\n",
       "      <td>3</td>\n",
       "      <td>1014.0</td>\n",
       "      <td>1109.0</td>\n",
       "      <td>AA</td>\n",
       "      <td>728</td>\n",
       "      <td>N404AA</td>\n",
       "      <td>38.0</td>\n",
       "      <td>SAT</td>\n",
       "      <td>...</td>\n",
       "      <td>40</td>\n",
       "      <td>874</td>\n",
       "      <td>0.340092</td>\n",
       "      <td>0.271783</td>\n",
       "      <td>0.260605</td>\n",
       "      <td>0.393762</td>\n",
       "      <td>0.289522</td>\n",
       "      <td>0.314410</td>\n",
       "      <td>0.276389</td>\n",
       "      <td>0.241725</td>\n",
       "    </tr>\n",
       "    <tr>\n",
       "      <th>4</th>\n",
       "      <td>6</td>\n",
       "      <td>28</td>\n",
       "      <td>6</td>\n",
       "      <td>1004.0</td>\n",
       "      <td>1116.0</td>\n",
       "      <td>US</td>\n",
       "      <td>182</td>\n",
       "      <td>N807AW</td>\n",
       "      <td>47.0</td>\n",
       "      <td>PHX</td>\n",
       "      <td>...</td>\n",
       "      <td>40</td>\n",
       "      <td>4282</td>\n",
       "      <td>0.234534</td>\n",
       "      <td>0.303304</td>\n",
       "      <td>0.299572</td>\n",
       "      <td>0.322091</td>\n",
       "      <td>0.292072</td>\n",
       "      <td>0.187404</td>\n",
       "      <td>0.276389</td>\n",
       "      <td>0.241725</td>\n",
       "    </tr>\n",
       "  </tbody>\n",
       "</table>\n",
       "<p>5 rows × 30 columns</p>\n",
       "</div>"
      ],
      "text/plain": [
       "   Month  DayofMonth  DayOfWeek  DepTime  ArrTime UniqueCarrier  FlightNum  \\\n",
       "0      1           1          2   1007.0   1109.0            AA        511   \n",
       "1      5          19          1   1003.0   1107.0            AA       1599   \n",
       "2      7          18          5   1010.0   1117.0            AA       1352   \n",
       "3      2           6          3   1014.0   1109.0            AA        728   \n",
       "4      6          28          6   1004.0   1116.0            US        182   \n",
       "\n",
       "  TailNum  AirTime Origin       ...       DepTimeFrame  HourOfYear  \\\n",
       "0  N404AA     34.0    AUS       ...                 40          10   \n",
       "1  N404AA     46.0    DFW       ...                 40        3322   \n",
       "2  N404AA     36.0    DFW       ...                 40        4762   \n",
       "3  N404AA     38.0    SAT       ...                 40         874   \n",
       "4  N807AW     47.0    PHX       ...                 40        4282   \n",
       "\n",
       "   CarrierChance  DestChance  OriginChance  HOYChance  FlightChance  \\\n",
       "0       0.340092    0.271783      0.252787   0.337391      0.284528   \n",
       "1       0.340092    0.256705      0.364943   0.236422      0.336493   \n",
       "2       0.340092    0.351399      0.364943   0.201201      0.260949   \n",
       "3       0.340092    0.271783      0.260605   0.393762      0.289522   \n",
       "4       0.234534    0.303304      0.299572   0.322091      0.292072   \n",
       "\n",
       "   PlaneChance  AirFrameChance  DepFrameChance  \n",
       "0     0.314410        0.276389        0.241725  \n",
       "1     0.314410        0.276389        0.241725  \n",
       "2     0.314410        0.276389        0.241725  \n",
       "3     0.314410        0.276389        0.241725  \n",
       "4     0.187404        0.276389        0.241725  \n",
       "\n",
       "[5 rows x 30 columns]"
      ]
     },
     "execution_count": 12,
     "metadata": {},
     "output_type": "execute_result"
    }
   ],
   "source": [
    "df = reclassMeanOpt(df, df, \"UniqueCarrier\", \"CarrierChance\")\n",
    "df = reclassMeanOpt(df, df, \"Dest\", \"DestChance\")\n",
    "df = reclassMeanOpt(df, df, \"Origin\", \"OriginChance\")\n",
    "df = reclassMeanOpt(df, df, \"FlightNum\", \"FlightChance\")\n",
    "df = reclassMeanOpt(df, df, \"HourOfYear\", \"HOYChance\")\n",
    "df = reclassMeanOpt(df, df, \"TailNum\", \"PlaneChance\")\n",
    "df = reclassMeanOpt(df, df, \"AirTimeFrame\", \"AirFrameChance\", drop=True)\n",
    "df = reclassMeanOpt(df, df, \"DepTimeFrame\", \"DepFrameChance\", drop=True)\n",
    "df.head()"
   ]
  },
  {
   "cell_type": "code",
   "execution_count": 44,
   "metadata": {
    "collapsed": true
   },
   "outputs": [],
   "source": [
    "used_cols = [\"AirFrameChance\",\n",
    "             \"DepFrameChance\",\n",
    "             \"FlightChance\",\n",
    "             #\"DOWChance\",\n",
    "             #\"MonthChance\",\n",
    "             #\"DOYChance\",\n",
    "             \"HOYChance\",\n",
    "             \"OriginChance\",\n",
    "             \"DestChance\",\n",
    "             \"CarrierChance\",\n",
    "             \"TaxiIn\",\n",
    "             \"TaxiOut\"]\n",
    "clf_df = df[used_cols + [\"target\"]]"
   ]
  },
  {
   "cell_type": "code",
   "execution_count": 48,
   "metadata": {},
   "outputs": [
    {
     "data": {
      "text/html": [
       "<div>\n",
       "<style scoped>\n",
       "    .dataframe tbody tr th:only-of-type {\n",
       "        vertical-align: middle;\n",
       "    }\n",
       "\n",
       "    .dataframe tbody tr th {\n",
       "        vertical-align: top;\n",
       "    }\n",
       "\n",
       "    .dataframe thead th {\n",
       "        text-align: right;\n",
       "    }\n",
       "</style>\n",
       "<table border=\"1\" class=\"dataframe\">\n",
       "  <thead>\n",
       "    <tr style=\"text-align: right;\">\n",
       "      <th></th>\n",
       "      <th>AirFrameChance</th>\n",
       "      <th>DepFrameChance</th>\n",
       "      <th>FlightChance</th>\n",
       "      <th>HOYChance</th>\n",
       "      <th>OriginChance</th>\n",
       "      <th>DestChance</th>\n",
       "      <th>CarrierChance</th>\n",
       "      <th>TaxiIn</th>\n",
       "      <th>TaxiOut</th>\n",
       "      <th>target</th>\n",
       "    </tr>\n",
       "  </thead>\n",
       "  <tbody>\n",
       "    <tr>\n",
       "      <th>0</th>\n",
       "      <td>0.276389</td>\n",
       "      <td>0.241725</td>\n",
       "      <td>0.284528</td>\n",
       "      <td>0.337391</td>\n",
       "      <td>0.252787</td>\n",
       "      <td>0.271783</td>\n",
       "      <td>0.340092</td>\n",
       "      <td>15.0</td>\n",
       "      <td>13.0</td>\n",
       "      <td>1</td>\n",
       "    </tr>\n",
       "    <tr>\n",
       "      <th>1</th>\n",
       "      <td>0.276389</td>\n",
       "      <td>0.241725</td>\n",
       "      <td>0.218810</td>\n",
       "      <td>0.337391</td>\n",
       "      <td>0.364943</td>\n",
       "      <td>0.302727</td>\n",
       "      <td>0.340092</td>\n",
       "      <td>5.0</td>\n",
       "      <td>30.0</td>\n",
       "      <td>0</td>\n",
       "    </tr>\n",
       "    <tr>\n",
       "      <th>2</th>\n",
       "      <td>0.276389</td>\n",
       "      <td>0.241725</td>\n",
       "      <td>0.518447</td>\n",
       "      <td>0.337391</td>\n",
       "      <td>0.241231</td>\n",
       "      <td>0.302751</td>\n",
       "      <td>0.338490</td>\n",
       "      <td>3.0</td>\n",
       "      <td>9.0</td>\n",
       "      <td>0</td>\n",
       "    </tr>\n",
       "    <tr>\n",
       "      <th>3</th>\n",
       "      <td>0.276389</td>\n",
       "      <td>0.241725</td>\n",
       "      <td>0.336493</td>\n",
       "      <td>0.337391</td>\n",
       "      <td>0.364943</td>\n",
       "      <td>0.256705</td>\n",
       "      <td>0.340092</td>\n",
       "      <td>7.0</td>\n",
       "      <td>9.0</td>\n",
       "      <td>1</td>\n",
       "    </tr>\n",
       "    <tr>\n",
       "      <th>4</th>\n",
       "      <td>0.276389</td>\n",
       "      <td>0.241725</td>\n",
       "      <td>0.260949</td>\n",
       "      <td>0.337391</td>\n",
       "      <td>0.364943</td>\n",
       "      <td>0.351399</td>\n",
       "      <td>0.340092</td>\n",
       "      <td>5.0</td>\n",
       "      <td>12.0</td>\n",
       "      <td>0</td>\n",
       "    </tr>\n",
       "  </tbody>\n",
       "</table>\n",
       "</div>"
      ],
      "text/plain": [
       "   AirFrameChance  DepFrameChance  FlightChance  HOYChance  OriginChance  \\\n",
       "0        0.276389        0.241725      0.284528   0.337391      0.252787   \n",
       "1        0.276389        0.241725      0.218810   0.337391      0.364943   \n",
       "2        0.276389        0.241725      0.518447   0.337391      0.241231   \n",
       "3        0.276389        0.241725      0.336493   0.337391      0.364943   \n",
       "4        0.276389        0.241725      0.260949   0.337391      0.364943   \n",
       "\n",
       "   DestChance  CarrierChance  TaxiIn  TaxiOut  target  \n",
       "0    0.271783       0.340092    15.0     13.0       1  \n",
       "1    0.302727       0.340092     5.0     30.0       0  \n",
       "2    0.302751       0.338490     3.0      9.0       0  \n",
       "3    0.256705       0.340092     7.0      9.0       1  \n",
       "4    0.351399       0.340092     5.0     12.0       0  "
      ]
     },
     "execution_count": 48,
     "metadata": {},
     "output_type": "execute_result"
    }
   ],
   "source": [
    "clf_df.head()"
   ]
  },
  {
   "cell_type": "code",
   "execution_count": 49,
   "metadata": {
    "collapsed": true
   },
   "outputs": [],
   "source": [
    "from sklearn.utils import shuffle\n",
    "shuffled_df = shuffle(clf_df)"
   ]
  },
  {
   "cell_type": "code",
   "execution_count": 50,
   "metadata": {
    "collapsed": true
   },
   "outputs": [],
   "source": [
    "labels = shuffled_df[\"target\"]\n",
    "clf_train, clf_test, label_train, label_test = model_selection.train_test_split(shuffled_df.drop(\"target\", axis=1), labels, test_size = 0.3)"
   ]
  },
  {
   "cell_type": "code",
   "execution_count": 51,
   "metadata": {
    "collapsed": true
   },
   "outputs": [],
   "source": [
    "clf = linear_model.LogisticRegression()\n",
    "param_grid = {'C': [0.01, 0.05, 0.1, 0.5, 1, 5]}\n",
    "opt = model_selection.GridSearchCV(clf, param_grid, cv=3, n_jobs=4, return_train_score=True)"
   ]
  },
  {
   "cell_type": "code",
   "execution_count": 52,
   "metadata": {},
   "outputs": [
    {
     "name": "stdout",
     "output_type": "stream",
     "text": [
      "AirFrameChance: 2.472709\n",
      "DepFrameChance: 0.777115\n",
      "FlightChance: 2.341174\n",
      "HOYChance: 4.532877\n",
      "OriginChance: 2.117318\n",
      "DestChance: 2.318180\n",
      "CarrierChance: 3.914187\n",
      "TaxiIn: -0.000486\n",
      "TaxiOut: 0.012268\n"
     ]
    }
   ],
   "source": [
    "opt.fit(clf_train, label_train)\n",
    "for i, c in enumerate(opt.best_estimator_.coef_[0]):\n",
    "    print(\"%s: %f\" % (clf_df.columns[i], c))"
   ]
  },
  {
   "cell_type": "code",
   "execution_count": 53,
   "metadata": {
    "collapsed": true
   },
   "outputs": [],
   "source": [
    "predpr = opt.predict_proba(clf_test)"
   ]
  },
  {
   "cell_type": "code",
   "execution_count": 54,
   "metadata": {
    "scrolled": true
   },
   "outputs": [
    {
     "data": {
      "image/png": "[encoded data removed]",
      "text/plain": [
       "<matplotlib.figure.Figure at 0x27e315ca1d0>"
      ]
     },
     "metadata": {},
     "output_type": "display_data"
    },
    {
     "name": "stdout",
     "output_type": "stream",
     "text": [
      "0.736369174001\n"
     ]
    }
   ],
   "source": [
    "fpr, tpr, _ = metrics.roc_curve(label_test, predpr[:,1])\n",
    "plt.plot(fpr, tpr, label = 'linear model')\n",
    "plt.plot([0, 1], [0, 1], '--', color = 'grey', label = 'random')\n",
    "plt.xlim([-0.05, 1.05])\n",
    "plt.ylim([-0.05, 1.05])\n",
    "plt.xlabel('False Positive Rate')\n",
    "plt.ylabel('True Positive Rate')\n",
    "plt.title('ROC curve')\n",
    "plt.legend(loc = \"lower right\");\n",
    "plt.show()\n",
    "print(metrics.roc_auc_score(label_test, predpr[:,1]))"
   ]
  },
  {
   "cell_type": "code",
   "execution_count": 80,
   "metadata": {
    "collapsed": true
   },
   "outputs": [],
   "source": [
    "test_df = pd.read_csv(\"test_dataset.csv\")"
   ]
  },
  {
   "cell_type": "code",
   "execution_count": 81,
   "metadata": {},
   "outputs": [
    {
     "data": {
      "text/plain": [
       "(3504864, 15)"
      ]
     },
     "execution_count": 81,
     "metadata": {},
     "output_type": "execute_result"
    }
   ],
   "source": [
    "test_df.shape"
   ]
  },
  {
   "cell_type": "code",
   "execution_count": 92,
   "metadata": {},
   "outputs": [
    {
     "data": {
      "text/html": [
       "<div>\n",
       "<style scoped>\n",
       "    .dataframe tbody tr th:only-of-type {\n",
       "        vertical-align: middle;\n",
       "    }\n",
       "\n",
       "    .dataframe tbody tr th {\n",
       "        vertical-align: top;\n",
       "    }\n",
       "\n",
       "    .dataframe thead th {\n",
       "        text-align: right;\n",
       "    }\n",
       "</style>\n",
       "<table border=\"1\" class=\"dataframe\">\n",
       "  <thead>\n",
       "    <tr style=\"text-align: right;\">\n",
       "      <th></th>\n",
       "      <th>Month</th>\n",
       "      <th>DayofMonth</th>\n",
       "      <th>DayOfWeek</th>\n",
       "      <th>DepTime</th>\n",
       "      <th>ArrTime</th>\n",
       "      <th>UniqueCarrier</th>\n",
       "      <th>FlightNum</th>\n",
       "      <th>TailNum</th>\n",
       "      <th>AirTime</th>\n",
       "      <th>Origin</th>\n",
       "      <th>...</th>\n",
       "      <th>AirTimeFrame</th>\n",
       "      <th>DepHour</th>\n",
       "      <th>DepMinute</th>\n",
       "      <th>DepTotalMinutes</th>\n",
       "      <th>DepTimeFrame</th>\n",
       "      <th>DayOfYear</th>\n",
       "      <th>HourOfYear</th>\n",
       "      <th>CarrierChance</th>\n",
       "      <th>DestChance</th>\n",
       "      <th>OriginChance</th>\n",
       "    </tr>\n",
       "  </thead>\n",
       "  <tbody>\n",
       "    <tr>\n",
       "      <th>0</th>\n",
       "      <td>1</td>\n",
       "      <td>1</td>\n",
       "      <td>2</td>\n",
       "      <td>1851.0</td>\n",
       "      <td>2029.0</td>\n",
       "      <td>UA</td>\n",
       "      <td>735</td>\n",
       "      <td>N386UA</td>\n",
       "      <td>113.0</td>\n",
       "      <td>ALB</td>\n",
       "      <td>...</td>\n",
       "      <td>0.602060</td>\n",
       "      <td>18</td>\n",
       "      <td>51</td>\n",
       "      <td>1131</td>\n",
       "      <td>75</td>\n",
       "      <td>1</td>\n",
       "      <td>18</td>\n",
       "      <td>0.336518</td>\n",
       "      <td>0.335250</td>\n",
       "      <td>0.246846</td>\n",
       "    </tr>\n",
       "    <tr>\n",
       "      <th>1</th>\n",
       "      <td>1</td>\n",
       "      <td>1</td>\n",
       "      <td>2</td>\n",
       "      <td>1847.0</td>\n",
       "      <td>2029.0</td>\n",
       "      <td>CO</td>\n",
       "      <td>809</td>\n",
       "      <td>N15710</td>\n",
       "      <td>191.0</td>\n",
       "      <td>IAH</td>\n",
       "      <td>...</td>\n",
       "      <td>0.845098</td>\n",
       "      <td>18</td>\n",
       "      <td>47</td>\n",
       "      <td>1127</td>\n",
       "      <td>75</td>\n",
       "      <td>1</td>\n",
       "      <td>18</td>\n",
       "      <td>0.362654</td>\n",
       "      <td>0.273343</td>\n",
       "      <td>0.336993</td>\n",
       "    </tr>\n",
       "    <tr>\n",
       "      <th>2</th>\n",
       "      <td>1</td>\n",
       "      <td>1</td>\n",
       "      <td>2</td>\n",
       "      <td>1522.0</td>\n",
       "      <td>1622.0</td>\n",
       "      <td>MQ</td>\n",
       "      <td>4298</td>\n",
       "      <td>N676AE</td>\n",
       "      <td>28.0</td>\n",
       "      <td>ORD</td>\n",
       "      <td>...</td>\n",
       "      <td>0.000000</td>\n",
       "      <td>15</td>\n",
       "      <td>22</td>\n",
       "      <td>922</td>\n",
       "      <td>61</td>\n",
       "      <td>1</td>\n",
       "      <td>15</td>\n",
       "      <td>0.313444</td>\n",
       "      <td>0.301629</td>\n",
       "      <td>0.391043</td>\n",
       "    </tr>\n",
       "    <tr>\n",
       "      <th>3</th>\n",
       "      <td>1</td>\n",
       "      <td>1</td>\n",
       "      <td>2</td>\n",
       "      <td>2013.0</td>\n",
       "      <td>2303.0</td>\n",
       "      <td>NW</td>\n",
       "      <td>876</td>\n",
       "      <td>N780NC</td>\n",
       "      <td>90.0</td>\n",
       "      <td>MSP</td>\n",
       "      <td>...</td>\n",
       "      <td>0.602060</td>\n",
       "      <td>20</td>\n",
       "      <td>13</td>\n",
       "      <td>1213</td>\n",
       "      <td>80</td>\n",
       "      <td>1</td>\n",
       "      <td>20</td>\n",
       "      <td>0.240546</td>\n",
       "      <td>0.336796</td>\n",
       "      <td>0.263729</td>\n",
       "    </tr>\n",
       "    <tr>\n",
       "      <th>4</th>\n",
       "      <td>1</td>\n",
       "      <td>1</td>\n",
       "      <td>2</td>\n",
       "      <td>1649.0</td>\n",
       "      <td>1727.0</td>\n",
       "      <td>FL</td>\n",
       "      <td>547</td>\n",
       "      <td>N920AT</td>\n",
       "      <td>83.0</td>\n",
       "      <td>ATL</td>\n",
       "      <td>...</td>\n",
       "      <td>0.477121</td>\n",
       "      <td>16</td>\n",
       "      <td>49</td>\n",
       "      <td>1009</td>\n",
       "      <td>67</td>\n",
       "      <td>1</td>\n",
       "      <td>16</td>\n",
       "      <td>0.289026</td>\n",
       "      <td>0.353794</td>\n",
       "      <td>0.339618</td>\n",
       "    </tr>\n",
       "  </tbody>\n",
       "</table>\n",
       "<p>5 rows × 25 columns</p>\n",
       "</div>"
      ],
      "text/plain": [
       "   Month  DayofMonth  DayOfWeek  DepTime  ArrTime UniqueCarrier  FlightNum  \\\n",
       "0      1           1          2   1851.0   2029.0            UA        735   \n",
       "1      1           1          2   1847.0   2029.0            CO        809   \n",
       "2      1           1          2   1522.0   1622.0            MQ       4298   \n",
       "3      1           1          2   2013.0   2303.0            NW        876   \n",
       "4      1           1          2   1649.0   1727.0            FL        547   \n",
       "\n",
       "  TailNum  AirTime Origin      ...      AirTimeFrame  DepHour  DepMinute  \\\n",
       "0  N386UA    113.0    ALB      ...          0.602060       18         51   \n",
       "1  N15710    191.0    IAH      ...          0.845098       18         47   \n",
       "2  N676AE     28.0    ORD      ...          0.000000       15         22   \n",
       "3  N780NC     90.0    MSP      ...          0.602060       20         13   \n",
       "4  N920AT     83.0    ATL      ...          0.477121       16         49   \n",
       "\n",
       "   DepTotalMinutes  DepTimeFrame  DayOfYear  HourOfYear  CarrierChance  \\\n",
       "0             1131            75          1          18       0.336518   \n",
       "1             1127            75          1          18       0.362654   \n",
       "2              922            61          1          15       0.313444   \n",
       "3             1213            80          1          20       0.240546   \n",
       "4             1009            67          1          16       0.289026   \n",
       "\n",
       "   DestChance  OriginChance  \n",
       "0    0.335250      0.246846  \n",
       "1    0.273343      0.336993  \n",
       "2    0.301629      0.391043  \n",
       "3    0.336796      0.263729  \n",
       "4    0.353794      0.339618  \n",
       "\n",
       "[5 rows x 25 columns]"
      ]
     },
     "execution_count": 92,
     "metadata": {},
     "output_type": "execute_result"
    }
   ],
   "source": [
    "test_df.head()"
   ]
  },
  {
   "cell_type": "code",
   "execution_count": 83,
   "metadata": {
    "collapsed": true
   },
   "outputs": [],
   "source": [
    "test_df = test_df.fillna(0)"
   ]
  },
  {
   "cell_type": "code",
   "execution_count": 84,
   "metadata": {
    "collapsed": true
   },
   "outputs": [],
   "source": [
    "test_df[\"AirTimeFrame\"] = test_df[\"AirTime\"].map(lambda x: math.log10(x // 30 + 1))"
   ]
  },
  {
   "cell_type": "code",
   "execution_count": 85,
   "metadata": {
    "collapsed": true
   },
   "outputs": [],
   "source": [
    "reclass_time(test_df, \"DepTime\", \"DepHour\", \"DepMinute\")\n",
    "test_df[\"DepTotalMinutes\"] = test_df[\"DepHour\"] * 60 + test_df[\"DepMinute\"]\n",
    "test_df[\"DepTimeFrame\"] = test_df[\"DepTotalMinutes\"] // 15"
   ]
  },
  {
   "cell_type": "code",
   "execution_count": 87,
   "metadata": {
    "collapsed": true
   },
   "outputs": [],
   "source": [
    "test_df[\"DayOfYear\"] = test_df.apply(lambda x: getDaysFromYearStart(x[\"Month\"], x[\"DayofMonth\"]), axis=1)\n",
    "test_df[\"HourOfYear\"] = test_df[\"DayOfYear\"] * 24 - (24 - test_df[\"DepHour\"])"
   ]
  },
  {
   "cell_type": "code",
   "execution_count": 88,
   "metadata": {
    "collapsed": true
   },
   "outputs": [],
   "source": [
    "def remean(name, meanName):\n",
    "    mean_info = df[[name, \"target\"]].groupby(name)[\"target\"].mean()\n",
    "    def _getMean(x):\n",
    "        if x not in mean_info:\n",
    "            mean_info[x] = mean_info.mean()\n",
    "        return mean_info[x]\n",
    "    test_df[meanName] = test_df[name].map(_getMean)"
   ]
  },
  {
   "cell_type": "code",
   "execution_count": 93,
   "metadata": {
    "collapsed": true
   },
   "outputs": [],
   "source": [
    "remean(\"UniqueCarrier\", \"CarrierChance\")\n",
    "remean(\"Dest\", \"DestChance\")\n",
    "remean(\"Origin\", \"OriginChance\")\n",
    "\n",
    "remean(\"HourOfYear\", \"HOYChance\")"
   ]
  },
  {
   "cell_type": "code",
   "execution_count": 94,
   "metadata": {
    "collapsed": true
   },
   "outputs": [],
   "source": [
    "remean(\"FlightNum\", \"FlightChance\")"
   ]
  },
  {
   "cell_type": "code",
   "execution_count": 95,
   "metadata": {
    "collapsed": true
   },
   "outputs": [],
   "source": [
    "remean(\"AirTimeFrame\", \"AirFrameChance\")\n",
    "remean(\"DepTimeFrame\", \"DepFrameChance\")"
   ]
  },
  {
   "cell_type": "code",
   "execution_count": 96,
   "metadata": {
    "collapsed": true
   },
   "outputs": [],
   "source": [
    "test_clf_df = test_df[used_cols]"
   ]
  },
  {
   "cell_type": "code",
   "execution_count": 97,
   "metadata": {},
   "outputs": [
    {
     "data": {
      "text/plain": [
       "(3504864, 9)"
      ]
     },
     "execution_count": 97,
     "metadata": {},
     "output_type": "execute_result"
    }
   ],
   "source": [
    "test_clf_df.shape"
   ]
  },
  {
   "cell_type": "code",
   "execution_count": 98,
   "metadata": {},
   "outputs": [
    {
     "data": {
      "text/html": [
       "<div>\n",
       "<style scoped>\n",
       "    .dataframe tbody tr th:only-of-type {\n",
       "        vertical-align: middle;\n",
       "    }\n",
       "\n",
       "    .dataframe tbody tr th {\n",
       "        vertical-align: top;\n",
       "    }\n",
       "\n",
       "    .dataframe thead th {\n",
       "        text-align: right;\n",
       "    }\n",
       "</style>\n",
       "<table border=\"1\" class=\"dataframe\">\n",
       "  <thead>\n",
       "    <tr style=\"text-align: right;\">\n",
       "      <th></th>\n",
       "      <th>AirFrameChance</th>\n",
       "      <th>DepFrameChance</th>\n",
       "      <th>FlightChance</th>\n",
       "      <th>HOYChance</th>\n",
       "      <th>OriginChance</th>\n",
       "      <th>DestChance</th>\n",
       "      <th>CarrierChance</th>\n",
       "      <th>TaxiIn</th>\n",
       "      <th>TaxiOut</th>\n",
       "    </tr>\n",
       "  </thead>\n",
       "  <tbody>\n",
       "    <tr>\n",
       "      <th>0</th>\n",
       "      <td>0.393110</td>\n",
       "      <td>0.337727</td>\n",
       "      <td>0.289054</td>\n",
       "      <td>0.567568</td>\n",
       "      <td>0.246846</td>\n",
       "      <td>0.335250</td>\n",
       "      <td>0.336518</td>\n",
       "      <td>7.0</td>\n",
       "      <td>38.0</td>\n",
       "    </tr>\n",
       "    <tr>\n",
       "      <th>1</th>\n",
       "      <td>0.393110</td>\n",
       "      <td>0.337727</td>\n",
       "      <td>0.253774</td>\n",
       "      <td>0.567568</td>\n",
       "      <td>0.336993</td>\n",
       "      <td>0.273343</td>\n",
       "      <td>0.362654</td>\n",
       "      <td>7.0</td>\n",
       "      <td>24.0</td>\n",
       "    </tr>\n",
       "    <tr>\n",
       "      <th>2</th>\n",
       "      <td>0.231591</td>\n",
       "      <td>0.353605</td>\n",
       "      <td>0.341615</td>\n",
       "      <td>0.551601</td>\n",
       "      <td>0.391043</td>\n",
       "      <td>0.301629</td>\n",
       "      <td>0.313444</td>\n",
       "      <td>3.0</td>\n",
       "      <td>29.0</td>\n",
       "    </tr>\n",
       "    <tr>\n",
       "      <th>3</th>\n",
       "      <td>0.393110</td>\n",
       "      <td>0.472922</td>\n",
       "      <td>0.231183</td>\n",
       "      <td>0.679204</td>\n",
       "      <td>0.263729</td>\n",
       "      <td>0.336796</td>\n",
       "      <td>0.240546</td>\n",
       "      <td>6.0</td>\n",
       "      <td>14.0</td>\n",
       "    </tr>\n",
       "    <tr>\n",
       "      <th>4</th>\n",
       "      <td>0.289973</td>\n",
       "      <td>0.331897</td>\n",
       "      <td>0.390118</td>\n",
       "      <td>0.542673</td>\n",
       "      <td>0.339618</td>\n",
       "      <td>0.353794</td>\n",
       "      <td>0.289026</td>\n",
       "      <td>5.0</td>\n",
       "      <td>10.0</td>\n",
       "    </tr>\n",
       "  </tbody>\n",
       "</table>\n",
       "</div>"
      ],
      "text/plain": [
       "   AirFrameChance  DepFrameChance  FlightChance  HOYChance  OriginChance  \\\n",
       "0        0.393110        0.337727      0.289054   0.567568      0.246846   \n",
       "1        0.393110        0.337727      0.253774   0.567568      0.336993   \n",
       "2        0.231591        0.353605      0.341615   0.551601      0.391043   \n",
       "3        0.393110        0.472922      0.231183   0.679204      0.263729   \n",
       "4        0.289973        0.331897      0.390118   0.542673      0.339618   \n",
       "\n",
       "   DestChance  CarrierChance  TaxiIn  TaxiOut  \n",
       "0    0.335250       0.336518     7.0     38.0  \n",
       "1    0.273343       0.362654     7.0     24.0  \n",
       "2    0.301629       0.313444     3.0     29.0  \n",
       "3    0.336796       0.240546     6.0     14.0  \n",
       "4    0.353794       0.289026     5.0     10.0  "
      ]
     },
     "execution_count": 98,
     "metadata": {},
     "output_type": "execute_result"
    }
   ],
   "source": [
    "test_clf_df.head()"
   ]
  },
  {
   "cell_type": "code",
   "execution_count": 99,
   "metadata": {
    "collapsed": true
   },
   "outputs": [],
   "source": [
    "test_pred = opt.predict_proba(test_clf_df)"
   ]
  },
  {
   "cell_type": "code",
   "execution_count": 100,
   "metadata": {},
   "outputs": [
    {
     "data": {
      "text/plain": [
       "array([ 0.70394802,  0.6816759 ,  0.63608066, ...,  0.35925643,\n",
       "        0.44472745,  0.35345137])"
      ]
     },
     "execution_count": 100,
     "metadata": {},
     "output_type": "execute_result"
    }
   ],
   "source": [
    "test_pred[:, 1]"
   ]
  },
  {
   "cell_type": "code",
   "execution_count": 101,
   "metadata": {
    "collapsed": true
   },
   "outputs": [],
   "source": [
    "test_pred_df = pd.DataFrame(test_pred[:, 1], columns=[\"Prediction1\"])"
   ]
  },
  {
   "cell_type": "code",
   "execution_count": 102,
   "metadata": {
    "collapsed": true
   },
   "outputs": [],
   "source": [
    "test_pred_df.index.name = \"Id\""
   ]
  },
  {
   "cell_type": "code",
   "execution_count": 103,
   "metadata": {},
   "outputs": [
    {
     "data": {
      "text/html": [
       "<div>\n",
       "<style scoped>\n",
       "    .dataframe tbody tr th:only-of-type {\n",
       "        vertical-align: middle;\n",
       "    }\n",
       "\n",
       "    .dataframe tbody tr th {\n",
       "        vertical-align: top;\n",
       "    }\n",
       "\n",
       "    .dataframe thead th {\n",
       "        text-align: right;\n",
       "    }\n",
       "</style>\n",
       "<table border=\"1\" class=\"dataframe\">\n",
       "  <thead>\n",
       "    <tr style=\"text-align: right;\">\n",
       "      <th></th>\n",
       "      <th>Prediction1</th>\n",
       "    </tr>\n",
       "    <tr>\n",
       "      <th>Id</th>\n",
       "      <th></th>\n",
       "    </tr>\n",
       "  </thead>\n",
       "  <tbody>\n",
       "    <tr>\n",
       "      <th>0</th>\n",
       "      <td>0.703948</td>\n",
       "    </tr>\n",
       "    <tr>\n",
       "      <th>1</th>\n",
       "      <td>0.681676</td>\n",
       "    </tr>\n",
       "    <tr>\n",
       "      <th>2</th>\n",
       "      <td>0.636081</td>\n",
       "    </tr>\n",
       "    <tr>\n",
       "      <th>3</th>\n",
       "      <td>0.670736</td>\n",
       "    </tr>\n",
       "    <tr>\n",
       "      <th>4</th>\n",
       "      <td>0.608587</td>\n",
       "    </tr>\n",
       "  </tbody>\n",
       "</table>\n",
       "</div>"
      ],
      "text/plain": [
       "    Prediction1\n",
       "Id             \n",
       "0      0.703948\n",
       "1      0.681676\n",
       "2      0.636081\n",
       "3      0.670736\n",
       "4      0.608587"
      ]
     },
     "execution_count": 103,
     "metadata": {},
     "output_type": "execute_result"
    }
   ],
   "source": [
    "test_pred_df.head()"
   ]
  },
  {
   "cell_type": "code",
   "execution_count": 104,
   "metadata": {
    "collapsed": true
   },
   "outputs": [],
   "source": [
    "test_pred_df.to_csv(\"sample_1.csv\")"
   ]
  },
  {
   "cell_type": "code",
   "execution_count": null,
   "metadata": {
    "collapsed": true
   },
   "outputs": [],
   "source": []
  }
 ],
 "metadata": {
  "kernelspec": {
   "display_name": "Python 3",
   "language": "python",
   "name": "python3"
  },
  "language_info": {
   "codemirror_mode": {
    "name": "ipython",
    "version": 3
   },
   "file_extension": ".py",
   "mimetype": "text/x-python",
   "name": "python",
   "nbconvert_exporter": "python",
   "pygments_lexer": "ipython3",
   "version": "3.6.2"
  }
 },
 "nbformat": 4,
 "nbformat_minor": 2
}

{
 "cells": [
  {
   "cell_type": "code",
   "execution_count": 1,
   "metadata": {
    "collapsed": true
   },
   "outputs": [],
   "source": [
    "import pandas as pd\n",
    "import numpy as np\n",
    "import math\n",
    "from sklearn import datasets, linear_model, metrics, feature_extraction, model_selection, tree, ensemble\n",
    "from matplotlib import pyplot as plt\n",
    "import seaborn as sns\n",
    "import math\n",
    "plt.style.use(\"ggplot\")\n",
    "%matplotlib inline\n",
    "import gc\n",
    "import json\n",
    "from win10toast import ToastNotifier"
   ]
  },
  {
   "cell_type": "code",
   "execution_count": 2,
   "metadata": {
    "collapsed": true
   },
   "outputs": [],
   "source": [
    "notif = ToastNotifier()"
   ]
  },
  {
   "cell_type": "code",
   "execution_count": 27,
   "metadata": {
    "collapsed": true
   },
   "outputs": [],
   "source": [
    "def daysInMonth(x):\n",
    "    return 28 + ((x + math.floor(x / 8)) % 2 + (2 % x) + (2 * math.floor(1/x)))\n",
    "\n",
    "\n",
    "daysFromYearStart = [0]\n",
    "def getDaysFromYearStart(month, day):\n",
    "    while len(daysFromYearStart) <= month:\n",
    "        l = len(daysFromYearStart)\n",
    "        daysFromYearStart.append(daysFromYearStart[l - 1] + daysInMonth(l))\n",
    "    return daysFromYearStart[month] - (daysInMonth(month) - day)\n",
    "\n",
    "\n",
    "def dropRare(frame, clsName, minCount):\n",
    "    counts = frame[clsName].value_counts()\n",
    "    return frame.drop(df[df[clsName].isin(counts[counts < minCount].index)].index)\n",
    "\n",
    "def logit(x):\n",
    "    return math.log(np.abs(x / (1 - x)))\n",
    "\n",
    "def logit_vec(v):\n",
    "    return logit(v.mean() + 1e-5)\n",
    "\n",
    "def reclassMeanOpt(frame, targetSrc, clsName, meanName, drop=False):\n",
    "    if meanName in frame.columns:\n",
    "        if drop:\n",
    "            print(\"%s found in dataframe, drop=True, dropping\" % meanName)\n",
    "            frame = frame.drop(meanName, axis=1)\n",
    "        else:\n",
    "            print(\"%s found in dataframe, drop=False, skipping\" % meanName)\n",
    "            return frame\n",
    "    mean_frame = targetSrc[[clsName, 'target']].groupby(clsName).agg(logit_vec).reset_index()\n",
    "    mean_frame.rename(columns={'target':meanName}, inplace = True)\n",
    "    return pd.merge(frame, mean_frame, on=clsName, how='left')\n",
    "    \n",
    "    \n",
    "def reclassMean(frame, targetSrc, clsName, meanName, targetExtractor = lambda f, c: f[[c, 'target']].groupby(c).mean(), excluders=[]):\n",
    "    def getMean(c): \n",
    "        if c not in meanInfo or c in excluders:\n",
    "            meanInfo[c] = meanInfo.mean()\n",
    "        return meanInfo[c]\n",
    "    meanInfo = targetExtractor(targetSrc, clsName)\n",
    "    frame[meanName] = frame[clsName].map(lambda c: getMean(c))\n",
    "        \n",
    "    \n",
    "def split_time(time):\n",
    "    time = str(int(time))\n",
    "    time = ('0' * (4 - len(time))) + time\n",
    "    hours = int(time[0:2])\n",
    "    minutes = int(time[2:4])\n",
    "    return {\"H\": hours, \"M\": minutes}\n",
    "\n",
    "\n",
    "def reclass_time(frame, orig, hours, minutes): \n",
    "    t = frame[orig].map(split_time)\n",
    "    frame[hours] = t.map(lambda t: t[\"H\"])\n",
    "    frame[minutes] = t.map(lambda t: t[\"M\"])\n",
    "    \n",
    "def roc_curve(label, pred):\n",
    "    fpr, tpr, _ = metrics.roc_curve(label, pred[:,1])\n",
    "    plt.plot(fpr, tpr, label = 'linear model')\n",
    "    plt.fill(fpr, tpr, alpha=0.5)\n",
    "    plt.plot([0, 1], [0, 1], '--', color = 'grey', label = 'random')\n",
    "    plt.xlim([-0.05, 1.05])\n",
    "    plt.ylim([-0.05, 1.05])\n",
    "    plt.xlabel('False Positive Rate')\n",
    "    plt.ylabel('True Positive Rate')\n",
    "    plt.title('ROC curve')\n",
    "    plt.legend(loc = \"lower right\");\n",
    "    plt.show()"
   ]
  },
  {
   "cell_type": "code",
   "execution_count": 4,
   "metadata": {},
   "outputs": [
    {
     "data": {
      "text/html": [
       "<div>\n",
       "<style scoped>\n",
       "    .dataframe tbody tr th:only-of-type {\n",
       "        vertical-align: middle;\n",
       "    }\n",
       "\n",
       "    .dataframe tbody tr th {\n",
       "        vertical-align: top;\n",
       "    }\n",
       "\n",
       "    .dataframe thead th {\n",
       "        text-align: right;\n",
       "    }\n",
       "</style>\n",
       "<table border=\"1\" class=\"dataframe\">\n",
       "  <thead>\n",
       "    <tr style=\"text-align: right;\">\n",
       "      <th></th>\n",
       "      <th>Month</th>\n",
       "      <th>DayofMonth</th>\n",
       "      <th>DayOfWeek</th>\n",
       "      <th>DepTime</th>\n",
       "      <th>ArrTime</th>\n",
       "      <th>UniqueCarrier</th>\n",
       "      <th>FlightNum</th>\n",
       "      <th>TailNum</th>\n",
       "      <th>AirTime</th>\n",
       "      <th>Origin</th>\n",
       "      <th>Dest</th>\n",
       "      <th>Distance</th>\n",
       "      <th>TaxiIn</th>\n",
       "      <th>TaxiOut</th>\n",
       "      <th>target</th>\n",
       "    </tr>\n",
       "  </thead>\n",
       "  <tbody>\n",
       "    <tr>\n",
       "      <th>0</th>\n",
       "      <td>1</td>\n",
       "      <td>1</td>\n",
       "      <td>2</td>\n",
       "      <td>1007.0</td>\n",
       "      <td>1109.0</td>\n",
       "      <td>AA</td>\n",
       "      <td>511</td>\n",
       "      <td>N404AA</td>\n",
       "      <td>34.0</td>\n",
       "      <td>AUS</td>\n",
       "      <td>DFW</td>\n",
       "      <td>190</td>\n",
       "      <td>15.0</td>\n",
       "      <td>13.0</td>\n",
       "      <td>1</td>\n",
       "    </tr>\n",
       "    <tr>\n",
       "      <th>1</th>\n",
       "      <td>1</td>\n",
       "      <td>1</td>\n",
       "      <td>2</td>\n",
       "      <td>1411.0</td>\n",
       "      <td>1521.0</td>\n",
       "      <td>NW</td>\n",
       "      <td>1631</td>\n",
       "      <td>N363NB</td>\n",
       "      <td>37.0</td>\n",
       "      <td>TVC</td>\n",
       "      <td>DTW</td>\n",
       "      <td>207</td>\n",
       "      <td>9.0</td>\n",
       "      <td>24.0</td>\n",
       "      <td>1</td>\n",
       "    </tr>\n",
       "    <tr>\n",
       "      <th>2</th>\n",
       "      <td>1</td>\n",
       "      <td>1</td>\n",
       "      <td>2</td>\n",
       "      <td>859.0</td>\n",
       "      <td>1112.0</td>\n",
       "      <td>MQ</td>\n",
       "      <td>4645</td>\n",
       "      <td>N700LE</td>\n",
       "      <td>103.0</td>\n",
       "      <td>BDL</td>\n",
       "      <td>RDU</td>\n",
       "      <td>532</td>\n",
       "      <td>3.0</td>\n",
       "      <td>27.0</td>\n",
       "      <td>0</td>\n",
       "    </tr>\n",
       "    <tr>\n",
       "      <th>3</th>\n",
       "      <td>1</td>\n",
       "      <td>1</td>\n",
       "      <td>2</td>\n",
       "      <td>1835.0</td>\n",
       "      <td>2159.0</td>\n",
       "      <td>MQ</td>\n",
       "      <td>4838</td>\n",
       "      <td>N704PG</td>\n",
       "      <td>130.0</td>\n",
       "      <td>XNA</td>\n",
       "      <td>LGA</td>\n",
       "      <td>1147</td>\n",
       "      <td>6.0</td>\n",
       "      <td>8.0</td>\n",
       "      <td>1</td>\n",
       "    </tr>\n",
       "    <tr>\n",
       "      <th>4</th>\n",
       "      <td>1</td>\n",
       "      <td>1</td>\n",
       "      <td>2</td>\n",
       "      <td>1305.0</td>\n",
       "      <td>1924.0</td>\n",
       "      <td>US</td>\n",
       "      <td>185</td>\n",
       "      <td>N655AW</td>\n",
       "      <td>229.0</td>\n",
       "      <td>PHX</td>\n",
       "      <td>FLL</td>\n",
       "      <td>1972</td>\n",
       "      <td>9.0</td>\n",
       "      <td>21.0</td>\n",
       "      <td>1</td>\n",
       "    </tr>\n",
       "  </tbody>\n",
       "</table>\n",
       "</div>"
      ],
      "text/plain": [
       "   Month  DayofMonth  DayOfWeek  DepTime  ArrTime UniqueCarrier  FlightNum  \\\n",
       "0      1           1          2   1007.0   1109.0            AA        511   \n",
       "1      1           1          2   1411.0   1521.0            NW       1631   \n",
       "2      1           1          2    859.0   1112.0            MQ       4645   \n",
       "3      1           1          2   1835.0   2159.0            MQ       4838   \n",
       "4      1           1          2   1305.0   1924.0            US        185   \n",
       "\n",
       "  TailNum  AirTime Origin Dest  Distance  TaxiIn  TaxiOut  target  \n",
       "0  N404AA     34.0    AUS  DFW       190    15.0     13.0       1  \n",
       "1  N363NB     37.0    TVC  DTW       207     9.0     24.0       1  \n",
       "2  N700LE    103.0    BDL  RDU       532     3.0     27.0       0  \n",
       "3  N704PG    130.0    XNA  LGA      1147     6.0      8.0       1  \n",
       "4  N655AW    229.0    PHX  FLL      1972     9.0     21.0       1  "
      ]
     },
     "execution_count": 4,
     "metadata": {},
     "output_type": "execute_result"
    }
   ],
   "source": [
    "df = pd.read_csv(\"train_dataset.csv\")\n",
    "df.head()"
   ]
  },
  {
   "cell_type": "code",
   "execution_count": 5,
   "metadata": {
    "collapsed": true
   },
   "outputs": [],
   "source": [
    "df = df.dropna()\n",
    "df = df.drop(df[df[\"AirTime\"] == 0].index)"
   ]
  },
  {
   "cell_type": "code",
   "execution_count": 6,
   "metadata": {
    "collapsed": true
   },
   "outputs": [],
   "source": [
    "df = dropRare(df, \"FlightNum\", 20)\n",
    "df = dropRare(df, \"Dest\", 5)\n",
    "df = dropRare(df, \"Origin\", 5)"
   ]
  },
  {
   "cell_type": "code",
   "execution_count": 7,
   "metadata": {
    "collapsed": true
   },
   "outputs": [],
   "source": [
    "df[\"DayOfYear\"] = df.apply(lambda x: getDaysFromYearStart(x[\"Month\"], x[\"DayofMonth\"]), axis=1)"
   ]
  },
  {
   "cell_type": "code",
   "execution_count": 8,
   "metadata": {
    "collapsed": true
   },
   "outputs": [],
   "source": [
    "df[\"AirTimeFrame\"] = df[\"AirTime\"].map(lambda x: math.log((x // 30) + 1, 10))"
   ]
  },
  {
   "cell_type": "code",
   "execution_count": 9,
   "metadata": {
    "collapsed": true
   },
   "outputs": [],
   "source": [
    "reclass_time(df, \"DepTime\", \"DepHour\", \"DepMinute\")\n",
    "df[\"DepTotalMinutes\"] = df[\"DepHour\"] * 60 + df[\"DepMinute\"]\n",
    "df[\"DepTimeFrame\"] = df[\"DepTotalMinutes\"] // 15\n",
    "df[\"DepHourOfYear\"] = df[\"DayOfYear\"] * 24 - (24 - df[\"DepHour\"])"
   ]
  },
  {
   "cell_type": "code",
   "execution_count": 10,
   "metadata": {
    "collapsed": true
   },
   "outputs": [],
   "source": [
    "reclass_time(df, \"ArrTime\", \"ArrHour\", \"ArrMinute\")\n",
    "df[\"ArrTotalMinutes\"] = df[\"ArrHour\"] * 60 + df[\"ArrMinute\"]\n",
    "df[\"ArrTimeFrame\"] = df[\"ArrTotalMinutes\"] // 15\n",
    "df[\"ArrHourOfYear\"] = df[\"DayOfYear\"] * 24 - (24 - df[\"ArrHour\"])"
   ]
  },
  {
   "cell_type": "code",
   "execution_count": 11,
   "metadata": {
    "collapsed": true
   },
   "outputs": [],
   "source": [
    "df[\"DistanceFrame\"] = df[\"Distance\"].map(lambda x: math.log((x // 30) + 1, 2))"
   ]
  },
  {
   "cell_type": "code",
   "execution_count": 12,
   "metadata": {
    "collapsed": true
   },
   "outputs": [],
   "source": [
    "gc.collect()\n",
    "df[\"DepHourOfYearFrame\"] = df[\"DepHourOfYear\"] // 8\n",
    "dhoy_origin_mean = df.groupby([\"DepHourOfYearFrame\", \"Origin\"])[\"target\"].agg(logit_vec).reset_index()\n",
    "dhoy_origin_mean.rename(columns={'target': 'DHOY_OriginChance'}, inplace=True)\n",
    "df = pd.merge(df, dhoy_origin_mean, on=['DepHourOfYearFrame', 'Origin'], how='left')"
   ]
  },
  {
   "cell_type": "code",
   "execution_count": 13,
   "metadata": {
    "collapsed": true
   },
   "outputs": [],
   "source": [
    "gc.collect()\n",
    "df[\"ArrHourOfYearFrame\"] = df[\"ArrHourOfYear\"] // 8\n",
    "ahoy_dest_mean = df.groupby([\"ArrHourOfYearFrame\", \"Dest\"])[\"target\"].agg(logit_vec).reset_index()\n",
    "ahoy_dest_mean.rename(columns={'target': 'AHOY_DestChance'}, inplace=True)\n",
    "df = pd.merge(df, ahoy_dest_mean, on=['ArrHourOfYearFrame', 'Dest'], how='left')"
   ]
  },
  {
   "cell_type": "code",
   "execution_count": 14,
   "metadata": {},
   "outputs": [
    {
     "data": {
      "text/plain": [
       "49"
      ]
     },
     "execution_count": 14,
     "metadata": {},
     "output_type": "execute_result"
    }
   ],
   "source": [
    "gc.collect()"
   ]
  },
  {
   "cell_type": "code",
   "execution_count": 15,
   "metadata": {
    "collapsed": true
   },
   "outputs": [],
   "source": [
    "with open('airport_info.json', 'r') as data_file:\n",
    "    airport_data = json.load(fp = data_file)\n",
    "    df[\"OTimeZone\"] = df[\"Origin\"].map(lambda x: airport_data[x]['Time Zone'])\n",
    "    df[\"OLatitude\"] = df[\"Origin\"].map(lambda x: airport_data[x]['Latitude'])\n",
    "    df[\"OLongitude\"] = df[\"Origin\"].map(lambda x: airport_data[x]['Longitude'])\n",
    "    \n",
    "    df[\"DTimeZone\"] = df[\"Dest\"].map(lambda x: airport_data[x]['Time Zone'])\n",
    "    df[\"DLatitude\"] = df[\"Dest\"].map(lambda x: airport_data[x]['Latitude'])\n",
    "    df[\"DLongitude\"] = df[\"Dest\"].map(lambda x: airport_data[x]['Longitude'])"
   ]
  },
  {
   "cell_type": "code",
   "execution_count": 16,
   "metadata": {
    "collapsed": true
   },
   "outputs": [],
   "source": [
    "df[\"OTimeZone\"] = df[\"OTimeZone\"].map(lambda x: int(x.split(':')[0]))\n",
    "df[\"DTimeZone\"] = df[\"DTimeZone\"].map(lambda x: int(x.split(':')[0]))"
   ]
  },
  {
   "cell_type": "code",
   "execution_count": 17,
   "metadata": {
    "collapsed": true
   },
   "outputs": [],
   "source": [
    "df[\"OLtFrame\"] = df[\"OLatitude\"].astype('float').agg('floor')\n",
    "df[\"DLtFrame\"] = df[\"DLatitude\"].astype('float').agg('floor')\n",
    "\n",
    "df[\"OLgFrame\"] = df[\"OLongitude\"].astype('float').agg('floor')\n",
    "df[\"DLgFrame\"] = df[\"DLongitude\"].astype('float').agg('floor')"
   ]
  },
  {
   "cell_type": "code",
   "execution_count": 18,
   "metadata": {},
   "outputs": [
    {
     "data": {
      "text/plain": [
       "Index(['Month', 'DayofMonth', 'DayOfWeek', 'DepTime', 'ArrTime',\n",
       "       'UniqueCarrier', 'FlightNum', 'TailNum', 'AirTime', 'Origin', 'Dest',\n",
       "       'Distance', 'TaxiIn', 'TaxiOut', 'target', 'DayOfYear', 'AirTimeFrame',\n",
       "       'DepHour', 'DepMinute', 'DepTotalMinutes', 'DepTimeFrame',\n",
       "       'DepHourOfYear', 'ArrHour', 'ArrMinute', 'ArrTotalMinutes',\n",
       "       'ArrTimeFrame', 'ArrHourOfYear', 'DistanceFrame', 'DepHourOfYearFrame',\n",
       "       'DHOY_OriginChance', 'ArrHourOfYearFrame', 'AHOY_DestChance',\n",
       "       'OTimeZone', 'OLatitude', 'OLongitude', 'DTimeZone', 'DLatitude',\n",
       "       'DLongitude', 'OLtFrame', 'DLtFrame', 'OLgFrame', 'DLgFrame'],\n",
       "      dtype='object')"
      ]
     },
     "execution_count": 18,
     "metadata": {},
     "output_type": "execute_result"
    }
   ],
   "source": [
    "df.columns"
   ]
  },
  {
   "cell_type": "code",
   "execution_count": 19,
   "metadata": {},
   "outputs": [
    {
     "data": {
      "text/html": [
       "<div>\n",
       "<style scoped>\n",
       "    .dataframe tbody tr th:only-of-type {\n",
       "        vertical-align: middle;\n",
       "    }\n",
       "\n",
       "    .dataframe tbody tr th {\n",
       "        vertical-align: top;\n",
       "    }\n",
       "\n",
       "    .dataframe thead th {\n",
       "        text-align: right;\n",
       "    }\n",
       "</style>\n",
       "<table border=\"1\" class=\"dataframe\">\n",
       "  <thead>\n",
       "    <tr style=\"text-align: right;\">\n",
       "      <th></th>\n",
       "      <th>Month</th>\n",
       "      <th>DayofMonth</th>\n",
       "      <th>DayOfWeek</th>\n",
       "      <th>DepTime</th>\n",
       "      <th>ArrTime</th>\n",
       "      <th>UniqueCarrier</th>\n",
       "      <th>FlightNum</th>\n",
       "      <th>TailNum</th>\n",
       "      <th>AirTime</th>\n",
       "      <th>Origin</th>\n",
       "      <th>...</th>\n",
       "      <th>OTimeZone</th>\n",
       "      <th>OLatitude</th>\n",
       "      <th>OLongitude</th>\n",
       "      <th>DTimeZone</th>\n",
       "      <th>DLatitude</th>\n",
       "      <th>DLongitude</th>\n",
       "      <th>OLtFrame</th>\n",
       "      <th>DLtFrame</th>\n",
       "      <th>OLgFrame</th>\n",
       "      <th>DLgFrame</th>\n",
       "    </tr>\n",
       "  </thead>\n",
       "  <tbody>\n",
       "    <tr>\n",
       "      <th>0</th>\n",
       "      <td>1</td>\n",
       "      <td>1</td>\n",
       "      <td>2</td>\n",
       "      <td>1007.0</td>\n",
       "      <td>1109.0</td>\n",
       "      <td>AA</td>\n",
       "      <td>511</td>\n",
       "      <td>N404AA</td>\n",
       "      <td>34.0</td>\n",
       "      <td>AUS</td>\n",
       "      <td>...</td>\n",
       "      <td>-6</td>\n",
       "      <td>30.1945</td>\n",
       "      <td>-97.669899</td>\n",
       "      <td>-6</td>\n",
       "      <td>32.896801</td>\n",
       "      <td>-97.038002</td>\n",
       "      <td>30.0</td>\n",
       "      <td>32.0</td>\n",
       "      <td>-98.0</td>\n",
       "      <td>-98.0</td>\n",
       "    </tr>\n",
       "    <tr>\n",
       "      <th>1</th>\n",
       "      <td>1</td>\n",
       "      <td>1</td>\n",
       "      <td>2</td>\n",
       "      <td>1411.0</td>\n",
       "      <td>1521.0</td>\n",
       "      <td>NW</td>\n",
       "      <td>1631</td>\n",
       "      <td>N363NB</td>\n",
       "      <td>37.0</td>\n",
       "      <td>TVC</td>\n",
       "      <td>...</td>\n",
       "      <td>-5</td>\n",
       "      <td>44.7414017</td>\n",
       "      <td>-85.5821991</td>\n",
       "      <td>-5</td>\n",
       "      <td>42.2123985</td>\n",
       "      <td>-83.3534012</td>\n",
       "      <td>44.0</td>\n",
       "      <td>42.0</td>\n",
       "      <td>-86.0</td>\n",
       "      <td>-84.0</td>\n",
       "    </tr>\n",
       "    <tr>\n",
       "      <th>2</th>\n",
       "      <td>1</td>\n",
       "      <td>1</td>\n",
       "      <td>2</td>\n",
       "      <td>859.0</td>\n",
       "      <td>1112.0</td>\n",
       "      <td>MQ</td>\n",
       "      <td>4645</td>\n",
       "      <td>N700LE</td>\n",
       "      <td>103.0</td>\n",
       "      <td>BDL</td>\n",
       "      <td>...</td>\n",
       "      <td>-5</td>\n",
       "      <td>41.9389</td>\n",
       "      <td>-72.683197</td>\n",
       "      <td>-5</td>\n",
       "      <td>35.8776016</td>\n",
       "      <td>-78.7874985</td>\n",
       "      <td>41.0</td>\n",
       "      <td>35.0</td>\n",
       "      <td>-73.0</td>\n",
       "      <td>-79.0</td>\n",
       "    </tr>\n",
       "    <tr>\n",
       "      <th>3</th>\n",
       "      <td>1</td>\n",
       "      <td>1</td>\n",
       "      <td>2</td>\n",
       "      <td>1835.0</td>\n",
       "      <td>2159.0</td>\n",
       "      <td>MQ</td>\n",
       "      <td>4838</td>\n",
       "      <td>N704PG</td>\n",
       "      <td>130.0</td>\n",
       "      <td>XNA</td>\n",
       "      <td>...</td>\n",
       "      <td>-6</td>\n",
       "      <td>36.2818985</td>\n",
       "      <td>-94.3068008</td>\n",
       "      <td>-5</td>\n",
       "      <td>40.7771988</td>\n",
       "      <td>-73.8725967</td>\n",
       "      <td>36.0</td>\n",
       "      <td>40.0</td>\n",
       "      <td>-95.0</td>\n",
       "      <td>-74.0</td>\n",
       "    </tr>\n",
       "    <tr>\n",
       "      <th>4</th>\n",
       "      <td>1</td>\n",
       "      <td>1</td>\n",
       "      <td>2</td>\n",
       "      <td>1305.0</td>\n",
       "      <td>1924.0</td>\n",
       "      <td>US</td>\n",
       "      <td>185</td>\n",
       "      <td>N655AW</td>\n",
       "      <td>229.0</td>\n",
       "      <td>PHX</td>\n",
       "      <td>...</td>\n",
       "      <td>-7</td>\n",
       "      <td>33.4342995</td>\n",
       "      <td>-112.012001</td>\n",
       "      <td>-5</td>\n",
       "      <td>26.0725994</td>\n",
       "      <td>-80.1527023</td>\n",
       "      <td>33.0</td>\n",
       "      <td>26.0</td>\n",
       "      <td>-113.0</td>\n",
       "      <td>-81.0</td>\n",
       "    </tr>\n",
       "  </tbody>\n",
       "</table>\n",
       "<p>5 rows × 42 columns</p>\n",
       "</div>"
      ],
      "text/plain": [
       "   Month  DayofMonth  DayOfWeek  DepTime  ArrTime UniqueCarrier  FlightNum  \\\n",
       "0      1           1          2   1007.0   1109.0            AA        511   \n",
       "1      1           1          2   1411.0   1521.0            NW       1631   \n",
       "2      1           1          2    859.0   1112.0            MQ       4645   \n",
       "3      1           1          2   1835.0   2159.0            MQ       4838   \n",
       "4      1           1          2   1305.0   1924.0            US        185   \n",
       "\n",
       "  TailNum  AirTime Origin    ...    OTimeZone   OLatitude   OLongitude  \\\n",
       "0  N404AA     34.0    AUS    ...           -6     30.1945   -97.669899   \n",
       "1  N363NB     37.0    TVC    ...           -5  44.7414017  -85.5821991   \n",
       "2  N700LE    103.0    BDL    ...           -5     41.9389   -72.683197   \n",
       "3  N704PG    130.0    XNA    ...           -6  36.2818985  -94.3068008   \n",
       "4  N655AW    229.0    PHX    ...           -7  33.4342995  -112.012001   \n",
       "\n",
       "   DTimeZone   DLatitude   DLongitude  OLtFrame  DLtFrame  OLgFrame  DLgFrame  \n",
       "0         -6   32.896801   -97.038002      30.0      32.0     -98.0     -98.0  \n",
       "1         -5  42.2123985  -83.3534012      44.0      42.0     -86.0     -84.0  \n",
       "2         -5  35.8776016  -78.7874985      41.0      35.0     -73.0     -79.0  \n",
       "3         -5  40.7771988  -73.8725967      36.0      40.0     -95.0     -74.0  \n",
       "4         -5  26.0725994  -80.1527023      33.0      26.0    -113.0     -81.0  \n",
       "\n",
       "[5 rows x 42 columns]"
      ]
     },
     "execution_count": 19,
     "metadata": {},
     "output_type": "execute_result"
    }
   ],
   "source": [
    "df.head()"
   ]
  },
  {
   "cell_type": "code",
   "execution_count": 20,
   "metadata": {},
   "outputs": [
    {
     "data": {
      "text/plain": [
       "160"
      ]
     },
     "execution_count": 20,
     "metadata": {},
     "output_type": "execute_result"
    }
   ],
   "source": [
    "gc.collect()"
   ]
  },
  {
   "cell_type": "code",
   "execution_count": 21,
   "metadata": {
    "collapsed": true
   },
   "outputs": [],
   "source": [
    "mean_names = {\n",
    "    \"UniqueCarrier\": \"CarrierChance\",\n",
    "    \"Origin\": \"OriginChance\",\n",
    "    \"Dest\": \"DestChance\",\n",
    "    \"FlightNum\": \"FlightChance\",\n",
    "    \"DepHourOfYear\": \"DHOYChance\",\n",
    "    \"ArrHourOfYear\": \"AHOYChance\",\n",
    "    \"TailNum\": \"PlaneChance\",\n",
    "    \"AirTimeFrame\": \"AirFrameChance\",\n",
    "    \"DepTimeFrame\": \"DepFrameChance\",\n",
    "    \"ArrTimeFrame\": \"ArrFrameChance\",\n",
    "    \"OTimeZone\": \"OTZChance\",\n",
    "    \"DTimeZone\": \"DTZChance\",\n",
    "    \"OLtFrame\": \"OLtChance\",\n",
    "    \"DLtFrame\": \"DLtChance\",\n",
    "    \"OLgFrame\": \"OLgChance\",\n",
    "    \"DLgFrame\": \"DLgChance\"\n",
    "}"
   ]
  },
  {
   "cell_type": "code",
   "execution_count": 22,
   "metadata": {},
   "outputs": [
    {
     "name": "stdout",
     "output_type": "stream",
     "text": [
      "UniqueCarrier:CarrierChance\n",
      "Origin:OriginChance\n",
      "Dest:DestChance\n",
      "FlightNum:FlightChance\n",
      "DepHourOfYear:DHOYChance\n",
      "ArrHourOfYear:AHOYChance\n",
      "TailNum:PlaneChance\n",
      "AirTimeFrame:AirFrameChance\n",
      "DepTimeFrame:DepFrameChance\n",
      "ArrTimeFrame:ArrFrameChance\n",
      "OTimeZone:OTZChance\n",
      "DTimeZone:DTZChance\n",
      "OLtFrame:OLtChance\n",
      "DLtFrame:DLtChance\n",
      "OLgFrame:OLgChance\n",
      "DLgFrame:DLgChance\n"
     ]
    }
   ],
   "source": [
    "for orig, mean in mean_names.items():\n",
    "    df = reclassMeanOpt(df, df, orig, mean)\n",
    "    gc.collect()\n",
    "    print(\"%s:%s\" % (orig, mean))"
   ]
  },
  {
   "cell_type": "code",
   "execution_count": 72,
   "metadata": {},
   "outputs": [
    {
     "data": {
      "text/plain": [
       "0     190\n",
       "1     207\n",
       "2     532\n",
       "3    1147\n",
       "4    1972\n",
       "Name: Distance, dtype: int64"
      ]
     },
     "execution_count": 72,
     "metadata": {},
     "output_type": "execute_result"
    }
   ],
   "source": [
    "df.head()['Distance']"
   ]
  },
  {
   "cell_type": "code",
   "execution_count": 24,
   "metadata": {},
   "outputs": [
    {
     "data": {
      "text/plain": [
       "66"
      ]
     },
     "execution_count": 24,
     "metadata": {},
     "output_type": "execute_result"
    }
   ],
   "source": [
    "gc.collect()"
   ]
  },
  {
   "cell_type": "code",
   "execution_count": 25,
   "metadata": {
    "collapsed": true
   },
   "outputs": [],
   "source": [
    "df[\"Dest_label\"] = df[\"Dest\"].astype('category').cat.codes\n",
    "df[\"Origin_label\"] = df[\"Origin\"].astype('category').cat.codes\n",
    "df[\"Carrier_label\"] = df[\"UniqueCarrier\"].astype('category').cat.codes"
   ]
  },
  {
   "cell_type": "code",
   "execution_count": 26,
   "metadata": {},
   "outputs": [
    {
     "data": {
      "text/plain": [
       "Index(['Month', 'DayofMonth', 'DayOfWeek', 'DepTime', 'ArrTime',\n",
       "       'UniqueCarrier', 'FlightNum', 'TailNum', 'AirTime', 'Origin', 'Dest',\n",
       "       'Distance', 'TaxiIn', 'TaxiOut', 'target', 'DayOfYear', 'AirTimeFrame',\n",
       "       'DepHour', 'DepMinute', 'DepTotalMinutes', 'DepTimeFrame',\n",
       "       'DepHourOfYear', 'ArrHour', 'ArrMinute', 'ArrTotalMinutes',\n",
       "       'ArrTimeFrame', 'ArrHourOfYear', 'DistanceFrame', 'DepHourOfYearFrame',\n",
       "       'DHOY_OriginChance', 'ArrHourOfYearFrame', 'AHOY_DestChance',\n",
       "       'OTimeZone', 'OLatitude', 'OLongitude', 'DTimeZone', 'DLatitude',\n",
       "       'DLongitude', 'OLtFrame', 'DLtFrame', 'OLgFrame', 'DLgFrame',\n",
       "       'CarrierChance', 'OriginChance', 'DestChance', 'FlightChance',\n",
       "       'DHOYChance', 'AHOYChance', 'PlaneChance', 'AirFrameChance',\n",
       "       'DepFrameChance', 'ArrFrameChance', 'OTZChance', 'DTZChance',\n",
       "       'OLtChance', 'DLtChance', 'OLgChance', 'DLgChance', 'Dest_label',\n",
       "       'Origin_label', 'Carrier_label'],\n",
       "      dtype='object')"
      ]
     },
     "execution_count": 26,
     "metadata": {},
     "output_type": "execute_result"
    }
   ],
   "source": [
    "df.columns"
   ]
  },
  {
   "cell_type": "code",
   "execution_count": 34,
   "metadata": {
    "collapsed": true
   },
   "outputs": [],
   "source": [
    "reg_used_cols = [\"AirFrameChance\",\n",
    "             \"DepFrameChance\",\n",
    "             \"ArrFrameChance\",\n",
    "             \"FlightChance\",\n",
    "             \"DHOYChance\",\n",
    "             \"AHOYChance\",\n",
    "             \"OriginChance\",\n",
    "             \"DestChance\",\n",
    "             \"CarrierChance\",\n",
    "             \"TaxiIn\",\n",
    "             \"TaxiOut\",\n",
    "             \"DHOY_OriginChance\",\n",
    "             \"AHOY_DestChance\"\n",
    "            ]\n",
    "num_cols_dec = ['AirTime', 'Distance', 'TaxiIn', 'TaxiOut',\n",
    "                'DepTotalMinutes', 'ArrTotalMinutes',\n",
    "                'Origin_label', 'Dest_label']\n",
    "cat_cols_dec = ['Month', 'DayofMonth', 'DayOfWeek', 'UniqueCarrier']\n",
    "dec_used_cols = num_cols_dec + cat_cols_dec\n",
    "cols_drop_dec = [x for x in reg_used_cols if x not in dec_used_cols]\n",
    "merged_df = pd.get_dummies(df[list(set(dec_used_cols + reg_used_cols)) + ['target']], columns=cat_cols_dec)"
   ]
  },
  {
   "cell_type": "code",
   "execution_count": 35,
   "metadata": {},
   "outputs": [
    {
     "data": {
      "text/plain": [
       "6012"
      ]
     },
     "execution_count": 35,
     "metadata": {},
     "output_type": "execute_result"
    }
   ],
   "source": [
    "labels = merged_df[\"target\"]\n",
    "data_train, data_test, label_train, label_test = model_selection.train_test_split(\n",
    "    merged_df.drop(\"target\", axis=1),\n",
    "    labels,\n",
    "    test_size = 0.3)\n",
    "gc.collect()"
   ]
  },
  {
   "cell_type": "code",
   "execution_count": 36,
   "metadata": {
    "collapsed": true
   },
   "outputs": [],
   "source": [
    "dec = ensemble.RandomForestClassifier(n_estimators=100, n_jobs=3)"
   ]
  },
  {
   "cell_type": "code",
   "execution_count": 37,
   "metadata": {
    "collapsed": true
   },
   "outputs": [],
   "source": [
    "dec.fit(data_train.drop(cols_drop_dec, axis=1), label_train)\n",
    "try:\n",
    "    notif.show_toast(\"Random forest complete!\", \"Come HERE!!!!\", duration=10)\n",
    "except:\n",
    "    pass"
   ]
  },
  {
   "cell_type": "code",
   "execution_count": 38,
   "metadata": {},
   "outputs": [
    {
     "data": {
      "image/png": "[encoded data removed]",
      "text/plain": [
       "<matplotlib.figure.Figure at 0x1ad90b242e8>"
      ]
     },
     "metadata": {},
     "output_type": "display_data"
    },
    {
     "name": "stdout",
     "output_type": "stream",
     "text": [
      "0.81470306689\n"
     ]
    }
   ],
   "source": [
    "dec_pred = dec.predict_proba(data_test.drop(cols_drop_dec, axis=1))\n",
    "roc_curve(label_test, dec_pred)\n",
    "print(metrics.roc_auc_score(label_test, dec_pred[:,1]))"
   ]
  },
  {
   "cell_type": "markdown",
   "metadata": {},
   "source": [
    "0.81470306689"
   ]
  },
  {
   "cell_type": "code",
   "execution_count": 39,
   "metadata": {
    "collapsed": true
   },
   "outputs": [],
   "source": [
    "clf = linear_model.LogisticRegression()\n",
    "param_grid = {'C': [0.01, 0.1, 1, 5]}\n",
    "opt = model_selection.GridSearchCV(clf, param_grid, cv=3, n_jobs=2, return_train_score=True, scoring='roc_auc')"
   ]
  },
  {
   "cell_type": "code",
   "execution_count": 40,
   "metadata": {},
   "outputs": [
    {
     "ename": "NameError",
     "evalue": "name 'clf_df' is not defined",
     "output_type": "error",
     "traceback": [
      "\u001b[1;31m---------------------------------------------------------------------------\u001b[0m",
      "\u001b[1;31mNameError\u001b[0m                                 Traceback (most recent call last)",
      "\u001b[1;32m<ipython-input-40-295a51c321ee>\u001b[0m in \u001b[0;36m<module>\u001b[1;34m()\u001b[0m\n\u001b[0;32m      2\u001b[0m \u001b[0mgc\u001b[0m\u001b[1;33m.\u001b[0m\u001b[0mcollect\u001b[0m\u001b[1;33m(\u001b[0m\u001b[1;33m)\u001b[0m\u001b[1;33m\u001b[0m\u001b[0m\n\u001b[0;32m      3\u001b[0m \u001b[1;32mfor\u001b[0m \u001b[0mi\u001b[0m\u001b[1;33m,\u001b[0m \u001b[0mc\u001b[0m \u001b[1;32min\u001b[0m \u001b[0menumerate\u001b[0m\u001b[1;33m(\u001b[0m\u001b[0mopt\u001b[0m\u001b[1;33m.\u001b[0m\u001b[0mbest_estimator_\u001b[0m\u001b[1;33m.\u001b[0m\u001b[0mcoef_\u001b[0m\u001b[1;33m[\u001b[0m\u001b[1;36m0\u001b[0m\u001b[1;33m]\u001b[0m\u001b[1;33m)\u001b[0m\u001b[1;33m:\u001b[0m\u001b[1;33m\u001b[0m\u001b[0m\n\u001b[1;32m----> 4\u001b[1;33m     \u001b[0mprint\u001b[0m\u001b[1;33m(\u001b[0m\u001b[1;34m\"%s: %f\"\u001b[0m \u001b[1;33m%\u001b[0m \u001b[1;33m(\u001b[0m\u001b[0mclf_df\u001b[0m\u001b[1;33m.\u001b[0m\u001b[0mcolumns\u001b[0m\u001b[1;33m[\u001b[0m\u001b[0mi\u001b[0m\u001b[1;33m]\u001b[0m\u001b[1;33m,\u001b[0m \u001b[0mc\u001b[0m\u001b[1;33m)\u001b[0m\u001b[1;33m)\u001b[0m\u001b[1;33m\u001b[0m\u001b[0m\n\u001b[0m",
      "\u001b[1;31mNameError\u001b[0m: name 'clf_df' is not defined"
     ]
    }
   ],
   "source": [
    "opt.fit(data_train[reg_used_cols], label_train)\n",
    "gc.collect()\n",
    "for i, c in enumerate(opt.best_estimator_.coef_[0]):\n",
    "    print(\"%s: %f\" % (data_train[reg_used_cols].columns[i], c))"
   ]
  },
  {
   "cell_type": "code",
   "execution_count": 41,
   "metadata": {
    "scrolled": true
   },
   "outputs": [
    {
     "data": {
      "image/png": "[encoded data removed]",
      "text/plain": [
       "<matplotlib.figure.Figure at 0x1ad906aef28>"
      ]
     },
     "metadata": {},
     "output_type": "display_data"
    },
    {
     "name": "stdout",
     "output_type": "stream",
     "text": [
      "0.823198177896\n"
     ]
    }
   ],
   "source": [
    "reg_pred = opt.predict_proba(data_test[reg_used_cols])\n",
    "roc_curve(label_test, reg_pred)\n",
    "print(metrics.roc_auc_score(label_test, reg_pred[:,1]))"
   ]
  },
  {
   "cell_type": "markdown",
   "metadata": {},
   "source": [
    "0.823378147562"
   ]
  },
  {
   "cell_type": "code",
   "execution_count": 44,
   "metadata": {},
   "outputs": [
    {
     "data": {
      "image/png": "[encoded data removed]",
      "text/plain": [
       "<matplotlib.figure.Figure at 0x1ad910aed68>"
      ]
     },
     "metadata": {},
     "output_type": "display_data"
    },
    {
     "name": "stdout",
     "output_type": "stream",
     "text": [
      "0.843545660871\n"
     ]
    }
   ],
   "source": [
    "mean_pred = (reg_pred + dec_pred) / 2\n",
    "roc_curve(label_test, mean_pred)\n",
    "print(metrics.roc_auc_score(label_test, mean_pred[:,1]))"
   ]
  },
  {
   "cell_type": "markdown",
   "metadata": {},
   "source": [
    "0.843545660871"
   ]
  },
  {
   "cell_type": "code",
   "execution_count": 45,
   "metadata": {
    "collapsed": true
   },
   "outputs": [],
   "source": [
    "test_df = pd.read_csv(\"test_dataset.csv\")"
   ]
  },
  {
   "cell_type": "code",
   "execution_count": 46,
   "metadata": {},
   "outputs": [
    {
     "data": {
      "text/plain": [
       "(3504864, 15)"
      ]
     },
     "execution_count": 46,
     "metadata": {},
     "output_type": "execute_result"
    }
   ],
   "source": [
    "test_df.shape"
   ]
  },
  {
   "cell_type": "code",
   "execution_count": 47,
   "metadata": {},
   "outputs": [
    {
     "data": {
      "text/html": [
       "<div>\n",
       "<style scoped>\n",
       "    .dataframe tbody tr th:only-of-type {\n",
       "        vertical-align: middle;\n",
       "    }\n",
       "\n",
       "    .dataframe tbody tr th {\n",
       "        vertical-align: top;\n",
       "    }\n",
       "\n",
       "    .dataframe thead th {\n",
       "        text-align: right;\n",
       "    }\n",
       "</style>\n",
       "<table border=\"1\" class=\"dataframe\">\n",
       "  <thead>\n",
       "    <tr style=\"text-align: right;\">\n",
       "      <th></th>\n",
       "      <th>Month</th>\n",
       "      <th>DayofMonth</th>\n",
       "      <th>DayOfWeek</th>\n",
       "      <th>DepTime</th>\n",
       "      <th>ArrTime</th>\n",
       "      <th>UniqueCarrier</th>\n",
       "      <th>FlightNum</th>\n",
       "      <th>TailNum</th>\n",
       "      <th>AirTime</th>\n",
       "      <th>Origin</th>\n",
       "      <th>Dest</th>\n",
       "      <th>Distance</th>\n",
       "      <th>TaxiIn</th>\n",
       "      <th>TaxiOut</th>\n",
       "      <th>Id</th>\n",
       "    </tr>\n",
       "  </thead>\n",
       "  <tbody>\n",
       "    <tr>\n",
       "      <th>0</th>\n",
       "      <td>1</td>\n",
       "      <td>1</td>\n",
       "      <td>2</td>\n",
       "      <td>1851.0</td>\n",
       "      <td>2029.0</td>\n",
       "      <td>UA</td>\n",
       "      <td>735</td>\n",
       "      <td>N386UA</td>\n",
       "      <td>113.0</td>\n",
       "      <td>ALB</td>\n",
       "      <td>ORD</td>\n",
       "      <td>723</td>\n",
       "      <td>7.0</td>\n",
       "      <td>38.0</td>\n",
       "      <td>0</td>\n",
       "    </tr>\n",
       "    <tr>\n",
       "      <th>1</th>\n",
       "      <td>1</td>\n",
       "      <td>1</td>\n",
       "      <td>2</td>\n",
       "      <td>1847.0</td>\n",
       "      <td>2029.0</td>\n",
       "      <td>CO</td>\n",
       "      <td>809</td>\n",
       "      <td>N15710</td>\n",
       "      <td>191.0</td>\n",
       "      <td>IAH</td>\n",
       "      <td>SNA</td>\n",
       "      <td>1347</td>\n",
       "      <td>7.0</td>\n",
       "      <td>24.0</td>\n",
       "      <td>1</td>\n",
       "    </tr>\n",
       "    <tr>\n",
       "      <th>2</th>\n",
       "      <td>1</td>\n",
       "      <td>1</td>\n",
       "      <td>2</td>\n",
       "      <td>1522.0</td>\n",
       "      <td>1622.0</td>\n",
       "      <td>MQ</td>\n",
       "      <td>4298</td>\n",
       "      <td>N676AE</td>\n",
       "      <td>28.0</td>\n",
       "      <td>ORD</td>\n",
       "      <td>PIA</td>\n",
       "      <td>130</td>\n",
       "      <td>3.0</td>\n",
       "      <td>29.0</td>\n",
       "      <td>2</td>\n",
       "    </tr>\n",
       "    <tr>\n",
       "      <th>3</th>\n",
       "      <td>1</td>\n",
       "      <td>1</td>\n",
       "      <td>2</td>\n",
       "      <td>2013.0</td>\n",
       "      <td>2303.0</td>\n",
       "      <td>NW</td>\n",
       "      <td>876</td>\n",
       "      <td>N780NC</td>\n",
       "      <td>90.0</td>\n",
       "      <td>MSP</td>\n",
       "      <td>SDF</td>\n",
       "      <td>603</td>\n",
       "      <td>6.0</td>\n",
       "      <td>14.0</td>\n",
       "      <td>3</td>\n",
       "    </tr>\n",
       "    <tr>\n",
       "      <th>4</th>\n",
       "      <td>1</td>\n",
       "      <td>1</td>\n",
       "      <td>2</td>\n",
       "      <td>1649.0</td>\n",
       "      <td>1727.0</td>\n",
       "      <td>FL</td>\n",
       "      <td>547</td>\n",
       "      <td>N920AT</td>\n",
       "      <td>83.0</td>\n",
       "      <td>ATL</td>\n",
       "      <td>BMI</td>\n",
       "      <td>533</td>\n",
       "      <td>5.0</td>\n",
       "      <td>10.0</td>\n",
       "      <td>4</td>\n",
       "    </tr>\n",
       "  </tbody>\n",
       "</table>\n",
       "</div>"
      ],
      "text/plain": [
       "   Month  DayofMonth  DayOfWeek  DepTime  ArrTime UniqueCarrier  FlightNum  \\\n",
       "0      1           1          2   1851.0   2029.0            UA        735   \n",
       "1      1           1          2   1847.0   2029.0            CO        809   \n",
       "2      1           1          2   1522.0   1622.0            MQ       4298   \n",
       "3      1           1          2   2013.0   2303.0            NW        876   \n",
       "4      1           1          2   1649.0   1727.0            FL        547   \n",
       "\n",
       "  TailNum  AirTime Origin Dest  Distance  TaxiIn  TaxiOut  Id  \n",
       "0  N386UA    113.0    ALB  ORD       723     7.0     38.0   0  \n",
       "1  N15710    191.0    IAH  SNA      1347     7.0     24.0   1  \n",
       "2  N676AE     28.0    ORD  PIA       130     3.0     29.0   2  \n",
       "3  N780NC     90.0    MSP  SDF       603     6.0     14.0   3  \n",
       "4  N920AT     83.0    ATL  BMI       533     5.0     10.0   4  "
      ]
     },
     "execution_count": 47,
     "metadata": {},
     "output_type": "execute_result"
    }
   ],
   "source": [
    "test_df.head()"
   ]
  },
  {
   "cell_type": "code",
   "execution_count": 48,
   "metadata": {
    "collapsed": true
   },
   "outputs": [],
   "source": [
    "test_df = test_df.fillna(0)"
   ]
  },
  {
   "cell_type": "code",
   "execution_count": 49,
   "metadata": {
    "collapsed": true
   },
   "outputs": [],
   "source": [
    "test_df[\"DayOfYear\"] = test_df.apply(lambda x: getDaysFromYearStart(x[\"Month\"], x[\"DayofMonth\"]), axis=1)"
   ]
  },
  {
   "cell_type": "code",
   "execution_count": 50,
   "metadata": {
    "collapsed": true
   },
   "outputs": [],
   "source": [
    "test_df[\"AirTimeFrame\"] = test_df[\"AirTime\"].map(lambda x: math.log10(x // 30 + 1))"
   ]
  },
  {
   "cell_type": "code",
   "execution_count": 51,
   "metadata": {
    "collapsed": true
   },
   "outputs": [],
   "source": [
    "reclass_time(test_df, \"DepTime\", \"DepHour\", \"DepMinute\")\n",
    "test_df[\"DepTotalMinutes\"] = test_df[\"DepHour\"] * 60 + test_df[\"DepMinute\"]\n",
    "test_df[\"DepTimeFrame\"] = test_df[\"DepTotalMinutes\"] // 15\n",
    "test_df[\"DepHourOfYear\"] = test_df[\"DayOfYear\"] * 24 - (24 - test_df[\"DepHour\"])"
   ]
  },
  {
   "cell_type": "code",
   "execution_count": 52,
   "metadata": {
    "collapsed": true
   },
   "outputs": [],
   "source": [
    "reclass_time(test_df, \"ArrTime\", \"ArrHour\", \"ArrMinute\")\n",
    "test_df[\"ArrTotalMinutes\"] = test_df[\"ArrHour\"] * 60 + test_df[\"ArrMinute\"]\n",
    "test_df[\"ArrTimeFrame\"] = test_df[\"ArrTotalMinutes\"] // 15\n",
    "test_df[\"ArrHourOfYear\"] = test_df[\"DayOfYear\"] * 24 - (24 - test_df[\"ArrHour\"])"
   ]
  },
  {
   "cell_type": "code",
   "execution_count": 53,
   "metadata": {
    "collapsed": true
   },
   "outputs": [],
   "source": [
    "test_df[\"DepHourOfYearFrame\"] = test_df[\"DepHourOfYear\"] // 8\n",
    "test_df[\"ArrHourOfYearFrame\"] = test_df[\"ArrHourOfYear\"] // 8"
   ]
  },
  {
   "cell_type": "code",
   "execution_count": 54,
   "metadata": {},
   "outputs": [
    {
     "data": {
      "text/html": [
       "<div>\n",
       "<style scoped>\n",
       "    .dataframe tbody tr th:only-of-type {\n",
       "        vertical-align: middle;\n",
       "    }\n",
       "\n",
       "    .dataframe tbody tr th {\n",
       "        vertical-align: top;\n",
       "    }\n",
       "\n",
       "    .dataframe thead th {\n",
       "        text-align: right;\n",
       "    }\n",
       "</style>\n",
       "<table border=\"1\" class=\"dataframe\">\n",
       "  <thead>\n",
       "    <tr style=\"text-align: right;\">\n",
       "      <th></th>\n",
       "      <th>Month</th>\n",
       "      <th>DayofMonth</th>\n",
       "      <th>DayOfWeek</th>\n",
       "      <th>DepTime</th>\n",
       "      <th>ArrTime</th>\n",
       "      <th>UniqueCarrier</th>\n",
       "      <th>FlightNum</th>\n",
       "      <th>TailNum</th>\n",
       "      <th>AirTime</th>\n",
       "      <th>Origin</th>\n",
       "      <th>...</th>\n",
       "      <th>DepTotalMinutes</th>\n",
       "      <th>DepTimeFrame</th>\n",
       "      <th>DepHourOfYear</th>\n",
       "      <th>ArrHour</th>\n",
       "      <th>ArrMinute</th>\n",
       "      <th>ArrTotalMinutes</th>\n",
       "      <th>ArrTimeFrame</th>\n",
       "      <th>ArrHourOfYear</th>\n",
       "      <th>DepHourOfYearFrame</th>\n",
       "      <th>ArrHourOfYearFrame</th>\n",
       "    </tr>\n",
       "  </thead>\n",
       "  <tbody>\n",
       "    <tr>\n",
       "      <th>0</th>\n",
       "      <td>1</td>\n",
       "      <td>1</td>\n",
       "      <td>2</td>\n",
       "      <td>1851.0</td>\n",
       "      <td>2029.0</td>\n",
       "      <td>UA</td>\n",
       "      <td>735</td>\n",
       "      <td>N386UA</td>\n",
       "      <td>113.0</td>\n",
       "      <td>ALB</td>\n",
       "      <td>...</td>\n",
       "      <td>1131</td>\n",
       "      <td>75</td>\n",
       "      <td>18</td>\n",
       "      <td>20</td>\n",
       "      <td>29</td>\n",
       "      <td>1229</td>\n",
       "      <td>81</td>\n",
       "      <td>20</td>\n",
       "      <td>2</td>\n",
       "      <td>2</td>\n",
       "    </tr>\n",
       "    <tr>\n",
       "      <th>1</th>\n",
       "      <td>1</td>\n",
       "      <td>1</td>\n",
       "      <td>2</td>\n",
       "      <td>1847.0</td>\n",
       "      <td>2029.0</td>\n",
       "      <td>CO</td>\n",
       "      <td>809</td>\n",
       "      <td>N15710</td>\n",
       "      <td>191.0</td>\n",
       "      <td>IAH</td>\n",
       "      <td>...</td>\n",
       "      <td>1127</td>\n",
       "      <td>75</td>\n",
       "      <td>18</td>\n",
       "      <td>20</td>\n",
       "      <td>29</td>\n",
       "      <td>1229</td>\n",
       "      <td>81</td>\n",
       "      <td>20</td>\n",
       "      <td>2</td>\n",
       "      <td>2</td>\n",
       "    </tr>\n",
       "    <tr>\n",
       "      <th>2</th>\n",
       "      <td>1</td>\n",
       "      <td>1</td>\n",
       "      <td>2</td>\n",
       "      <td>1522.0</td>\n",
       "      <td>1622.0</td>\n",
       "      <td>MQ</td>\n",
       "      <td>4298</td>\n",
       "      <td>N676AE</td>\n",
       "      <td>28.0</td>\n",
       "      <td>ORD</td>\n",
       "      <td>...</td>\n",
       "      <td>922</td>\n",
       "      <td>61</td>\n",
       "      <td>15</td>\n",
       "      <td>16</td>\n",
       "      <td>22</td>\n",
       "      <td>982</td>\n",
       "      <td>65</td>\n",
       "      <td>16</td>\n",
       "      <td>1</td>\n",
       "      <td>2</td>\n",
       "    </tr>\n",
       "    <tr>\n",
       "      <th>3</th>\n",
       "      <td>1</td>\n",
       "      <td>1</td>\n",
       "      <td>2</td>\n",
       "      <td>2013.0</td>\n",
       "      <td>2303.0</td>\n",
       "      <td>NW</td>\n",
       "      <td>876</td>\n",
       "      <td>N780NC</td>\n",
       "      <td>90.0</td>\n",
       "      <td>MSP</td>\n",
       "      <td>...</td>\n",
       "      <td>1213</td>\n",
       "      <td>80</td>\n",
       "      <td>20</td>\n",
       "      <td>23</td>\n",
       "      <td>3</td>\n",
       "      <td>1383</td>\n",
       "      <td>92</td>\n",
       "      <td>23</td>\n",
       "      <td>2</td>\n",
       "      <td>2</td>\n",
       "    </tr>\n",
       "    <tr>\n",
       "      <th>4</th>\n",
       "      <td>1</td>\n",
       "      <td>1</td>\n",
       "      <td>2</td>\n",
       "      <td>1649.0</td>\n",
       "      <td>1727.0</td>\n",
       "      <td>FL</td>\n",
       "      <td>547</td>\n",
       "      <td>N920AT</td>\n",
       "      <td>83.0</td>\n",
       "      <td>ATL</td>\n",
       "      <td>...</td>\n",
       "      <td>1009</td>\n",
       "      <td>67</td>\n",
       "      <td>16</td>\n",
       "      <td>17</td>\n",
       "      <td>27</td>\n",
       "      <td>1047</td>\n",
       "      <td>69</td>\n",
       "      <td>17</td>\n",
       "      <td>2</td>\n",
       "      <td>2</td>\n",
       "    </tr>\n",
       "  </tbody>\n",
       "</table>\n",
       "<p>5 rows × 29 columns</p>\n",
       "</div>"
      ],
      "text/plain": [
       "   Month  DayofMonth  DayOfWeek  DepTime  ArrTime UniqueCarrier  FlightNum  \\\n",
       "0      1           1          2   1851.0   2029.0            UA        735   \n",
       "1      1           1          2   1847.0   2029.0            CO        809   \n",
       "2      1           1          2   1522.0   1622.0            MQ       4298   \n",
       "3      1           1          2   2013.0   2303.0            NW        876   \n",
       "4      1           1          2   1649.0   1727.0            FL        547   \n",
       "\n",
       "  TailNum  AirTime Origin         ...         DepTotalMinutes  DepTimeFrame  \\\n",
       "0  N386UA    113.0    ALB         ...                    1131            75   \n",
       "1  N15710    191.0    IAH         ...                    1127            75   \n",
       "2  N676AE     28.0    ORD         ...                     922            61   \n",
       "3  N780NC     90.0    MSP         ...                    1213            80   \n",
       "4  N920AT     83.0    ATL         ...                    1009            67   \n",
       "\n",
       "   DepHourOfYear  ArrHour  ArrMinute  ArrTotalMinutes  ArrTimeFrame  \\\n",
       "0             18       20         29             1229            81   \n",
       "1             18       20         29             1229            81   \n",
       "2             15       16         22              982            65   \n",
       "3             20       23          3             1383            92   \n",
       "4             16       17         27             1047            69   \n",
       "\n",
       "   ArrHourOfYear  DepHourOfYearFrame  ArrHourOfYearFrame  \n",
       "0             20                   2                   2  \n",
       "1             20                   2                   2  \n",
       "2             16                   1                   2  \n",
       "3             23                   2                   2  \n",
       "4             17                   2                   2  \n",
       "\n",
       "[5 rows x 29 columns]"
      ]
     },
     "execution_count": 54,
     "metadata": {},
     "output_type": "execute_result"
    }
   ],
   "source": [
    "test_df.head()"
   ]
  },
  {
   "cell_type": "code",
   "execution_count": 55,
   "metadata": {
    "collapsed": true
   },
   "outputs": [],
   "source": [
    "test_df = pd.merge(test_df, dhoy_origin_mean, on=['DepHourOfYearFrame', 'Origin'], how='left')\n",
    "test_df = pd.merge(test_df, ahoy_dest_mean, on=['ArrHourOfYearFrame', 'Dest'], how='left')"
   ]
  },
  {
   "cell_type": "code",
   "execution_count": 56,
   "metadata": {
    "collapsed": true
   },
   "outputs": [],
   "source": [
    "with open('airport_info.json', 'r') as data_file:\n",
    "    airport_data = json.load(fp = data_file)\n",
    "    test_df[\"OTimeZone\"] = test_df[\"Origin\"].map(lambda x: airport_data[x]['Time Zone'])\n",
    "    test_df[\"OLatitude\"] = test_df[\"Origin\"].map(lambda x: airport_data[x]['Latitude'])\n",
    "    test_df[\"OLongitude\"] = test_df[\"Origin\"].map(lambda x: airport_data[x]['Longitude'])\n",
    "    \n",
    "    test_df[\"DTimeZone\"] = test_df[\"Dest\"].map(lambda x: airport_data[x]['Time Zone'])\n",
    "    test_df[\"DLatitude\"] = test_df[\"Dest\"].map(lambda x: airport_data[x]['Latitude'])\n",
    "    test_df[\"DLongitude\"] = test_df[\"Dest\"].map(lambda x: airport_data[x]['Longitude'])"
   ]
  },
  {
   "cell_type": "code",
   "execution_count": 57,
   "metadata": {
    "collapsed": true
   },
   "outputs": [],
   "source": [
    "test_df[\"OTimeZone\"] = test_df[\"OTimeZone\"].map(lambda x: int(x.split(':')[0]))\n",
    "test_df[\"DTimeZone\"] = test_df[\"DTimeZone\"].map(lambda x: int(x.split(':')[0]))"
   ]
  },
  {
   "cell_type": "code",
   "execution_count": 58,
   "metadata": {
    "collapsed": true
   },
   "outputs": [],
   "source": [
    "test_df[\"OLtFrame\"] = test_df[\"OLatitude\"].astype('float').agg('floor')\n",
    "test_df[\"DLtFrame\"] = test_df[\"DLatitude\"].astype('float').agg('floor')\n",
    "\n",
    "test_df[\"OLgFrame\"] = test_df[\"OLongitude\"].astype('float').agg('floor')\n",
    "test_df[\"DLgFrame\"] = test_df[\"DLongitude\"].astype('float').agg('floor')"
   ]
  },
  {
   "cell_type": "code",
   "execution_count": 59,
   "metadata": {},
   "outputs": [
    {
     "data": {
      "text/html": [
       "<div>\n",
       "<style scoped>\n",
       "    .dataframe tbody tr th:only-of-type {\n",
       "        vertical-align: middle;\n",
       "    }\n",
       "\n",
       "    .dataframe tbody tr th {\n",
       "        vertical-align: top;\n",
       "    }\n",
       "\n",
       "    .dataframe thead th {\n",
       "        text-align: right;\n",
       "    }\n",
       "</style>\n",
       "<table border=\"1\" class=\"dataframe\">\n",
       "  <thead>\n",
       "    <tr style=\"text-align: right;\">\n",
       "      <th></th>\n",
       "      <th>Month</th>\n",
       "      <th>DayofMonth</th>\n",
       "      <th>DayOfWeek</th>\n",
       "      <th>DepTime</th>\n",
       "      <th>ArrTime</th>\n",
       "      <th>UniqueCarrier</th>\n",
       "      <th>FlightNum</th>\n",
       "      <th>TailNum</th>\n",
       "      <th>AirTime</th>\n",
       "      <th>Origin</th>\n",
       "      <th>...</th>\n",
       "      <th>OTimeZone</th>\n",
       "      <th>OLatitude</th>\n",
       "      <th>OLongitude</th>\n",
       "      <th>DTimeZone</th>\n",
       "      <th>DLatitude</th>\n",
       "      <th>DLongitude</th>\n",
       "      <th>OLtFrame</th>\n",
       "      <th>DLtFrame</th>\n",
       "      <th>OLgFrame</th>\n",
       "      <th>DLgFrame</th>\n",
       "    </tr>\n",
       "  </thead>\n",
       "  <tbody>\n",
       "    <tr>\n",
       "      <th>0</th>\n",
       "      <td>1</td>\n",
       "      <td>1</td>\n",
       "      <td>2</td>\n",
       "      <td>1851.0</td>\n",
       "      <td>2029.0</td>\n",
       "      <td>UA</td>\n",
       "      <td>735</td>\n",
       "      <td>N386UA</td>\n",
       "      <td>113.0</td>\n",
       "      <td>ALB</td>\n",
       "      <td>...</td>\n",
       "      <td>-5</td>\n",
       "      <td>42.7482986</td>\n",
       "      <td>-73.8016968</td>\n",
       "      <td>-6</td>\n",
       "      <td>41.9785996</td>\n",
       "      <td>-87.9048004</td>\n",
       "      <td>42.0</td>\n",
       "      <td>41.0</td>\n",
       "      <td>-74.0</td>\n",
       "      <td>-88.0</td>\n",
       "    </tr>\n",
       "    <tr>\n",
       "      <th>1</th>\n",
       "      <td>1</td>\n",
       "      <td>1</td>\n",
       "      <td>2</td>\n",
       "      <td>1847.0</td>\n",
       "      <td>2029.0</td>\n",
       "      <td>CO</td>\n",
       "      <td>809</td>\n",
       "      <td>N15710</td>\n",
       "      <td>191.0</td>\n",
       "      <td>IAH</td>\n",
       "      <td>...</td>\n",
       "      <td>-6</td>\n",
       "      <td>29.9843998</td>\n",
       "      <td>-95.3414001</td>\n",
       "      <td>-8</td>\n",
       "      <td>33.6757011</td>\n",
       "      <td>-117.8679962</td>\n",
       "      <td>29.0</td>\n",
       "      <td>33.0</td>\n",
       "      <td>-96.0</td>\n",
       "      <td>-118.0</td>\n",
       "    </tr>\n",
       "    <tr>\n",
       "      <th>2</th>\n",
       "      <td>1</td>\n",
       "      <td>1</td>\n",
       "      <td>2</td>\n",
       "      <td>1522.0</td>\n",
       "      <td>1622.0</td>\n",
       "      <td>MQ</td>\n",
       "      <td>4298</td>\n",
       "      <td>N676AE</td>\n",
       "      <td>28.0</td>\n",
       "      <td>ORD</td>\n",
       "      <td>...</td>\n",
       "      <td>-6</td>\n",
       "      <td>41.9785996</td>\n",
       "      <td>-87.9048004</td>\n",
       "      <td>-6</td>\n",
       "      <td>40.6641998</td>\n",
       "      <td>-89.6932983</td>\n",
       "      <td>41.0</td>\n",
       "      <td>40.0</td>\n",
       "      <td>-88.0</td>\n",
       "      <td>-90.0</td>\n",
       "    </tr>\n",
       "    <tr>\n",
       "      <th>3</th>\n",
       "      <td>1</td>\n",
       "      <td>1</td>\n",
       "      <td>2</td>\n",
       "      <td>2013.0</td>\n",
       "      <td>2303.0</td>\n",
       "      <td>NW</td>\n",
       "      <td>876</td>\n",
       "      <td>N780NC</td>\n",
       "      <td>90.0</td>\n",
       "      <td>MSP</td>\n",
       "      <td>...</td>\n",
       "      <td>-6</td>\n",
       "      <td>44.882</td>\n",
       "      <td>-93.2218018</td>\n",
       "      <td>-5</td>\n",
       "      <td>38.1744003</td>\n",
       "      <td>-85.7360001</td>\n",
       "      <td>44.0</td>\n",
       "      <td>38.0</td>\n",
       "      <td>-94.0</td>\n",
       "      <td>-86.0</td>\n",
       "    </tr>\n",
       "    <tr>\n",
       "      <th>4</th>\n",
       "      <td>1</td>\n",
       "      <td>1</td>\n",
       "      <td>2</td>\n",
       "      <td>1649.0</td>\n",
       "      <td>1727.0</td>\n",
       "      <td>FL</td>\n",
       "      <td>547</td>\n",
       "      <td>N920AT</td>\n",
       "      <td>83.0</td>\n",
       "      <td>ATL</td>\n",
       "      <td>...</td>\n",
       "      <td>-5</td>\n",
       "      <td>33.6366997</td>\n",
       "      <td>-84.4281006</td>\n",
       "      <td>-6</td>\n",
       "      <td>40.4771004</td>\n",
       "      <td>-88.9159012</td>\n",
       "      <td>33.0</td>\n",
       "      <td>40.0</td>\n",
       "      <td>-85.0</td>\n",
       "      <td>-89.0</td>\n",
       "    </tr>\n",
       "  </tbody>\n",
       "</table>\n",
       "<p>5 rows × 41 columns</p>\n",
       "</div>"
      ],
      "text/plain": [
       "   Month  DayofMonth  DayOfWeek  DepTime  ArrTime UniqueCarrier  FlightNum  \\\n",
       "0      1           1          2   1851.0   2029.0            UA        735   \n",
       "1      1           1          2   1847.0   2029.0            CO        809   \n",
       "2      1           1          2   1522.0   1622.0            MQ       4298   \n",
       "3      1           1          2   2013.0   2303.0            NW        876   \n",
       "4      1           1          2   1649.0   1727.0            FL        547   \n",
       "\n",
       "  TailNum  AirTime Origin    ...    OTimeZone   OLatitude   OLongitude  \\\n",
       "0  N386UA    113.0    ALB    ...           -5  42.7482986  -73.8016968   \n",
       "1  N15710    191.0    IAH    ...           -6  29.9843998  -95.3414001   \n",
       "2  N676AE     28.0    ORD    ...           -6  41.9785996  -87.9048004   \n",
       "3  N780NC     90.0    MSP    ...           -6      44.882  -93.2218018   \n",
       "4  N920AT     83.0    ATL    ...           -5  33.6366997  -84.4281006   \n",
       "\n",
       "   DTimeZone   DLatitude    DLongitude  OLtFrame  DLtFrame  OLgFrame  DLgFrame  \n",
       "0         -6  41.9785996   -87.9048004      42.0      41.0     -74.0     -88.0  \n",
       "1         -8  33.6757011  -117.8679962      29.0      33.0     -96.0    -118.0  \n",
       "2         -6  40.6641998   -89.6932983      41.0      40.0     -88.0     -90.0  \n",
       "3         -5  38.1744003   -85.7360001      44.0      38.0     -94.0     -86.0  \n",
       "4         -6  40.4771004   -88.9159012      33.0      40.0     -85.0     -89.0  \n",
       "\n",
       "[5 rows x 41 columns]"
      ]
     },
     "execution_count": 59,
     "metadata": {},
     "output_type": "execute_result"
    }
   ],
   "source": [
    "test_df.head()"
   ]
  },
  {
   "cell_type": "code",
   "execution_count": 60,
   "metadata": {},
   "outputs": [
    {
     "data": {
      "text/html": [
       "<div>\n",
       "<style scoped>\n",
       "    .dataframe tbody tr th:only-of-type {\n",
       "        vertical-align: middle;\n",
       "    }\n",
       "\n",
       "    .dataframe tbody tr th {\n",
       "        vertical-align: top;\n",
       "    }\n",
       "\n",
       "    .dataframe thead th {\n",
       "        text-align: right;\n",
       "    }\n",
       "</style>\n",
       "<table border=\"1\" class=\"dataframe\">\n",
       "  <thead>\n",
       "    <tr style=\"text-align: right;\">\n",
       "      <th></th>\n",
       "      <th>Month</th>\n",
       "      <th>DayofMonth</th>\n",
       "      <th>DayOfWeek</th>\n",
       "      <th>DepTime</th>\n",
       "      <th>ArrTime</th>\n",
       "      <th>UniqueCarrier</th>\n",
       "      <th>FlightNum</th>\n",
       "      <th>TailNum</th>\n",
       "      <th>AirTime</th>\n",
       "      <th>Origin</th>\n",
       "      <th>...</th>\n",
       "      <th>PlaneChance</th>\n",
       "      <th>AirFrameChance</th>\n",
       "      <th>DepFrameChance</th>\n",
       "      <th>ArrFrameChance</th>\n",
       "      <th>OTZChance</th>\n",
       "      <th>DTZChance</th>\n",
       "      <th>OLtChance</th>\n",
       "      <th>DLtChance</th>\n",
       "      <th>OLgChance</th>\n",
       "      <th>DLgChance</th>\n",
       "    </tr>\n",
       "  </thead>\n",
       "  <tbody>\n",
       "    <tr>\n",
       "      <th>0</th>\n",
       "      <td>1</td>\n",
       "      <td>1</td>\n",
       "      <td>2</td>\n",
       "      <td>1851.0</td>\n",
       "      <td>2029.0</td>\n",
       "      <td>UA</td>\n",
       "      <td>735</td>\n",
       "      <td>N386UA</td>\n",
       "      <td>113.0</td>\n",
       "      <td>ALB</td>\n",
       "      <td>...</td>\n",
       "      <td>-0.739112</td>\n",
       "      <td>NaN</td>\n",
       "      <td>-0.673394</td>\n",
       "      <td>-0.515531</td>\n",
       "      <td>-0.859482</td>\n",
       "      <td>-0.840467</td>\n",
       "      <td>-0.990507</td>\n",
       "      <td>-0.727910</td>\n",
       "      <td>-0.874539</td>\n",
       "      <td>-0.727904</td>\n",
       "    </tr>\n",
       "    <tr>\n",
       "      <th>1</th>\n",
       "      <td>1</td>\n",
       "      <td>1</td>\n",
       "      <td>2</td>\n",
       "      <td>1847.0</td>\n",
       "      <td>2029.0</td>\n",
       "      <td>CO</td>\n",
       "      <td>809</td>\n",
       "      <td>N15710</td>\n",
       "      <td>191.0</td>\n",
       "      <td>IAH</td>\n",
       "      <td>...</td>\n",
       "      <td>-0.696971</td>\n",
       "      <td>NaN</td>\n",
       "      <td>-0.673394</td>\n",
       "      <td>-0.515531</td>\n",
       "      <td>-0.767693</td>\n",
       "      <td>-0.828512</td>\n",
       "      <td>-0.722501</td>\n",
       "      <td>-0.944738</td>\n",
       "      <td>-0.706490</td>\n",
       "      <td>-0.868891</td>\n",
       "    </tr>\n",
       "    <tr>\n",
       "      <th>2</th>\n",
       "      <td>1</td>\n",
       "      <td>1</td>\n",
       "      <td>2</td>\n",
       "      <td>1522.0</td>\n",
       "      <td>1622.0</td>\n",
       "      <td>MQ</td>\n",
       "      <td>4298</td>\n",
       "      <td>N676AE</td>\n",
       "      <td>28.0</td>\n",
       "      <td>ORD</td>\n",
       "      <td>...</td>\n",
       "      <td>-0.545388</td>\n",
       "      <td>-1.199295</td>\n",
       "      <td>-0.603187</td>\n",
       "      <td>-0.757207</td>\n",
       "      <td>-0.767693</td>\n",
       "      <td>-0.840467</td>\n",
       "      <td>-0.643343</td>\n",
       "      <td>-0.711998</td>\n",
       "      <td>-0.523153</td>\n",
       "      <td>-1.165108</td>\n",
       "    </tr>\n",
       "    <tr>\n",
       "      <th>3</th>\n",
       "      <td>1</td>\n",
       "      <td>1</td>\n",
       "      <td>2</td>\n",
       "      <td>2013.0</td>\n",
       "      <td>2303.0</td>\n",
       "      <td>NW</td>\n",
       "      <td>876</td>\n",
       "      <td>N780NC</td>\n",
       "      <td>90.0</td>\n",
       "      <td>MSP</td>\n",
       "      <td>...</td>\n",
       "      <td>-1.239633</td>\n",
       "      <td>NaN</td>\n",
       "      <td>-0.108377</td>\n",
       "      <td>-0.022839</td>\n",
       "      <td>-0.767693</td>\n",
       "      <td>-0.833031</td>\n",
       "      <td>-1.068220</td>\n",
       "      <td>-0.842251</td>\n",
       "      <td>-1.050608</td>\n",
       "      <td>-0.757525</td>\n",
       "    </tr>\n",
       "    <tr>\n",
       "      <th>4</th>\n",
       "      <td>1</td>\n",
       "      <td>1</td>\n",
       "      <td>2</td>\n",
       "      <td>1649.0</td>\n",
       "      <td>1727.0</td>\n",
       "      <td>FL</td>\n",
       "      <td>547</td>\n",
       "      <td>N920AT</td>\n",
       "      <td>83.0</td>\n",
       "      <td>ATL</td>\n",
       "      <td>...</td>\n",
       "      <td>-0.923573</td>\n",
       "      <td>-0.895467</td>\n",
       "      <td>-0.699574</td>\n",
       "      <td>-0.607884</td>\n",
       "      <td>-0.859482</td>\n",
       "      <td>-0.840467</td>\n",
       "      <td>-0.799550</td>\n",
       "      <td>-0.711998</td>\n",
       "      <td>-0.741098</td>\n",
       "      <td>-0.771654</td>\n",
       "    </tr>\n",
       "  </tbody>\n",
       "</table>\n",
       "<p>5 rows × 57 columns</p>\n",
       "</div>"
      ],
      "text/plain": [
       "   Month  DayofMonth  DayOfWeek  DepTime  ArrTime UniqueCarrier  FlightNum  \\\n",
       "0      1           1          2   1851.0   2029.0            UA        735   \n",
       "1      1           1          2   1847.0   2029.0            CO        809   \n",
       "2      1           1          2   1522.0   1622.0            MQ       4298   \n",
       "3      1           1          2   2013.0   2303.0            NW        876   \n",
       "4      1           1          2   1649.0   1727.0            FL        547   \n",
       "\n",
       "  TailNum  AirTime Origin    ...     PlaneChance  AirFrameChance  \\\n",
       "0  N386UA    113.0    ALB    ...       -0.739112             NaN   \n",
       "1  N15710    191.0    IAH    ...       -0.696971             NaN   \n",
       "2  N676AE     28.0    ORD    ...       -0.545388       -1.199295   \n",
       "3  N780NC     90.0    MSP    ...       -1.239633             NaN   \n",
       "4  N920AT     83.0    ATL    ...       -0.923573       -0.895467   \n",
       "\n",
       "   DepFrameChance  ArrFrameChance  OTZChance  DTZChance  OLtChance  DLtChance  \\\n",
       "0       -0.673394       -0.515531  -0.859482  -0.840467  -0.990507  -0.727910   \n",
       "1       -0.673394       -0.515531  -0.767693  -0.828512  -0.722501  -0.944738   \n",
       "2       -0.603187       -0.757207  -0.767693  -0.840467  -0.643343  -0.711998   \n",
       "3       -0.108377       -0.022839  -0.767693  -0.833031  -1.068220  -0.842251   \n",
       "4       -0.699574       -0.607884  -0.859482  -0.840467  -0.799550  -0.711998   \n",
       "\n",
       "   OLgChance  DLgChance  \n",
       "0  -0.874539  -0.727904  \n",
       "1  -0.706490  -0.868891  \n",
       "2  -0.523153  -1.165108  \n",
       "3  -1.050608  -0.757525  \n",
       "4  -0.741098  -0.771654  \n",
       "\n",
       "[5 rows x 57 columns]"
      ]
     },
     "execution_count": 60,
     "metadata": {},
     "output_type": "execute_result"
    }
   ],
   "source": [
    "for orig, mean in mean_names.items():\n",
    "    test_df = reclassMeanOpt(test_df, df, orig, mean)\n",
    "    gc.collect()\n",
    "test_df.head()"
   ]
  },
  {
   "cell_type": "code",
   "execution_count": 61,
   "metadata": {},
   "outputs": [
    {
     "data": {
      "text/plain": [
       "66"
      ]
     },
     "execution_count": 61,
     "metadata": {},
     "output_type": "execute_result"
    }
   ],
   "source": [
    "gc.collect()"
   ]
  },
  {
   "cell_type": "code",
   "execution_count": 71,
   "metadata": {},
   "outputs": [
    {
     "data": {
      "text/plain": [
       "7          82\n",
       "17         82\n",
       "30         82\n",
       "42         82\n",
       "47         82\n",
       "49         82\n",
       "50         82\n",
       "100        82\n",
       "120        82\n",
       "156        82\n",
       "169        82\n",
       "195        82\n",
       "225        82\n",
       "255        82\n",
       "257        82\n",
       "272        82\n",
       "275        82\n",
       "294        82\n",
       "330        82\n",
       "338        82\n",
       "358        82\n",
       "407        82\n",
       "419        82\n",
       "433        82\n",
       "446        82\n",
       "475        82\n",
       "529        82\n",
       "532        82\n",
       "573        82\n",
       "582        82\n",
       "           ..\n",
       "3504164    82\n",
       "3504217    82\n",
       "3504229    82\n",
       "3504329    82\n",
       "3504392    82\n",
       "3504441    82\n",
       "3504448    82\n",
       "3504466    82\n",
       "3504470    82\n",
       "3504472    82\n",
       "3504508    82\n",
       "3504533    82\n",
       "3504595    82\n",
       "3504613    82\n",
       "3504621    82\n",
       "3504624    82\n",
       "3504627    82\n",
       "3504628    82\n",
       "3504639    82\n",
       "3504640    82\n",
       "3504687    82\n",
       "3504692    82\n",
       "3504701    82\n",
       "3504727    82\n",
       "3504785    82\n",
       "3504796    82\n",
       "3504826    82\n",
       "3504836    82\n",
       "3504841    82\n",
       "3504854    82\n",
       "Name: Dest_label, Length: 140524, dtype: int16"
      ]
     },
     "execution_count": 71,
     "metadata": {},
     "output_type": "execute_result"
    }
   ],
   "source": [
    "test_df[test_df[\"Dest\"] == 'DFW']['Dest_label']"
   ]
  },
  {
   "cell_type": "code",
   "execution_count": 70,
   "metadata": {
    "collapsed": true
   },
   "outputs": [],
   "source": [
    "test_df[\"Dest_label\"] = test_df[\"Dest\"].astype('category').cat.codes"
   ]
  },
  {
   "cell_type": "code",
   "execution_count": 62,
   "metadata": {
    "collapsed": true
   },
   "outputs": [],
   "source": [
    "test_df.fillna(0, inplace=True)"
   ]
  },
  {
   "cell_type": "code",
   "execution_count": 63,
   "metadata": {},
   "outputs": [
    {
     "data": {
      "text/html": [
       "<div>\n",
       "<style scoped>\n",
       "    .dataframe tbody tr th:only-of-type {\n",
       "        vertical-align: middle;\n",
       "    }\n",
       "\n",
       "    .dataframe tbody tr th {\n",
       "        vertical-align: top;\n",
       "    }\n",
       "\n",
       "    .dataframe thead th {\n",
       "        text-align: right;\n",
       "    }\n",
       "</style>\n",
       "<table border=\"1\" class=\"dataframe\">\n",
       "  <thead>\n",
       "    <tr style=\"text-align: right;\">\n",
       "      <th></th>\n",
       "      <th>Month</th>\n",
       "      <th>DayofMonth</th>\n",
       "      <th>DayOfWeek</th>\n",
       "      <th>DepTime</th>\n",
       "      <th>ArrTime</th>\n",
       "      <th>UniqueCarrier</th>\n",
       "      <th>FlightNum</th>\n",
       "      <th>TailNum</th>\n",
       "      <th>AirTime</th>\n",
       "      <th>Origin</th>\n",
       "      <th>...</th>\n",
       "      <th>PlaneChance</th>\n",
       "      <th>AirFrameChance</th>\n",
       "      <th>DepFrameChance</th>\n",
       "      <th>ArrFrameChance</th>\n",
       "      <th>OTZChance</th>\n",
       "      <th>DTZChance</th>\n",
       "      <th>OLtChance</th>\n",
       "      <th>DLtChance</th>\n",
       "      <th>OLgChance</th>\n",
       "      <th>DLgChance</th>\n",
       "    </tr>\n",
       "  </thead>\n",
       "  <tbody>\n",
       "    <tr>\n",
       "      <th>0</th>\n",
       "      <td>1</td>\n",
       "      <td>1</td>\n",
       "      <td>2</td>\n",
       "      <td>1851.0</td>\n",
       "      <td>2029.0</td>\n",
       "      <td>UA</td>\n",
       "      <td>735</td>\n",
       "      <td>N386UA</td>\n",
       "      <td>113.0</td>\n",
       "      <td>ALB</td>\n",
       "      <td>...</td>\n",
       "      <td>-0.739112</td>\n",
       "      <td>0.000000</td>\n",
       "      <td>-0.673394</td>\n",
       "      <td>-0.515531</td>\n",
       "      <td>-0.859482</td>\n",
       "      <td>-0.840467</td>\n",
       "      <td>-0.990507</td>\n",
       "      <td>-0.727910</td>\n",
       "      <td>-0.874539</td>\n",
       "      <td>-0.727904</td>\n",
       "    </tr>\n",
       "    <tr>\n",
       "      <th>1</th>\n",
       "      <td>1</td>\n",
       "      <td>1</td>\n",
       "      <td>2</td>\n",
       "      <td>1847.0</td>\n",
       "      <td>2029.0</td>\n",
       "      <td>CO</td>\n",
       "      <td>809</td>\n",
       "      <td>N15710</td>\n",
       "      <td>191.0</td>\n",
       "      <td>IAH</td>\n",
       "      <td>...</td>\n",
       "      <td>-0.696971</td>\n",
       "      <td>0.000000</td>\n",
       "      <td>-0.673394</td>\n",
       "      <td>-0.515531</td>\n",
       "      <td>-0.767693</td>\n",
       "      <td>-0.828512</td>\n",
       "      <td>-0.722501</td>\n",
       "      <td>-0.944738</td>\n",
       "      <td>-0.706490</td>\n",
       "      <td>-0.868891</td>\n",
       "    </tr>\n",
       "    <tr>\n",
       "      <th>2</th>\n",
       "      <td>1</td>\n",
       "      <td>1</td>\n",
       "      <td>2</td>\n",
       "      <td>1522.0</td>\n",
       "      <td>1622.0</td>\n",
       "      <td>MQ</td>\n",
       "      <td>4298</td>\n",
       "      <td>N676AE</td>\n",
       "      <td>28.0</td>\n",
       "      <td>ORD</td>\n",
       "      <td>...</td>\n",
       "      <td>-0.545388</td>\n",
       "      <td>-1.199295</td>\n",
       "      <td>-0.603187</td>\n",
       "      <td>-0.757207</td>\n",
       "      <td>-0.767693</td>\n",
       "      <td>-0.840467</td>\n",
       "      <td>-0.643343</td>\n",
       "      <td>-0.711998</td>\n",
       "      <td>-0.523153</td>\n",
       "      <td>-1.165108</td>\n",
       "    </tr>\n",
       "    <tr>\n",
       "      <th>3</th>\n",
       "      <td>1</td>\n",
       "      <td>1</td>\n",
       "      <td>2</td>\n",
       "      <td>2013.0</td>\n",
       "      <td>2303.0</td>\n",
       "      <td>NW</td>\n",
       "      <td>876</td>\n",
       "      <td>N780NC</td>\n",
       "      <td>90.0</td>\n",
       "      <td>MSP</td>\n",
       "      <td>...</td>\n",
       "      <td>-1.239633</td>\n",
       "      <td>0.000000</td>\n",
       "      <td>-0.108377</td>\n",
       "      <td>-0.022839</td>\n",
       "      <td>-0.767693</td>\n",
       "      <td>-0.833031</td>\n",
       "      <td>-1.068220</td>\n",
       "      <td>-0.842251</td>\n",
       "      <td>-1.050608</td>\n",
       "      <td>-0.757525</td>\n",
       "    </tr>\n",
       "    <tr>\n",
       "      <th>4</th>\n",
       "      <td>1</td>\n",
       "      <td>1</td>\n",
       "      <td>2</td>\n",
       "      <td>1649.0</td>\n",
       "      <td>1727.0</td>\n",
       "      <td>FL</td>\n",
       "      <td>547</td>\n",
       "      <td>N920AT</td>\n",
       "      <td>83.0</td>\n",
       "      <td>ATL</td>\n",
       "      <td>...</td>\n",
       "      <td>-0.923573</td>\n",
       "      <td>-0.895467</td>\n",
       "      <td>-0.699574</td>\n",
       "      <td>-0.607884</td>\n",
       "      <td>-0.859482</td>\n",
       "      <td>-0.840467</td>\n",
       "      <td>-0.799550</td>\n",
       "      <td>-0.711998</td>\n",
       "      <td>-0.741098</td>\n",
       "      <td>-0.771654</td>\n",
       "    </tr>\n",
       "  </tbody>\n",
       "</table>\n",
       "<p>5 rows × 57 columns</p>\n",
       "</div>"
      ],
      "text/plain": [
       "   Month  DayofMonth  DayOfWeek  DepTime  ArrTime UniqueCarrier  FlightNum  \\\n",
       "0      1           1          2   1851.0   2029.0            UA        735   \n",
       "1      1           1          2   1847.0   2029.0            CO        809   \n",
       "2      1           1          2   1522.0   1622.0            MQ       4298   \n",
       "3      1           1          2   2013.0   2303.0            NW        876   \n",
       "4      1           1          2   1649.0   1727.0            FL        547   \n",
       "\n",
       "  TailNum  AirTime Origin    ...     PlaneChance  AirFrameChance  \\\n",
       "0  N386UA    113.0    ALB    ...       -0.739112        0.000000   \n",
       "1  N15710    191.0    IAH    ...       -0.696971        0.000000   \n",
       "2  N676AE     28.0    ORD    ...       -0.545388       -1.199295   \n",
       "3  N780NC     90.0    MSP    ...       -1.239633        0.000000   \n",
       "4  N920AT     83.0    ATL    ...       -0.923573       -0.895467   \n",
       "\n",
       "   DepFrameChance  ArrFrameChance  OTZChance  DTZChance  OLtChance  DLtChance  \\\n",
       "0       -0.673394       -0.515531  -0.859482  -0.840467  -0.990507  -0.727910   \n",
       "1       -0.673394       -0.515531  -0.767693  -0.828512  -0.722501  -0.944738   \n",
       "2       -0.603187       -0.757207  -0.767693  -0.840467  -0.643343  -0.711998   \n",
       "3       -0.108377       -0.022839  -0.767693  -0.833031  -1.068220  -0.842251   \n",
       "4       -0.699574       -0.607884  -0.859482  -0.840467  -0.799550  -0.711998   \n",
       "\n",
       "   OLgChance  DLgChance  \n",
       "0  -0.874539  -0.727904  \n",
       "1  -0.706490  -0.868891  \n",
       "2  -0.523153  -1.165108  \n",
       "3  -1.050608  -0.757525  \n",
       "4  -0.741098  -0.771654  \n",
       "\n",
       "[5 rows x 57 columns]"
      ]
     },
     "execution_count": 63,
     "metadata": {},
     "output_type": "execute_result"
    }
   ],
   "source": [
    "test_df.head()"
   ]
  },
  {
   "cell_type": "code",
   "execution_count": 65,
   "metadata": {},
   "outputs": [
    {
     "ename": "KeyError",
     "evalue": "\"['Dest_label' 'Origin_label'] not in index\"",
     "output_type": "error",
     "traceback": [
      "\u001b[1;31m---------------------------------------------------------------------------\u001b[0m",
      "\u001b[1;31mKeyError\u001b[0m                                  Traceback (most recent call last)",
      "\u001b[1;32m<ipython-input-65-b279ae75e347>\u001b[0m in \u001b[0;36m<module>\u001b[1;34m()\u001b[0m\n\u001b[1;32m----> 1\u001b[1;33m \u001b[0mtest_clf_df\u001b[0m \u001b[1;33m=\u001b[0m \u001b[0mpd\u001b[0m\u001b[1;33m.\u001b[0m\u001b[0mget_dummies\u001b[0m\u001b[1;33m(\u001b[0m\u001b[0mtest_df\u001b[0m\u001b[1;33m[\u001b[0m\u001b[0mlist\u001b[0m\u001b[1;33m(\u001b[0m\u001b[0mset\u001b[0m\u001b[1;33m(\u001b[0m\u001b[0mdec_used_cols\u001b[0m \u001b[1;33m+\u001b[0m \u001b[0mreg_used_cols\u001b[0m\u001b[1;33m)\u001b[0m\u001b[1;33m)\u001b[0m\u001b[1;33m]\u001b[0m\u001b[1;33m,\u001b[0m \u001b[0mcolumns\u001b[0m\u001b[1;33m=\u001b[0m\u001b[0mcat_cols_dec\u001b[0m\u001b[1;33m)\u001b[0m\u001b[1;33m\u001b[0m\u001b[0m\n\u001b[0m",
      "\u001b[1;32mD:\\Anaconda3\\lib\\site-packages\\pandas\\core\\frame.py\u001b[0m in \u001b[0;36m__getitem__\u001b[1;34m(self, key)\u001b[0m\n\u001b[0;32m   2131\u001b[0m         \u001b[1;32mif\u001b[0m \u001b[0misinstance\u001b[0m\u001b[1;33m(\u001b[0m\u001b[0mkey\u001b[0m\u001b[1;33m,\u001b[0m \u001b[1;33m(\u001b[0m\u001b[0mSeries\u001b[0m\u001b[1;33m,\u001b[0m \u001b[0mnp\u001b[0m\u001b[1;33m.\u001b[0m\u001b[0mndarray\u001b[0m\u001b[1;33m,\u001b[0m \u001b[0mIndex\u001b[0m\u001b[1;33m,\u001b[0m \u001b[0mlist\u001b[0m\u001b[1;33m)\u001b[0m\u001b[1;33m)\u001b[0m\u001b[1;33m:\u001b[0m\u001b[1;33m\u001b[0m\u001b[0m\n\u001b[0;32m   2132\u001b[0m             \u001b[1;31m# either boolean or fancy integer index\u001b[0m\u001b[1;33m\u001b[0m\u001b[1;33m\u001b[0m\u001b[0m\n\u001b[1;32m-> 2133\u001b[1;33m             \u001b[1;32mreturn\u001b[0m \u001b[0mself\u001b[0m\u001b[1;33m.\u001b[0m\u001b[0m_getitem_array\u001b[0m\u001b[1;33m(\u001b[0m\u001b[0mkey\u001b[0m\u001b[1;33m)\u001b[0m\u001b[1;33m\u001b[0m\u001b[0m\n\u001b[0m\u001b[0;32m   2134\u001b[0m         \u001b[1;32melif\u001b[0m \u001b[0misinstance\u001b[0m\u001b[1;33m(\u001b[0m\u001b[0mkey\u001b[0m\u001b[1;33m,\u001b[0m \u001b[0mDataFrame\u001b[0m\u001b[1;33m)\u001b[0m\u001b[1;33m:\u001b[0m\u001b[1;33m\u001b[0m\u001b[0m\n\u001b[0;32m   2135\u001b[0m             \u001b[1;32mreturn\u001b[0m \u001b[0mself\u001b[0m\u001b[1;33m.\u001b[0m\u001b[0m_getitem_frame\u001b[0m\u001b[1;33m(\u001b[0m\u001b[0mkey\u001b[0m\u001b[1;33m)\u001b[0m\u001b[1;33m\u001b[0m\u001b[0m\n",
      "\u001b[1;32mD:\\Anaconda3\\lib\\site-packages\\pandas\\core\\frame.py\u001b[0m in \u001b[0;36m_getitem_array\u001b[1;34m(self, key)\u001b[0m\n\u001b[0;32m   2175\u001b[0m             \u001b[1;32mreturn\u001b[0m \u001b[0mself\u001b[0m\u001b[1;33m.\u001b[0m\u001b[0m_take\u001b[0m\u001b[1;33m(\u001b[0m\u001b[0mindexer\u001b[0m\u001b[1;33m,\u001b[0m \u001b[0maxis\u001b[0m\u001b[1;33m=\u001b[0m\u001b[1;36m0\u001b[0m\u001b[1;33m,\u001b[0m \u001b[0mconvert\u001b[0m\u001b[1;33m=\u001b[0m\u001b[1;32mFalse\u001b[0m\u001b[1;33m)\u001b[0m\u001b[1;33m\u001b[0m\u001b[0m\n\u001b[0;32m   2176\u001b[0m         \u001b[1;32melse\u001b[0m\u001b[1;33m:\u001b[0m\u001b[1;33m\u001b[0m\u001b[0m\n\u001b[1;32m-> 2177\u001b[1;33m             \u001b[0mindexer\u001b[0m \u001b[1;33m=\u001b[0m \u001b[0mself\u001b[0m\u001b[1;33m.\u001b[0m\u001b[0mloc\u001b[0m\u001b[1;33m.\u001b[0m\u001b[0m_convert_to_indexer\u001b[0m\u001b[1;33m(\u001b[0m\u001b[0mkey\u001b[0m\u001b[1;33m,\u001b[0m \u001b[0maxis\u001b[0m\u001b[1;33m=\u001b[0m\u001b[1;36m1\u001b[0m\u001b[1;33m)\u001b[0m\u001b[1;33m\u001b[0m\u001b[0m\n\u001b[0m\u001b[0;32m   2178\u001b[0m             \u001b[1;32mreturn\u001b[0m \u001b[0mself\u001b[0m\u001b[1;33m.\u001b[0m\u001b[0m_take\u001b[0m\u001b[1;33m(\u001b[0m\u001b[0mindexer\u001b[0m\u001b[1;33m,\u001b[0m \u001b[0maxis\u001b[0m\u001b[1;33m=\u001b[0m\u001b[1;36m1\u001b[0m\u001b[1;33m,\u001b[0m \u001b[0mconvert\u001b[0m\u001b[1;33m=\u001b[0m\u001b[1;32mTrue\u001b[0m\u001b[1;33m)\u001b[0m\u001b[1;33m\u001b[0m\u001b[0m\n\u001b[0;32m   2179\u001b[0m \u001b[1;33m\u001b[0m\u001b[0m\n",
      "\u001b[1;32mD:\\Anaconda3\\lib\\site-packages\\pandas\\core\\indexing.py\u001b[0m in \u001b[0;36m_convert_to_indexer\u001b[1;34m(self, obj, axis, is_setter)\u001b[0m\n\u001b[0;32m   1267\u001b[0m                 \u001b[1;32mif\u001b[0m \u001b[0mmask\u001b[0m\u001b[1;33m.\u001b[0m\u001b[0many\u001b[0m\u001b[1;33m(\u001b[0m\u001b[1;33m)\u001b[0m\u001b[1;33m:\u001b[0m\u001b[1;33m\u001b[0m\u001b[0m\n\u001b[0;32m   1268\u001b[0m                     raise KeyError('{mask} not in index'\n\u001b[1;32m-> 1269\u001b[1;33m                                    .format(mask=objarr[mask]))\n\u001b[0m\u001b[0;32m   1270\u001b[0m \u001b[1;33m\u001b[0m\u001b[0m\n\u001b[0;32m   1271\u001b[0m                 \u001b[1;32mreturn\u001b[0m \u001b[0m_values_from_object\u001b[0m\u001b[1;33m(\u001b[0m\u001b[0mindexer\u001b[0m\u001b[1;33m)\u001b[0m\u001b[1;33m\u001b[0m\u001b[0m\n",
      "\u001b[1;31mKeyError\u001b[0m: \"['Dest_label' 'Origin_label'] not in index\""
     ]
    }
   ],
   "source": [
    "test_clf_df = pd.get_dummies(test_df[list(set(dec_used_cols + reg_used_cols))], columns=cat_cols_dec)"
   ]
  },
  {
   "cell_type": "code",
   "execution_count": null,
   "metadata": {
    "collapsed": true
   },
   "outputs": [],
   "source": [
    "test_clf_df.shape"
   ]
  },
  {
   "cell_type": "code",
   "execution_count": null,
   "metadata": {
    "collapsed": true,
    "scrolled": false
   },
   "outputs": [],
   "source": [
    "test_clf_df.head()"
   ]
  },
  {
   "cell_type": "code",
   "execution_count": null,
   "metadata": {
    "collapsed": true
   },
   "outputs": [],
   "source": [
    "test_pred_dec = dec.predict_proba(test_clf_df.drop(cols_drop_dec, axis=1))"
   ]
  },
  {
   "cell_type": "code",
   "execution_count": null,
   "metadata": {
    "collapsed": true
   },
   "outputs": [],
   "source": [
    "test_pred_reg = opt.predict_proba(test_clf_df[reg_used_cols])"
   ]
  },
  {
   "cell_type": "code",
   "execution_count": null,
   "metadata": {
    "collapsed": true
   },
   "outputs": [],
   "source": [
    "test_pred = (test_pred_dec + test_pred_reg) / 2"
   ]
  },
  {
   "cell_type": "code",
   "execution_count": null,
   "metadata": {
    "collapsed": true
   },
   "outputs": [],
   "source": [
    "test_pred"
   ]
  },
  {
   "cell_type": "code",
   "execution_count": null,
   "metadata": {
    "collapsed": true
   },
   "outputs": [],
   "source": [
    "test_pred_df = pd.DataFrame(test_pred[:, 1], columns=[\"Prediction1\"])"
   ]
  },
  {
   "cell_type": "code",
   "execution_count": null,
   "metadata": {
    "collapsed": true
   },
   "outputs": [],
   "source": [
    "test_pred_df.index.name = \"Id\""
   ]
  },
  {
   "cell_type": "code",
   "execution_count": null,
   "metadata": {
    "collapsed": true
   },
   "outputs": [],
   "source": [
    "test_pred_df.head()"
   ]
  },
  {
   "cell_type": "code",
   "execution_count": null,
   "metadata": {
    "collapsed": true
   },
   "outputs": [],
   "source": [
    "test_pred_df.to_csv(\"sample_1.csv\")\n",
    "notif.show_toast(\"Written to csv\", \"Ready to submit\", duration=10)"
   ]
  },
  {
   "cell_type": "code",
   "execution_count": 125,
   "metadata": {},
   "outputs": [
    {
     "data": {
      "text/plain": [
       "48"
      ]
     },
     "execution_count": 125,
     "metadata": {},
     "output_type": "execute_result"
    }
   ],
   "source": [
    "#Free ALOT of memory\n",
    "test_df = test_pred_df = None\n",
    "gc.collect()"
   ]
  },
  {
   "cell_type": "code",
   "execution_count": null,
   "metadata": {
    "collapsed": true
   },
   "outputs": [],
   "source": []
  }
 ],
 "metadata": {
  "kernelspec": {
   "display_name": "Python 3",
   "language": "python",
   "name": "python3"
  },
  "language_info": {
   "codemirror_mode": {
    "name": "ipython",
    "version": 3
   },
   "file_extension": ".py",
   "mimetype": "text/x-python",
   "name": "python",
   "nbconvert_exporter": "python",
   "pygments_lexer": "ipython3",
   "version": "3.6.2"
  }
 },
 "nbformat": 4,
 "nbformat_minor": 2
}

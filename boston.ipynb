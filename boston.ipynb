{
 "cells": [
  {
   "cell_type": "markdown",
   "metadata": {},
   "source": [
    "# Предсказание цен на недвижимость"
   ]
  },
  {
   "cell_type": "code",
   "execution_count": 23,
   "metadata": {
    "collapsed": true
   },
   "outputs": [],
   "source": [
    "import pandas as pd\n",
    "import numpy as np\n",
    "%matplotlib inline\n",
    "import matplotlib.pylab as plt\n",
    "from cycler import cycler"
   ]
  },
  {
   "cell_type": "code",
   "execution_count": 24,
   "metadata": {
    "collapsed": true
   },
   "outputs": [],
   "source": [
    "from sklearn.datasets import load_boston\n",
    "from sklearn.model_selection import cross_val_score, KFold, train_test_split\n",
    "from sklearn.linear_model import LassoCV, RidgeCV, Lasso, Ridge, LinearRegression\n",
    "from sklearn.metrics import mean_squared_error"
   ]
  },
  {
   "cell_type": "markdown",
   "metadata": {},
   "source": [
    "### Признаки ###"
   ]
  },
  {
   "cell_type": "markdown",
   "metadata": {},
   "source": [
    " - CRIM - количество преступлений на душу населения\n",
    " - ZN - процент жилых участков площадью больше 25 тыс. кв. футов (~ 23 сотки)\n",
    " - INDUS - процент площадей под оптовую торговлю\n",
    " - CHAS - протекает ли река\n",
    " - NOX - концентрация оксидов азота\n",
    " - RM - среднее число комнат в здании\n",
    " - AGE - доля зданий, построенных до 1940 года\n",
    " - DIS - взвешенное расстояние до 5 деловых центров Бостона\n",
    " - RAD - индекс доступности скоростных магистралей\n",
    " - TAX - уровень налогов\n",
    " - PTRATIO - среднее число учащихся на одного преподавателя\n",
    " - B - процент афроамериканцев\n",
    " - LSTAT - процент граждан с низким уровнем жизни\n",
    " - MEDV (целевой) - медианная стоимости домов в районе"
   ]
  },
  {
   "cell_type": "markdown",
   "metadata": {},
   "source": [
    "### Загрузка данных"
   ]
  },
  {
   "cell_type": "code",
   "execution_count": 25,
   "metadata": {
    "collapsed": true
   },
   "outputs": [],
   "source": [
    "boston = load_boston()"
   ]
  },
  {
   "cell_type": "code",
   "execution_count": 26,
   "metadata": {},
   "outputs": [
    {
     "name": "stdout",
     "output_type": "stream",
     "text": [
      "Boston House Prices dataset\n",
      "===========================\n",
      "\n",
      "Notes\n",
      "------\n",
      "Data Set Characteristics:  \n",
      "\n",
      "    :Number of Instances: 506 \n",
      "\n",
      "    :Number of Attributes: 13 numeric/categorical predictive\n",
      "    \n",
      "    :Median Value (attribute 14) is usually the target\n",
      "\n",
      "    :Attribute Information (in order):\n",
      "        - CRIM     per capita crime rate by town\n",
      "        - ZN       proportion of residential land zoned for lots over 25,000 sq.ft.\n",
      "        - INDUS    proportion of non-retail business acres per town\n",
      "        - CHAS     Charles River dummy variable (= 1 if tract bounds river; 0 otherwise)\n",
      "        - NOX      nitric oxides concentration (parts per 10 million)\n",
      "        - RM       average number of rooms per dwelling\n",
      "        - AGE      proportion of owner-occupied units built prior to 1940\n",
      "        - DIS      weighted distances to five Boston employment centres\n",
      "        - RAD      index of accessibility to radial highways\n",
      "        - TAX      full-value property-tax rate per $10,000\n",
      "        - PTRATIO  pupil-teacher ratio by town\n",
      "        - B        1000(Bk - 0.63)^2 where Bk is the proportion of blacks by town\n",
      "        - LSTAT    % lower status of the population\n",
      "        - MEDV     Median value of owner-occupied homes in $1000's\n",
      "\n",
      "    :Missing Attribute Values: None\n",
      "\n",
      "    :Creator: Harrison, D. and Rubinfeld, D.L.\n",
      "\n",
      "This is a copy of UCI ML housing dataset.\n",
      "http://archive.ics.uci.edu/ml/datasets/Housing\n",
      "\n",
      "\n",
      "This dataset was taken from the StatLib library which is maintained at Carnegie Mellon University.\n",
      "\n",
      "The Boston house-price data of Harrison, D. and Rubinfeld, D.L. 'Hedonic\n",
      "prices and the demand for clean air', J. Environ. Economics & Management,\n",
      "vol.5, 81-102, 1978.   Used in Belsley, Kuh & Welsch, 'Regression diagnostics\n",
      "...', Wiley, 1980.   N.B. Various transformations are used in the table on\n",
      "pages 244-261 of the latter.\n",
      "\n",
      "The Boston house-price data has been used in many machine learning papers that address regression\n",
      "problems.   \n",
      "     \n",
      "**References**\n",
      "\n",
      "   - Belsley, Kuh & Welsch, 'Regression diagnostics: Identifying Influential Data and Sources of Collinearity', Wiley, 1980. 244-261.\n",
      "   - Quinlan,R. (1993). Combining Instance-Based and Model-Based Learning. In Proceedings on the Tenth International Conference of Machine Learning, 236-243, University of Massachusetts, Amherst. Morgan Kaufmann.\n",
      "   - many more! (see http://archive.ics.uci.edu/ml/datasets/Housing)\n",
      "\n"
     ]
    }
   ],
   "source": [
    "print(boston.DESCR)"
   ]
  },
  {
   "cell_type": "code",
   "execution_count": 27,
   "metadata": {},
   "outputs": [
    {
     "name": "stdout",
     "output_type": "stream",
     "text": [
      "(506, 13) (506,)\n"
     ]
    }
   ],
   "source": [
    "X, y = boston['data'], boston['target']\n",
    "print(X.shape, y.shape)"
   ]
  },
  {
   "cell_type": "markdown",
   "metadata": {},
   "source": [
    "### Разделение данных на train/test"
   ]
  },
  {
   "cell_type": "code",
   "execution_count": 28,
   "metadata": {},
   "outputs": [
    {
     "name": "stdout",
     "output_type": "stream",
     "text": [
      "Train size:  404 Test size:  102\n"
     ]
    }
   ],
   "source": [
    "X_train, X_valid, y_train, y_valid = train_test_split(X,y, test_size=0.2, random_state=42)\n",
    "print('Train size: ', X_train.shape[0], 'Test size: ', X_valid.shape[0])"
   ]
  },
  {
   "cell_type": "markdown",
   "metadata": {},
   "source": [
    "### Визуальная проверка равенства распределений цены"
   ]
  },
  {
   "cell_type": "markdown",
   "metadata": {},
   "source": [
    "Если мы в тренировочную выборку попадут примеры домов с очень низкой ценой, а тестировать модель мы будем на домах с высокой ценой, нас ждет неудача. Ошибка будет большой, а модель бесполезной, поэтому данные надо разделять так чтобы распределение целевой переменной(цены в нашем случае) совпадало в трейн и тест выборках."
   ]
  },
  {
   "cell_type": "code",
   "execution_count": 29,
   "metadata": {},
   "outputs": [
    {
     "data": {
      "text/plain": [
       "<matplotlib.axes._subplots.AxesSubplot at 0x27172641668>"
      ]
     },
     "execution_count": 29,
     "metadata": {},
     "output_type": "execute_result"
    },
    {
     "data": {
      "image/png": "[encoded data removed]",
      "text/plain": [
       "<matplotlib.figure.Figure at 0x27172648da0>"
      ]
     },
     "metadata": {},
     "output_type": "display_data"
    }
   ],
   "source": [
    "pd.Series(y_train).hist()\n",
    "pd.Series(y_valid).hist()"
   ]
  },
  {
   "cell_type": "markdown",
   "metadata": {},
   "source": [
    "#### [Задача 1]. \n",
    "#### Обучить модель линейной регрессии на train, сделать предсказание на test. Посчитать среднеквадратичную ошибку(MSE)."
   ]
  },
  {
   "cell_type": "code",
   "execution_count": 30,
   "metadata": {},
   "outputs": [
    {
     "data": {
      "text/plain": [
       "24.311426929693297"
      ]
     },
     "execution_count": 30,
     "metadata": {},
     "output_type": "execute_result"
    }
   ],
   "source": [
    "clf = LinearRegression(fit_intercept=True)\n",
    "clf.fit(X_train, y_train)\n",
    "y_pred = clf.predict(X_valid)\n",
    "mse = mean_squared_error(y_valid, y_pred)\n",
    "mse"
   ]
  },
  {
   "cell_type": "markdown",
   "metadata": {},
   "source": [
    "#### [Задача 2]. \n",
    "#### Обучить модель линейной регрессии с регуляризацией(Ridge), посчитать MSE используя процедуру кросс-валидации(CV). Посчитать среднее, медиану и стандартное отклонение. Распечатать на экран веса модели(coef_) и сдвиг(intercept_)"
   ]
  },
  {
   "cell_type": "code",
   "execution_count": 57,
   "metadata": {},
   "outputs": [
    {
     "name": "stdout",
     "output_type": "stream",
     "text": [
      "109.008813477 33.0021787255 118.832701702\n",
      "[17.208201421427415, 33.002178725493174, 276.81606028488136]\n",
      "[ 0.90609735  0.01429039  0.01374678  0.80221516 -3.72705685  9.16260152\n",
      " -0.04876767 -0.90383608  0.11133576 -0.01454825 -0.6119898   0.01661435\n",
      " -0.1066152 ]\n",
      "-15.8254813699\n"
     ]
    }
   ],
   "source": [
    "kfold = KFold(n_splits=3)\n",
    "msearray = []\n",
    "clf = Ridge()\n",
    "for train_idx, test_idx in kfold.split(X):\n",
    "    clf.fit(X[train_idx], y[train_idx])\n",
    "    y_pred = clf.predict(X[test_idx])\n",
    "    mse = mean_squared_error(y[test_idx], y_pred)\n",
    "    msearray.append(mse)\n",
    "\n",
    "print(np.mean(msearray), np.median(msearray), np.std(msearray))\n",
    "print(msearray)\n",
    "print(clf.coef_)\n",
    "print(clf.intercept_)"
   ]
  },
  {
   "cell_type": "code",
   "execution_count": 37,
   "metadata": {
    "collapsed": true
   },
   "outputs": [],
   "source": [
    "tclf = Ridge()"
   ]
  },
  {
   "cell_type": "code",
   "execution_count": 60,
   "metadata": {
    "scrolled": true
   },
   "outputs": [
    {
     "data": {
      "text/plain": [
       "array([  17.20820142,   33.00217873,  276.81606028])"
      ]
     },
     "execution_count": 60,
     "metadata": {},
     "output_type": "execute_result"
    }
   ],
   "source": [
    "from sklearn.model_selection import cross_val_score\n",
    "cross_val_score(tclf, X, y, scoring=lambda p, x, y: mean_squared_error(y, p.predict(x)))"
   ]
  },
  {
   "cell_type": "code",
   "execution_count": 56,
   "metadata": {},
   "outputs": [
    {
     "data": {
      "text/plain": [
       "['__annotations__',\n",
       " '__call__',\n",
       " '__class__',\n",
       " '__closure__',\n",
       " '__code__',\n",
       " '__defaults__',\n",
       " '__delattr__',\n",
       " '__dict__',\n",
       " '__dir__',\n",
       " '__doc__',\n",
       " '__eq__',\n",
       " '__format__',\n",
       " '__ge__',\n",
       " '__get__',\n",
       " '__getattribute__',\n",
       " '__globals__',\n",
       " '__gt__',\n",
       " '__hash__',\n",
       " '__init__',\n",
       " '__init_subclass__',\n",
       " '__kwdefaults__',\n",
       " '__le__',\n",
       " '__lt__',\n",
       " '__module__',\n",
       " '__name__',\n",
       " '__ne__',\n",
       " '__new__',\n",
       " '__qualname__',\n",
       " '__reduce__',\n",
       " '__reduce_ex__',\n",
       " '__repr__',\n",
       " '__setattr__',\n",
       " '__sizeof__',\n",
       " '__str__',\n",
       " '__subclasshook__']"
      ]
     },
     "execution_count": 56,
     "metadata": {},
     "output_type": "execute_result"
    }
   ],
   "source": [
    "dir(cross_val_score)"
   ]
  },
  {
   "cell_type": "markdown",
   "metadata": {},
   "source": [
    "#### [Задача 3]. \n",
    "#### Подобрать оптимальный параметр ***alpha*** с помощью CV. Распечатать его значение на экран. Затем вычислить MSE на CV для модели с выбранным оптимальным параметром. Вычислить среднее, медиану и стандартное отклонение. Распечатать на экран веса модели(coef_) и сдвиг(intercept_)"
   ]
  },
  {
   "cell_type": "code",
   "execution_count": 32,
   "metadata": {
    "collapsed": true
   },
   "outputs": [],
   "source": [
    "clf = RidgeCV(alphas=np.logspace(-2, -6, 200), fit_intercept=True, store_cv_values=True)"
   ]
  },
  {
   "cell_type": "code",
   "execution_count": 33,
   "metadata": {},
   "outputs": [
    {
     "data": {
      "text/plain": [
       "RidgeCV(alphas=array([  1.00000e-02,   9.54772e-03, ...,   1.04737e-06,   1.00000e-06]),\n",
       "    cv=None, fit_intercept=True, gcv_mode=None, normalize=False,\n",
       "    scoring=None, store_cv_values=True)"
      ]
     },
     "execution_count": 33,
     "metadata": {},
     "output_type": "execute_result"
    }
   ],
   "source": [
    "clf.fit(X, y)"
   ]
  },
  {
   "cell_type": "code",
   "execution_count": 34,
   "metadata": {},
   "outputs": [
    {
     "data": {
      "text/plain": [
       "21.89781939107942"
      ]
     },
     "execution_count": 34,
     "metadata": {},
     "output_type": "execute_result"
    }
   ],
   "source": [
    "mean_squared_error(y, clf.predict(X))"
   ]
  },
  {
   "cell_type": "code",
   "execution_count": 35,
   "metadata": {},
   "outputs": [
    {
     "name": "stdout",
     "output_type": "stream",
     "text": [
      "Alpha: 0.01\n"
     ]
    }
   ],
   "source": [
    "print(\"Alpha:\", clf.alpha_)"
   ]
  },
  {
   "cell_type": "code",
   "execution_count": 36,
   "metadata": {},
   "outputs": [
    {
     "name": "stdout",
     "output_type": "stream",
     "text": [
      "138.010940038 33.7434866827 165.459434046\n",
      "[17.208201421427415, 33.002178725493174, 276.81606028488136, 20.550901272949403, 34.484794639876213, 446.00350388497782]\n",
      "[ 1.22744455  0.01318112  0.02857974  0.76959316 -9.00200497  9.24387694\n",
      " -0.04713059 -0.98637035  0.12040362 -0.01431802 -0.64766421  0.01612559\n",
      " -0.09080221]\n",
      "-13.0913766022\n"
     ]
    }
   ],
   "source": [
    "kfold = KFold(n_splits=3)\n",
    "opt_clf = Ridge(alpha=clf.alpha_)\n",
    "for train_idx, test_idx in kfold.split(X):\n",
    "    opt_clf.fit(X[train_idx], y[train_idx])\n",
    "    y_pred = opt_clf.predict(X[test_idx])\n",
    "    mse = mean_squared_error(y[test_idx], y_pred)\n",
    "    msearray.append(mse)\n",
    "\n",
    "print(np.mean(msearray), np.median(msearray), np.std(msearray))\n",
    "print(msearray)\n",
    "print(opt_clf.coef_)\n",
    "print(opt_clf.intercept_)"
   ]
  },
  {
   "cell_type": "markdown",
   "metadata": {},
   "source": [
    "#### [Задача 4]. \n",
    "#### Нарисовать график изменения весов модели в зависимости от уровня регуляризации(параметра ***alpha***)"
   ]
  },
  {
   "cell_type": "code",
   "execution_count": 15,
   "metadata": {},
   "outputs": [
    {
     "data": {
      "image/png": "[encoded data removed]",
      "text/plain": [
       "<matplotlib.figure.Figure at 0x2716f4f24a8>"
      ]
     },
     "metadata": {},
     "output_type": "display_data"
    }
   ],
   "source": [
    "n_alphas = 200\n",
    "ridge_alphas = np.logspace(-2, 6, n_alphas)\n",
    "\n",
    "# 4.1 Создать модель Ridge \n",
    "\n",
    "# 4.2 Создать пустой массив\n",
    "\n",
    "# 4.3 - для каждого значения x из списка **ridge_alphas** установить параметр регуляризации модели равным x\n",
    "#     - обучить модель на всех данных X,y\n",
    "#     - добавить в массив коэфициенты обученной модели\n",
    "coefs = []\n",
    "for a in ridge_alphas:\n",
    "    rreg = Ridge(alpha=a, fit_intercept=True)\n",
    "    rreg.fit(X, y)\n",
    "    coefs.append(rreg.coef_)\n",
    "ax = plt.gca()\n",
    "ax.set_prop_cycle(cycler('color', ['b', 'r', 'g', 'c', 'k', 'y', 'm']))\n",
    "ax.plot(ridge_alphas, coefs)\n",
    "ax.set_xscale('log')\n",
    "ax.set_xlim(ax.get_xlim()[::-1])  # reverse axis\n",
    "plt.xlabel('alpha')\n",
    "plt.ylabel('weights')\n",
    "plt.title('Ridge coefficients as a function of the regularization')\n",
    "plt.axis('tight')\n",
    "plt.show()"
   ]
  },
  {
   "cell_type": "markdown",
   "metadata": {},
   "source": [
    "#### [Задача 5]. \n",
    "#### Повторить задачу 2,3,4,5 но для модели Lasso"
   ]
  },
  {
   "cell_type": "code",
   "execution_count": 16,
   "metadata": {},
   "outputs": [
    {
     "name": "stdout",
     "output_type": "stream",
     "text": [
      "47.8250371427 57.3548779553 18.8962062159\n",
      "[21.438680276253983, 57.354877955278639, 64.681553196433725]\n",
      "[ 0.          0.02214845  0.          0.          0.          5.1506894   0.\n",
      " -0.45877628  0.         -0.01586085 -0.65451812  0.01338254 -0.44160721]\n",
      "9.88219048717\n"
     ]
    }
   ],
   "source": [
    "kfold = KFold(n_splits=3)\n",
    "msearray = []\n",
    "clf = Lasso()\n",
    "for train_idx, test_idx in kfold.split(X):\n",
    "    clf.fit(X[train_idx], y[train_idx])\n",
    "    y_pred = clf.predict(X[test_idx])\n",
    "    mse = mean_squared_error(y[test_idx], y_pred)\n",
    "    msearray.append(mse)\n",
    "\n",
    "print(np.mean(msearray), np.median(msearray), np.std(msearray))\n",
    "print(msearray)\n",
    "print(clf.coef_)\n",
    "print(clf.intercept_)"
   ]
  },
  {
   "cell_type": "code",
   "execution_count": 17,
   "metadata": {
    "collapsed": true
   },
   "outputs": [],
   "source": [
    "clf = LassoCV(alphas=np.logspace(-2, -6, 200), n_jobs=-1)"
   ]
  },
  {
   "cell_type": "code",
   "execution_count": 18,
   "metadata": {},
   "outputs": [
    {
     "data": {
      "text/plain": [
       "LassoCV(alphas=array([  1.00000e-02,   9.54772e-03, ...,   1.04737e-06,   1.00000e-06]),\n",
       "    copy_X=True, cv=None, eps=0.001, fit_intercept=True, max_iter=1000,\n",
       "    n_alphas=100, n_jobs=-1, normalize=False, positive=False,\n",
       "    precompute='auto', random_state=None, selection='cyclic', tol=0.0001,\n",
       "    verbose=False)"
      ]
     },
     "execution_count": 18,
     "metadata": {},
     "output_type": "execute_result"
    }
   ],
   "source": [
    "clf.fit(X, y)"
   ]
  },
  {
   "cell_type": "code",
   "execution_count": 19,
   "metadata": {},
   "outputs": [
    {
     "data": {
      "text/plain": [
       "21.934333403315506"
      ]
     },
     "execution_count": 19,
     "metadata": {},
     "output_type": "execute_result"
    }
   ],
   "source": [
    "mean_squared_error(y, clf.predict(X))"
   ]
  },
  {
   "cell_type": "code",
   "execution_count": 20,
   "metadata": {},
   "outputs": [
    {
     "name": "stdout",
     "output_type": "stream",
     "text": [
      "Alpha: 0.01\n"
     ]
    }
   ],
   "source": [
    "print(\"Alpha:\", clf.alpha_)"
   ]
  },
  {
   "cell_type": "code",
   "execution_count": 21,
   "metadata": {},
   "outputs": [
    {
     "name": "stdout",
     "output_type": "stream",
     "text": [
      "77.4973835878 45.7167836295 87.0142393468\n",
      "[21.438680276253983, 57.354877955278639, 64.681553196433725, 19.092764359101288, 34.0786893036992, 268.33773643606992]\n",
      "[ 0.88566969  0.01349027  0.01602385  0.69163106 -3.86001806  9.26164551\n",
      " -0.04909826 -0.89764703  0.10495952 -0.01441554 -0.6129584   0.01637184\n",
      " -0.09795332]\n",
      "-16.3824719754\n"
     ]
    }
   ],
   "source": [
    "kfold = KFold(n_splits=3)\n",
    "opt_clf = Lasso(alpha=clf.alpha_)\n",
    "for train_idx, test_idx in kfold.split(X):\n",
    "    opt_clf.fit(X[train_idx], y[train_idx])\n",
    "    y_pred = opt_clf.predict(X[test_idx])\n",
    "    mse = mean_squared_error(y[test_idx], y_pred)\n",
    "    msearray.append(mse)\n",
    "\n",
    "print(np.mean(msearray), np.median(msearray), np.std(msearray))\n",
    "print(msearray)\n",
    "print(opt_clf.coef_)\n",
    "print(opt_clf.intercept_)"
   ]
  },
  {
   "cell_type": "markdown",
   "metadata": {},
   "source": [
    "#### [Задача 6]. \n",
    "#### Нарисовать график аналогичный задаче 4"
   ]
  },
  {
   "cell_type": "code",
   "execution_count": 22,
   "metadata": {},
   "outputs": [
    {
     "data": {
      "image/png": "[encoded data removed]",
      "text/plain": [
       "<matplotlib.figure.Figure at 0x271728c1ac8>"
      ]
     },
     "metadata": {},
     "output_type": "display_data"
    }
   ],
   "source": [
    "n_alphas = 200\n",
    "lasso_alphas = np.logspace(-2, 6, n_alphas)\n",
    "coefs = []\n",
    "for a in lasso_alphas:\n",
    "    lreg = Lasso(alpha=a, fit_intercept=True)\n",
    "    lreg.fit(X, y)\n",
    "    coefs.append(lreg.coef_)\n",
    "ax = plt.gca()\n",
    "ax.set_prop_cycle(cycler('color', ['b', 'r', 'g', 'c', 'k', 'y', 'm']))\n",
    "ax.plot(lasso_alphas, coefs)\n",
    "ax.set_xscale('log')\n",
    "ax.set_xlim(ax.get_xlim()[::-1])  # reverse axis\n",
    "plt.xlabel('alpha')\n",
    "plt.ylabel('weights')\n",
    "plt.title('Ridge coefficients as a function of the regularization')\n",
    "plt.axis('tight')\n",
    "plt.show()"
   ]
  },
  {
   "cell_type": "markdown",
   "metadata": {},
   "source": [
    "#### [Задача 7]. \n",
    "#### Сравнить графики из задачи 4 и задачи 6. Сделать выводы, рассказать их преподавателю :)"
   ]
  },
  {
   "cell_type": "markdown",
   "metadata": {
    "collapsed": true
   },
   "source": [
    "При `L1 оптимизации (Lasso)` если `alpha` > ~10 веса вообще не меняются и держатся на нуле, в `L2 (Ridge)` такое происходит только при `alpha` в районе 10^6, при `alpha` = 10^-2 веса одинаковы, следственно при `L1` они изменяются быстрее (после порогвой альфы)"
   ]
  }
 ],
 "metadata": {
  "kernelspec": {
   "display_name": "Python 3",
   "language": "python",
   "name": "python3"
  },
  "language_info": {
   "codemirror_mode": {
    "name": "ipython",
    "version": 3
   },
   "file_extension": ".py",
   "mimetype": "text/x-python",
   "name": "python",
   "nbconvert_exporter": "python",
   "pygments_lexer": "ipython3",
   "version": "3.6.2"
  }
 },
 "nbformat": 4,
 "nbformat_minor": 2
}

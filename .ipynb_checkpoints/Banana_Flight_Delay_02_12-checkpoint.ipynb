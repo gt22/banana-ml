{
 "cells": [
  {
   "cell_type": "code",
   "execution_count": 1,
   "metadata": {},
   "outputs": [
    {
     "name": "stderr",
     "output_type": "stream",
     "text": [
      "D:\\Anaconda3\\lib\\site-packages\\sklearn\\cross_validation.py:41: DeprecationWarning: This module was deprecated in version 0.18 in favor of the model_selection module into which all the refactored classes and functions are moved. Also note that the interface of the new CV iterators are different from that of this module. This module will be removed in 0.20.\n",
      "  \"This module will be removed in 0.20.\", DeprecationWarning)\n"
     ]
    }
   ],
   "source": [
    "import pandas as pd\n",
    "import matplotlib as plt\n",
    "import numpy as np\n",
    "from sklearn import cross_validation, datasets, linear_model, metrics \n",
    "%matplotlib inline"
   ]
  },
  {
   "cell_type": "code",
   "execution_count": 3,
   "metadata": {},
   "outputs": [],
   "source": [
    "df = pd.read_csv(\"bfd/train_dataset.csv\") "
   ]
  },
  {
   "cell_type": "code",
   "execution_count": 4,
   "metadata": {},
   "outputs": [
    {
     "data": {
      "text/html": [
       "<div>\n",
       "<style scoped>\n",
       "    .dataframe tbody tr th:only-of-type {\n",
       "        vertical-align: middle;\n",
       "    }\n",
       "\n",
       "    .dataframe tbody tr th {\n",
       "        vertical-align: top;\n",
       "    }\n",
       "\n",
       "    .dataframe thead th {\n",
       "        text-align: right;\n",
       "    }\n",
       "</style>\n",
       "<table border=\"1\" class=\"dataframe\">\n",
       "  <thead>\n",
       "    <tr style=\"text-align: right;\">\n",
       "      <th></th>\n",
       "      <th>Month</th>\n",
       "      <th>DayofMonth</th>\n",
       "      <th>DayOfWeek</th>\n",
       "      <th>DepTime</th>\n",
       "      <th>ArrTime</th>\n",
       "      <th>UniqueCarrier</th>\n",
       "      <th>FlightNum</th>\n",
       "      <th>TailNum</th>\n",
       "      <th>AirTime</th>\n",
       "      <th>Origin</th>\n",
       "      <th>Dest</th>\n",
       "      <th>Distance</th>\n",
       "      <th>TaxiIn</th>\n",
       "      <th>TaxiOut</th>\n",
       "      <th>target</th>\n",
       "    </tr>\n",
       "  </thead>\n",
       "  <tbody>\n",
       "    <tr>\n",
       "      <th>0</th>\n",
       "      <td>1</td>\n",
       "      <td>1</td>\n",
       "      <td>2</td>\n",
       "      <td>1007.0</td>\n",
       "      <td>1109.0</td>\n",
       "      <td>AA</td>\n",
       "      <td>511</td>\n",
       "      <td>N404AA</td>\n",
       "      <td>34.0</td>\n",
       "      <td>AUS</td>\n",
       "      <td>DFW</td>\n",
       "      <td>190</td>\n",
       "      <td>15.0</td>\n",
       "      <td>13.0</td>\n",
       "      <td>1</td>\n",
       "    </tr>\n",
       "    <tr>\n",
       "      <th>1</th>\n",
       "      <td>1</td>\n",
       "      <td>1</td>\n",
       "      <td>2</td>\n",
       "      <td>1411.0</td>\n",
       "      <td>1521.0</td>\n",
       "      <td>NW</td>\n",
       "      <td>1631</td>\n",
       "      <td>N363NB</td>\n",
       "      <td>37.0</td>\n",
       "      <td>TVC</td>\n",
       "      <td>DTW</td>\n",
       "      <td>207</td>\n",
       "      <td>9.0</td>\n",
       "      <td>24.0</td>\n",
       "      <td>1</td>\n",
       "    </tr>\n",
       "    <tr>\n",
       "      <th>2</th>\n",
       "      <td>1</td>\n",
       "      <td>1</td>\n",
       "      <td>2</td>\n",
       "      <td>859.0</td>\n",
       "      <td>1112.0</td>\n",
       "      <td>MQ</td>\n",
       "      <td>4645</td>\n",
       "      <td>N700LE</td>\n",
       "      <td>103.0</td>\n",
       "      <td>BDL</td>\n",
       "      <td>RDU</td>\n",
       "      <td>532</td>\n",
       "      <td>3.0</td>\n",
       "      <td>27.0</td>\n",
       "      <td>0</td>\n",
       "    </tr>\n",
       "    <tr>\n",
       "      <th>3</th>\n",
       "      <td>1</td>\n",
       "      <td>1</td>\n",
       "      <td>2</td>\n",
       "      <td>1835.0</td>\n",
       "      <td>2159.0</td>\n",
       "      <td>MQ</td>\n",
       "      <td>4838</td>\n",
       "      <td>N704PG</td>\n",
       "      <td>130.0</td>\n",
       "      <td>XNA</td>\n",
       "      <td>LGA</td>\n",
       "      <td>1147</td>\n",
       "      <td>6.0</td>\n",
       "      <td>8.0</td>\n",
       "      <td>1</td>\n",
       "    </tr>\n",
       "    <tr>\n",
       "      <th>4</th>\n",
       "      <td>1</td>\n",
       "      <td>1</td>\n",
       "      <td>2</td>\n",
       "      <td>1305.0</td>\n",
       "      <td>1924.0</td>\n",
       "      <td>US</td>\n",
       "      <td>185</td>\n",
       "      <td>N655AW</td>\n",
       "      <td>229.0</td>\n",
       "      <td>PHX</td>\n",
       "      <td>FLL</td>\n",
       "      <td>1972</td>\n",
       "      <td>9.0</td>\n",
       "      <td>21.0</td>\n",
       "      <td>1</td>\n",
       "    </tr>\n",
       "  </tbody>\n",
       "</table>\n",
       "</div>"
      ],
      "text/plain": [
       "   Month  DayofMonth  DayOfWeek  DepTime  ArrTime UniqueCarrier  FlightNum  \\\n",
       "0      1           1          2   1007.0   1109.0            AA        511   \n",
       "1      1           1          2   1411.0   1521.0            NW       1631   \n",
       "2      1           1          2    859.0   1112.0            MQ       4645   \n",
       "3      1           1          2   1835.0   2159.0            MQ       4838   \n",
       "4      1           1          2   1305.0   1924.0            US        185   \n",
       "\n",
       "  TailNum  AirTime Origin Dest  Distance  TaxiIn  TaxiOut  target  \n",
       "0  N404AA     34.0    AUS  DFW       190    15.0     13.0       1  \n",
       "1  N363NB     37.0    TVC  DTW       207     9.0     24.0       1  \n",
       "2  N700LE    103.0    BDL  RDU       532     3.0     27.0       0  \n",
       "3  N704PG    130.0    XNA  LGA      1147     6.0      8.0       1  \n",
       "4  N655AW    229.0    PHX  FLL      1972     9.0     21.0       1  "
      ]
     },
     "execution_count": 4,
     "metadata": {},
     "output_type": "execute_result"
    }
   ],
   "source": [
    "df.head()"
   ]
  },
  {
   "cell_type": "code",
   "execution_count": 5,
   "metadata": {},
   "outputs": [
    {
     "data": {
      "text/plain": [
       "(3504864, 15)"
      ]
     },
     "execution_count": 5,
     "metadata": {},
     "output_type": "execute_result"
    }
   ],
   "source": [
    "df.shape"
   ]
  },
  {
   "cell_type": "code",
   "execution_count": 6,
   "metadata": {},
   "outputs": [
    {
     "data": {
      "text/plain": [
       "Month                0\n",
       "DayofMonth           0\n",
       "DayOfWeek            0\n",
       "DepTime          68007\n",
       "ArrTime          75659\n",
       "UniqueCarrier        0\n",
       "FlightNum            0\n",
       "TailNum          41498\n",
       "AirTime          77222\n",
       "Origin               0\n",
       "Dest                 0\n",
       "Distance             0\n",
       "TaxiIn           75659\n",
       "TaxiOut          68411\n",
       "target               0\n",
       "dtype: int64"
      ]
     },
     "execution_count": 6,
     "metadata": {},
     "output_type": "execute_result"
    }
   ],
   "source": [
    "df.isnull().sum()"
   ]
  },
  {
   "cell_type": "code",
   "execution_count": 7,
   "metadata": {},
   "outputs": [
    {
     "data": {
      "text/plain": [
       "0    2481908\n",
       "1    1022956\n",
       "Name: target, dtype: int64"
      ]
     },
     "execution_count": 7,
     "metadata": {},
     "output_type": "execute_result"
    }
   ],
   "source": [
    "df['target'].value_counts()"
   ]
  },
  {
   "cell_type": "code",
   "execution_count": 8,
   "metadata": {
    "collapsed": true
   },
   "outputs": [],
   "source": [
    "from sklearn.utils import shuffle  #мешаем датасет\n",
    "df = shuffle(df).head(1000000)  #берем первый 1000000"
   ]
  },
  {
   "cell_type": "code",
   "execution_count": 9,
   "metadata": {
    "collapsed": true
   },
   "outputs": [],
   "source": [
    "clf_target = df['target'] #создаем датасет с ответами"
   ]
  },
  {
   "cell_type": "code",
   "execution_count": 10,
   "metadata": {
    "collapsed": true
   },
   "outputs": [],
   "source": [
    "clf_data = df.drop('target', axis=1 ) #удаляем из трейнового датасета ответы"
   ]
  },
  {
   "cell_type": "code",
   "execution_count": 11,
   "metadata": {
    "collapsed": true
   },
   "outputs": [],
   "source": [
    "clf_data = clf_data.fillna(0) #заменяем все NaN на 0\n",
    "\n",
    "\n",
    "\n",
    "#clf_data[\"DepTime\"] = clf_data[\"DepTime\"].fillna(clf_data[\"DepTime\"].mean()) #заменяем на среднее, если вещественные в скобках\n",
    "#clf_data[\"ArrTime\"] = clf_data[\"ArrTime\"].fillna(clf_data[\"ArrTime\"].mean()) #пишем какое-то слово\n",
    "#clf_data[\"AirTime\"] = clf_data[\"AirTime\"].fillna(clf_data[\"AirTime\"].mean())\n",
    "#clf_data[\"TaxiIn\"] = clf_data[\"TaxiIn\"].fillna(clf_data[\"TaxiIn\"].mean())\n",
    "#clf_data[\"TaxiOut\"] = clf_data[\"TaxiOut\"].fillna(clf_data[\"TaxiOut\"].mean())"
   ]
  },
  {
   "cell_type": "code",
   "execution_count": 12,
   "metadata": {
    "collapsed": true
   },
   "outputs": [],
   "source": [
    "def season(dfmounth):\n",
    "    if dfmounth in [1, 2, 12]:\n",
    "        return 'winter'\n",
    "    elif dfmounth in [3, 4, 5]:\n",
    "        return 'fall'\n",
    "    elif dfmounth in [6, 7, 8]:\n",
    "        return 'summer'\n",
    "    else:\n",
    "        return 'autumn'\n"
   ]
  },
  {
   "cell_type": "code",
   "execution_count": 13,
   "metadata": {
    "collapsed": true
   },
   "outputs": [],
   "source": [
    "clf_data['Season'] = clf_data.Month.map(season)"
   ]
  },
  {
   "cell_type": "code",
   "execution_count": 14,
   "metadata": {
    "collapsed": true
   },
   "outputs": [],
   "source": [
    "seasons_four = pd.get_dummies(clf_data.loc[:, ['Season']], columns=['Season'], dummy_na=False)"
   ]
  },
  {
   "cell_type": "code",
   "execution_count": 15,
   "metadata": {},
   "outputs": [
    {
     "data": {
      "text/html": [
       "<div>\n",
       "<style scoped>\n",
       "    .dataframe tbody tr th:only-of-type {\n",
       "        vertical-align: middle;\n",
       "    }\n",
       "\n",
       "    .dataframe tbody tr th {\n",
       "        vertical-align: top;\n",
       "    }\n",
       "\n",
       "    .dataframe thead th {\n",
       "        text-align: right;\n",
       "    }\n",
       "</style>\n",
       "<table border=\"1\" class=\"dataframe\">\n",
       "  <thead>\n",
       "    <tr style=\"text-align: right;\">\n",
       "      <th></th>\n",
       "      <th>Season_autumn</th>\n",
       "      <th>Season_fall</th>\n",
       "      <th>Season_summer</th>\n",
       "      <th>Season_winter</th>\n",
       "    </tr>\n",
       "  </thead>\n",
       "  <tbody>\n",
       "    <tr>\n",
       "      <th>2785771</th>\n",
       "      <td>1</td>\n",
       "      <td>0</td>\n",
       "      <td>0</td>\n",
       "      <td>0</td>\n",
       "    </tr>\n",
       "    <tr>\n",
       "      <th>2876351</th>\n",
       "      <td>1</td>\n",
       "      <td>0</td>\n",
       "      <td>0</td>\n",
       "      <td>0</td>\n",
       "    </tr>\n",
       "    <tr>\n",
       "      <th>1805482</th>\n",
       "      <td>0</td>\n",
       "      <td>0</td>\n",
       "      <td>1</td>\n",
       "      <td>0</td>\n",
       "    </tr>\n",
       "    <tr>\n",
       "      <th>2773250</th>\n",
       "      <td>1</td>\n",
       "      <td>0</td>\n",
       "      <td>0</td>\n",
       "      <td>0</td>\n",
       "    </tr>\n",
       "    <tr>\n",
       "      <th>2634182</th>\n",
       "      <td>1</td>\n",
       "      <td>0</td>\n",
       "      <td>0</td>\n",
       "      <td>0</td>\n",
       "    </tr>\n",
       "  </tbody>\n",
       "</table>\n",
       "</div>"
      ],
      "text/plain": [
       "         Season_autumn  Season_fall  Season_summer  Season_winter\n",
       "2785771              1            0              0              0\n",
       "2876351              1            0              0              0\n",
       "1805482              0            0              1              0\n",
       "2773250              1            0              0              0\n",
       "2634182              1            0              0              0"
      ]
     },
     "execution_count": 15,
     "metadata": {},
     "output_type": "execute_result"
    }
   ],
   "source": [
    "seasons_four.head()"
   ]
  },
  {
   "cell_type": "code",
   "execution_count": 16,
   "metadata": {},
   "outputs": [
    {
     "data": {
      "text/html": [
       "<div>\n",
       "<style scoped>\n",
       "    .dataframe tbody tr th:only-of-type {\n",
       "        vertical-align: middle;\n",
       "    }\n",
       "\n",
       "    .dataframe tbody tr th {\n",
       "        vertical-align: top;\n",
       "    }\n",
       "\n",
       "    .dataframe thead th {\n",
       "        text-align: right;\n",
       "    }\n",
       "</style>\n",
       "<table border=\"1\" class=\"dataframe\">\n",
       "  <thead>\n",
       "    <tr style=\"text-align: right;\">\n",
       "      <th></th>\n",
       "      <th>Month</th>\n",
       "      <th>DayofMonth</th>\n",
       "      <th>DayOfWeek</th>\n",
       "      <th>DepTime</th>\n",
       "      <th>ArrTime</th>\n",
       "      <th>UniqueCarrier</th>\n",
       "      <th>FlightNum</th>\n",
       "      <th>TailNum</th>\n",
       "      <th>AirTime</th>\n",
       "      <th>Origin</th>\n",
       "      <th>Dest</th>\n",
       "      <th>Distance</th>\n",
       "      <th>TaxiIn</th>\n",
       "      <th>TaxiOut</th>\n",
       "      <th>Season</th>\n",
       "      <th>Season_autumn</th>\n",
       "      <th>Season_fall</th>\n",
       "      <th>Season_summer</th>\n",
       "      <th>Season_winter</th>\n",
       "    </tr>\n",
       "  </thead>\n",
       "  <tbody>\n",
       "    <tr>\n",
       "      <th>2785771</th>\n",
       "      <td>10</td>\n",
       "      <td>11</td>\n",
       "      <td>6</td>\n",
       "      <td>1134.0</td>\n",
       "      <td>1425.0</td>\n",
       "      <td>OO</td>\n",
       "      <td>6605</td>\n",
       "      <td>N929SW</td>\n",
       "      <td>89.0</td>\n",
       "      <td>DEN</td>\n",
       "      <td>MLI</td>\n",
       "      <td>751</td>\n",
       "      <td>5.0</td>\n",
       "      <td>17.0</td>\n",
       "      <td>autumn</td>\n",
       "      <td>1</td>\n",
       "      <td>0</td>\n",
       "      <td>0</td>\n",
       "      <td>0</td>\n",
       "    </tr>\n",
       "    <tr>\n",
       "      <th>2876351</th>\n",
       "      <td>10</td>\n",
       "      <td>21</td>\n",
       "      <td>2</td>\n",
       "      <td>1100.0</td>\n",
       "      <td>1216.0</td>\n",
       "      <td>WN</td>\n",
       "      <td>2230</td>\n",
       "      <td>N274WN</td>\n",
       "      <td>51.0</td>\n",
       "      <td>FLL</td>\n",
       "      <td>JAX</td>\n",
       "      <td>318</td>\n",
       "      <td>6.0</td>\n",
       "      <td>19.0</td>\n",
       "      <td>autumn</td>\n",
       "      <td>1</td>\n",
       "      <td>0</td>\n",
       "      <td>0</td>\n",
       "      <td>0</td>\n",
       "    </tr>\n",
       "    <tr>\n",
       "      <th>1805482</th>\n",
       "      <td>7</td>\n",
       "      <td>1</td>\n",
       "      <td>2</td>\n",
       "      <td>914.0</td>\n",
       "      <td>1023.0</td>\n",
       "      <td>9E</td>\n",
       "      <td>4718</td>\n",
       "      <td>89289E</td>\n",
       "      <td>37.0</td>\n",
       "      <td>MSP</td>\n",
       "      <td>FAR</td>\n",
       "      <td>223</td>\n",
       "      <td>5.0</td>\n",
       "      <td>27.0</td>\n",
       "      <td>summer</td>\n",
       "      <td>0</td>\n",
       "      <td>0</td>\n",
       "      <td>1</td>\n",
       "      <td>0</td>\n",
       "    </tr>\n",
       "    <tr>\n",
       "      <th>2773250</th>\n",
       "      <td>10</td>\n",
       "      <td>9</td>\n",
       "      <td>4</td>\n",
       "      <td>1238.0</td>\n",
       "      <td>1402.0</td>\n",
       "      <td>OO</td>\n",
       "      <td>5479</td>\n",
       "      <td>N292SW</td>\n",
       "      <td>54.0</td>\n",
       "      <td>SFO</td>\n",
       "      <td>BFL</td>\n",
       "      <td>238</td>\n",
       "      <td>5.0</td>\n",
       "      <td>25.0</td>\n",
       "      <td>autumn</td>\n",
       "      <td>1</td>\n",
       "      <td>0</td>\n",
       "      <td>0</td>\n",
       "      <td>0</td>\n",
       "    </tr>\n",
       "    <tr>\n",
       "      <th>2634182</th>\n",
       "      <td>9</td>\n",
       "      <td>24</td>\n",
       "      <td>3</td>\n",
       "      <td>1625.0</td>\n",
       "      <td>1714.0</td>\n",
       "      <td>WN</td>\n",
       "      <td>35</td>\n",
       "      <td>N734SA</td>\n",
       "      <td>35.0</td>\n",
       "      <td>HOU</td>\n",
       "      <td>CRP</td>\n",
       "      <td>187</td>\n",
       "      <td>5.0</td>\n",
       "      <td>9.0</td>\n",
       "      <td>autumn</td>\n",
       "      <td>1</td>\n",
       "      <td>0</td>\n",
       "      <td>0</td>\n",
       "      <td>0</td>\n",
       "    </tr>\n",
       "  </tbody>\n",
       "</table>\n",
       "</div>"
      ],
      "text/plain": [
       "         Month  DayofMonth  DayOfWeek  DepTime  ArrTime UniqueCarrier  \\\n",
       "2785771     10          11          6   1134.0   1425.0            OO   \n",
       "2876351     10          21          2   1100.0   1216.0            WN   \n",
       "1805482      7           1          2    914.0   1023.0            9E   \n",
       "2773250     10           9          4   1238.0   1402.0            OO   \n",
       "2634182      9          24          3   1625.0   1714.0            WN   \n",
       "\n",
       "         FlightNum TailNum  AirTime Origin Dest  Distance  TaxiIn  TaxiOut  \\\n",
       "2785771       6605  N929SW     89.0    DEN  MLI       751     5.0     17.0   \n",
       "2876351       2230  N274WN     51.0    FLL  JAX       318     6.0     19.0   \n",
       "1805482       4718  89289E     37.0    MSP  FAR       223     5.0     27.0   \n",
       "2773250       5479  N292SW     54.0    SFO  BFL       238     5.0     25.0   \n",
       "2634182         35  N734SA     35.0    HOU  CRP       187     5.0      9.0   \n",
       "\n",
       "         Season  Season_autumn  Season_fall  Season_summer  Season_winter  \n",
       "2785771  autumn              1            0              0              0  \n",
       "2876351  autumn              1            0              0              0  \n",
       "1805482  summer              0            0              1              0  \n",
       "2773250  autumn              1            0              0              0  \n",
       "2634182  autumn              1            0              0              0  "
      ]
     },
     "execution_count": 16,
     "metadata": {},
     "output_type": "execute_result"
    }
   ],
   "source": [
    "clf_data = pd.concat([clf_data, seasons_four], axis=1, join='inner')\n",
    "clf_data.head()"
   ]
  },
  {
   "cell_type": "code",
   "execution_count": 42,
   "metadata": {
    "collapsed": true
   },
   "outputs": [],
   "source": [
    "clf_data['target'] = clf_target"
   ]
  },
  {
   "cell_type": "code",
   "execution_count": 43,
   "metadata": {},
   "outputs": [
    {
     "data": {
      "text/html": [
       "<div>\n",
       "<style>\n",
       "    .dataframe thead tr:only-child th {\n",
       "        text-align: right;\n",
       "    }\n",
       "\n",
       "    .dataframe thead th {\n",
       "        text-align: left;\n",
       "    }\n",
       "\n",
       "    .dataframe tbody tr th {\n",
       "        vertical-align: top;\n",
       "    }\n",
       "</style>\n",
       "<table border=\"1\" class=\"dataframe\">\n",
       "  <thead>\n",
       "    <tr style=\"text-align: right;\">\n",
       "      <th></th>\n",
       "      <th>UniqueCarrier</th>\n",
       "      <th>UniqueCarrier_mean</th>\n",
       "    </tr>\n",
       "  </thead>\n",
       "  <tbody>\n",
       "    <tr>\n",
       "      <th>0</th>\n",
       "      <td>9E</td>\n",
       "      <td>0.208966</td>\n",
       "    </tr>\n",
       "    <tr>\n",
       "      <th>1</th>\n",
       "      <td>AA</td>\n",
       "      <td>0.332742</td>\n",
       "    </tr>\n",
       "    <tr>\n",
       "      <th>2</th>\n",
       "      <td>AQ</td>\n",
       "      <td>0.113020</td>\n",
       "    </tr>\n",
       "    <tr>\n",
       "      <th>3</th>\n",
       "      <td>AS</td>\n",
       "      <td>0.273077</td>\n",
       "    </tr>\n",
       "    <tr>\n",
       "      <th>4</th>\n",
       "      <td>B6</td>\n",
       "      <td>0.294450</td>\n",
       "    </tr>\n",
       "    <tr>\n",
       "      <th>5</th>\n",
       "      <td>CO</td>\n",
       "      <td>0.358702</td>\n",
       "    </tr>\n",
       "    <tr>\n",
       "      <th>6</th>\n",
       "      <td>DL</td>\n",
       "      <td>0.266884</td>\n",
       "    </tr>\n",
       "    <tr>\n",
       "      <th>7</th>\n",
       "      <td>EV</td>\n",
       "      <td>0.307380</td>\n",
       "    </tr>\n",
       "    <tr>\n",
       "      <th>8</th>\n",
       "      <td>F9</td>\n",
       "      <td>0.326210</td>\n",
       "    </tr>\n",
       "    <tr>\n",
       "      <th>9</th>\n",
       "      <td>FL</td>\n",
       "      <td>0.283899</td>\n",
       "    </tr>\n",
       "    <tr>\n",
       "      <th>10</th>\n",
       "      <td>HA</td>\n",
       "      <td>0.137149</td>\n",
       "    </tr>\n",
       "    <tr>\n",
       "      <th>11</th>\n",
       "      <td>MQ</td>\n",
       "      <td>0.301182</td>\n",
       "    </tr>\n",
       "    <tr>\n",
       "      <th>12</th>\n",
       "      <td>NW</td>\n",
       "      <td>0.238897</td>\n",
       "    </tr>\n",
       "    <tr>\n",
       "      <th>13</th>\n",
       "      <td>OH</td>\n",
       "      <td>0.287661</td>\n",
       "    </tr>\n",
       "    <tr>\n",
       "      <th>14</th>\n",
       "      <td>OO</td>\n",
       "      <td>0.246553</td>\n",
       "    </tr>\n",
       "    <tr>\n",
       "      <th>15</th>\n",
       "      <td>UA</td>\n",
       "      <td>0.328563</td>\n",
       "    </tr>\n",
       "    <tr>\n",
       "      <th>16</th>\n",
       "      <td>US</td>\n",
       "      <td>0.234553</td>\n",
       "    </tr>\n",
       "    <tr>\n",
       "      <th>17</th>\n",
       "      <td>WN</td>\n",
       "      <td>0.335551</td>\n",
       "    </tr>\n",
       "    <tr>\n",
       "      <th>18</th>\n",
       "      <td>XE</td>\n",
       "      <td>0.290922</td>\n",
       "    </tr>\n",
       "    <tr>\n",
       "      <th>19</th>\n",
       "      <td>YV</td>\n",
       "      <td>0.277072</td>\n",
       "    </tr>\n",
       "  </tbody>\n",
       "</table>\n",
       "</div>"
      ],
      "text/plain": [
       "   UniqueCarrier  UniqueCarrier_mean\n",
       "0             9E            0.208966\n",
       "1             AA            0.332742\n",
       "2             AQ            0.113020\n",
       "3             AS            0.273077\n",
       "4             B6            0.294450\n",
       "5             CO            0.358702\n",
       "6             DL            0.266884\n",
       "7             EV            0.307380\n",
       "8             F9            0.326210\n",
       "9             FL            0.283899\n",
       "10            HA            0.137149\n",
       "11            MQ            0.301182\n",
       "12            NW            0.238897\n",
       "13            OH            0.287661\n",
       "14            OO            0.246553\n",
       "15            UA            0.328563\n",
       "16            US            0.234553\n",
       "17            WN            0.335551\n",
       "18            XE            0.290922\n",
       "19            YV            0.277072"
      ]
     },
     "execution_count": 43,
     "metadata": {},
     "output_type": "execute_result"
    }
   ],
   "source": [
    "carrier_mean = clf_data.loc[:, ['UniqueCarrier', 'target']].groupby('UniqueCarrier').agg('mean').reset_index()\n",
    "carrier_mean.rename(columns={'target':'UniqueCarrier_mean'}, inplace = True)\n",
    "carrier_mean"
   ]
  },
  {
   "cell_type": "code",
   "execution_count": 52,
   "metadata": {},
   "outputs": [
    {
     "data": {
      "text/html": [
       "<div>\n",
       "<style>\n",
       "    .dataframe thead tr:only-child th {\n",
       "        text-align: right;\n",
       "    }\n",
       "\n",
       "    .dataframe thead th {\n",
       "        text-align: left;\n",
       "    }\n",
       "\n",
       "    .dataframe tbody tr th {\n",
       "        vertical-align: top;\n",
       "    }\n",
       "</style>\n",
       "<table border=\"1\" class=\"dataframe\">\n",
       "  <thead>\n",
       "    <tr style=\"text-align: right;\">\n",
       "      <th></th>\n",
       "      <th>Month</th>\n",
       "      <th>DayofMonth</th>\n",
       "      <th>DayOfWeek</th>\n",
       "      <th>DepTime</th>\n",
       "      <th>ArrTime</th>\n",
       "      <th>UniqueCarrier</th>\n",
       "      <th>FlightNum</th>\n",
       "      <th>TailNum</th>\n",
       "      <th>AirTime</th>\n",
       "      <th>Origin</th>\n",
       "      <th>...</th>\n",
       "      <th>Distance</th>\n",
       "      <th>TaxiIn</th>\n",
       "      <th>TaxiOut</th>\n",
       "      <th>Season</th>\n",
       "      <th>Season_autumn</th>\n",
       "      <th>Season_fall</th>\n",
       "      <th>Season_summer</th>\n",
       "      <th>Season_winter</th>\n",
       "      <th>target</th>\n",
       "      <th>UniqueCarrier_mean</th>\n",
       "    </tr>\n",
       "  </thead>\n",
       "  <tbody>\n",
       "    <tr>\n",
       "      <th>0</th>\n",
       "      <td>2</td>\n",
       "      <td>22</td>\n",
       "      <td>5</td>\n",
       "      <td>1328.0</td>\n",
       "      <td>1428.0</td>\n",
       "      <td>OO</td>\n",
       "      <td>5756</td>\n",
       "      <td>N295SW</td>\n",
       "      <td>36.0</td>\n",
       "      <td>SFO</td>\n",
       "      <td>...</td>\n",
       "      <td>153</td>\n",
       "      <td>5.0</td>\n",
       "      <td>19.0</td>\n",
       "      <td>winter</td>\n",
       "      <td>0</td>\n",
       "      <td>0</td>\n",
       "      <td>0</td>\n",
       "      <td>1</td>\n",
       "      <td>1</td>\n",
       "      <td>0.246553</td>\n",
       "    </tr>\n",
       "    <tr>\n",
       "      <th>1</th>\n",
       "      <td>2</td>\n",
       "      <td>21</td>\n",
       "      <td>4</td>\n",
       "      <td>843.0</td>\n",
       "      <td>952.0</td>\n",
       "      <td>OO</td>\n",
       "      <td>3757</td>\n",
       "      <td>N416SW</td>\n",
       "      <td>96.0</td>\n",
       "      <td>SLC</td>\n",
       "      <td>...</td>\n",
       "      <td>574</td>\n",
       "      <td>3.0</td>\n",
       "      <td>30.0</td>\n",
       "      <td>winter</td>\n",
       "      <td>0</td>\n",
       "      <td>0</td>\n",
       "      <td>0</td>\n",
       "      <td>1</td>\n",
       "      <td>1</td>\n",
       "      <td>0.246553</td>\n",
       "    </tr>\n",
       "    <tr>\n",
       "      <th>2</th>\n",
       "      <td>3</td>\n",
       "      <td>15</td>\n",
       "      <td>6</td>\n",
       "      <td>1259.0</td>\n",
       "      <td>1443.0</td>\n",
       "      <td>OO</td>\n",
       "      <td>6478</td>\n",
       "      <td>N742SK</td>\n",
       "      <td>72.0</td>\n",
       "      <td>BZN</td>\n",
       "      <td>...</td>\n",
       "      <td>525</td>\n",
       "      <td>15.0</td>\n",
       "      <td>17.0</td>\n",
       "      <td>fall</td>\n",
       "      <td>0</td>\n",
       "      <td>1</td>\n",
       "      <td>0</td>\n",
       "      <td>0</td>\n",
       "      <td>0</td>\n",
       "      <td>0.246553</td>\n",
       "    </tr>\n",
       "    <tr>\n",
       "      <th>3</th>\n",
       "      <td>6</td>\n",
       "      <td>8</td>\n",
       "      <td>7</td>\n",
       "      <td>1834.0</td>\n",
       "      <td>1931.0</td>\n",
       "      <td>OO</td>\n",
       "      <td>5712</td>\n",
       "      <td>N224SW</td>\n",
       "      <td>40.0</td>\n",
       "      <td>LAS</td>\n",
       "      <td>...</td>\n",
       "      <td>173</td>\n",
       "      <td>6.0</td>\n",
       "      <td>11.0</td>\n",
       "      <td>summer</td>\n",
       "      <td>0</td>\n",
       "      <td>0</td>\n",
       "      <td>1</td>\n",
       "      <td>0</td>\n",
       "      <td>0</td>\n",
       "      <td>0.246553</td>\n",
       "    </tr>\n",
       "    <tr>\n",
       "      <th>4</th>\n",
       "      <td>4</td>\n",
       "      <td>26</td>\n",
       "      <td>6</td>\n",
       "      <td>1202.0</td>\n",
       "      <td>1333.0</td>\n",
       "      <td>OO</td>\n",
       "      <td>5582</td>\n",
       "      <td>N221SW</td>\n",
       "      <td>79.0</td>\n",
       "      <td>MFR</td>\n",
       "      <td>...</td>\n",
       "      <td>329</td>\n",
       "      <td>3.0</td>\n",
       "      <td>9.0</td>\n",
       "      <td>fall</td>\n",
       "      <td>0</td>\n",
       "      <td>1</td>\n",
       "      <td>0</td>\n",
       "      <td>0</td>\n",
       "      <td>0</td>\n",
       "      <td>0.246553</td>\n",
       "    </tr>\n",
       "  </tbody>\n",
       "</table>\n",
       "<p>5 rows × 21 columns</p>\n",
       "</div>"
      ],
      "text/plain": [
       "   Month  DayofMonth  DayOfWeek  DepTime  ArrTime UniqueCarrier  FlightNum  \\\n",
       "0      2          22          5   1328.0   1428.0            OO       5756   \n",
       "1      2          21          4    843.0    952.0            OO       3757   \n",
       "2      3          15          6   1259.0   1443.0            OO       6478   \n",
       "3      6           8          7   1834.0   1931.0            OO       5712   \n",
       "4      4          26          6   1202.0   1333.0            OO       5582   \n",
       "\n",
       "  TailNum  AirTime Origin         ...         Distance  TaxiIn  TaxiOut  \\\n",
       "0  N295SW     36.0    SFO         ...              153     5.0     19.0   \n",
       "1  N416SW     96.0    SLC         ...              574     3.0     30.0   \n",
       "2  N742SK     72.0    BZN         ...              525    15.0     17.0   \n",
       "3  N224SW     40.0    LAS         ...              173     6.0     11.0   \n",
       "4  N221SW     79.0    MFR         ...              329     3.0      9.0   \n",
       "\n",
       "   Season Season_autumn  Season_fall  Season_summer  Season_winter  target  \\\n",
       "0  winter             0            0              0              1       1   \n",
       "1  winter             0            0              0              1       1   \n",
       "2    fall             0            1              0              0       0   \n",
       "3  summer             0            0              1              0       0   \n",
       "4    fall             0            1              0              0       0   \n",
       "\n",
       "   UniqueCarrier_mean  \n",
       "0            0.246553  \n",
       "1            0.246553  \n",
       "2            0.246553  \n",
       "3            0.246553  \n",
       "4            0.246553  \n",
       "\n",
       "[5 rows x 21 columns]"
      ]
     },
     "execution_count": 52,
     "metadata": {},
     "output_type": "execute_result"
    }
   ],
   "source": [
    "clf_data = pd.merge(clf_data, carrier_mean, on='UniqueCarrier')\n",
    "clf_data.head()"
   ]
  },
  {
   "cell_type": "code",
   "execution_count": 56,
   "metadata": {
    "scrolled": true
   },
   "outputs": [
    {
     "data": {
      "text/plain": [
       "0.335551    171023\n",
       "0.332742     86803\n",
       "0.246553     81147\n",
       "0.301182     70127\n",
       "0.234553     64625\n",
       "0.266884     64530\n",
       "0.328563     63866\n",
       "0.290922     53413\n",
       "0.238897     49670\n",
       "0.358702     42414\n",
       "0.307380     39905\n",
       "0.208966     37518\n",
       "0.283899     37295\n",
       "0.277072     36449\n",
       "0.287661     28179\n",
       "0.294450     27998\n",
       "0.273077     21580\n",
       "0.326210     13617\n",
       "0.137149      8735\n",
       "0.113020      1106\n",
       "Name: UniqueCarrier_mean, dtype: int64"
      ]
     },
     "execution_count": 56,
     "metadata": {},
     "output_type": "execute_result"
    }
   ],
   "source": [
    "clf_data['UniqueCarrier_mean'].value_counts()"
   ]
  },
  {
   "cell_type": "code",
   "execution_count": 57,
   "metadata": {
    "collapsed": true
   },
   "outputs": [],
   "source": [
    "#carriers = pd.get_dummies(clf_data.loc[:, ['UniqueCarrier']], columns=['UniqueCarrier'], dummy_na=False)\n",
    "#carriers.head()"
   ]
  },
  {
   "cell_type": "code",
   "execution_count": 58,
   "metadata": {
    "collapsed": true
   },
   "outputs": [],
   "source": [
    "#clf_data = pd.concat([clf_data, carriers], axis=1, join='inner')\n",
    "#clf_data.head()"
   ]
  },
  {
   "cell_type": "code",
   "execution_count": null,
   "metadata": {
    "collapsed": true
   },
   "outputs": [],
   "source": []
  },
  {
   "cell_type": "code",
   "execution_count": null,
   "metadata": {
    "collapsed": true
   },
   "outputs": [],
   "source": []
  },
  {
   "cell_type": "code",
   "execution_count": null,
   "metadata": {
    "collapsed": true
   },
   "outputs": [],
   "source": []
  },
  {
   "cell_type": "code",
   "execution_count": null,
   "metadata": {
    "collapsed": true
   },
   "outputs": [],
   "source": []
  },
  {
   "cell_type": "code",
   "execution_count": 59,
   "metadata": {
    "collapsed": true
   },
   "outputs": [],
   "source": [
    "real = ['Month',\n",
    "        'DayofMonth', \n",
    "        'DayOfWeek', \n",
    "        'DepTime', \n",
    "        'ArrTime', \n",
    "        'AirTime', \n",
    "        'Distance', \n",
    "        'TaxiIn',\n",
    "        'TaxiOut',\n",
    "        'Season_autumn',\n",
    "        'Season_fall',\n",
    "        'Season_summer', \n",
    "        'Season_winter',\n",
    "        'UniqueCarrier_mean',\n",
    "        #'UniqueCarrier_WW',\n",
    "        #'UniqueCarrier_AA',\n",
    "        #'UniqueCarrier_OO',\n",
    "        #'UniqueCarrier_MQ',\n",
    "        #'UniqueCarrier_US',\n",
    "        #'UniqueCarrier_DL',\n",
    "        #'UniqueCarrier_UA',\n",
    "        #'UniqueCarrier_XE',\n",
    "        #'UniqueCarrier_NW',\n",
    "        #'UniqueCarrier_CO',\n",
    "        #'UniqueCarrier_EV',\n",
    "        #'UniqueCarrier_9E',\n",
    "        #'UniqueCarrier_FL',\n",
    "        #'UniqueCarrier_YV',\n",
    "        #'UniqueCarrier_OH',\n",
    "        #'UniqueCarrier_D6',\n",
    "        #'UniqueCarrier_AS',\n",
    "        #'UniqueCarrier_F9',\n",
    "        #'UniqueCarrier_HA',\n",
    "        #'UniqueCarrier_AQ'\n",
    "       ]"
   ]
  },
  {
   "cell_type": "code",
   "execution_count": 60,
   "metadata": {},
   "outputs": [
    {
     "data": {
      "text/plain": [
       "Month                 0\n",
       "DayofMonth            0\n",
       "DayOfWeek             0\n",
       "DepTime               0\n",
       "ArrTime               0\n",
       "UniqueCarrier         0\n",
       "FlightNum             0\n",
       "TailNum               0\n",
       "AirTime               0\n",
       "Origin                0\n",
       "Dest                  0\n",
       "Distance              0\n",
       "TaxiIn                0\n",
       "TaxiOut               0\n",
       "Season                0\n",
       "Season_autumn         0\n",
       "Season_fall           0\n",
       "Season_summer         0\n",
       "Season_winter         0\n",
       "target                0\n",
       "UniqueCarrier_mean    0\n",
       "dtype: int64"
      ]
     },
     "execution_count": 60,
     "metadata": {},
     "output_type": "execute_result"
    }
   ],
   "source": [
    "clf_data.isnull().sum()"
   ]
  },
  {
   "cell_type": "code",
   "execution_count": 61,
   "metadata": {
    "collapsed": true
   },
   "outputs": [],
   "source": [
    "clf_train_data, clf_test_data, clf_train_labels, clf_test_labels = cross_validation.train_test_split(clf_data, clf_target,\n",
    "                                                                                     test_size = 0.3, random_state = 1)"
   ]
  },
  {
   "cell_type": "code",
   "execution_count": 62,
   "metadata": {},
   "outputs": [
    {
     "data": {
      "text/plain": [
       "LogisticRegression(C=1.0, class_weight=None, dual=False, fit_intercept=True,\n",
       "          intercept_scaling=1, max_iter=100, multi_class='ovr', n_jobs=1,\n",
       "          penalty='l2', random_state=None, solver='liblinear', tol=0.0001,\n",
       "          verbose=0, warm_start=False)"
      ]
     },
     "execution_count": 62,
     "metadata": {},
     "output_type": "execute_result"
    }
   ],
   "source": [
    "classifier = linear_model.LogisticRegression(C=1.0)\n",
    "classifier.fit(clf_train_data.loc[:, real], clf_train_labels)"
   ]
  },
  {
   "cell_type": "code",
   "execution_count": 65,
   "metadata": {},
   "outputs": [
    {
     "name": "stdout",
     "output_type": "stream",
     "text": [
      "Month: 0.002192\n",
      "DayofMonth: -0.000085\n",
      "DayOfWeek: 0.001141\n",
      "DepTime: -0.000003\n",
      "ArrTime: -0.000006\n",
      "AirTime: 0.000159\n",
      "Distance: -0.000019\n",
      "TaxiIn: -0.000402\n",
      "TaxiOut: -0.000246\n",
      "Season_autumn: -0.181387\n",
      "Season_fall: -0.159083\n",
      "Season_summer: -0.160687\n",
      "Season_winter: -0.164582\n",
      "UniqueCarrier_mean: -0.177795\n"
     ]
    }
   ],
   "source": [
    "for i, c in enumerate(classifier.coef_[0]):\n",
    "    print(\"%s: %f\" % (clf_data[real].columns[i], c))"
   ]
  },
  {
   "cell_type": "code",
   "execution_count": 63,
   "metadata": {
    "collapsed": true
   },
   "outputs": [],
   "source": [
    "predictions = classifier.predict_proba(clf_test_data.loc[:, real])[:,1]"
   ]
  },
  {
   "cell_type": "code",
   "execution_count": 64,
   "metadata": {},
   "outputs": [
    {
     "data": {
      "text/plain": [
       "0.50004978200434069"
      ]
     },
     "execution_count": 64,
     "metadata": {},
     "output_type": "execute_result"
    }
   ],
   "source": [
    "metrics.roc_auc_score(clf_test_labels, predictions)"
   ]
  },
  {
   "cell_type": "code",
   "execution_count": null,
   "metadata": {
    "collapsed": true
   },
   "outputs": [],
   "source": []
  },
  {
   "cell_type": "code",
   "execution_count": null,
   "metadata": {
    "collapsed": true
   },
   "outputs": [],
   "source": []
  },
  {
   "cell_type": "code",
   "execution_count": 28,
   "metadata": {
    "collapsed": true
   },
   "outputs": [],
   "source": [
    "df_test = pd.read_csv(\"train_dataset.csv\") "
   ]
  },
  {
   "cell_type": "code",
   "execution_count": 29,
   "metadata": {
    "collapsed": true
   },
   "outputs": [],
   "source": [
    "df_test_target = df_test['target']"
   ]
  },
  {
   "cell_type": "code",
   "execution_count": 30,
   "metadata": {
    "collapsed": true
   },
   "outputs": [],
   "source": [
    "df_test_data = df_test.drop('target', axis=1 )"
   ]
  },
  {
   "cell_type": "code",
   "execution_count": 31,
   "metadata": {
    "collapsed": true
   },
   "outputs": [],
   "source": [
    "df_test_data = df_test_data.fillna(0)"
   ]
  },
  {
   "cell_type": "code",
   "execution_count": 32,
   "metadata": {
    "collapsed": true
   },
   "outputs": [],
   "source": [
    "prediction_all = classifier.predict_proba(df_test_data.loc[:, real])[:, 1]"
   ]
  },
  {
   "cell_type": "code",
   "execution_count": 33,
   "metadata": {},
   "outputs": [
    {
     "data": {
      "text/plain": [
       "0.67660726157264672"
      ]
     },
     "execution_count": 33,
     "metadata": {},
     "output_type": "execute_result"
    }
   ],
   "source": [
    "metrics.roc_auc_score(df_test_target, prediction_all)"
   ]
  },
  {
   "cell_type": "code",
   "execution_count": null,
   "metadata": {
    "collapsed": true
   },
   "outputs": [],
   "source": []
  },
  {
   "cell_type": "code",
   "execution_count": null,
   "metadata": {
    "collapsed": true
   },
   "outputs": [],
   "source": []
  },
  {
   "cell_type": "code",
   "execution_count": null,
   "metadata": {
    "collapsed": true
   },
   "outputs": [],
   "source": []
  },
  {
   "cell_type": "code",
   "execution_count": 189,
   "metadata": {
    "collapsed": true
   },
   "outputs": [],
   "source": [
    "test_data = pd.read_csv(\"test_dataset.csv\") "
   ]
  },
  {
   "cell_type": "code",
   "execution_count": 190,
   "metadata": {
    "collapsed": true
   },
   "outputs": [],
   "source": [
    "test_data['Season'] = test_data.Month.map(season)"
   ]
  },
  {
   "cell_type": "code",
   "execution_count": 191,
   "metadata": {
    "collapsed": true
   },
   "outputs": [],
   "source": [
    "test_data = test_data.fillna(0)\n",
    "#test_data[\"DepTime\"] = test_data[\"DepTime\"].fillna(test_data[\"DepTime\"].mean())\n",
    "#test_data[\"ArrTime\"] = test_data[\"ArrTime\"].fillna(test_data[\"ArrTime\"].mean())\n",
    "#test_data[\"AirTime\"] = test_data[\"AirTime\"].fillna(test_data[\"AirTime\"].mean())\n",
    "#test_data[\"TaxiIn\"] = test_data[\"TaxiIn\"].fillna(test_data[\"TaxiIn\"].mean())\n",
    "#test_data[\"TaxiOut\"] = test_data[\"TaxiOut\"].fillna(test_data[\"TaxiOut\"].mean())"
   ]
  },
  {
   "cell_type": "code",
   "execution_count": 192,
   "metadata": {},
   "outputs": [
    {
     "ename": "NotFittedError",
     "evalue": "Call fit before prediction",
     "output_type": "error",
     "traceback": [
      "\u001b[1;31m---------------------------------------------------------------------------\u001b[0m",
      "\u001b[1;31mNotFittedError\u001b[0m                            Traceback (most recent call last)",
      "\u001b[1;32m<ipython-input-192-af3035afd7f3>\u001b[0m in \u001b[0;36m<module>\u001b[1;34m()\u001b[0m\n\u001b[1;32m----> 1\u001b[1;33m \u001b[0mk_predictions\u001b[0m \u001b[1;33m=\u001b[0m \u001b[0mclassifier\u001b[0m\u001b[1;33m.\u001b[0m\u001b[0mpredict_proba\u001b[0m\u001b[1;33m(\u001b[0m\u001b[0mtest_data\u001b[0m\u001b[1;33m.\u001b[0m\u001b[0mloc\u001b[0m\u001b[1;33m[\u001b[0m\u001b[1;33m:\u001b[0m\u001b[1;33m,\u001b[0m \u001b[0mreal\u001b[0m\u001b[1;33m]\u001b[0m\u001b[1;33m)\u001b[0m\u001b[1;33m[\u001b[0m\u001b[1;33m:\u001b[0m\u001b[1;33m,\u001b[0m \u001b[1;36m1\u001b[0m\u001b[1;33m]\u001b[0m\u001b[1;33m\u001b[0m\u001b[0m\n\u001b[0m",
      "\u001b[1;32m~\\Anaconda3\\lib\\site-packages\\sklearn\\linear_model\\logistic.py\u001b[0m in \u001b[0;36mpredict_proba\u001b[1;34m(self, X)\u001b[0m\n\u001b[0;32m   1331\u001b[0m         \"\"\"\n\u001b[0;32m   1332\u001b[0m         \u001b[1;32mif\u001b[0m \u001b[1;32mnot\u001b[0m \u001b[0mhasattr\u001b[0m\u001b[1;33m(\u001b[0m\u001b[0mself\u001b[0m\u001b[1;33m,\u001b[0m \u001b[1;34m\"coef_\"\u001b[0m\u001b[1;33m)\u001b[0m\u001b[1;33m:\u001b[0m\u001b[1;33m\u001b[0m\u001b[0m\n\u001b[1;32m-> 1333\u001b[1;33m             \u001b[1;32mraise\u001b[0m \u001b[0mNotFittedError\u001b[0m\u001b[1;33m(\u001b[0m\u001b[1;34m\"Call fit before prediction\"\u001b[0m\u001b[1;33m)\u001b[0m\u001b[1;33m\u001b[0m\u001b[0m\n\u001b[0m\u001b[0;32m   1334\u001b[0m         \u001b[0mcalculate_ovr\u001b[0m \u001b[1;33m=\u001b[0m \u001b[0mself\u001b[0m\u001b[1;33m.\u001b[0m\u001b[0mcoef_\u001b[0m\u001b[1;33m.\u001b[0m\u001b[0mshape\u001b[0m\u001b[1;33m[\u001b[0m\u001b[1;36m0\u001b[0m\u001b[1;33m]\u001b[0m \u001b[1;33m==\u001b[0m \u001b[1;36m1\u001b[0m \u001b[1;32mor\u001b[0m \u001b[0mself\u001b[0m\u001b[1;33m.\u001b[0m\u001b[0mmulti_class\u001b[0m \u001b[1;33m==\u001b[0m \u001b[1;34m\"ovr\"\u001b[0m\u001b[1;33m\u001b[0m\u001b[0m\n\u001b[0;32m   1335\u001b[0m         \u001b[1;32mif\u001b[0m \u001b[0mcalculate_ovr\u001b[0m\u001b[1;33m:\u001b[0m\u001b[1;33m\u001b[0m\u001b[0m\n",
      "\u001b[1;31mNotFittedError\u001b[0m: Call fit before prediction"
     ]
    }
   ],
   "source": [
    "k_predictions = classifier.predict_proba(test_data.loc[:, real])[:, 1]"
   ]
  },
  {
   "cell_type": "code",
   "execution_count": null,
   "metadata": {
    "collapsed": true
   },
   "outputs": [],
   "source": [
    "k_predictions.shape"
   ]
  },
  {
   "cell_type": "code",
   "execution_count": null,
   "metadata": {
    "collapsed": true
   },
   "outputs": [],
   "source": [
    "k_predictions.head()"
   ]
  },
  {
   "cell_type": "code",
   "execution_count": null,
   "metadata": {
    "collapsed": true
   },
   "outputs": [],
   "source": []
  },
  {
   "cell_type": "code",
   "execution_count": null,
   "metadata": {
    "collapsed": true
   },
   "outputs": [],
   "source": []
  },
  {
   "cell_type": "code",
   "execution_count": null,
   "metadata": {
    "collapsed": true
   },
   "outputs": [],
   "source": []
  },
  {
   "cell_type": "code",
   "execution_count": null,
   "metadata": {
    "collapsed": true
   },
   "outputs": [],
   "source": []
  },
  {
   "cell_type": "code",
   "execution_count": 23,
   "metadata": {
    "collapsed": true
   },
   "outputs": [],
   "source": [
    "pd.DataFrame({'Id':test_data.Id, 'Prediction1':k_predictions}).to_csv('two.csv', index=False)"
   ]
  }
 ],
 "metadata": {
  "kernelspec": {
   "display_name": "Python 3",
   "language": "python",
   "name": "python3"
  },
  "language_info": {
   "codemirror_mode": {
    "name": "ipython",
    "version": 3
   },
   "file_extension": ".py",
   "mimetype": "text/x-python",
   "name": "python",
   "nbconvert_exporter": "python",
   "pygments_lexer": "ipython3",
   "version": "3.6.2"
  }
 },
 "nbformat": 4,
 "nbformat_minor": 2
}

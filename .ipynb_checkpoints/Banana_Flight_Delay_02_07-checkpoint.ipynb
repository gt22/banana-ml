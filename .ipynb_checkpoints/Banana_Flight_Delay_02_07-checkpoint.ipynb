{
 "cells": [
  {
   "cell_type": "code",
   "execution_count": 1,
   "metadata": {},
   "outputs": [
    {
     "name": "stderr",
     "output_type": "stream",
     "text": [
      "D:\\Anaconda3\\lib\\site-packages\\sklearn\\cross_validation.py:41: DeprecationWarning: This module was deprecated in version 0.18 in favor of the model_selection module into which all the refactored classes and functions are moved. Also note that the interface of the new CV iterators are different from that of this module. This module will be removed in 0.20.\n",
      "  \"This module will be removed in 0.20.\", DeprecationWarning)\n"
     ]
    }
   ],
   "source": [
    "import pandas as pd\n",
    "import matplotlib as plt\n",
    "import numpy as np\n",
    "from sklearn import cross_validation, datasets, linear_model, metrics \n",
    "%matplotlib inline"
   ]
  },
  {
   "cell_type": "code",
   "execution_count": 3,
   "metadata": {},
   "outputs": [],
   "source": [
    "df = pd.read_csv(\"bfd/train_dataset.csv\") "
   ]
  },
  {
   "cell_type": "code",
   "execution_count": 4,
   "metadata": {},
   "outputs": [
    {
     "data": {
      "text/html": [
       "<div>\n",
       "<style scoped>\n",
       "    .dataframe tbody tr th:only-of-type {\n",
       "        vertical-align: middle;\n",
       "    }\n",
       "\n",
       "    .dataframe tbody tr th {\n",
       "        vertical-align: top;\n",
       "    }\n",
       "\n",
       "    .dataframe thead th {\n",
       "        text-align: right;\n",
       "    }\n",
       "</style>\n",
       "<table border=\"1\" class=\"dataframe\">\n",
       "  <thead>\n",
       "    <tr style=\"text-align: right;\">\n",
       "      <th></th>\n",
       "      <th>Month</th>\n",
       "      <th>DayofMonth</th>\n",
       "      <th>DayOfWeek</th>\n",
       "      <th>DepTime</th>\n",
       "      <th>ArrTime</th>\n",
       "      <th>UniqueCarrier</th>\n",
       "      <th>FlightNum</th>\n",
       "      <th>TailNum</th>\n",
       "      <th>AirTime</th>\n",
       "      <th>Origin</th>\n",
       "      <th>Dest</th>\n",
       "      <th>Distance</th>\n",
       "      <th>TaxiIn</th>\n",
       "      <th>TaxiOut</th>\n",
       "      <th>target</th>\n",
       "    </tr>\n",
       "  </thead>\n",
       "  <tbody>\n",
       "    <tr>\n",
       "      <th>0</th>\n",
       "      <td>1</td>\n",
       "      <td>1</td>\n",
       "      <td>2</td>\n",
       "      <td>1007.0</td>\n",
       "      <td>1109.0</td>\n",
       "      <td>AA</td>\n",
       "      <td>511</td>\n",
       "      <td>N404AA</td>\n",
       "      <td>34.0</td>\n",
       "      <td>AUS</td>\n",
       "      <td>DFW</td>\n",
       "      <td>190</td>\n",
       "      <td>15.0</td>\n",
       "      <td>13.0</td>\n",
       "      <td>1</td>\n",
       "    </tr>\n",
       "    <tr>\n",
       "      <th>1</th>\n",
       "      <td>1</td>\n",
       "      <td>1</td>\n",
       "      <td>2</td>\n",
       "      <td>1411.0</td>\n",
       "      <td>1521.0</td>\n",
       "      <td>NW</td>\n",
       "      <td>1631</td>\n",
       "      <td>N363NB</td>\n",
       "      <td>37.0</td>\n",
       "      <td>TVC</td>\n",
       "      <td>DTW</td>\n",
       "      <td>207</td>\n",
       "      <td>9.0</td>\n",
       "      <td>24.0</td>\n",
       "      <td>1</td>\n",
       "    </tr>\n",
       "    <tr>\n",
       "      <th>2</th>\n",
       "      <td>1</td>\n",
       "      <td>1</td>\n",
       "      <td>2</td>\n",
       "      <td>859.0</td>\n",
       "      <td>1112.0</td>\n",
       "      <td>MQ</td>\n",
       "      <td>4645</td>\n",
       "      <td>N700LE</td>\n",
       "      <td>103.0</td>\n",
       "      <td>BDL</td>\n",
       "      <td>RDU</td>\n",
       "      <td>532</td>\n",
       "      <td>3.0</td>\n",
       "      <td>27.0</td>\n",
       "      <td>0</td>\n",
       "    </tr>\n",
       "    <tr>\n",
       "      <th>3</th>\n",
       "      <td>1</td>\n",
       "      <td>1</td>\n",
       "      <td>2</td>\n",
       "      <td>1835.0</td>\n",
       "      <td>2159.0</td>\n",
       "      <td>MQ</td>\n",
       "      <td>4838</td>\n",
       "      <td>N704PG</td>\n",
       "      <td>130.0</td>\n",
       "      <td>XNA</td>\n",
       "      <td>LGA</td>\n",
       "      <td>1147</td>\n",
       "      <td>6.0</td>\n",
       "      <td>8.0</td>\n",
       "      <td>1</td>\n",
       "    </tr>\n",
       "    <tr>\n",
       "      <th>4</th>\n",
       "      <td>1</td>\n",
       "      <td>1</td>\n",
       "      <td>2</td>\n",
       "      <td>1305.0</td>\n",
       "      <td>1924.0</td>\n",
       "      <td>US</td>\n",
       "      <td>185</td>\n",
       "      <td>N655AW</td>\n",
       "      <td>229.0</td>\n",
       "      <td>PHX</td>\n",
       "      <td>FLL</td>\n",
       "      <td>1972</td>\n",
       "      <td>9.0</td>\n",
       "      <td>21.0</td>\n",
       "      <td>1</td>\n",
       "    </tr>\n",
       "  </tbody>\n",
       "</table>\n",
       "</div>"
      ],
      "text/plain": [
       "   Month  DayofMonth  DayOfWeek  DepTime  ArrTime UniqueCarrier  FlightNum  \\\n",
       "0      1           1          2   1007.0   1109.0            AA        511   \n",
       "1      1           1          2   1411.0   1521.0            NW       1631   \n",
       "2      1           1          2    859.0   1112.0            MQ       4645   \n",
       "3      1           1          2   1835.0   2159.0            MQ       4838   \n",
       "4      1           1          2   1305.0   1924.0            US        185   \n",
       "\n",
       "  TailNum  AirTime Origin Dest  Distance  TaxiIn  TaxiOut  target  \n",
       "0  N404AA     34.0    AUS  DFW       190    15.0     13.0       1  \n",
       "1  N363NB     37.0    TVC  DTW       207     9.0     24.0       1  \n",
       "2  N700LE    103.0    BDL  RDU       532     3.0     27.0       0  \n",
       "3  N704PG    130.0    XNA  LGA      1147     6.0      8.0       1  \n",
       "4  N655AW    229.0    PHX  FLL      1972     9.0     21.0       1  "
      ]
     },
     "execution_count": 4,
     "metadata": {},
     "output_type": "execute_result"
    }
   ],
   "source": [
    "df.head()"
   ]
  },
  {
   "cell_type": "code",
   "execution_count": 5,
   "metadata": {},
   "outputs": [
    {
     "data": {
      "text/plain": [
       "(3504864, 15)"
      ]
     },
     "execution_count": 5,
     "metadata": {},
     "output_type": "execute_result"
    }
   ],
   "source": [
    "df.shape"
   ]
  },
  {
   "cell_type": "code",
   "execution_count": 6,
   "metadata": {},
   "outputs": [
    {
     "data": {
      "text/plain": [
       "Month                0\n",
       "DayofMonth           0\n",
       "DayOfWeek            0\n",
       "DepTime          68007\n",
       "ArrTime          75659\n",
       "UniqueCarrier        0\n",
       "FlightNum            0\n",
       "TailNum          41498\n",
       "AirTime          77222\n",
       "Origin               0\n",
       "Dest                 0\n",
       "Distance             0\n",
       "TaxiIn           75659\n",
       "TaxiOut          68411\n",
       "target               0\n",
       "dtype: int64"
      ]
     },
     "execution_count": 6,
     "metadata": {},
     "output_type": "execute_result"
    }
   ],
   "source": [
    "df.isnull().sum()"
   ]
  },
  {
   "cell_type": "code",
   "execution_count": 7,
   "metadata": {},
   "outputs": [
    {
     "data": {
      "text/plain": [
       "0    2481908\n",
       "1    1022956\n",
       "Name: target, dtype: int64"
      ]
     },
     "execution_count": 7,
     "metadata": {},
     "output_type": "execute_result"
    }
   ],
   "source": [
    "df['target'].value_counts()"
   ]
  },
  {
   "cell_type": "code",
   "execution_count": 8,
   "metadata": {
    "collapsed": true
   },
   "outputs": [],
   "source": [
    "clf_target = df['target']"
   ]
  },
  {
   "cell_type": "code",
   "execution_count": 9,
   "metadata": {
    "collapsed": true
   },
   "outputs": [],
   "source": [
    "clf_data = df.drop('target', axis=1 )"
   ]
  },
  {
   "cell_type": "code",
   "execution_count": 11,
   "metadata": {
    "collapsed": true
   },
   "outputs": [],
   "source": [
    "clf_data = clf_data.fillna(0)"
   ]
  },
  {
   "cell_type": "code",
   "execution_count": 12,
   "metadata": {
    "collapsed": true
   },
   "outputs": [],
   "source": [
    "def season(dfmounth):\n",
    "    if dfmounth in [1, 2, 12]:\n",
    "        return 1\n",
    "    elif dfmounth in [3, 4, 5]:\n",
    "        return 2\n",
    "    elif dfmounth in [6, 7, 8]:\n",
    "        return 3\n",
    "    else:\n",
    "        return 4\n"
   ]
  },
  {
   "cell_type": "code",
   "execution_count": 13,
   "metadata": {
    "collapsed": true
   },
   "outputs": [],
   "source": [
    "clf_data['Season'] = clf_data.Month.map(season)"
   ]
  },
  {
   "cell_type": "code",
   "execution_count": 14,
   "metadata": {
    "collapsed": true
   },
   "outputs": [],
   "source": [
    "clf_train_data, clf_test_data, clf_train_labels, clf_test_labels = cross_validation.train_test_split(clf_data, clf_target,\n",
    "                                                                                     test_size = 0.3, random_state = 1)"
   ]
  },
  {
   "cell_type": "code",
   "execution_count": 15,
   "metadata": {
    "collapsed": true
   },
   "outputs": [],
   "source": [
    "real = ['Month', 'DayofMonth', 'DayOfWeek', 'DepTime', 'ArrTime', 'AirTime', 'Distance', 'TaxiIn', 'TaxiOut']"
   ]
  },
  {
   "cell_type": "code",
   "execution_count": 16,
   "metadata": {},
   "outputs": [
    {
     "data": {
      "text/plain": [
       "(3504864, 15)"
      ]
     },
     "execution_count": 16,
     "metadata": {},
     "output_type": "execute_result"
    }
   ],
   "source": [
    "clf_data.shape"
   ]
  },
  {
   "cell_type": "code",
   "execution_count": null,
   "metadata": {},
   "outputs": [],
   "source": [
    "classifier = linear_model.LogisticRegression(C=1.0)\n",
    "classifier.fit(clf_train_data.loc[:, real], clf_train_labels)"
   ]
  },
  {
   "cell_type": "code",
   "execution_count": null,
   "metadata": {
    "collapsed": true
   },
   "outputs": [],
   "source": [
    "predictions = classifier.predict_proba(clf_test_data.loc[:, real])[:, 1]"
   ]
  },
  {
   "cell_type": "code",
   "execution_count": null,
   "metadata": {
    "collapsed": true
   },
   "outputs": [],
   "source": [
    "metrics.roc_auc_score(clf_test_labels, predictions)"
   ]
  },
  {
   "cell_type": "code",
   "execution_count": null,
   "metadata": {
    "collapsed": true
   },
   "outputs": [],
   "source": [
    "test_data = pd.read_csv(\"test_dataset.csv\") "
   ]
  },
  {
   "cell_type": "code",
   "execution_count": null,
   "metadata": {
    "collapsed": true
   },
   "outputs": [],
   "source": [
    "test_data['Season'] = test_data.Month.map(season)"
   ]
  },
  {
   "cell_type": "code",
   "execution_count": null,
   "metadata": {
    "collapsed": true
   },
   "outputs": [],
   "source": [
    "test_data = test_data.fillna(0)\n",
    "#test_data[\"DepTime\"] = test_data[\"DepTime\"].fillna(test_data[\"DepTime\"].mean())\n",
    "#test_data[\"ArrTime\"] = test_data[\"ArrTime\"].fillna(test_data[\"ArrTime\"].mean())\n",
    "#test_data[\"AirTime\"] = test_data[\"AirTime\"].fillna(test_data[\"AirTime\"].mean())\n",
    "#test_data[\"TaxiIn\"] = test_data[\"TaxiIn\"].fillna(test_data[\"TaxiIn\"].mean())\n",
    "#test_data[\"TaxiOut\"] = test_data[\"TaxiOut\"].fillna(test_data[\"TaxiOut\"].mean())"
   ]
  },
  {
   "cell_type": "code",
   "execution_count": null,
   "metadata": {
    "collapsed": true
   },
   "outputs": [],
   "source": [
    "k_predictions = classifier.predict_proba(test_data.loc[:, real])[:, 1]"
   ]
  },
  {
   "cell_type": "code",
   "execution_count": null,
   "metadata": {
    "collapsed": true
   },
   "outputs": [],
   "source": [
    "k_predictions.shape"
   ]
  },
  {
   "cell_type": "code",
   "execution_count": null,
   "metadata": {
    "collapsed": true
   },
   "outputs": [],
   "source": [
    "pd.DataFrame({'Id':test_data.Id, 'Prediction1':k_predictions}).to_csv('two.csv', index=False)"
   ]
  },
  {
   "cell_type": "code",
   "execution_count": null,
   "metadata": {
    "collapsed": true
   },
   "outputs": [],
   "source": []
  },
  {
   "cell_type": "code",
   "execution_count": null,
   "metadata": {
    "collapsed": true
   },
   "outputs": [],
   "source": []
  },
  {
   "cell_type": "code",
   "execution_count": null,
   "metadata": {
    "collapsed": true
   },
   "outputs": [],
   "source": []
  },
  {
   "cell_type": "code",
   "execution_count": null,
   "metadata": {
    "collapsed": true
   },
   "outputs": [],
   "source": [
    "df['FlightNum'].value_counts().sum()"
   ]
  },
  {
   "cell_type": "code",
   "execution_count": null,
   "metadata": {
    "collapsed": true
   },
   "outputs": [],
   "source": []
  }
 ],
 "metadata": {
  "kernelspec": {
   "display_name": "Python 3",
   "language": "python",
   "name": "python3"
  },
  "language_info": {
   "codemirror_mode": {
    "name": "ipython",
    "version": 3
   },
   "file_extension": ".py",
   "mimetype": "text/x-python",
   "name": "python",
   "nbconvert_exporter": "python",
   "pygments_lexer": "ipython3",
   "version": "3.6.2"
  }
 },
 "nbformat": 4,
 "nbformat_minor": 2
}
